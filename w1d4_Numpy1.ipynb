{
 "cells": [
  {
   "cell_type": "markdown",
   "id": "54d14aea",
   "metadata": {},
   "source": [
    "# numpy exercises\n",
    "\n",
    "This is a collection of exercises that have been collected in the numpy mailing list, on stack overflow\n",
    "and in the numpy documentation. The goal of this collection is to offer a quick reference for both old\n",
    "and new users but also to provide a set of exercises for those who teach.\n",
    "If you find an error or think you've a better way to solve some of them, feel\n",
    "free to open an issue at <https://github.com/rougier/numpy-100>.\n",
    "File automatically generated. See the documentation to update questions/answers/hints programmatically."
   ]
  },
  {
   "cell_type": "markdown",
   "id": "d874f59c",
   "metadata": {},
   "source": [
    "#### 1. Import the numpy package under the name `np` (★☆☆)\n",
    "`hint: import … as`"
   ]
  },
  {
   "cell_type": "code",
   "execution_count": 137,
   "id": "6cd9fc61",
   "metadata": {},
   "outputs": [],
   "source": [
    "import numpy as np"
   ]
  },
  {
   "cell_type": "markdown",
   "id": "0342081d",
   "metadata": {},
   "source": [
    "#### 2. Create a null vector of size 10 (★☆☆)\n",
    "`hint: np.zeros`"
   ]
  },
  {
   "cell_type": "code",
   "execution_count": 138,
   "id": "6b351259",
   "metadata": {},
   "outputs": [
    {
     "data": {
      "text/plain": [
       "array([0., 0., 0., 0., 0., 0., 0., 0., 0., 0.])"
      ]
     },
     "execution_count": 138,
     "metadata": {},
     "output_type": "execute_result"
    }
   ],
   "source": [
    "np.zeros(10)"
   ]
  },
  {
   "cell_type": "markdown",
   "id": "1fcce804",
   "metadata": {},
   "source": [
    "#### 3. Create a null vector of size 10 but the fifth value which is 1 (★☆☆)\n",
    "`hint: array[4]`"
   ]
  },
  {
   "cell_type": "code",
   "execution_count": 139,
   "id": "b8460bf2",
   "metadata": {},
   "outputs": [
    {
     "data": {
      "text/plain": [
       "array([0., 0., 0., 0., 5., 0., 0., 0., 0., 0.])"
      ]
     },
     "execution_count": 139,
     "metadata": {},
     "output_type": "execute_result"
    }
   ],
   "source": [
    "a = np.zeros(10)\n",
    "a[4]=5\n",
    "a"
   ]
  },
  {
   "cell_type": "markdown",
   "id": "b858bcb0",
   "metadata": {},
   "source": [
    "#### 4. Create a vector with values ranging from 10 to 49 (★☆☆)\n",
    "`hint: arange`"
   ]
  },
  {
   "cell_type": "code",
   "execution_count": 140,
   "id": "fba32409",
   "metadata": {},
   "outputs": [
    {
     "data": {
      "text/plain": [
       "array([10, 11, 12, 13, 14, 15, 16, 17, 18, 19, 20, 21, 22, 23, 24, 25, 26,\n",
       "       27, 28, 29, 30, 31, 32, 33, 34, 35, 36, 37, 38, 39, 40, 41, 42, 43,\n",
       "       44, 45, 46, 47, 48])"
      ]
     },
     "execution_count": 140,
     "metadata": {},
     "output_type": "execute_result"
    }
   ],
   "source": [
    "a = np.arange(10,49)\n",
    "a"
   ]
  },
  {
   "cell_type": "markdown",
   "id": "cad25845",
   "metadata": {},
   "source": [
    "#### 5. Create a 3x3 matrix with values ranging from 0 to 8 (★☆☆)\n",
    "`hint: reshape`"
   ]
  },
  {
   "cell_type": "code",
   "execution_count": 141,
   "id": "81016f2a",
   "metadata": {},
   "outputs": [
    {
     "data": {
      "text/plain": [
       "array([[1.18670044, 2.84777602, 4.06205388],\n",
       "       [7.08517834, 4.83587553, 0.99092694],\n",
       "       [0.35323353, 4.22261519, 4.67786792]])"
      ]
     },
     "execution_count": 141,
     "metadata": {},
     "output_type": "execute_result"
    }
   ],
   "source": [
    "a = np.random.random((9)) * 8\n",
    "a.reshape((3, 3))"
   ]
  },
  {
   "cell_type": "markdown",
   "id": "b539bbfc",
   "metadata": {},
   "source": [
    "#### 6. Find indices of non-zero elements from [1,2,0,0,4,0] (★☆☆)\n",
    "`hint: np.nonzero`"
   ]
  },
  {
   "cell_type": "code",
   "execution_count": 142,
   "id": "ca49ff09",
   "metadata": {},
   "outputs": [
    {
     "data": {
      "text/plain": [
       "(array([0, 1, 4], dtype=int64),)"
      ]
     },
     "execution_count": 142,
     "metadata": {},
     "output_type": "execute_result"
    }
   ],
   "source": [
    "a = np.array([1,2,0,0,4,0])\n",
    "a.nonzero()"
   ]
  },
  {
   "cell_type": "markdown",
   "id": "935c766e",
   "metadata": {},
   "source": [
    "#### 7. Create a 3x3 identity matrix (★☆☆)\n",
    "`hint: np.eye`"
   ]
  },
  {
   "cell_type": "code",
   "execution_count": 143,
   "id": "b31bdbea",
   "metadata": {},
   "outputs": [
    {
     "data": {
      "text/plain": [
       "array([[[1, 0, 0],\n",
       "        [0, 1, 0],\n",
       "        [0, 0, 1]]])"
      ]
     },
     "execution_count": 143,
     "metadata": {},
     "output_type": "execute_result"
    }
   ],
   "source": [
    "a = np.array([[[1,0,0],[0,1,0],[0,0,1]]])\n",
    "a"
   ]
  },
  {
   "cell_type": "markdown",
   "id": "093b082e",
   "metadata": {},
   "source": [
    "#### 8. Create a 3x3x3 array with random values (★☆☆)\n",
    "`hint: np.random.random`"
   ]
  },
  {
   "cell_type": "code",
   "execution_count": 144,
   "id": "0116502b",
   "metadata": {},
   "outputs": [
    {
     "data": {
      "text/plain": [
       "array([[0.02806906, 0.393037  , 0.40566079],\n",
       "       [0.20128773, 0.45409173, 0.34835915],\n",
       "       [0.91016925, 0.81129493, 0.52756869]])"
      ]
     },
     "execution_count": 144,
     "metadata": {},
     "output_type": "execute_result"
    }
   ],
   "source": [
    "a = np.random.random((3,3)) \n",
    "a"
   ]
  },
  {
   "cell_type": "markdown",
   "id": "8545f0bd",
   "metadata": {},
   "source": [
    "#### 9. Create a 10x10 array with random values and find the minimum and maximum values (★☆☆)\n",
    "`hint: min, max`"
   ]
  },
  {
   "cell_type": "code",
   "execution_count": 145,
   "id": "f6f647ce",
   "metadata": {},
   "outputs": [
    {
     "name": "stdout",
     "output_type": "stream",
     "text": [
      "0.003791712497880795 0.9866523872117797\n"
     ]
    }
   ],
   "source": [
    "a = np.random.random((10,10)) \n",
    "print(a.min(), a.max())"
   ]
  },
  {
   "cell_type": "markdown",
   "id": "a5151d63",
   "metadata": {},
   "source": [
    "#### 10. Create a random vector of size 30 and find the mean value (★☆☆)\n",
    "`hint: mean`"
   ]
  },
  {
   "cell_type": "code",
   "execution_count": 146,
   "id": "cf6c85cf",
   "metadata": {},
   "outputs": [
    {
     "data": {
      "text/plain": [
       "0.5158403614179385"
      ]
     },
     "execution_count": 146,
     "metadata": {},
     "output_type": "execute_result"
    }
   ],
   "source": [
    "a = np.random.random(30)\n",
    "a.mean()"
   ]
  },
  {
   "cell_type": "markdown",
   "id": "c1b1ac7b",
   "metadata": {},
   "source": [
    "#### 11. Create a 5x5 matrix with values 1,2,3,4 just below the diagonal (★☆☆)\n",
    "`hint: np.diag`"
   ]
  },
  {
   "cell_type": "code",
   "execution_count": 204,
   "id": "5606a001",
   "metadata": {},
   "outputs": [
    {
     "name": "stdout",
     "output_type": "stream",
     "text": [
      "[[0 0 0 0 0]\n",
      " [1 0 0 0 0]\n",
      " [0 2 0 0 0]\n",
      " [0 0 3 0 0]\n",
      " [0 0 0 4 0]]\n"
     ]
    }
   ],
   "source": [
    "c = np.diag((1,2,3,4), k=-1)\n",
    "print(c)"
   ]
  },
  {
   "cell_type": "markdown",
   "id": "b486ba16",
   "metadata": {},
   "source": [
    "#### 12. Normalize a 5x5 random matrix (★☆☆)\n",
    "`hint: (x -mean)/std`"
   ]
  },
  {
   "cell_type": "code",
   "execution_count": 148,
   "id": "a9e58215",
   "metadata": {},
   "outputs": [
    {
     "name": "stdout",
     "output_type": "stream",
     "text": [
      "[[ 1.10260244 -0.72661657  0.54946074  1.16871464  1.45018932]\n",
      " [ 0.28222634 -1.03077947  1.29020641  0.76204288 -1.33053105]\n",
      " [-0.95177882 -0.02706228  0.70306264  0.74822359  0.25729306]\n",
      " [-1.16796669 -0.16035276  1.19676226 -0.39887329 -0.27413876]\n",
      " [-0.46672493 -1.56767721 -0.21232481  1.10622898 -2.30218662]]\n"
     ]
    }
   ],
   "source": [
    "import seaborn as sns\n",
    "a = np.random.random((5,5)) * 100\n",
    "a = (a - np.mean(a)) / np.std(a)\n",
    "print(a)\n",
    "#sns.histplot(data = a, legend = False, bins = 100)"
   ]
  },
  {
   "cell_type": "markdown",
   "id": "262efec2",
   "metadata": {},
   "source": [
    "#### 13. How to find common values between two arrays? (★☆☆)\n",
    "`hint: np.intersect1d`"
   ]
  },
  {
   "cell_type": "code",
   "execution_count": 160,
   "id": "658ede4f",
   "metadata": {},
   "outputs": [
    {
     "name": "stdout",
     "output_type": "stream",
     "text": [
      "[1 2 8 0 5] [3 1 2 5 9]\n"
     ]
    },
    {
     "data": {
      "text/plain": [
       "array([1, 2, 5])"
      ]
     },
     "execution_count": 160,
     "metadata": {},
     "output_type": "execute_result"
    }
   ],
   "source": [
    "a = np.random.randint(0,10,5)\n",
    "b = np.random.randint(0,10,5)\n",
    "print(a,b)\n",
    "np.intersect1d(a,b)"
   ]
  },
  {
   "cell_type": "markdown",
   "id": "c2805406",
   "metadata": {},
   "source": [
    "#### 14. Create a random vector of size 10 and sort it (★★☆)\n",
    "`hint: sort`"
   ]
  },
  {
   "cell_type": "code",
   "execution_count": 161,
   "id": "a1262f74",
   "metadata": {},
   "outputs": [
    {
     "data": {
      "text/plain": [
       "array([1, 2, 2, 2, 4, 5, 6, 8, 8, 9])"
      ]
     },
     "execution_count": 161,
     "metadata": {},
     "output_type": "execute_result"
    }
   ],
   "source": [
    "a = np.random.randint(0,10,10)\n",
    "a.sort()\n",
    "a"
   ]
  },
  {
   "cell_type": "markdown",
   "id": "e9878a51",
   "metadata": {},
   "source": [
    "#### 15. Create random vector of size 10 and replace the maximum value by 0 (★★☆)\n",
    "`hint: argmax`"
   ]
  },
  {
   "cell_type": "code",
   "execution_count": 244,
   "id": "2aa2d5be",
   "metadata": {},
   "outputs": [
    {
     "name": "stdout",
     "output_type": "stream",
     "text": [
      "[7 7 7 5 1]\n",
      "[0 0 0 5 1]\n"
     ]
    }
   ],
   "source": [
    "a = np.random.randint(0,10,5)\n",
    "print(a)\n",
    "s = list(np.where(a == a.max()))\n",
    "for i in s: \n",
    "    a[i]=0\n",
    "print(a)"
   ]
  },
  {
   "cell_type": "markdown",
   "id": "7aacd534",
   "metadata": {},
   "source": [
    "#### 16. Subtract the mean of each row of a matrix (★★☆)\n",
    "`hint: mean(axis=,keepdims=)`"
   ]
  },
  {
   "cell_type": "code",
   "execution_count": 338,
   "id": "9930fed8",
   "metadata": {},
   "outputs": [
    {
     "name": "stdout",
     "output_type": "stream",
     "text": [
      "[[1 4 0 4]\n",
      " [3 1 2 1]\n",
      " [1 1 2 1]\n",
      " [4 4 3 0]]\n",
      "[array([2.25]), array([1.75]), array([1.25]), array([2.75])]\n"
     ]
    }
   ],
   "source": [
    "a = np.random.randint(5, size=(4, 4))\n",
    "a\n",
    "listMeans = []\n",
    "for i in range(0,4):\n",
    "    listMeans.append(np.mean(a[i], keepdims=True))\n",
    "print(a)\n",
    "print(listMeans)"
   ]
  },
  {
   "cell_type": "code",
   "execution_count": 345,
   "id": "12805d9a",
   "metadata": {},
   "outputs": [
    {
     "name": "stdout",
     "output_type": "stream",
     "text": [
      "[[-3.   -1.   -4.   -1.  ]\n",
      " [-1.75 -2.75 -1.75 -2.75]\n",
      " [-2.5  -2.5  -1.5  -2.5 ]\n",
      " [-1.25 -1.25 -2.25 -4.25]]\n",
      "[array([2.25]), array([1.75]), array([1.25]), array([2.75])]\n"
     ]
    }
   ],
   "source": [
    "for i in range(0,4):\n",
    "    a[i] = a[i] - listMeans[0]\n",
    "print(a)\n",
    "a = a.astype(numpy.float32)\n",
    "print(listMeans)"
   ]
  },
  {
   "cell_type": "code",
   "execution_count": 346,
   "id": "eada7bdd",
   "metadata": {},
   "outputs": [
    {
     "name": "stdout",
     "output_type": "stream",
     "text": [
      "[[-0.75  1.25 -1.75  1.25]\n",
      " [ 0.5  -0.5   0.5  -0.5 ]\n",
      " [-0.25 -0.25  0.75 -0.25]\n",
      " [ 1.    1.    0.   -2.  ]]\n"
     ]
    }
   ],
   "source": [
    "#b = np.mean(a[1], keepdims=True)\n",
    "#print(a)\n",
    "for i in range(0,4):\n",
    "    a[i] = a[i] - np.mean(a[i], keepdims=True)\n",
    "    #print(a[i])\n",
    "print(a)"
   ]
  },
  {
   "cell_type": "markdown",
   "id": "70b0c1a8",
   "metadata": {},
   "source": [
    "#### 17. How to get the n largest values of an array (★★★)\n",
    "`Z = np.arange(10000)\n",
    "np.random.shuffle(Z)\n",
    "n = 5\n",
    "hint: np.argsort | np.argpartition`"
   ]
  },
  {
   "cell_type": "code",
   "execution_count": 418,
   "id": "cc3d0f22",
   "metadata": {},
   "outputs": [
    {
     "name": "stdout",
     "output_type": "stream",
     "text": [
      "[15 23 21 14 17  7 13 22 10  1 20 11  4  5 24 12  9  2 18 19  0  3  8  6\n",
      " 16]\n",
      "[20  9 17 21 12 13 23  5 22 16  8 11 15  6  3  0 24  4 18 19 10  2  7  1\n",
      " 14]\n",
      "[ 0  1  2  3  4  5  6  7  8  9 10 11 12 13 14 15 16 17 18 19 20 21 22 23\n",
      " 24]\n"
     ]
    },
    {
     "data": {
      "text/plain": [
       "20"
      ]
     },
     "execution_count": 418,
     "metadata": {},
     "output_type": "execute_result"
    }
   ],
   "source": [
    "Z = np.arange(25)\n",
    "np.random.shuffle(Z)\n",
    "n = 5\n",
    "a = np.argsort(Z, axis=-1, kind='mergesort', order=None)\n",
    "Z2 = Z.copy()\n",
    "Z2.sort()\n",
    "print(Z)\n",
    "print(a)\n",
    "print(Z2)\n",
    "Z2[-n]"
   ]
  },
  {
   "cell_type": "code",
   "execution_count": 411,
   "id": "ffa10000",
   "metadata": {},
   "outputs": [
    {
     "name": "stdout",
     "output_type": "stream",
     "text": [
      "[ 2  5 13  8 12  0 17  4  6  1  7 11  3 14  9 18 10 19 15 16]\n",
      "[ 5  9  0 12  7  1  8 10  3 14 16 11  4  2 13 18 19  6 15 17]\n",
      "[ 0  1  2  3  4  5  6  7  8  9 10 11 12 13 14 15 16 17 18 19]\n"
     ]
    }
   ],
   "source": [
    "Z2 = Z.copy()\n",
    "Z2.sort()\n",
    "print(Z2)"
   ]
  },
  {
   "cell_type": "code",
   "execution_count": 410,
   "id": "55b5f0e5",
   "metadata": {},
   "outputs": [
    {
     "name": "stdout",
     "output_type": "stream",
     "text": [
      "[ 0  1  2  3  4  5  6  7  8  9 10 11 12 13 14 15 16 17 18 19]\n",
      "6\n"
     ]
    }
   ],
   "source": [
    "Z2 = Z.copy()\n",
    "Z2.sort()\n",
    "print(Z2)\n",
    "print(Z[-n])"
   ]
  },
  {
   "cell_type": "code",
   "execution_count": 404,
   "id": "fe4784f1",
   "metadata": {},
   "outputs": [
    {
     "data": {
      "text/plain": [
       "3"
      ]
     },
     "execution_count": 404,
     "metadata": {},
     "output_type": "execute_result"
    }
   ],
   "source": [
    "a = np.argsort(Z, axis=-1, kind='mergesort', order=None)\n",
    "n_index = a[-n]\n",
    "Z[n_index]"
   ]
  },
  {
   "cell_type": "code",
   "execution_count": 386,
   "id": "a5c537bc",
   "metadata": {
    "scrolled": true
   },
   "outputs": [
    {
     "data": {
      "text/plain": [
       "15"
      ]
     },
     "execution_count": 386,
     "metadata": {},
     "output_type": "execute_result"
    }
   ],
   "source": [
    "a.sort()\n",
    "a\n",
    "a[-n]"
   ]
  },
  {
   "cell_type": "markdown",
   "id": "0b48d797",
   "metadata": {},
   "source": [
    "#### 18. Create a random 5*3 matrix and replace items that are larger than 4 by their squares ( Example:  6 --> 36) \n",
    "`hint: np.where`"
   ]
  },
  {
   "cell_type": "code",
   "execution_count": 420,
   "id": "fab19daa",
   "metadata": {},
   "outputs": [
    {
     "data": {
      "text/plain": [
       "array([[1, 3, 4],\n",
       "       [4, 3, 3],\n",
       "       [3, 2, 1],\n",
       "       [2, 0, 4],\n",
       "       [3, 1, 2]])"
      ]
     },
     "execution_count": 420,
     "metadata": {},
     "output_type": "execute_result"
    }
   ],
   "source": [
    "a = np.random.randint(5, size=(5,3))\n",
    "a"
   ]
  },
  {
   "cell_type": "code",
   "execution_count": 421,
   "id": "369cc3e3",
   "metadata": {},
   "outputs": [
    {
     "data": {
      "text/plain": [
       "array([[ 1,  9, 16],\n",
       "       [16,  9,  9],\n",
       "       [ 9,  4,  1],\n",
       "       [ 4,  0, 16],\n",
       "       [ 9,  1,  4]])"
      ]
     },
     "execution_count": 421,
     "metadata": {},
     "output_type": "execute_result"
    }
   ],
   "source": [
    "np.where(a > 4, a, a**2)"
   ]
  },
  {
   "cell_type": "code",
   "execution_count": null,
   "id": "6e05afb7",
   "metadata": {},
   "outputs": [],
   "source": []
  }
 ],
 "metadata": {
  "kernelspec": {
   "display_name": "Python 3 (ipykernel)",
   "language": "python",
   "name": "python3"
  },
  "language_info": {
   "codemirror_mode": {
    "name": "ipython",
    "version": 3
   },
   "file_extension": ".py",
   "mimetype": "text/x-python",
   "name": "python",
   "nbconvert_exporter": "python",
   "pygments_lexer": "ipython3",
   "version": "3.9.12"
  }
 },
 "nbformat": 4,
 "nbformat_minor": 5
}
