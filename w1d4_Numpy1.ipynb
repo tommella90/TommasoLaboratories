{
 "cells": [
  {
   "cell_type": "markdown",
   "id": "54d14aea",
   "metadata": {},
   "source": [
    "# numpy exercises\n",
    "\n",
    "This is a collection of exercises that have been collected in the numpy mailing list, on stack overflow\n",
    "and in the numpy documentation. The goal of this collection is to offer a quick reference for both old\n",
    "and new users but also to provide a set of exercises for those who teach.\n",
    "If you find an error or think you've a better way to solve some of them, feel\n",
    "free to open an issue at <https://github.com/rougier/numpy-100>.\n",
    "File automatically generated. See the documentation to update questions/answers/hints programmatically."
   ]
  },
  {
   "cell_type": "code",
   "execution_count": 11,
   "id": "e6069b04",
   "metadata": {},
   "outputs": [
    {
     "name": "stdout",
     "output_type": "stream",
     "text": [
      "Didn't recognize theme name: h\n",
      "Available Themes: \n",
      "   chesterish\n",
      "   grade3\n",
      "   gruvboxd\n",
      "   gruvboxl\n",
      "   monokai\n",
      "   oceans16\n",
      "   onedork\n",
      "   solarizedd\n",
      "   solarizedl\n"
     ]
    }
   ],
   "source": [
    "!jt -th"
   ]
  },
  {
   "cell_type": "code",
   "execution_count": 10,
   "id": "7ff70325",
   "metadata": {},
   "outputs": [
    {
     "name": "stdout",
     "output_type": "stream",
     "text": [
      "Reset css and font defaults in:\n",
      "C:\\Users\\tomma\\.jupyter\\custom &\n",
      "C:\\Users\\tomma\\AppData\\Roaming\\jupyter\\nbextensions\n"
     ]
    }
   ],
   "source": [
    "#!jt -t monokai\n",
    "!jt -r\n"
   ]
  },
  {
   "cell_type": "markdown",
   "id": "e0116b19",
   "metadata": {},
   "source": [
    "#### 1. Import the numpy package under the name `np` (★☆☆)\n",
    "#### 2. Print the numpy version and the configuration (★☆☆)\n",
    "`hint: import … as`"
   ]
  },
  {
   "cell_type": "code",
   "execution_count": 519,
   "id": "f41642b4",
   "metadata": {},
   "outputs": [
    {
     "name": "stdout",
     "output_type": "stream",
     "text": [
      "1.22.3\n",
      "blas_armpl_info:\n",
      "  NOT AVAILABLE\n",
      "blas_mkl_info:\n",
      "    libraries = ['mkl_rt']\n",
      "    library_dirs = ['C:/Users/tomma/anaconda3/envs/DA_Env\\\\Library\\\\lib']\n",
      "    define_macros = [('SCIPY_MKL_H', None), ('HAVE_CBLAS', None)]\n",
      "    include_dirs = ['C:/Users/tomma/anaconda3/envs/DA_Env\\\\Library\\\\include']\n",
      "blas_opt_info:\n",
      "    libraries = ['mkl_rt']\n",
      "    library_dirs = ['C:/Users/tomma/anaconda3/envs/DA_Env\\\\Library\\\\lib']\n",
      "    define_macros = [('SCIPY_MKL_H', None), ('HAVE_CBLAS', None)]\n",
      "    include_dirs = ['C:/Users/tomma/anaconda3/envs/DA_Env\\\\Library\\\\include']\n",
      "lapack_armpl_info:\n",
      "  NOT AVAILABLE\n",
      "lapack_mkl_info:\n",
      "    libraries = ['mkl_rt']\n",
      "    library_dirs = ['C:/Users/tomma/anaconda3/envs/DA_Env\\\\Library\\\\lib']\n",
      "    define_macros = [('SCIPY_MKL_H', None), ('HAVE_CBLAS', None)]\n",
      "    include_dirs = ['C:/Users/tomma/anaconda3/envs/DA_Env\\\\Library\\\\include']\n",
      "lapack_opt_info:\n",
      "    libraries = ['mkl_rt']\n",
      "    library_dirs = ['C:/Users/tomma/anaconda3/envs/DA_Env\\\\Library\\\\lib']\n",
      "    define_macros = [('SCIPY_MKL_H', None), ('HAVE_CBLAS', None)]\n",
      "    include_dirs = ['C:/Users/tomma/anaconda3/envs/DA_Env\\\\Library\\\\include']\n",
      "Supported SIMD extensions in this NumPy install:\n",
      "    baseline = SSE,SSE2,SSE3\n",
      "    found = SSSE3,SSE41,POPCNT,SSE42,AVX,F16C,FMA3,AVX2\n",
      "    not found = AVX512F,AVX512CD,AVX512_SKX,AVX512_CLX,AVX512_CNL\n"
     ]
    },
    {
     "data": {
      "text/plain": [
       "<function numpy.info(object=None, maxwidth=76, output=<ipykernel.iostream.OutStream object at 0x0000020CC5414910>, toplevel='numpy')>"
      ]
     },
     "execution_count": 519,
     "metadata": {},
     "output_type": "execute_result"
    }
   ],
   "source": [
    "import numpy as np\n",
    "print(np.__version__)\n",
    "np.show_config()\n",
    "np.info\n"
   ]
  },
  {
   "cell_type": "markdown",
   "id": "ff883a11",
   "metadata": {},
   "source": [
    "#### 2. Create a null vector of size 10 (★☆☆)\n",
    "`hint: np.zeros`"
   ]
  },
  {
   "cell_type": "code",
   "execution_count": null,
   "id": "832e1f98",
   "metadata": {},
   "outputs": [],
   "source": [
    "np.zeros(10)"
   ]
  },
  {
   "cell_type": "markdown",
   "id": "05021519",
   "metadata": {},
   "source": [
    "#### 3. Create a null vector of size 10 but the fifth value which is 1 (★☆☆)\n",
    "`hint: array[4]`"
   ]
  },
  {
   "cell_type": "code",
   "execution_count": null,
   "id": "7ffda55a",
   "metadata": {},
   "outputs": [],
   "source": [
    "a = np.zeros(10)\n",
    "a[4]=5\n",
    "a"
   ]
  },
  {
   "cell_type": "markdown",
   "id": "efc08afc",
   "metadata": {},
   "source": [
    "#### 4. Create a vector with values ranging from 10 to 49 (★☆☆)\n",
    "`hint: arange`"
   ]
  },
  {
   "cell_type": "code",
   "execution_count": 520,
   "id": "54fbae4b",
   "metadata": {},
   "outputs": [
    {
     "data": {
      "text/plain": [
       "array([0., 0., 0., 0., 0., 0., 0., 0., 0., 0.])"
      ]
     },
     "execution_count": 520,
     "metadata": {},
     "output_type": "execute_result"
    }
   ],
   "source": [
    "a = np.arange(10,49)\n",
    "a"
   ]
  },
  {
   "cell_type": "markdown",
   "id": "f8a2e888",
   "metadata": {},
   "source": [
    "#### 5. Create a 3x3 matrix with values ranging from 0 to 8 (★☆☆)\n",
    "`hint: reshape`"
   ]
  },
  {
   "cell_type": "code",
   "execution_count": 523,
   "id": "cac97121",
   "metadata": {},
   "outputs": [
    {
     "data": {
      "text/plain": [
       "array([[6.89092551, 5.04710932, 0.80711158],\n",
       "       [6.97419834, 2.39739806, 1.79159765],\n",
       "       [0.22482437, 5.36998996, 5.31200063]])"
      ]
     },
     "execution_count": 523,
     "metadata": {},
     "output_type": "execute_result"
    }
   ],
   "source": [
    "a = np.random.random((9)) * 8\n",
    "a.reshape((3, 3))"
   ]
  },
  {
   "cell_type": "markdown",
   "id": "f452afa1",
   "metadata": {},
   "source": [
    "#### 6. Find indices of non-zero elements from [1,2,0,0,4,0] (★☆☆)\n",
    "`hint: np.nonzero`"
   ]
  },
  {
   "cell_type": "code",
   "execution_count": 524,
   "id": "1c1afebc",
   "metadata": {},
   "outputs": [
    {
     "data": {
      "text/plain": [
       "(array([0, 1, 4], dtype=int64),)"
      ]
     },
     "execution_count": 524,
     "metadata": {},
     "output_type": "execute_result"
    }
   ],
   "source": [
    "a = np.array([1,2,0,0,4,0])\n",
    "a.nonzero()"
   ]
  },
  {
   "cell_type": "markdown",
   "id": "1d114f2c",
   "metadata": {},
   "source": [
    "#### 7. Create a 3x3 identity matrix (★☆☆)\n",
    "`hint: np.eye`"
   ]
  },
  {
   "cell_type": "code",
   "execution_count": 525,
   "id": "c2660e28",
   "metadata": {},
   "outputs": [
    {
     "data": {
      "text/plain": [
       "array([[[1, 0, 0],\n",
       "        [0, 1, 0],\n",
       "        [0, 0, 1]]])"
      ]
     },
     "execution_count": 525,
     "metadata": {},
     "output_type": "execute_result"
    }
   ],
   "source": [
    "a = np.array([[[1,0,0],[0,1,0],[0,0,1]]])\n",
    "a"
   ]
  },
  {
   "cell_type": "markdown",
   "id": "c1c0b7b5",
   "metadata": {},
   "source": [
    "#### 8. Create a 3x3x3 array with random values (★☆☆)\n",
    "`hint: np.random.random`"
   ]
  },
  {
   "cell_type": "code",
   "execution_count": 526,
   "id": "b3c1f0eb",
   "metadata": {},
   "outputs": [
    {
     "data": {
      "text/plain": [
       "array([[0.42797604, 0.06443489, 0.77280764],\n",
       "       [0.75930899, 0.48433185, 0.34548907],\n",
       "       [0.15229458, 0.34559354, 0.49422841]])"
      ]
     },
     "execution_count": 526,
     "metadata": {},
     "output_type": "execute_result"
    }
   ],
   "source": [
    "a = np.random.random((3,3)) \n",
    "a"
   ]
  },
  {
   "cell_type": "markdown",
   "id": "a4314706",
   "metadata": {},
   "source": [
    "#### 9. Create a 10x10 array with random values and find the minimum and maximum values (★☆☆)\n",
    "`hint: min, max`"
   ]
  },
  {
   "cell_type": "code",
   "execution_count": 527,
   "id": "a0bb5344",
   "metadata": {},
   "outputs": [
    {
     "name": "stdout",
     "output_type": "stream",
     "text": [
      "0.012247616640320369 0.991313705553103\n"
     ]
    }
   ],
   "source": [
    "a = np.random.random((10,10)) \n",
    "print(a.min(), a.max())"
   ]
  },
  {
   "cell_type": "markdown",
   "id": "99c5038c",
   "metadata": {},
   "source": [
    "#### 10. Create a random vector of size 30 and find the mean value (★☆☆)\n",
    "`hint: mean`"
   ]
  },
  {
   "cell_type": "code",
   "execution_count": 528,
   "id": "56532fd7",
   "metadata": {},
   "outputs": [
    {
     "data": {
      "text/plain": [
       "0.5071249541701273"
      ]
     },
     "execution_count": 528,
     "metadata": {},
     "output_type": "execute_result"
    }
   ],
   "source": [
    "a = np.random.random(30)\n",
    "a.mean()"
   ]
  },
  {
   "cell_type": "markdown",
   "id": "9150201c",
   "metadata": {},
   "source": [
    "#### 11. Create a 5x5 matrix with values 1,2,3,4 just below the diagonal (★☆☆)\n",
    "`hint: np.diag`"
   ]
  },
  {
   "cell_type": "code",
   "execution_count": 529,
   "id": "a8d29b4e",
   "metadata": {},
   "outputs": [
    {
     "name": "stdout",
     "output_type": "stream",
     "text": [
      "[[0 0 0 0 0]\n",
      " [1 0 0 0 0]\n",
      " [0 2 0 0 0]\n",
      " [0 0 3 0 0]\n",
      " [0 0 0 4 0]]\n"
     ]
    }
   ],
   "source": [
    "c = np.diag((1,2,3,4), k=-1)\n",
    "print(c)"
   ]
  },
  {
   "cell_type": "markdown",
   "id": "cf8708aa",
   "metadata": {},
   "source": [
    "#### 12. Normalize a 5x5 random matrix (★☆☆)\n",
    "`hint: (x -mean)/std`"
   ]
  },
  {
   "cell_type": "code",
   "execution_count": 530,
   "id": "f1eb696e",
   "metadata": {},
   "outputs": [
    {
     "name": "stdout",
     "output_type": "stream",
     "text": [
      "[[-1.94277297  0.41845485 -0.31650773  0.61129819  0.13481639]\n",
      " [-0.7265752   1.41490488  0.98403161  0.90670034 -0.98009011]\n",
      " [ 0.04548659  1.26542068 -0.2576929   0.06538986  1.46630708]\n",
      " [-0.26699908  0.68909211 -1.27117861  0.14988354  0.98612638]\n",
      " [-0.56363919 -1.84444532 -1.15952979 -1.17192928  1.36344765]]\n"
     ]
    }
   ],
   "source": [
    "import seaborn as sns\n",
    "a = np.random.random((5,5)) * 100\n",
    "a = (a - np.mean(a)) / np.std(a)\n",
    "print(a)\n",
    "#sns.histplot(data = a, legend = False, bins = 100)"
   ]
  },
  {
   "cell_type": "markdown",
   "id": "f01dcc25",
   "metadata": {},
   "source": [
    "#### 13. How to find common values between two arrays? (★☆☆)\n",
    "`hint: np.intersect1d`"
   ]
  },
  {
   "cell_type": "code",
   "execution_count": 531,
   "id": "75673c32",
   "metadata": {},
   "outputs": [
    {
     "name": "stdout",
     "output_type": "stream",
     "text": [
      "[8 9 6 8 0] [1 9 8 3 2]\n"
     ]
    },
    {
     "data": {
      "text/plain": [
       "array([8, 9])"
      ]
     },
     "execution_count": 531,
     "metadata": {},
     "output_type": "execute_result"
    }
   ],
   "source": [
    "a = np.random.randint(0,10,5)\n",
    "b = np.random.randint(0,10,5)\n",
    "print(a,b)\n",
    "np.intersect1d(a,b)"
   ]
  },
  {
   "cell_type": "markdown",
   "id": "cc6e702a",
   "metadata": {},
   "source": [
    "#### 14. Create a random vector of size 10 and sort it (★★☆)\n",
    "`hint: sort`"
   ]
  },
  {
   "cell_type": "code",
   "execution_count": 532,
   "id": "8a8837dc",
   "metadata": {},
   "outputs": [
    {
     "data": {
      "text/plain": [
       "array([0, 0, 0, 1, 1, 4, 5, 6, 7, 9])"
      ]
     },
     "execution_count": 532,
     "metadata": {},
     "output_type": "execute_result"
    }
   ],
   "source": [
    "a = np.random.randint(0,10,10)\n",
    "a.sort()\n",
    "a"
   ]
  },
  {
   "cell_type": "markdown",
   "id": "8ae28b78",
   "metadata": {},
   "source": [
    "#### 15. Create random vector of size 10 and replace the maximum value by 0 (★★☆)\n",
    "`hint: argmax`"
   ]
  },
  {
   "cell_type": "code",
   "execution_count": 533,
   "id": "db9a76c4",
   "metadata": {},
   "outputs": [
    {
     "name": "stdout",
     "output_type": "stream",
     "text": [
      "[3 9 1 5 5]\n",
      "[3 0 1 5 5]\n"
     ]
    }
   ],
   "source": [
    "a = np.random.randint(0,10,5)\n",
    "print(a)\n",
    "s = list(np.where(a == a.max()))\n",
    "for i in s: \n",
    "    a[i]=0\n",
    "print(a)"
   ]
  },
  {
   "cell_type": "markdown",
   "id": "77e7319e",
   "metadata": {},
   "source": [
    "#### 16. Subtract the mean of each row of a matrix (★★☆)\n",
    "`hint: mean(axis=,keepdims=)`"
   ]
  },
  {
   "cell_type": "code",
   "execution_count": 534,
   "id": "c5e5ac9a",
   "metadata": {},
   "outputs": [
    {
     "name": "stdout",
     "output_type": "stream",
     "text": [
      "[[1 1 0 4]\n",
      " [0 0 1 4]\n",
      " [0 2 1 0]\n",
      " [3 2 4 0]]\n",
      "[array([1.5]), array([1.25]), array([0.75]), array([2.25])]\n"
     ]
    }
   ],
   "source": [
    "a = np.random.randint(5, size=(4, 4))\n",
    "a\n",
    "listMeans = []\n",
    "for i in range(0,4):\n",
    "    listMeans.append(np.mean(a[i], keepdims=True))\n",
    "print(a)\n",
    "print(listMeans)"
   ]
  },
  {
   "cell_type": "code",
   "execution_count": 535,
   "id": "eb262274",
   "metadata": {},
   "outputs": [
    {
     "name": "stdout",
     "output_type": "stream",
     "text": [
      "[[ 0  0 -1  2]\n",
      " [-1 -1  0  2]\n",
      " [-1  0  0 -1]\n",
      " [ 1  0  2 -1]]\n",
      "[array([1.5]), array([1.25]), array([0.75]), array([2.25])]\n"
     ]
    }
   ],
   "source": [
    "for i in range(0,4):\n",
    "    a[i] = a[i] - listMeans[0]\n",
    "print(a)\n",
    "a = a.astype(numpy.float32)\n",
    "print(listMeans)"
   ]
  },
  {
   "cell_type": "code",
   "execution_count": 536,
   "id": "004ae435",
   "metadata": {},
   "outputs": [
    {
     "name": "stdout",
     "output_type": "stream",
     "text": [
      "[[-0.25 -0.25 -1.25  1.75]\n",
      " [-1.   -1.    0.    2.  ]\n",
      " [-0.5   0.5   0.5  -0.5 ]\n",
      " [ 0.5  -0.5   1.5  -1.5 ]]\n"
     ]
    }
   ],
   "source": [
    "#b = np.mean(a[1], keepdims=True)\n",
    "#print(a)\n",
    "for i in range(0,4):\n",
    "    a[i] = a[i] - np.mean(a[i], keepdims=True)\n",
    "    #print(a[i])\n",
    "print(a)"
   ]
  },
  {
   "cell_type": "markdown",
   "id": "5c4bd606",
   "metadata": {},
   "source": [
    "#### 17. How to get the n largest values of an array (★★★)\n",
    "`Z = np.arange(10000)\n",
    "np.random.shuffle(Z)\n",
    "n = 5\n",
    "hint: np.argsort | np.argpartition`"
   ]
  },
  {
   "cell_type": "code",
   "execution_count": 537,
   "id": "3cc75311",
   "metadata": {},
   "outputs": [
    {
     "name": "stdout",
     "output_type": "stream",
     "text": [
      "[ 9  0 10 24 15  8  2  3 23 13  1 22 11  6 16 19 21 20  5 14  4  7 12 18\n",
      " 17]\n",
      "[ 1 10  6  7 20 18 13 21  5  0  2 12 22  9 19  4 14 24 23 15 17 16 11  8\n",
      "  3]\n",
      "[ 0  1  2  3  4  5  6  7  8  9 10 11 12 13 14 15 16 17 18 19 20 21 22 23\n",
      " 24]\n"
     ]
    },
    {
     "data": {
      "text/plain": [
       "20"
      ]
     },
     "execution_count": 537,
     "metadata": {},
     "output_type": "execute_result"
    }
   ],
   "source": [
    "Z = np.arange(25)\n",
    "np.random.shuffle(Z)\n",
    "n = 5\n",
    "a = np.argsort(Z, axis=-1, kind='mergesort', order=None)\n",
    "Z2 = Z.copy()\n",
    "Z2.sort()\n",
    "print(Z)\n",
    "print(a)\n",
    "print(Z2)\n",
    "Z2[-n]"
   ]
  },
  {
   "cell_type": "code",
   "execution_count": 538,
   "id": "54caf2f9",
   "metadata": {},
   "outputs": [
    {
     "name": "stdout",
     "output_type": "stream",
     "text": [
      "[ 0  1  2  3  4  5  6  7  8  9 10 11 12 13 14 15 16 17 18 19 20 21 22 23\n",
      " 24]\n"
     ]
    }
   ],
   "source": [
    "Z2 = Z.copy()\n",
    "Z2.sort()\n",
    "print(Z2)"
   ]
  },
  {
   "cell_type": "code",
   "execution_count": 539,
   "id": "dd46ca81",
   "metadata": {},
   "outputs": [
    {
     "name": "stdout",
     "output_type": "stream",
     "text": [
      "[ 0  1  2  3  4  5  6  7  8  9 10 11 12 13 14 15 16 17 18 19 20 21 22 23\n",
      " 24]\n",
      "4\n"
     ]
    }
   ],
   "source": [
    "Z2 = Z.copy()\n",
    "Z2.sort()\n",
    "print(Z2)\n",
    "print(Z[-n])"
   ]
  },
  {
   "cell_type": "code",
   "execution_count": 540,
   "id": "1b2e2e65",
   "metadata": {},
   "outputs": [
    {
     "data": {
      "text/plain": [
       "20"
      ]
     },
     "execution_count": 540,
     "metadata": {},
     "output_type": "execute_result"
    }
   ],
   "source": [
    "a = np.argsort(Z, axis=-1, kind='mergesort', order=None)\n",
    "n_index = a[-n]\n",
    "Z[n_index]"
   ]
  },
  {
   "cell_type": "code",
   "execution_count": 541,
   "id": "d08b77f0",
   "metadata": {
    "scrolled": true
   },
   "outputs": [
    {
     "data": {
      "text/plain": [
       "20"
      ]
     },
     "execution_count": 541,
     "metadata": {},
     "output_type": "execute_result"
    }
   ],
   "source": [
    "a.sort()\n",
    "a\n",
    "a[-n]"
   ]
  },
  {
   "cell_type": "markdown",
   "id": "0b48d797",
   "metadata": {},
   "source": [
    "#### 18. Create a random 5*3 matrix and replace items that are larger than 4 by their squares ( Example:  6 --> 36) \n",
    "`hint: np.where`"
   ]
  },
  {
   "cell_type": "code",
   "execution_count": 542,
   "id": "950c615e",
   "metadata": {},
   "outputs": [
    {
     "data": {
      "text/plain": [
       "array([[1, 0, 1],\n",
       "       [5, 8, 5],\n",
       "       [5, 8, 3],\n",
       "       [4, 6, 2],\n",
       "       [8, 4, 9]])"
      ]
     },
     "execution_count": 542,
     "metadata": {},
     "output_type": "execute_result"
    }
   ],
   "source": [
    "a = np.random.randint(10, size=(5,3))\n",
    "a"
   ]
  },
  {
   "cell_type": "code",
   "execution_count": 543,
   "id": "8c4eb47d",
   "metadata": {},
   "outputs": [
    {
     "data": {
      "text/plain": [
       "array([[ 1,  0,  1],\n",
       "       [25, 64, 25],\n",
       "       [25, 64,  3],\n",
       "       [ 4, 36,  2],\n",
       "       [64,  4, 81]])"
      ]
     },
     "execution_count": 543,
     "metadata": {},
     "output_type": "execute_result"
    }
   ],
   "source": [
    "np.where(a > 4, a**2, a)"
   ]
  },
  {
   "cell_type": "markdown",
   "id": "3f96b129",
   "metadata": {},
   "source": [
    "# OPTIONAL"
   ]
  },
  {
   "cell_type": "code",
   "execution_count": 544,
   "id": "17f88902",
   "metadata": {},
   "outputs": [
    {
     "data": {
      "text/plain": [
       "4"
      ]
     },
     "execution_count": 544,
     "metadata": {},
     "output_type": "execute_result"
    }
   ],
   "source": [
    "#### 4. How to find the memory size of any array (★☆☆)\n",
    "#`hint: size, itemsize`\n",
    "a = np.array([1,2,3])\n",
    "a.itemsize\n"
   ]
  },
  {
   "cell_type": "code",
   "execution_count": 545,
   "id": "f2b9e707",
   "metadata": {},
   "outputs": [
    {
     "name": "stdout",
     "output_type": "stream",
     "text": [
      "Help on function info in module numpy:\n",
      "\n",
      "info(object=None, maxwidth=76, output=<ipykernel.iostream.OutStream object at 0x0000020CC5414910>, toplevel='numpy')\n",
      "    Get help information for a function, class, or module.\n",
      "    \n",
      "    Parameters\n",
      "    ----------\n",
      "    object : object or str, optional\n",
      "        Input object or name to get information about. If `object` is a\n",
      "        numpy object, its docstring is given. If it is a string, available\n",
      "        modules are searched for matching objects.  If None, information\n",
      "        about `info` itself is returned.\n",
      "    maxwidth : int, optional\n",
      "        Printing width.\n",
      "    output : file like object, optional\n",
      "        File like object that the output is written to, default is\n",
      "        ``stdout``.  The object has to be opened in 'w' or 'a' mode.\n",
      "    toplevel : str, optional\n",
      "        Start search at this level.\n",
      "    \n",
      "    See Also\n",
      "    --------\n",
      "    source, lookfor\n",
      "    \n",
      "    Notes\n",
      "    -----\n",
      "    When used interactively with an object, ``np.info(obj)`` is equivalent\n",
      "    to ``help(obj)`` on the Python prompt or ``obj?`` on the IPython\n",
      "    prompt.\n",
      "    \n",
      "    Examples\n",
      "    --------\n",
      "    >>> np.info(np.polyval) # doctest: +SKIP\n",
      "       polyval(p, x)\n",
      "         Evaluate the polynomial p at x.\n",
      "         ...\n",
      "    \n",
      "    When using a string for `object` it is possible to get multiple results.\n",
      "    \n",
      "    >>> np.info('fft') # doctest: +SKIP\n",
      "         *** Found in numpy ***\n",
      "    Core FFT routines\n",
      "    ...\n",
      "         *** Found in numpy.fft ***\n",
      "     fft(a, n=None, axis=-1)\n",
      "    ...\n",
      "         *** Repeat reference found in numpy.fft.fftpack ***\n",
      "         *** Total of 3 references found. ***\n",
      "\n"
     ]
    }
   ],
   "source": [
    "help(np.info)"
   ]
  },
  {
   "cell_type": "code",
   "execution_count": 546,
   "id": "ba5d99df",
   "metadata": {},
   "outputs": [
    {
     "data": {
      "text/plain": [
       "array([10, 11, 12, 13, 14, 15, 16, 17, 18, 19, 20, 21, 22, 23, 24, 25, 26,\n",
       "       27, 28, 29, 30, 31, 32, 33, 34, 35, 36, 37, 38, 39, 40, 41, 42, 43,\n",
       "       44, 45, 46, 47, 48])"
      ]
     },
     "execution_count": 546,
     "metadata": {},
     "output_type": "execute_result"
    }
   ],
   "source": [
    "#Create a vector with values ranging from 10 to 49 (★☆☆)\n",
    "a = np.arange(10,49)\n",
    "a"
   ]
  },
  {
   "cell_type": "code",
   "execution_count": 547,
   "id": "254d515a",
   "metadata": {},
   "outputs": [
    {
     "name": "stdout",
     "output_type": "stream",
     "text": [
      "[48 47 46 45 44 43 42 41 40 39 38 37 36 35 34 33 32 31 30 29 28 27 26 25\n",
      " 24 23 22 21 20 19 18 17 16 15 14 13 12 11 10]\n"
     ]
    }
   ],
   "source": [
    "#Reverse a vector (first element becomes last) (★☆☆)\n",
    "print(a[::-1])"
   ]
  },
  {
   "cell_type": "code",
   "execution_count": 602,
   "id": "04e9e3fa",
   "metadata": {},
   "outputs": [
    {
     "name": "stdout",
     "output_type": "stream",
     "text": [
      "[[ 5  6  7  8  9]\n",
      " [10 11 12 13 14]\n",
      " [20 21 22 23 24]\n",
      " [ 0  1  2  3  4]\n",
      " [15 16 17 18 19]]\n"
     ]
    }
   ],
   "source": [
    "#### 15. Create a 2d array with 1 on the border and 0 inside (★☆☆)\n",
    "#`hint: array[1:-1, 1:-1]`\n",
    "import random\n",
    "a = np.arange(0,25).reshape(5,5)\n",
    "np.random.shuffle(a)\n",
    "print(a)"
   ]
  },
  {
   "cell_type": "code",
   "execution_count": 604,
   "id": "830a7998",
   "metadata": {},
   "outputs": [
    {
     "data": {
      "text/plain": [
       "array([[1, 1, 1, 1, 1],\n",
       "       [1, 0, 0, 0, 1],\n",
       "       [1, 0, 0, 0, 1],\n",
       "       [1, 0, 0, 0, 1],\n",
       "       [1, 1, 1, 1, 1]])"
      ]
     },
     "execution_count": 604,
     "metadata": {},
     "output_type": "execute_result"
    }
   ],
   "source": [
    "#a[1:-1] = 0\n",
    "#a[0:1,0] = 1\n",
    "#a[4,4] = 1\n",
    "a[[0,4]]=1\n",
    "a[:,[4,0]]=1\n",
    "a[1:-1,1:-1]=0\n",
    "a"
   ]
  },
  {
   "cell_type": "code",
   "execution_count": 610,
   "id": "16af693c",
   "metadata": {},
   "outputs": [
    {
     "data": {
      "text/plain": [
       "array([[0, 0, 0, 0, 0, 0, 0],\n",
       "       [0, 1, 1, 1, 1, 1, 0],\n",
       "       [0, 1, 0, 0, 0, 1, 0],\n",
       "       [0, 1, 0, 0, 0, 1, 0],\n",
       "       [0, 1, 0, 0, 0, 1, 0],\n",
       "       [0, 1, 1, 1, 1, 1, 0],\n",
       "       [0, 0, 0, 0, 0, 0, 0]])"
      ]
     },
     "execution_count": 610,
     "metadata": {},
     "output_type": "execute_result"
    }
   ],
   "source": [
    "#How to add a border (filled with 0's) around an existing array? (★☆☆)\n",
    "numpy.pad(a, (1,1), mode='constant', constant_values=(0))"
   ]
  },
  {
   "cell_type": "code",
   "execution_count": 623,
   "id": "362ba879",
   "metadata": {},
   "outputs": [
    {
     "data": {
      "text/plain": [
       "False"
      ]
     },
     "execution_count": 623,
     "metadata": {},
     "output_type": "execute_result"
    }
   ],
   "source": [
    "#### 17. What is the result of the following expression? (★☆☆)\n",
    "0 * np.nan\n",
    "np.nan == np.nan\n",
    "np.inf > np.nan\n",
    "np.nan - np.nan\n",
    "np.nan in set([np.nan])\n",
    "0.3 == 3 * 0.1"
   ]
  },
  {
   "cell_type": "code",
   "execution_count": 737,
   "id": "09050dc7",
   "metadata": {},
   "outputs": [],
   "source": [
    "#### 20. Consider a (6,7,8) shape array, what is the index (x,y,z) of the 100th element? (★☆☆)\n",
    "a = np.random.randint(100, size=(6,7,8))\n",
    "a = np.arange(6*7*8).reshape(6,7,8)\n"
   ]
  },
  {
   "cell_type": "code",
   "execution_count": 743,
   "id": "280b90a2",
   "metadata": {},
   "outputs": [
    {
     "name": "stdout",
     "output_type": "stream",
     "text": [
      "(0, 0, 0)\n",
      "1\n",
      "(0, 0, 1)\n",
      "2\n",
      "(0, 0, 2)\n",
      "3\n",
      "(0, 0, 3)\n",
      "4\n",
      "(0, 0, 4)\n",
      "5\n",
      "(0, 0, 5)\n",
      "6\n",
      "(0, 0, 6)\n",
      "7\n",
      "(0, 0, 7)\n",
      "8\n",
      "(0, 1, 0)\n",
      "9\n",
      "(0, 1, 1)\n",
      "10\n",
      "(0, 1, 2)\n",
      "11\n",
      "(0, 1, 3)\n",
      "12\n",
      "(0, 1, 4)\n",
      "13\n",
      "(0, 1, 5)\n",
      "14\n",
      "(0, 1, 6)\n",
      "15\n",
      "(0, 1, 7)\n",
      "16\n",
      "(0, 2, 0)\n",
      "17\n",
      "(0, 2, 1)\n",
      "18\n",
      "(0, 2, 2)\n",
      "19\n",
      "(0, 2, 3)\n",
      "20\n",
      "(0, 2, 4)\n",
      "21\n",
      "(0, 2, 5)\n",
      "22\n",
      "(0, 2, 6)\n",
      "23\n",
      "(0, 2, 7)\n",
      "24\n",
      "(0, 3, 0)\n",
      "25\n",
      "(0, 3, 1)\n",
      "26\n",
      "(0, 3, 2)\n",
      "27\n",
      "(0, 3, 3)\n",
      "28\n",
      "(0, 3, 4)\n",
      "29\n",
      "(0, 3, 5)\n",
      "30\n",
      "(0, 3, 6)\n",
      "31\n",
      "(0, 3, 7)\n",
      "32\n",
      "(0, 4, 0)\n",
      "33\n",
      "(0, 4, 1)\n",
      "34\n",
      "(0, 4, 2)\n",
      "35\n",
      "(0, 4, 3)\n",
      "36\n",
      "(0, 4, 4)\n",
      "37\n",
      "(0, 4, 5)\n",
      "38\n",
      "(0, 4, 6)\n",
      "39\n",
      "(0, 4, 7)\n",
      "40\n",
      "(0, 5, 0)\n",
      "41\n",
      "(0, 5, 1)\n",
      "42\n",
      "(0, 5, 2)\n",
      "43\n",
      "(0, 5, 3)\n",
      "44\n",
      "(0, 5, 4)\n",
      "45\n",
      "(0, 5, 5)\n",
      "46\n",
      "(0, 5, 6)\n",
      "47\n",
      "(0, 5, 7)\n",
      "48\n",
      "(0, 6, 0)\n",
      "49\n",
      "(0, 6, 1)\n",
      "50\n",
      "(0, 6, 2)\n",
      "51\n",
      "(0, 6, 3)\n",
      "52\n",
      "(0, 6, 4)\n",
      "53\n",
      "(0, 6, 5)\n",
      "54\n",
      "(0, 6, 6)\n",
      "55\n",
      "(0, 6, 7)\n",
      "56\n",
      "(1, 0, 0)\n",
      "57\n",
      "(1, 0, 1)\n",
      "58\n",
      "(1, 0, 2)\n",
      "59\n",
      "(1, 0, 3)\n",
      "60\n",
      "(1, 0, 4)\n",
      "61\n",
      "(1, 0, 5)\n",
      "62\n",
      "(1, 0, 6)\n",
      "63\n",
      "(1, 0, 7)\n",
      "64\n",
      "(1, 1, 0)\n",
      "65\n",
      "(1, 1, 1)\n",
      "66\n",
      "(1, 1, 2)\n",
      "67\n",
      "(1, 1, 3)\n",
      "68\n",
      "(1, 1, 4)\n",
      "69\n",
      "(1, 1, 5)\n",
      "70\n",
      "(1, 1, 6)\n",
      "71\n",
      "(1, 1, 7)\n",
      "72\n",
      "(1, 2, 0)\n",
      "73\n",
      "(1, 2, 1)\n",
      "74\n",
      "(1, 2, 2)\n",
      "75\n",
      "(1, 2, 3)\n",
      "76\n",
      "(1, 2, 4)\n",
      "77\n",
      "(1, 2, 5)\n",
      "78\n",
      "(1, 2, 6)\n",
      "79\n",
      "(1, 2, 7)\n",
      "80\n",
      "(1, 3, 0)\n",
      "81\n",
      "(1, 3, 1)\n",
      "82\n",
      "(1, 3, 2)\n",
      "83\n",
      "(1, 3, 3)\n",
      "84\n",
      "(1, 3, 4)\n",
      "85\n",
      "(1, 3, 5)\n",
      "86\n",
      "(1, 3, 6)\n",
      "87\n",
      "(1, 3, 7)\n",
      "88\n",
      "(1, 4, 0)\n",
      "89\n",
      "(1, 4, 1)\n",
      "90\n",
      "(1, 4, 2)\n",
      "91\n",
      "(1, 4, 3)\n",
      "92\n",
      "(1, 4, 4)\n",
      "93\n",
      "(1, 4, 5)\n",
      "94\n",
      "(1, 4, 6)\n",
      "95\n",
      "(1, 4, 7)\n",
      "96\n",
      "(1, 5, 0)\n",
      "97\n",
      "(1, 5, 1)\n",
      "98\n",
      "(1, 5, 2)\n",
      "99\n",
      "(1, 5, 3)\n",
      "100\n",
      "(1, 5, 3)\n",
      "99\n"
     ]
    }
   ],
   "source": [
    "tot=0\n",
    "for x in range(0,6):\n",
    "    for y in range(0,7):\n",
    "        for z in range(0,8):\n",
    "            \n",
    "            if tot < 100:\n",
    "                tot += 1\n",
    "                index_list = (x,y,z)\n",
    "                print(index_list)\n",
    "                print(tot)\n",
    "                \n",
    "            elif tot == 100:\n",
    "                break\n",
    "\n",
    "print(index_list)\n",
    "print(a[1, 5, 3])"
   ]
  },
  {
   "cell_type": "code",
   "execution_count": 723,
   "id": "91b5072a",
   "metadata": {},
   "outputs": [
    {
     "name": "stdout",
     "output_type": "stream",
     "text": [
      "(0, 0, 0)\n",
      "(0, 0, 1)\n",
      "(0, 0, 2)\n",
      "(0, 0, 3)\n",
      "(0, 0, 4)\n",
      "(0, 0, 5)\n",
      "(0, 0, 6)\n",
      "(0, 0, 7)\n",
      "(0, 1, 0)\n",
      "(0, 1, 1)\n",
      "(0, 1, 2)\n",
      "(0, 1, 3)\n",
      "(0, 1, 4)\n",
      "(0, 1, 5)\n",
      "(0, 1, 6)\n",
      "(0, 1, 7)\n",
      "(0, 2, 0)\n",
      "(0, 2, 1)\n",
      "(0, 2, 2)\n",
      "(0, 2, 3)\n",
      "(0, 2, 4)\n",
      "(0, 2, 5)\n",
      "(0, 2, 6)\n",
      "(0, 2, 7)\n",
      "(0, 3, 0)\n",
      "(0, 3, 1)\n",
      "(0, 3, 2)\n",
      "(0, 3, 3)\n",
      "(0, 3, 4)\n",
      "(0, 3, 5)\n",
      "(0, 3, 6)\n",
      "(0, 3, 7)\n",
      "(0, 4, 0)\n",
      "(0, 4, 1)\n",
      "(0, 4, 2)\n",
      "(0, 4, 3)\n",
      "(0, 4, 4)\n",
      "(0, 4, 5)\n",
      "(0, 4, 6)\n",
      "(0, 4, 7)\n",
      "(0, 5, 0)\n",
      "(0, 5, 1)\n",
      "(0, 5, 2)\n",
      "(0, 5, 3)\n",
      "(0, 5, 4)\n",
      "(0, 5, 5)\n",
      "(0, 5, 6)\n",
      "(0, 5, 7)\n",
      "(0, 6, 0)\n",
      "(0, 6, 1)\n",
      "(0, 6, 2)\n",
      "(0, 6, 3)\n",
      "(0, 6, 4)\n",
      "(0, 6, 5)\n",
      "(0, 6, 6)\n",
      "(0, 6, 7)\n",
      "(1, 0, 0)\n",
      "(1, 0, 1)\n",
      "(1, 0, 2)\n",
      "(1, 0, 3)\n",
      "(1, 0, 4)\n",
      "(1, 0, 5)\n",
      "(1, 0, 6)\n",
      "(1, 0, 7)\n",
      "(1, 1, 0)\n",
      "(1, 1, 1)\n",
      "(1, 1, 2)\n",
      "(1, 1, 3)\n",
      "(1, 1, 4)\n",
      "(1, 1, 5)\n",
      "(1, 1, 6)\n",
      "(1, 1, 7)\n",
      "(1, 2, 0)\n",
      "(1, 2, 1)\n",
      "(1, 2, 2)\n",
      "(1, 2, 3)\n",
      "(1, 2, 4)\n",
      "(1, 2, 5)\n",
      "(1, 2, 6)\n",
      "(1, 2, 7)\n",
      "(1, 3, 0)\n",
      "(1, 3, 1)\n",
      "(1, 3, 2)\n",
      "(1, 3, 3)\n",
      "(1, 3, 4)\n",
      "(1, 3, 5)\n",
      "(1, 3, 6)\n",
      "(1, 3, 7)\n",
      "(1, 4, 0)\n",
      "(1, 4, 1)\n",
      "(1, 4, 2)\n",
      "(1, 4, 3)\n",
      "(1, 4, 4)\n",
      "(1, 4, 5)\n",
      "(1, 4, 6)\n",
      "(1, 4, 7)\n",
      "(1, 5, 0)\n",
      "(1, 5, 1)\n",
      "(1, 5, 2)\n",
      "(1, 5, 3)\n"
     ]
    }
   ],
   "source": [
    "for i in range(0,100):\n",
    "    print(np.unravel_index(i,(6,7,8)))\n"
   ]
  },
  {
   "cell_type": "code",
   "execution_count": 1,
   "id": "2623abf9",
   "metadata": {},
   "outputs": [
    {
     "ename": "NameError",
     "evalue": "name 'a' is not defined",
     "output_type": "error",
     "traceback": [
      "\u001b[1;31m---------------------------------------------------------------------------\u001b[0m",
      "\u001b[1;31mNameError\u001b[0m                                 Traceback (most recent call last)",
      "Input \u001b[1;32mIn [1]\u001b[0m, in \u001b[0;36m<cell line: 6>\u001b[1;34m()\u001b[0m\n\u001b[0;32m      4\u001b[0m fig \u001b[38;5;241m=\u001b[39m plt\u001b[38;5;241m.\u001b[39mfigure()\n\u001b[0;32m      5\u001b[0m ax \u001b[38;5;241m=\u001b[39m fig\u001b[38;5;241m.\u001b[39madd_subplot(\u001b[38;5;241m111\u001b[39m, projection\u001b[38;5;241m=\u001b[39m\u001b[38;5;124m'\u001b[39m\u001b[38;5;124m3d\u001b[39m\u001b[38;5;124m'\u001b[39m)\n\u001b[1;32m----> 6\u001b[0m z, x, y \u001b[38;5;241m=\u001b[39m \u001b[43ma\u001b[49m\u001b[38;5;241m.\u001b[39mnonzero()\n\u001b[0;32m      7\u001b[0m ax\u001b[38;5;241m.\u001b[39mscatter(x, y, z, c\u001b[38;5;241m=\u001b[39mz, alpha\u001b[38;5;241m=\u001b[39m\u001b[38;5;241m0\u001b[39m)\n\u001b[0;32m      9\u001b[0m ax\u001b[38;5;241m.\u001b[39mscatter(\u001b[38;5;241m2\u001b[39m, \u001b[38;5;241m6\u001b[39m, \u001b[38;5;241m4\u001b[39m, zdir\u001b[38;5;241m=\u001b[39m\u001b[38;5;124m'\u001b[39m\u001b[38;5;124mz\u001b[39m\u001b[38;5;124m'\u001b[39m, c\u001b[38;5;241m=\u001b[39m \u001b[38;5;124m'\u001b[39m\u001b[38;5;124mred\u001b[39m\u001b[38;5;124m'\u001b[39m)\n",
      "\u001b[1;31mNameError\u001b[0m: name 'a' is not defined"
     ]
    },
    {
     "data": {
      "image/png": "[encoded data removed]",
      "text/plain": [
       "<Figure size 432x288 with 1 Axes>"
      ]
     },
     "metadata": {
      "needs_background": "light"
     },
     "output_type": "display_data"
    }
   ],
   "source": [
    "import matplotlib.pyplot as plt, numpy as np\n",
    "from mpl_toolkits.mplot3d import Axes3D\n",
    "\n",
    "fig = plt.figure()\n",
    "ax = fig.add_subplot(111, projection='3d')\n",
    "z, x, y = a.nonzero()\n",
    "ax.scatter(x, y, z, c=z, alpha=0)\n",
    "\n",
    "ax.scatter(2, 6, 4, zdir='z', c= 'red')\n",
    "\n",
    "plt.show()"
   ]
  },
  {
   "cell_type": "code",
   "execution_count": null,
   "id": "a1768996",
   "metadata": {},
   "outputs": [],
   "source": []
  }
 ],
 "metadata": {
  "kernelspec": {
   "display_name": "Python 3 (ipykernel)",
   "language": "python",
   "name": "python3"
  },
  "language_info": {
   "codemirror_mode": {
    "name": "ipython",
    "version": 3
   },
   "file_extension": ".py",
   "mimetype": "text/x-python",
   "name": "python",
   "nbconvert_exporter": "python",
   "pygments_lexer": "ipython3",
   "version": "3.9.12"
  }
 },
 "nbformat": 4,
 "nbformat_minor": 5
}
