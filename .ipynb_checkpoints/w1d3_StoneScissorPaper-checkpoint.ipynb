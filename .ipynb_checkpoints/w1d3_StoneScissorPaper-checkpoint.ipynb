{
 "cells": [
  {
   "cell_type": "markdown",
   "metadata": {},
   "source": [
    "<img src=\"https://bit.ly/2VnXWr2\" width=\"100\" align=\"left\">"
   ]
  },
  {
   "cell_type": "markdown",
   "metadata": {},
   "source": [
    "# Rock, Paper & Scissors\n",
    "\n",
    "Let's play the famous game against our computer. You can check the rules [here](https://en.wikipedia.org/wiki/Rock%E2%80%93paper%E2%80%93scissors). \n",
    "\n",
    "## Task\n",
    "Create a program that imitates the playability of the well known game of rock, paper, scissors. Follow the guidelines provided.\n",
    "\n",
    "## Tools\n",
    "1. Loop: **for/while**\n",
    "2. Functions: **input(), print()...**\n",
    "3. Conditional statements: **if, elif, else**\n",
    "4. Definition of functions. Modular programming\n",
    "5. Import modules\n",
    "\n",
    "**To solve this challenge, the use of functions is recommended.**\n",
    "\n",
    "#### 1. Import the choice function of the random module."
   ]
  },
  {
   "cell_type": "code",
   "execution_count": 1,
   "metadata": {},
   "outputs": [],
   "source": [
    "import random \n",
    "from termcolor import colored"
   ]
  },
  {
   "cell_type": "markdown",
   "metadata": {},
   "source": [
    "#### 2. Create a list that includes the 3 possible gesture options of the game: 'rock', 'paper' or 'scissors'. Store the list in a variable called `gestures`."
   ]
  },
  {
   "cell_type": "code",
   "execution_count": 2,
   "metadata": {},
   "outputs": [
    {
     "data": {
      "text/plain": [
       "['rock', 'paper', 'scissors']"
      ]
     },
     "execution_count": 2,
     "metadata": {},
     "output_type": "execute_result"
    }
   ],
   "source": [
    "gestures = ['rock', 'paper', 'scissors']\n",
    "gestures"
   ]
  },
  {
   "cell_type": "markdown",
   "metadata": {},
   "source": [
    "#### 3. Create a variable called `n_rounds` to store the maximum number of rounds to play in a game. \n",
    "Remember that the number of rounds must be odd: 1, 3, 5, ..."
   ]
  },
  {
   "cell_type": "code",
   "execution_count": 3,
   "metadata": {},
   "outputs": [],
   "source": [
    "n_round = 9"
   ]
  },
  {
   "cell_type": "markdown",
   "metadata": {},
   "source": [
    "#### 4. Create a variable called `rounds_to_win` to store the number of rounds that a player must win to win the game.\n",
    "**Hint**: the value stored in `rounds_to_win` depends on the value of `n_rounds`. "
   ]
  },
  {
   "cell_type": "code",
   "execution_count": 4,
   "metadata": {},
   "outputs": [],
   "source": [
    "rounds_to_win = 5"
   ]
  },
  {
   "cell_type": "markdown",
   "metadata": {},
   "source": [
    "#### 5. Create two variables to store the number of rounds that the computer and the player have won. Call these variables `cpu_score` and `player_score`."
   ]
  },
  {
   "cell_type": "code",
   "execution_count": 5,
   "metadata": {},
   "outputs": [],
   "source": [
    "cpu_score = 0\n",
    "player_score = 0"
   ]
  },
  {
   "cell_type": "markdown",
   "metadata": {},
   "source": [
    "#### 6. Define a function that randomly returns one of the 3 gesture options.\n",
    "You will use this function to simulate the gesture choice of the computer. "
   ]
  },
  {
   "cell_type": "code",
   "execution_count": 6,
   "metadata": {},
   "outputs": [],
   "source": [
    "def cpu_move():\n",
    "    gestures = ['rock', 'paper', 'scissors']\n",
    "    cpu_result = random.choice(gestures)\n",
    "    return(cpu_result)"
   ]
  },
  {
   "cell_type": "code",
   "execution_count": 7,
   "metadata": {},
   "outputs": [
    {
     "data": {
      "text/plain": [
       "'scissors'"
      ]
     },
     "execution_count": 7,
     "metadata": {},
     "output_type": "execute_result"
    }
   ],
   "source": [
    "cpu_move()"
   ]
  },
  {
   "cell_type": "markdown",
   "metadata": {},
   "source": [
    "#### 7. Define a function that asks the player which is the gesture he or she wants to show: 'rock', 'paper' or 'scissors'.\n",
    "The player should only be allowed to choose one of the 3 gesture options. If the player's choice is not rock, paper or scissors, keep asking until it is."
   ]
  },
  {
   "cell_type": "code",
   "execution_count": 8,
   "metadata": {},
   "outputs": [],
   "source": [
    "def player_move():\n",
    "    my_move = input(\"\")\n",
    "    return(my_move)"
   ]
  },
  {
   "cell_type": "code",
   "execution_count": 9,
   "metadata": {},
   "outputs": [],
   "source": [
    "#a = cpu_move()\n",
    "#b = player_move()"
   ]
  },
  {
   "cell_type": "markdown",
   "metadata": {},
   "source": [
    "#### 8. Define a function that checks who won a round. \n",
    "The function should return 0 if there is a tie, 1 if the computer wins and 2 if the player wins."
   ]
  },
  {
   "cell_type": "markdown",
   "metadata": {},
   "source": [
    "#### 9. Define a function that prints the choice of the computer, the choice of the player and a message that announces who won the current round. \n",
    "You should also use this function to update the variables that count the number of rounds that the computer and the player have won. The score of the winner increases by one point. If there is a tie, the score does not increase."
   ]
  },
  {
   "cell_type": "raw",
   "metadata": {},
   "source": [
    "#### 10. Now it's time to code the execution of the game using the functions and variables you defined above. \n",
    "\n",
    "First, create a loop structure that repeats while no player reaches the minimum score necessary to win and the number of rounds is less than the maximum number of rounds to play in a game.  \n",
    "\n",
    "Inside the loop, use the functions and variables above to create the execution of a round: ask for the player's choice, generate the random choice of the computer, show the round results, update the scores, etc. "
   ]
  },
  {
   "cell_type": "code",
   "execution_count": 10,
   "metadata": {},
   "outputs": [],
   "source": [
    "def matchPlay(x, y):\n",
    "    \n",
    "    ## define local variables\n",
    "    current_round = 0 \n",
    "    cpu_score = 0\n",
    "    player_score = 0\n",
    "    max_round = 10\n",
    "    \n",
    "    ## define numner of rounds\n",
    "    for rounds in range (0, max_round):\n",
    "        \n",
    "        ## define condition to run the match\n",
    "        if (current_round <= max_round) and (player_score < 3) and (cpu_score < 3):\n",
    "\n",
    "            my_attack = player_move()\n",
    "            cpu_attack = cpu_move()\n",
    "\n",
    "            ## Define the winner \n",
    "            if my_attack == cpu_attack: \n",
    "                winner = 'EVEN' \n",
    "            elif my_attack == 'scissors' and cpu_attack =='paper': \n",
    "                winner = 'PLAYER'\n",
    "            elif my_attack == 'scissors' and cpu_attack == 'rock':\n",
    "                winner = 'CPU'\n",
    "            elif my_attack == 'paper' and cpu_attack == 'rock': \n",
    "                winner = 'PLAYER' \n",
    "            elif my_attack == 'paper' and cpu_attack =='scissors': \n",
    "                winner = 'CPU'\n",
    "            elif my_attack == 'rock' and cpu_attack == 'scissors':\n",
    "                winner = 'PLAYER'\n",
    "            elif my_attack == 'rock' and cpu_attack == 'paper': \n",
    "                winner = 'CPU'    \n",
    "            else: \n",
    "                winner = 'ERROR'\n",
    "                \n",
    "            ## Assing score to the winner    \n",
    "            if winner == 'PLAYER': \n",
    "                player_score += 1\n",
    "            elif winner == 'CPU': \n",
    "                cpu_score += 1 \n",
    "            \n",
    "            current_round += 1\n",
    "   \n",
    "            print(f\" ME: {my_attack}\\n CPU: {cpu_attack}\\n WINNER = {winner}\")\n",
    "            print(f\"Round = {current_round}\\n player_score = {player_score},\\n cpu_score = {cpu_score}\\n **************\")\n",
    "\n",
    "        ## finish the game\n",
    "        if player_score == 3: \n",
    "            print(colored(\"PLAYER WINS\", attrs=['bold']))\n",
    "            break\n",
    "        elif cpu_score == 3:\n",
    "            print(colored(\"CPU WINS\", attrs=['bold']))\n",
    "            break\n",
    "        elif max_round == 1 and player_score < 3 and cpu_score < 3:\n",
    "            print(colored(\"EVEN\", attrs=['bold']))\n"
   ]
  },
  {
   "cell_type": "raw",
   "metadata": {},
   "source": [
    "#### 11. Print the winner of the game based on who won more rounds.\n",
    "Remember that the game might be tied. "
   ]
  },
  {
   "cell_type": "markdown",
   "metadata": {},
   "source": [
    "# Bonus: Rock, Paper, Scissors, Lizard & Spock\n",
    "![](images/rpsls.jpg)\n",
    "\n",
    "In this challenge, you need to improve the previous game by adding two new options. To know more about the rules of the improved version of rock, paper, scissors, check this [link](http://www.samkass.com/theories/RPSSL.html). \n",
    "\n",
    "In addition, you will also need to improve how the game interacts with the player: the number of rounds to play, which must be an odd number, will be requested to the user until a valid number is entered. Define a new function to make that request.\n",
    "\n",
    "**Hint**: Try to reuse the code that you already coded in the previous challenge. If your code is efficient, this bonus will only consist of simple modifications to the original game."
   ]
  },
  {
   "cell_type": "code",
   "execution_count": null,
   "metadata": {},
   "outputs": [],
   "source": [
    "def cpu_move2():\n",
    "    gestures = ['rock', 'paper', 'scissors', 'lizard', 'spock']\n",
    "    cpu_result = random.choice(gestures)\n",
    "    return(cpu_result)"
   ]
  },
  {
   "cell_type": "code",
   "execution_count": null,
   "metadata": {},
   "outputs": [],
   "source": [
    "def player_move2():\n",
    "    my_move = input(\"Your move: \")\n",
    "    return(my_move)"
   ]
  },
  {
   "cell_type": "code",
   "execution_count": null,
   "metadata": {},
   "outputs": [],
   "source": [
    "def numRounds():\n",
    "    num = int(input(\"Number of rounds:\"))  \n",
    "    boolean = True \n",
    "    while True:\n",
    "        if (num%2) == 0:\n",
    "            num = int(input(\"Number of rounds:\"))  \n",
    "        else: \n",
    "            break\n",
    "    return num"
   ]
  },
  {
   "cell_type": "code",
   "execution_count": null,
   "metadata": {},
   "outputs": [],
   "source": [
    "type(numRounds())"
   ]
  },
  {
   "cell_type": "code",
   "execution_count": null,
   "metadata": {},
   "outputs": [],
   "source": [
    "def matchPlay2():\n",
    "    \n",
    "    ## define local variables\n",
    "    current_round = 0 \n",
    "    cpu_score = 0\n",
    "    player_score = 0\n",
    "    max_round = numRounds()\n",
    "    \n",
    "    ## define numner of rounds\n",
    "    for rounds in range (0, max_round):\n",
    "        \n",
    "        ## define condition to run the match\n",
    "        if (current_round <= max_round) and (player_score < 3) and (cpu_score < 3):\n",
    "\n",
    "            my_attack = player_move2()\n",
    "            cpu_attack = cpu_move2()\n",
    "\n",
    "            ## Define the winner \n",
    "            if my_attack == cpu_attack: \n",
    "                winner = 'EVEN' \n",
    "            elif my_attack == 'scissors' and (cpu_attack =='paper' or cpu_attack == 'lizard'): \n",
    "                winner = 'PLAYER'\n",
    "            elif my_attack == 'scissors' and (cpu_attack == 'rock' or cpu_attack == 'spock'):\n",
    "                winner = 'CPU'\n",
    "            elif my_attack == 'paper' and (cpu_attack =='rock' or cpu_attack == 'spock'): \n",
    "                winner = 'PLAYER'\n",
    "            elif my_attack == 'paper' and (cpu_attack == 'lizard' or cpu_attack == 'scissors'):\n",
    "                winner = 'CPU'\n",
    "            elif my_attack == 'rock' and (cpu_attack =='scissors' or cpu_attack == 'lizard'): \n",
    "                winner = 'PLAYER'\n",
    "            elif my_attack == 'rock' and (cpu_attack == 'spock' or cpu_attack == 'paper'):\n",
    "                winner = 'CPU'                \n",
    "            elif my_attack == 'spock' and (cpu_attack =='scissors' or cpu_attack == 'rock'): \n",
    "                winner = 'PLAYER'\n",
    "            elif my_attack == 'spock' and (cpu_attack == 'paper' or cpu_attack == 'lizard'):\n",
    "                winner = 'CPU'\n",
    "            elif my_attack == 'lizard' and (cpu_attack =='paper' or cpu_attack == 'spock'): \n",
    "                winner = 'PLAYER'\n",
    "            elif my_attack == 'lizard' and (cpu_attack == 'scissors' or cpu_attack == 'rock'):\n",
    "                winner = 'CPU'            \n",
    "            else: \n",
    "                winner = 'ERROR'\n",
    "                \n",
    "            ## Assing score to the winner    \n",
    "            if winner == 'PLAYER': \n",
    "                player_score += 1\n",
    "            elif winner == 'CPU': \n",
    "                cpu_score += 1 \n",
    "            \n",
    "            current_round += 1\n",
    "   \n",
    "            print(f\" ME: {my_attack}\\n CPU: {cpu_attack}\\n WINNER = {winner}\")\n",
    "            print(f\"Round = {current_round}\\n player_score = {player_score},\\n cpu_score = {cpu_score}\\n **************\")\n",
    "\n",
    "        if player_score == 3: \n",
    "            print(colored(\"PLAYER WINS\", attrs=['bold']))\n",
    "            break\n",
    "        elif cpu_score == 3:\n",
    "            print(colored(\"CPU WINS\", attrs=['bold']))\n",
    "            break\n",
    "        elif max_round == 1 and player_score < 3 and cpu_score < 3:\n",
    "            print(colored(\"EVEN\", attrs=['bold']))\n"
   ]
  },
  {
   "cell_type": "code",
   "execution_count": null,
   "metadata": {},
   "outputs": [],
   "source": []
  },
  {
   "cell_type": "code",
   "execution_count": null,
   "metadata": {},
   "outputs": [],
   "source": [
    "matchPlay2()"
   ]
  },
  {
   "cell_type": "raw",
   "metadata": {},
   "source": []
  }
 ],
 "metadata": {
  "kernelspec": {
   "display_name": "Python 3 (ipykernel)",
   "language": "python",
   "name": "python3"
  },
  "language_info": {
   "codemirror_mode": {
    "name": "ipython",
    "version": 3
   },
   "file_extension": ".py",
   "mimetype": "text/x-python",
   "name": "python",
   "nbconvert_exporter": "python",
   "pygments_lexer": "ipython3",
   "version": "3.9.12"
  }
 },
 "nbformat": 4,
 "nbformat_minor": 2
}
