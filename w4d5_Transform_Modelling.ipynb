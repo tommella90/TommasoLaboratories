{
 "cells": [
  {
   "cell_type": "markdown",
   "id": "bac3f378",
   "metadata": {
    "pycharm": {
     "name": "#%% md\n"
    }
   },
   "source": [
    "# LAB - WEEK 4, DAY2 "
   ]
  },
  {
   "cell_type": "markdown",
   "id": "25160fc9",
   "metadata": {
    "pycharm": {
     "name": "#%% md\n"
    }
   },
   "source": [
    "### 1) check if there are highly correlated features and drop them if there are any.\n"
   ]
  },
  {
   "cell_type": "code",
   "execution_count": 9,
   "id": "df4a851f",
   "metadata": {
    "pycharm": {
     "name": "#%%\n"
    }
   },
   "outputs": [],
   "source": [
    "import pandas as pd \n",
    "import numpy as np \n",
    "import os\n",
    "import seaborn as sns\n",
    "import matplotlib.pyplot as plt\n",
    "import math"
   ]
  },
  {
   "cell_type": "code",
   "execution_count": 10,
   "id": "486caf09",
   "metadata": {
    "pycharm": {
     "name": "#%%\n"
    }
   },
   "outputs": [
    {
     "data": {
      "text/html": [
       "<div>\n",
       "<style scoped>\n",
       "    .dataframe tbody tr th:only-of-type {\n",
       "        vertical-align: middle;\n",
       "    }\n",
       "\n",
       "    .dataframe tbody tr th {\n",
       "        vertical-align: top;\n",
       "    }\n",
       "\n",
       "    .dataframe thead th {\n",
       "        text-align: right;\n",
       "    }\n",
       "</style>\n",
       "<table border=\"1\" class=\"dataframe\">\n",
       "  <thead>\n",
       "    <tr style=\"text-align: right;\">\n",
       "      <th></th>\n",
       "      <th>region</th>\n",
       "      <th>customer_lifetime_value</th>\n",
       "      <th>response</th>\n",
       "      <th>coverage</th>\n",
       "      <th>education</th>\n",
       "      <th>effective_to_date</th>\n",
       "      <th>month</th>\n",
       "      <th>employment_status</th>\n",
       "      <th>gender</th>\n",
       "      <th>income</th>\n",
       "      <th>...</th>\n",
       "      <th>months_since_policy_inception</th>\n",
       "      <th>number_of_open_complaints</th>\n",
       "      <th>number_of_policies</th>\n",
       "      <th>policy_type</th>\n",
       "      <th>policy</th>\n",
       "      <th>renew_offer_type</th>\n",
       "      <th>sales_channel</th>\n",
       "      <th>total_claim_amount</th>\n",
       "      <th>vehicle_class</th>\n",
       "      <th>vehicle_size</th>\n",
       "    </tr>\n",
       "  </thead>\n",
       "  <tbody>\n",
       "    <tr>\n",
       "      <th>0</th>\n",
       "      <td>central</td>\n",
       "      <td>4809</td>\n",
       "      <td>no</td>\n",
       "      <td>basic</td>\n",
       "      <td>college</td>\n",
       "      <td>2/18/11</td>\n",
       "      <td>feb</td>\n",
       "      <td>employed</td>\n",
       "      <td>m</td>\n",
       "      <td>48029</td>\n",
       "      <td>...</td>\n",
       "      <td>52</td>\n",
       "      <td>0</td>\n",
       "      <td>9</td>\n",
       "      <td>corporate auto</td>\n",
       "      <td>corporate l3</td>\n",
       "      <td>offer3</td>\n",
       "      <td>agent</td>\n",
       "      <td>292</td>\n",
       "      <td>four-door car</td>\n",
       "      <td>medsize</td>\n",
       "    </tr>\n",
       "    <tr>\n",
       "      <th>1</th>\n",
       "      <td>west region</td>\n",
       "      <td>2228</td>\n",
       "      <td>no</td>\n",
       "      <td>basic</td>\n",
       "      <td>college</td>\n",
       "      <td>1/18/11</td>\n",
       "      <td>jan</td>\n",
       "      <td>unemployed</td>\n",
       "      <td>f</td>\n",
       "      <td>26794</td>\n",
       "      <td>...</td>\n",
       "      <td>26</td>\n",
       "      <td>0</td>\n",
       "      <td>1</td>\n",
       "      <td>personal auto</td>\n",
       "      <td>personal l3</td>\n",
       "      <td>offer4</td>\n",
       "      <td>call center</td>\n",
       "      <td>744</td>\n",
       "      <td>four-door car</td>\n",
       "      <td>medsize</td>\n",
       "    </tr>\n",
       "    <tr>\n",
       "      <th>2</th>\n",
       "      <td>east</td>\n",
       "      <td>14947</td>\n",
       "      <td>no</td>\n",
       "      <td>basic</td>\n",
       "      <td>bachelor</td>\n",
       "      <td>2/10/11</td>\n",
       "      <td>feb</td>\n",
       "      <td>employed</td>\n",
       "      <td>m</td>\n",
       "      <td>22139</td>\n",
       "      <td>...</td>\n",
       "      <td>31</td>\n",
       "      <td>0</td>\n",
       "      <td>2</td>\n",
       "      <td>personal auto</td>\n",
       "      <td>personal l3</td>\n",
       "      <td>offer3</td>\n",
       "      <td>call center</td>\n",
       "      <td>480</td>\n",
       "      <td>suv</td>\n",
       "      <td>medsize</td>\n",
       "    </tr>\n",
       "    <tr>\n",
       "      <th>3</th>\n",
       "      <td>north west</td>\n",
       "      <td>22332</td>\n",
       "      <td>yes</td>\n",
       "      <td>extended</td>\n",
       "      <td>college</td>\n",
       "      <td>1/11/11</td>\n",
       "      <td>jan</td>\n",
       "      <td>employed</td>\n",
       "      <td>m</td>\n",
       "      <td>49078</td>\n",
       "      <td>...</td>\n",
       "      <td>3</td>\n",
       "      <td>0</td>\n",
       "      <td>2</td>\n",
       "      <td>corporate auto</td>\n",
       "      <td>corporate l3</td>\n",
       "      <td>offer2</td>\n",
       "      <td>branch</td>\n",
       "      <td>484</td>\n",
       "      <td>four-door car</td>\n",
       "      <td>medsize</td>\n",
       "    </tr>\n",
       "    <tr>\n",
       "      <th>4</th>\n",
       "      <td>north west</td>\n",
       "      <td>9025</td>\n",
       "      <td>no</td>\n",
       "      <td>premium</td>\n",
       "      <td>bachelor</td>\n",
       "      <td>1/17/11</td>\n",
       "      <td>jan</td>\n",
       "      <td>medical leave</td>\n",
       "      <td>f</td>\n",
       "      <td>23675</td>\n",
       "      <td>...</td>\n",
       "      <td>31</td>\n",
       "      <td>1</td>\n",
       "      <td>7</td>\n",
       "      <td>personal auto</td>\n",
       "      <td>personal l2</td>\n",
       "      <td>offer1</td>\n",
       "      <td>branch</td>\n",
       "      <td>707</td>\n",
       "      <td>four-door car</td>\n",
       "      <td>medsize</td>\n",
       "    </tr>\n",
       "    <tr>\n",
       "      <th>...</th>\n",
       "      <td>...</td>\n",
       "      <td>...</td>\n",
       "      <td>...</td>\n",
       "      <td>...</td>\n",
       "      <td>...</td>\n",
       "      <td>...</td>\n",
       "      <td>...</td>\n",
       "      <td>...</td>\n",
       "      <td>...</td>\n",
       "      <td>...</td>\n",
       "      <td>...</td>\n",
       "      <td>...</td>\n",
       "      <td>...</td>\n",
       "      <td>...</td>\n",
       "      <td>...</td>\n",
       "      <td>...</td>\n",
       "      <td>...</td>\n",
       "      <td>...</td>\n",
       "      <td>...</td>\n",
       "      <td>...</td>\n",
       "      <td>...</td>\n",
       "    </tr>\n",
       "    <tr>\n",
       "      <th>10684</th>\n",
       "      <td>central</td>\n",
       "      <td>15563</td>\n",
       "      <td>no</td>\n",
       "      <td>premium</td>\n",
       "      <td>bachelor</td>\n",
       "      <td>1/19/11</td>\n",
       "      <td>jan</td>\n",
       "      <td>unemployed</td>\n",
       "      <td>f</td>\n",
       "      <td>64811</td>\n",
       "      <td>...</td>\n",
       "      <td>40</td>\n",
       "      <td>2</td>\n",
       "      <td>7</td>\n",
       "      <td>personal auto</td>\n",
       "      <td>personal l1</td>\n",
       "      <td>offer3</td>\n",
       "      <td>web</td>\n",
       "      <td>1214</td>\n",
       "      <td>luxury car</td>\n",
       "      <td>medsize</td>\n",
       "    </tr>\n",
       "    <tr>\n",
       "      <th>10685</th>\n",
       "      <td>north west</td>\n",
       "      <td>5259</td>\n",
       "      <td>no</td>\n",
       "      <td>basic</td>\n",
       "      <td>college</td>\n",
       "      <td>1/6/11</td>\n",
       "      <td>jan</td>\n",
       "      <td>employed</td>\n",
       "      <td>f</td>\n",
       "      <td>61146</td>\n",
       "      <td>...</td>\n",
       "      <td>68</td>\n",
       "      <td>0</td>\n",
       "      <td>6</td>\n",
       "      <td>personal auto</td>\n",
       "      <td>personal l3</td>\n",
       "      <td>offer2</td>\n",
       "      <td>branch</td>\n",
       "      <td>273</td>\n",
       "      <td>four-door car</td>\n",
       "      <td>medsize</td>\n",
       "    </tr>\n",
       "    <tr>\n",
       "      <th>10686</th>\n",
       "      <td>central</td>\n",
       "      <td>23893</td>\n",
       "      <td>no</td>\n",
       "      <td>extended</td>\n",
       "      <td>bachelor</td>\n",
       "      <td>2/6/11</td>\n",
       "      <td>feb</td>\n",
       "      <td>employed</td>\n",
       "      <td>f</td>\n",
       "      <td>39837</td>\n",
       "      <td>...</td>\n",
       "      <td>63</td>\n",
       "      <td>0</td>\n",
       "      <td>2</td>\n",
       "      <td>corporate auto</td>\n",
       "      <td>corporate l3</td>\n",
       "      <td>offer1</td>\n",
       "      <td>web</td>\n",
       "      <td>381</td>\n",
       "      <td>luxury suv</td>\n",
       "      <td>medsize</td>\n",
       "    </tr>\n",
       "    <tr>\n",
       "      <th>10687</th>\n",
       "      <td>west region</td>\n",
       "      <td>11971</td>\n",
       "      <td>no</td>\n",
       "      <td>premium</td>\n",
       "      <td>college</td>\n",
       "      <td>2/13/11</td>\n",
       "      <td>feb</td>\n",
       "      <td>employed</td>\n",
       "      <td>f</td>\n",
       "      <td>64195</td>\n",
       "      <td>...</td>\n",
       "      <td>27</td>\n",
       "      <td>4</td>\n",
       "      <td>6</td>\n",
       "      <td>personal auto</td>\n",
       "      <td>personal l1</td>\n",
       "      <td>offer1</td>\n",
       "      <td>branch</td>\n",
       "      <td>618</td>\n",
       "      <td>suv</td>\n",
       "      <td>medsize</td>\n",
       "    </tr>\n",
       "    <tr>\n",
       "      <th>10688</th>\n",
       "      <td>west region</td>\n",
       "      <td>6857</td>\n",
       "      <td>no</td>\n",
       "      <td>basic</td>\n",
       "      <td>bachelor</td>\n",
       "      <td>1/8/11</td>\n",
       "      <td>jan</td>\n",
       "      <td>unemployed</td>\n",
       "      <td>m</td>\n",
       "      <td>88784</td>\n",
       "      <td>...</td>\n",
       "      <td>1</td>\n",
       "      <td>0</td>\n",
       "      <td>3</td>\n",
       "      <td>personal auto</td>\n",
       "      <td>personal l1</td>\n",
       "      <td>offer4</td>\n",
       "      <td>web</td>\n",
       "      <td>1021</td>\n",
       "      <td>suv</td>\n",
       "      <td>medsize</td>\n",
       "    </tr>\n",
       "  </tbody>\n",
       "</table>\n",
       "<p>10689 rows × 24 columns</p>\n",
       "</div>"
      ],
      "text/plain": [
       "            region  customer_lifetime_value response  coverage education  \\\n",
       "0          central                     4809       no     basic   college   \n",
       "1      west region                     2228       no     basic   college   \n",
       "2             east                    14947       no     basic  bachelor   \n",
       "3       north west                    22332      yes  extended   college   \n",
       "4       north west                     9025       no   premium  bachelor   \n",
       "...            ...                      ...      ...       ...       ...   \n",
       "10684      central                    15563       no   premium  bachelor   \n",
       "10685   north west                     5259       no     basic   college   \n",
       "10686      central                    23893       no  extended  bachelor   \n",
       "10687  west region                    11971       no   premium   college   \n",
       "10688  west region                     6857       no     basic  bachelor   \n",
       "\n",
       "      effective_to_date month employment_status gender  income  ...  \\\n",
       "0               2/18/11   feb          employed      m   48029  ...   \n",
       "1               1/18/11   jan        unemployed      f   26794  ...   \n",
       "2               2/10/11   feb          employed      m   22139  ...   \n",
       "3               1/11/11   jan          employed      m   49078  ...   \n",
       "4               1/17/11   jan     medical leave      f   23675  ...   \n",
       "...                 ...   ...               ...    ...     ...  ...   \n",
       "10684           1/19/11   jan        unemployed      f   64811  ...   \n",
       "10685            1/6/11   jan          employed      f   61146  ...   \n",
       "10686            2/6/11   feb          employed      f   39837  ...   \n",
       "10687           2/13/11   feb          employed      f   64195  ...   \n",
       "10688            1/8/11   jan        unemployed      m   88784  ...   \n",
       "\n",
       "      months_since_policy_inception number_of_open_complaints  \\\n",
       "0                                52                         0   \n",
       "1                                26                         0   \n",
       "2                                31                         0   \n",
       "3                                 3                         0   \n",
       "4                                31                         1   \n",
       "...                             ...                       ...   \n",
       "10684                            40                         2   \n",
       "10685                            68                         0   \n",
       "10686                            63                         0   \n",
       "10687                            27                         4   \n",
       "10688                             1                         0   \n",
       "\n",
       "       number_of_policies     policy_type        policy  renew_offer_type  \\\n",
       "0                       9  corporate auto  corporate l3            offer3   \n",
       "1                       1   personal auto   personal l3            offer4   \n",
       "2                       2   personal auto   personal l3            offer3   \n",
       "3                       2  corporate auto  corporate l3            offer2   \n",
       "4                       7   personal auto   personal l2            offer1   \n",
       "...                   ...             ...           ...               ...   \n",
       "10684                   7   personal auto   personal l1            offer3   \n",
       "10685                   6   personal auto   personal l3            offer2   \n",
       "10686                   2  corporate auto  corporate l3            offer1   \n",
       "10687                   6   personal auto   personal l1            offer1   \n",
       "10688                   3   personal auto   personal l1            offer4   \n",
       "\n",
       "       sales_channel total_claim_amount  vehicle_class vehicle_size  \n",
       "0              agent                292  four-door car      medsize  \n",
       "1        call center                744  four-door car      medsize  \n",
       "2        call center                480            suv      medsize  \n",
       "3             branch                484  four-door car      medsize  \n",
       "4             branch                707  four-door car      medsize  \n",
       "...              ...                ...            ...          ...  \n",
       "10684            web               1214     luxury car      medsize  \n",
       "10685         branch                273  four-door car      medsize  \n",
       "10686            web                381     luxury suv      medsize  \n",
       "10687         branch                618            suv      medsize  \n",
       "10688            web               1021            suv      medsize  \n",
       "\n",
       "[10689 rows x 24 columns]"
      ]
     },
     "execution_count": 10,
     "metadata": {},
     "output_type": "execute_result"
    }
   ],
   "source": [
    "#df = pd.read_csv(\"C:/Users/tomma/Documents/data_science/berlin/TommasoLaboratories/data/labs/Data_Marketing_Customer_Analysis_Round3.csv\")\n",
    "df = pd.read_csv(\"C:/Users/tomma/Documents/data_science/berlin/TommasoLaboratories/data/labs/Data_Marketing_Customer_Analysis_Round3.csv\")\n",
    "df = df.iloc[:,1:]\n",
    "df"
   ]
  },
  {
   "cell_type": "code",
   "execution_count": 11,
   "id": "db8601c2",
   "metadata": {
    "pycharm": {
     "name": "#%%\n"
    }
   },
   "outputs": [
    {
     "data": {
      "text/html": [
       "<div>\n",
       "<style scoped>\n",
       "    .dataframe tbody tr th:only-of-type {\n",
       "        vertical-align: middle;\n",
       "    }\n",
       "\n",
       "    .dataframe tbody tr th {\n",
       "        vertical-align: top;\n",
       "    }\n",
       "\n",
       "    .dataframe thead th {\n",
       "        text-align: right;\n",
       "    }\n",
       "</style>\n",
       "<table border=\"1\" class=\"dataframe\">\n",
       "  <thead>\n",
       "    <tr style=\"text-align: right;\">\n",
       "      <th></th>\n",
       "      <th>region</th>\n",
       "      <th>customer_lifetime_value</th>\n",
       "      <th>response</th>\n",
       "      <th>coverage</th>\n",
       "      <th>education</th>\n",
       "      <th>effective_to_date</th>\n",
       "      <th>month</th>\n",
       "      <th>employment_status</th>\n",
       "      <th>gender</th>\n",
       "      <th>income</th>\n",
       "      <th>...</th>\n",
       "      <th>months_since_policy_inception</th>\n",
       "      <th>number_of_open_complaints</th>\n",
       "      <th>number_of_policies</th>\n",
       "      <th>policy_type</th>\n",
       "      <th>policy</th>\n",
       "      <th>renew_offer_type</th>\n",
       "      <th>sales_channel</th>\n",
       "      <th>total_claim_amount</th>\n",
       "      <th>vehicle_class</th>\n",
       "      <th>vehicle_size</th>\n",
       "    </tr>\n",
       "  </thead>\n",
       "  <tbody>\n",
       "    <tr>\n",
       "      <th>0</th>\n",
       "      <td>central</td>\n",
       "      <td>4809</td>\n",
       "      <td>no</td>\n",
       "      <td>basic</td>\n",
       "      <td>college</td>\n",
       "      <td>2/18/11</td>\n",
       "      <td>feb</td>\n",
       "      <td>employed</td>\n",
       "      <td>m</td>\n",
       "      <td>48029</td>\n",
       "      <td>...</td>\n",
       "      <td>52</td>\n",
       "      <td>0</td>\n",
       "      <td>9</td>\n",
       "      <td>corporate auto</td>\n",
       "      <td>corporate l3</td>\n",
       "      <td>offer3</td>\n",
       "      <td>agent</td>\n",
       "      <td>292</td>\n",
       "      <td>four-door car</td>\n",
       "      <td>medsize</td>\n",
       "    </tr>\n",
       "    <tr>\n",
       "      <th>1</th>\n",
       "      <td>west region</td>\n",
       "      <td>2228</td>\n",
       "      <td>no</td>\n",
       "      <td>basic</td>\n",
       "      <td>college</td>\n",
       "      <td>1/18/11</td>\n",
       "      <td>jan</td>\n",
       "      <td>unemployed</td>\n",
       "      <td>f</td>\n",
       "      <td>26794</td>\n",
       "      <td>...</td>\n",
       "      <td>26</td>\n",
       "      <td>0</td>\n",
       "      <td>1</td>\n",
       "      <td>personal auto</td>\n",
       "      <td>personal l3</td>\n",
       "      <td>offer4</td>\n",
       "      <td>call center</td>\n",
       "      <td>744</td>\n",
       "      <td>four-door car</td>\n",
       "      <td>medsize</td>\n",
       "    </tr>\n",
       "    <tr>\n",
       "      <th>2</th>\n",
       "      <td>east</td>\n",
       "      <td>14947</td>\n",
       "      <td>no</td>\n",
       "      <td>basic</td>\n",
       "      <td>bachelor</td>\n",
       "      <td>2/10/11</td>\n",
       "      <td>feb</td>\n",
       "      <td>employed</td>\n",
       "      <td>m</td>\n",
       "      <td>22139</td>\n",
       "      <td>...</td>\n",
       "      <td>31</td>\n",
       "      <td>0</td>\n",
       "      <td>2</td>\n",
       "      <td>personal auto</td>\n",
       "      <td>personal l3</td>\n",
       "      <td>offer3</td>\n",
       "      <td>call center</td>\n",
       "      <td>480</td>\n",
       "      <td>suv</td>\n",
       "      <td>medsize</td>\n",
       "    </tr>\n",
       "    <tr>\n",
       "      <th>3</th>\n",
       "      <td>north west</td>\n",
       "      <td>22332</td>\n",
       "      <td>yes</td>\n",
       "      <td>extended</td>\n",
       "      <td>college</td>\n",
       "      <td>1/11/11</td>\n",
       "      <td>jan</td>\n",
       "      <td>employed</td>\n",
       "      <td>m</td>\n",
       "      <td>49078</td>\n",
       "      <td>...</td>\n",
       "      <td>3</td>\n",
       "      <td>0</td>\n",
       "      <td>2</td>\n",
       "      <td>corporate auto</td>\n",
       "      <td>corporate l3</td>\n",
       "      <td>offer2</td>\n",
       "      <td>branch</td>\n",
       "      <td>484</td>\n",
       "      <td>four-door car</td>\n",
       "      <td>medsize</td>\n",
       "    </tr>\n",
       "    <tr>\n",
       "      <th>4</th>\n",
       "      <td>north west</td>\n",
       "      <td>9025</td>\n",
       "      <td>no</td>\n",
       "      <td>premium</td>\n",
       "      <td>bachelor</td>\n",
       "      <td>1/17/11</td>\n",
       "      <td>jan</td>\n",
       "      <td>medical leave</td>\n",
       "      <td>f</td>\n",
       "      <td>23675</td>\n",
       "      <td>...</td>\n",
       "      <td>31</td>\n",
       "      <td>1</td>\n",
       "      <td>7</td>\n",
       "      <td>personal auto</td>\n",
       "      <td>personal l2</td>\n",
       "      <td>offer1</td>\n",
       "      <td>branch</td>\n",
       "      <td>707</td>\n",
       "      <td>four-door car</td>\n",
       "      <td>medsize</td>\n",
       "    </tr>\n",
       "  </tbody>\n",
       "</table>\n",
       "<p>5 rows × 24 columns</p>\n",
       "</div>"
      ],
      "text/plain": [
       "        region  customer_lifetime_value response  coverage education  \\\n",
       "0      central                     4809       no     basic   college   \n",
       "1  west region                     2228       no     basic   college   \n",
       "2         east                    14947       no     basic  bachelor   \n",
       "3   north west                    22332      yes  extended   college   \n",
       "4   north west                     9025       no   premium  bachelor   \n",
       "\n",
       "  effective_to_date month employment_status gender  income  ...  \\\n",
       "0           2/18/11   feb          employed      m   48029  ...   \n",
       "1           1/18/11   jan        unemployed      f   26794  ...   \n",
       "2           2/10/11   feb          employed      m   22139  ...   \n",
       "3           1/11/11   jan          employed      m   49078  ...   \n",
       "4           1/17/11   jan     medical leave      f   23675  ...   \n",
       "\n",
       "  months_since_policy_inception number_of_open_complaints  number_of_policies  \\\n",
       "0                            52                         0                   9   \n",
       "1                            26                         0                   1   \n",
       "2                            31                         0                   2   \n",
       "3                             3                         0                   2   \n",
       "4                            31                         1                   7   \n",
       "\n",
       "      policy_type        policy  renew_offer_type  sales_channel  \\\n",
       "0  corporate auto  corporate l3            offer3          agent   \n",
       "1   personal auto   personal l3            offer4    call center   \n",
       "2   personal auto   personal l3            offer3    call center   \n",
       "3  corporate auto  corporate l3            offer2         branch   \n",
       "4   personal auto   personal l2            offer1         branch   \n",
       "\n",
       "  total_claim_amount  vehicle_class vehicle_size  \n",
       "0                292  four-door car      medsize  \n",
       "1                744  four-door car      medsize  \n",
       "2                480            suv      medsize  \n",
       "3                484  four-door car      medsize  \n",
       "4                707  four-door car      medsize  \n",
       "\n",
       "[5 rows x 24 columns]"
      ]
     },
     "execution_count": 11,
     "metadata": {},
     "output_type": "execute_result"
    }
   ],
   "source": [
    "df.head(5)"
   ]
  },
  {
   "cell_type": "code",
   "execution_count": 12,
   "id": "561346c4",
   "metadata": {
    "pycharm": {
     "name": "#%%\n"
    }
   },
   "outputs": [
    {
     "data": {
      "text/plain": [
       "<AxesSubplot:>"
      ]
     },
     "execution_count": 12,
     "metadata": {},
     "output_type": "execute_result"
    },
    {
     "data": {
      "image/png": "[encoded data removed]",
      "text/plain": [
       "<Figure size 432x288 with 2 Axes>"
      ]
     },
     "metadata": {
      "needs_background": "light"
     },
     "output_type": "display_data"
    }
   ],
   "source": [
    "#fig = plt.figure(figsize=(8,6))\n",
    "sns.heatmap(df.corr(), cmap='vlag', square=True, annot=True)"
   ]
  },
  {
   "cell_type": "markdown",
   "id": "d059e8a5",
   "metadata": {
    "pycharm": {
     "name": "#%% md\n"
    }
   },
   "source": [
    "## 2) One Hot/Label Encoding of the categorical variables in the categoricals data frame that you created in Activity 4. ( Hint: check Dropfirst option).\n"
   ]
  },
  {
   "cell_type": "code",
   "execution_count": 13,
   "id": "6ef0ba2d",
   "metadata": {
    "pycharm": {
     "name": "#%%\n"
    }
   },
   "outputs": [
    {
     "data": {
      "text/html": [
       "<div>\n",
       "<style scoped>\n",
       "    .dataframe tbody tr th:only-of-type {\n",
       "        vertical-align: middle;\n",
       "    }\n",
       "\n",
       "    .dataframe tbody tr th {\n",
       "        vertical-align: top;\n",
       "    }\n",
       "\n",
       "    .dataframe thead th {\n",
       "        text-align: right;\n",
       "    }\n",
       "</style>\n",
       "<table border=\"1\" class=\"dataframe\">\n",
       "  <thead>\n",
       "    <tr style=\"text-align: right;\">\n",
       "      <th></th>\n",
       "      <th>region</th>\n",
       "      <th>customer_lifetime_value</th>\n",
       "      <th>response</th>\n",
       "      <th>coverage</th>\n",
       "      <th>education</th>\n",
       "      <th>month</th>\n",
       "      <th>employment_status</th>\n",
       "      <th>gender</th>\n",
       "      <th>income</th>\n",
       "      <th>location_code</th>\n",
       "      <th>...</th>\n",
       "      <th>months_since_policy_inception</th>\n",
       "      <th>number_of_open_complaints</th>\n",
       "      <th>number_of_policies</th>\n",
       "      <th>policy_type</th>\n",
       "      <th>policy</th>\n",
       "      <th>renew_offer_type</th>\n",
       "      <th>sales_channel</th>\n",
       "      <th>total_claim_amount</th>\n",
       "      <th>vehicle_class</th>\n",
       "      <th>vehicle_size</th>\n",
       "    </tr>\n",
       "  </thead>\n",
       "  <tbody>\n",
       "    <tr>\n",
       "      <th>0</th>\n",
       "      <td>central</td>\n",
       "      <td>4809</td>\n",
       "      <td>no</td>\n",
       "      <td>basic</td>\n",
       "      <td>college</td>\n",
       "      <td>feb</td>\n",
       "      <td>employed</td>\n",
       "      <td>m</td>\n",
       "      <td>48029</td>\n",
       "      <td>suburban</td>\n",
       "      <td>...</td>\n",
       "      <td>52</td>\n",
       "      <td>0</td>\n",
       "      <td>9</td>\n",
       "      <td>corporate auto</td>\n",
       "      <td>corporate l3</td>\n",
       "      <td>offer3</td>\n",
       "      <td>agent</td>\n",
       "      <td>292</td>\n",
       "      <td>four-door car</td>\n",
       "      <td>medsize</td>\n",
       "    </tr>\n",
       "    <tr>\n",
       "      <th>1</th>\n",
       "      <td>west region</td>\n",
       "      <td>2228</td>\n",
       "      <td>no</td>\n",
       "      <td>basic</td>\n",
       "      <td>college</td>\n",
       "      <td>jan</td>\n",
       "      <td>unemployed</td>\n",
       "      <td>f</td>\n",
       "      <td>26794</td>\n",
       "      <td>suburban</td>\n",
       "      <td>...</td>\n",
       "      <td>26</td>\n",
       "      <td>0</td>\n",
       "      <td>1</td>\n",
       "      <td>personal auto</td>\n",
       "      <td>personal l3</td>\n",
       "      <td>offer4</td>\n",
       "      <td>call center</td>\n",
       "      <td>744</td>\n",
       "      <td>four-door car</td>\n",
       "      <td>medsize</td>\n",
       "    </tr>\n",
       "  </tbody>\n",
       "</table>\n",
       "<p>2 rows × 23 columns</p>\n",
       "</div>"
      ],
      "text/plain": [
       "        region  customer_lifetime_value response coverage education month  \\\n",
       "0      central                     4809       no    basic   college   feb   \n",
       "1  west region                     2228       no    basic   college   jan   \n",
       "\n",
       "  employment_status gender  income location_code  ...  \\\n",
       "0          employed      m   48029      suburban  ...   \n",
       "1        unemployed      f   26794      suburban  ...   \n",
       "\n",
       "  months_since_policy_inception  number_of_open_complaints  \\\n",
       "0                            52                          0   \n",
       "1                            26                          0   \n",
       "\n",
       "   number_of_policies     policy_type        policy  renew_offer_type  \\\n",
       "0                   9  corporate auto  corporate l3            offer3   \n",
       "1                   1   personal auto   personal l3            offer4   \n",
       "\n",
       "  sales_channel total_claim_amount  vehicle_class vehicle_size  \n",
       "0         agent                292  four-door car      medsize  \n",
       "1   call center                744  four-door car      medsize  \n",
       "\n",
       "[2 rows x 23 columns]"
      ]
     },
     "execution_count": 13,
     "metadata": {},
     "output_type": "execute_result"
    }
   ],
   "source": [
    "df = df.drop(['effective_to_date'],axis=1)\n",
    "df.head(2)"
   ]
  },
  {
   "cell_type": "code",
   "execution_count": 14,
   "id": "b2ae1da2",
   "metadata": {
    "pycharm": {
     "name": "#%%\n"
    }
   },
   "outputs": [
    {
     "data": {
      "text/html": [
       "<div>\n",
       "<style scoped>\n",
       "    .dataframe tbody tr th:only-of-type {\n",
       "        vertical-align: middle;\n",
       "    }\n",
       "\n",
       "    .dataframe tbody tr th {\n",
       "        vertical-align: top;\n",
       "    }\n",
       "\n",
       "    .dataframe thead th {\n",
       "        text-align: right;\n",
       "    }\n",
       "</style>\n",
       "<table border=\"1\" class=\"dataframe\">\n",
       "  <thead>\n",
       "    <tr style=\"text-align: right;\">\n",
       "      <th></th>\n",
       "      <th>customer_lifetime_value</th>\n",
       "      <th>income</th>\n",
       "      <th>monthly_premium_auto</th>\n",
       "      <th>months_since_last_claim</th>\n",
       "      <th>months_since_policy_inception</th>\n",
       "      <th>number_of_open_complaints</th>\n",
       "      <th>number_of_policies</th>\n",
       "      <th>total_claim_amount</th>\n",
       "      <th>region_east</th>\n",
       "      <th>region_north west</th>\n",
       "      <th>...</th>\n",
       "      <th>sales_channel_branch</th>\n",
       "      <th>sales_channel_call center</th>\n",
       "      <th>sales_channel_web</th>\n",
       "      <th>vehicle_class_luxury car</th>\n",
       "      <th>vehicle_class_luxury suv</th>\n",
       "      <th>vehicle_class_sports car</th>\n",
       "      <th>vehicle_class_suv</th>\n",
       "      <th>vehicle_class_two-door car</th>\n",
       "      <th>vehicle_size_medsize</th>\n",
       "      <th>vehicle_size_small</th>\n",
       "    </tr>\n",
       "  </thead>\n",
       "  <tbody>\n",
       "    <tr>\n",
       "      <th>0</th>\n",
       "      <td>4809</td>\n",
       "      <td>48029</td>\n",
       "      <td>61</td>\n",
       "      <td>7</td>\n",
       "      <td>52</td>\n",
       "      <td>0</td>\n",
       "      <td>9</td>\n",
       "      <td>292</td>\n",
       "      <td>0</td>\n",
       "      <td>0</td>\n",
       "      <td>...</td>\n",
       "      <td>0</td>\n",
       "      <td>0</td>\n",
       "      <td>0</td>\n",
       "      <td>0</td>\n",
       "      <td>0</td>\n",
       "      <td>0</td>\n",
       "      <td>0</td>\n",
       "      <td>0</td>\n",
       "      <td>1</td>\n",
       "      <td>0</td>\n",
       "    </tr>\n",
       "    <tr>\n",
       "      <th>1</th>\n",
       "      <td>2228</td>\n",
       "      <td>26794</td>\n",
       "      <td>64</td>\n",
       "      <td>3</td>\n",
       "      <td>26</td>\n",
       "      <td>0</td>\n",
       "      <td>1</td>\n",
       "      <td>744</td>\n",
       "      <td>0</td>\n",
       "      <td>0</td>\n",
       "      <td>...</td>\n",
       "      <td>0</td>\n",
       "      <td>1</td>\n",
       "      <td>0</td>\n",
       "      <td>0</td>\n",
       "      <td>0</td>\n",
       "      <td>0</td>\n",
       "      <td>0</td>\n",
       "      <td>0</td>\n",
       "      <td>1</td>\n",
       "      <td>0</td>\n",
       "    </tr>\n",
       "    <tr>\n",
       "      <th>2</th>\n",
       "      <td>14947</td>\n",
       "      <td>22139</td>\n",
       "      <td>100</td>\n",
       "      <td>34</td>\n",
       "      <td>31</td>\n",
       "      <td>0</td>\n",
       "      <td>2</td>\n",
       "      <td>480</td>\n",
       "      <td>1</td>\n",
       "      <td>0</td>\n",
       "      <td>...</td>\n",
       "      <td>0</td>\n",
       "      <td>1</td>\n",
       "      <td>0</td>\n",
       "      <td>0</td>\n",
       "      <td>0</td>\n",
       "      <td>0</td>\n",
       "      <td>1</td>\n",
       "      <td>0</td>\n",
       "      <td>1</td>\n",
       "      <td>0</td>\n",
       "    </tr>\n",
       "  </tbody>\n",
       "</table>\n",
       "<p>3 rows × 51 columns</p>\n",
       "</div>"
      ],
      "text/plain": [
       "   customer_lifetime_value  income  monthly_premium_auto  \\\n",
       "0                     4809   48029                    61   \n",
       "1                     2228   26794                    64   \n",
       "2                    14947   22139                   100   \n",
       "\n",
       "   months_since_last_claim  months_since_policy_inception  \\\n",
       "0                        7                             52   \n",
       "1                        3                             26   \n",
       "2                       34                             31   \n",
       "\n",
       "   number_of_open_complaints  number_of_policies  total_claim_amount  \\\n",
       "0                          0                   9                 292   \n",
       "1                          0                   1                 744   \n",
       "2                          0                   2                 480   \n",
       "\n",
       "   region_east  region_north west  ...  sales_channel_branch  \\\n",
       "0            0                  0  ...                     0   \n",
       "1            0                  0  ...                     0   \n",
       "2            1                  0  ...                     0   \n",
       "\n",
       "   sales_channel_call center  sales_channel_web  vehicle_class_luxury car  \\\n",
       "0                          0                  0                         0   \n",
       "1                          1                  0                         0   \n",
       "2                          1                  0                         0   \n",
       "\n",
       "   vehicle_class_luxury suv  vehicle_class_sports car  vehicle_class_suv  \\\n",
       "0                         0                         0                  0   \n",
       "1                         0                         0                  0   \n",
       "2                         0                         0                  1   \n",
       "\n",
       "   vehicle_class_two-door car  vehicle_size_medsize  vehicle_size_small  \n",
       "0                           0                     1                   0  \n",
       "1                           0                     1                   0  \n",
       "2                           0                     1                   0  \n",
       "\n",
       "[3 rows x 51 columns]"
      ]
     },
     "execution_count": 14,
     "metadata": {},
     "output_type": "execute_result"
    }
   ],
   "source": [
    "df = pd.get_dummies(df, prefix_sep='_', drop_first=True)\n",
    "df.head(3)"
   ]
  },
  {
   "cell_type": "markdown",
   "id": "9100e860",
   "metadata": {
    "pycharm": {
     "name": "#%% md\n"
    }
   },
   "source": [
    "## 3) Display outliers"
   ]
  },
  {
   "cell_type": "code",
   "execution_count": 15,
   "id": "a542481b",
   "metadata": {
    "pycharm": {
     "name": "#%%\n"
    }
   },
   "outputs": [],
   "source": [
    "## only numerical \n",
    "df_num = df.iloc[:,1:].select_dtypes(np.number)"
   ]
  },
  {
   "cell_type": "code",
   "execution_count": 16,
   "id": "5e37fccb",
   "metadata": {
    "pycharm": {
     "name": "#%%\n"
    }
   },
   "outputs": [
    {
     "data": {
      "text/plain": [
       "Text(0.5, 1.0, 'hist')"
      ]
     },
     "execution_count": 16,
     "metadata": {},
     "output_type": "execute_result"
    },
    {
     "data": {
      "image/png": "[encoded data removed]",
      "text/plain": [
       "<Figure size 576x288 with 2 Axes>"
      ]
     },
     "metadata": {
      "needs_background": "light"
     },
     "output_type": "display_data"
    }
   ],
   "source": [
    "## visualize outliers \n",
    "fig, ax = plt.subplots(4,2, figsize = (8,4))\n",
    "plt.subplot(1,2,1)\n",
    "plt.boxplot(df_num['total_claim_amount'], widths=.5)\n",
    "plt.title('boxplot')\n",
    "plt.subplot(1,2,2)\n",
    "plt.hist(df_num['total_claim_amount'], color = '#398f29', edgecolor = 'white', bins = 100)\n",
    "plt.title('hist')"
   ]
  },
  {
   "cell_type": "code",
   "execution_count": 17,
   "id": "d39fc195",
   "metadata": {
    "pycharm": {
     "name": "#%%\n"
    }
   },
   "outputs": [],
   "source": [
    "## define a function to find outliers\n",
    "def removeOutliers(df, col, limit):\n",
    "    p1 = limit\n",
    "    p2 = 1-limit\n",
    "    outliers = col.between(col.quantile(p1), col.quantile(p2))\n",
    "    df = df.loc[outliers]\n",
    "    return df\n",
    "\n",
    "## define a function to find outliers\n",
    "def removeHighOutliers(df, col, limit):\n",
    "    p1 = 1-limit\n",
    "    outliers = col.between(0, col.quantile(p1))\n",
    "    df = df.loc[outliers]\n",
    "    return df"
   ]
  },
  {
   "cell_type": "code",
   "execution_count": 18,
   "id": "6e4f7be7",
   "metadata": {
    "pycharm": {
     "name": "#%%\n"
    }
   },
   "outputs": [],
   "source": [
    "## define a function to find outliers \n",
    "def findOutiliers(col):\n",
    "    ''' Split the column in 3 categories: within 45% around the mean, 5% extremes \n",
    "    above and below''' \n",
    "    percentiles = col.describe([.05,.95])\n",
    "    col = ['low_outliers' if x<percentiles['5%'] \n",
    "           else 'normal' if (x>=percentiles['5%'] and x<percentiles['95%'])\n",
    "           else 'high_outliers' for x in col]\n",
    "    return col"
   ]
  },
  {
   "cell_type": "code",
   "execution_count": 19,
   "id": "f55e7385",
   "metadata": {
    "pycharm": {
     "name": "#%%\n"
    }
   },
   "outputs": [],
   "source": [
    "#df_num['outliers'] = findOutiliers(df_num['total_claim_amount'])\n",
    "#df_num['outliers'].unique()\n",
    "\n",
    "## subset the df to drop outliers \n",
    "#df_num = df_num.where((df_num['outliers']!=\"high_outliers\") & (df_num['outliers']!=\"low_outliers\"))\n",
    "#df_num = df_num.dropna(subset=['outliers'])"
   ]
  },
  {
   "cell_type": "markdown",
   "id": "f01af42f",
   "metadata": {
    "pycharm": {
     "name": "#%% md\n"
    }
   },
   "source": [
    "### CHECK OUTLIERS"
   ]
  },
  {
   "cell_type": "code",
   "execution_count": 20,
   "id": "34de8484",
   "metadata": {
    "pycharm": {
     "name": "#%%\n"
    }
   },
   "outputs": [
    {
     "name": "stderr",
     "output_type": "stream",
     "text": [
      "C:\\Users\\tomma\\AppData\\Local\\Temp\\ipykernel_14544\\3292730521.py:4: DeprecationWarning: `np.object` is a deprecated alias for the builtin `object`. To silence this warning, use `object` by itself. Doing this will not modify any behavior and is safe. \n",
      "Deprecated in NumPy 1.20; for more details and guidance: https://numpy.org/devdocs/release/1.20.0-notes.html#deprecations\n",
      "  df_cat = df.iloc[:,1:].select_dtypes(np.object)\n"
     ]
    }
   ],
   "source": [
    "## reload the df\n",
    "df = pd.read_csv(\"C:/Users/tomma/Documents/data_science/berlin/TommasoLaboratories/data/labs/Data_Marketing_Customer_Analysis_Round3.csv\")\n",
    "df_num = df.iloc[:,1:].select_dtypes(np.number)\n",
    "df_cat = df.iloc[:,1:].select_dtypes(np.object)"
   ]
  },
  {
   "cell_type": "code",
   "execution_count": 21,
   "id": "f832e175",
   "metadata": {
    "pycharm": {
     "name": "#%%\n"
    },
    "scrolled": true
   },
   "outputs": [
    {
     "data": {
      "image/png": "[encoded data removed]",
      "text/plain": [
       "<Figure size 576x864 with 9 Axes>"
      ]
     },
     "metadata": {
      "needs_background": "light"
     },
     "output_type": "display_data"
    }
   ],
   "source": [
    "## check other vars \n",
    "fig, ax = plt.subplots(3,3, figsize = (8,12))\n",
    "\n",
    "for i in range(1,9):\n",
    "    plt.subplot(3,3,i)\n",
    "    plt.boxplot(df_num.iloc[:,i-1])\n",
    "    plt.title(f'{df_num.columns[i-1].upper()}')\n",
    "fig.subplots_adjust(hspace=1)\n"
   ]
  },
  {
   "cell_type": "markdown",
   "id": "e70c999c",
   "metadata": {
    "pycharm": {
     "name": "#%% md\n"
    }
   },
   "source": [
    "### 3b) X-y split (y is the target variable which is the total claim amount)\n"
   ]
  },
  {
   "cell_type": "code",
   "execution_count": 22,
   "id": "23772096",
   "metadata": {
    "pycharm": {
     "name": "#%%\n"
    }
   },
   "outputs": [],
   "source": [
    "#to_clean = df_num[[\"total_claim_amount\", \"customer_lifetime_value\", \"monthly_premium_auto\"]]"
   ]
  },
  {
   "cell_type": "code",
   "execution_count": 23,
   "id": "c69cf33d",
   "metadata": {
    "pycharm": {
     "name": "#%%\n"
    }
   },
   "outputs": [
    {
     "name": "stdout",
     "output_type": "stream",
     "text": [
      "10689\n",
      "10154\n",
      "9696\n",
      "9495\n"
     ]
    }
   ],
   "source": [
    "print(len(df_num))\n",
    "df_num_clean = removeHighOutliers(df_num, df_num[\"total_claim_amount\"], 0.05)\n",
    "print(len(df_num_clean))\n",
    "df_num_clean = removeHighOutliers(df_num_clean, df_num[\"customer_lifetime_value\"], 0.05)\n",
    "print(len(df_num_clean))\n",
    "df_num_clean = removeHighOutliers(df_num_clean, df_num[\"monthly_premium_auto\"], 0.05)\n",
    "print(len(df_num_clean))\n"
   ]
  },
  {
   "cell_type": "markdown",
   "id": "a1bbfd98",
   "metadata": {
    "pycharm": {
     "name": "#%% md\n"
    }
   },
   "source": [
    "## MODELING "
   ]
  },
  {
   "cell_type": "code",
   "execution_count": 24,
   "id": "5068b272",
   "metadata": {
    "pycharm": {
     "name": "#%%\n"
    }
   },
   "outputs": [],
   "source": [
    "import sklearn.preprocessing\n",
    "import sklearn.model_selection\n",
    "import sklearn.model_selection \n",
    "from sklearn.model_selection import train_test_split\n",
    "from sklearn.preprocessing import StandardScaler\n",
    "from sklearn.linear_model import LinearRegression\n",
    "import statsmodels.api as sm\n",
    "from scipy.stats import boxcox"
   ]
  },
  {
   "cell_type": "markdown",
   "id": "c7506e0f",
   "metadata": {
    "pycharm": {
     "name": "#%% md\n"
    }
   },
   "source": [
    "### Create general functions"
   ]
  },
  {
   "cell_type": "code",
   "execution_count": 25,
   "id": "a146c5e4",
   "metadata": {},
   "outputs": [],
   "source": [
    "### LINEAR REGRESSION \n",
    "def LinearRegression(x,y):\n",
    "    ## split data in test and trian\n",
    "    names = x.columns\n",
    "    x_tr, x_ts, y_tr, y_ts = train_test_split(x, y, test_size=.30,random_state=123)\n",
    "    std_scaler = StandardScaler().fit(x_tr)\n",
    "    \n",
    "    ## scale the data\n",
    "    x_tr_z = std_scaler.transform(x_tr)\n",
    "    x_ts_z = std_scaler.transform(x_ts)\n",
    "    x_tr_z = sm.add_constant(x_tr_z)\n",
    "    \n",
    "    ## apply the model and get results\n",
    "    ols = sm.OLS(y_tr, x_tr_z).fit()\n",
    "    results = ols.summary()\n",
    "    return results\n",
    "\n",
    "\n",
    "def GetY(x,y):\n",
    "    ## split data in test and trian\n",
    "    x_tr, x_ts, y_tr, y_ts= train_test_split(x, y, test_size=.30,random_state=123)\n",
    "    std_scaler = StandardScaler().fit(x_tr)\n",
    "    \n",
    "    ## scale the data\n",
    "    x_tr_z = std_scaler.transform(x_tr)\n",
    "    x_ts_z = std_scaler.transform(x_ts)\n",
    "    ols = sm.OLS(y_tr, x_tr_z).fit()\n",
    "    y_pred = ols.predict(x_ts_z)\n",
    "    return y_pred, y_ts\n",
    "\n",
    "def PlotModels(y_pred,y_ts):\n",
    "    ## plot x train and x train scaled \n",
    "    diff = y_pred - y_ts\n",
    "    fig, ax = plt.subplots(1,3, figsize = (12,4))\n",
    "    ax[0].set_title('Errors distrib.', fontsize=15)\n",
    "    ax[0].hist(diff, bins = 100)\n",
    "    ax[1].set_title('y test / y pred', fontsize=15)\n",
    "    ax[1].scatter(y_pred, y_ts)\n",
    "    ax[2].set_title('y test / y pred / mean', fontsize=15)\n",
    "    ax[2].plot(y_pred,y_ts - y_pred, \"o\") \n",
    "    print(f\"MEAN= {y_ts.mean()}\")\n",
    "    #plt.plot(y_pred,np.zeros(len(y_pred)),linestyle='dashed')\n",
    "    ax[2].axhline(y=y_ts.mean(), color='r')\n",
    "\n",
    "\n",
    "### GET RESULTS FROM LINEAR REGRESSION\n",
    "def TableResults(result):\n",
    "    ## get the results from LinearRegression and format them in a table\n",
    "    table_results = pd.DataFrame(result.tables[1])\n",
    "    list_col = ['ind_var', 'coef', 'std_err', 't_val', 'p_val', 'low_ci', 'high_ci']\n",
    "    for num in range(0,len(table_results.columns)): \n",
    "        table_results.rename(columns={table_results.columns[num]: f\"{list_col[num]}\" }, inplace = True)\n",
    "    table_results = table_results.iloc[1:,:]\n",
    "    #table_results['obs'] = ols.nobs\n",
    "    table_results.rename(columns={\"P>|t|\" : \"p_val\", \"[0.025\": \"low_ci\", \"0.975]\": \"high_ci\"}, inplace=True)\n",
    "    table_results = table_results.set_index(table_results.columns[0])\n",
    "    #table_results = table_results.astype(float)\n",
    "    table_results = round(table_results, 3)\n",
    "    table_results.index = names\n",
    "    return table_results\n",
    "\n",
    "\n",
    "### GET RESULTS \n",
    "def TableResults2(result):\n",
    "    table_results = pd.DataFrame(result.tables[0].data)\n",
    "    table_results = table_results.iloc[:,2:4].T\n",
    "    table_results.columns = table_results.iloc[0]\n",
    "    table_results = table_results.iloc[1:,]\n",
    "    return table_results  \n",
    "\n",
    "\n",
    "### GET R SQUARED\n",
    "def GetR2(result):\n",
    "    table_results = pd.DataFrame(result.tables[0].data)\n",
    "    table_results = table_results.iloc[:,2:4].T\n",
    "    table_results.columns = table_results.iloc[0]\n",
    "    table_results = table_results.iloc[1,0:1]\n",
    "    return table_results  \n",
    "\n",
    "\n",
    "### GET ONLY COEFFICIENTS\n",
    "def GetCoeff(result):\n",
    "    ## get the results from LinearRegression and format them in a table\n",
    "    table_results = pd.DataFrame(result.tables[1])\n",
    "    list_col = ['ind_var', 'coef', 'std_err', 't_val', 'p_val', 'low_ci', 'high_ci']\n",
    "    for num in range(0,len(table_results.columns)): \n",
    "        table_results.rename(columns={table_results.columns[num]: f\"{list_col[num]}\" }, inplace = True)\n",
    "    table_results = table_results.iloc[1:,:]\n",
    "    #table_results['obs'] = ols.nobs\n",
    "    table_results.rename(columns={\"P>|t|\" : \"p_val\", \"[0.025\": \"low_ci\", \"0.975]\": \"high_ci\"}, inplace=True)\n",
    "    table_results = table_results.set_index(table_results.columns[0])\n",
    "    #table_results = table_results.astype(float)\n",
    "    table_results = round(table_results, 3)\n",
    "    table_results = table_results.iloc[1:, 0:2]\n",
    "    return table_results"
   ]
  },
  {
   "cell_type": "code",
   "execution_count": 26,
   "id": "a548568c",
   "metadata": {},
   "outputs": [
    {
     "name": "stdout",
     "output_type": "stream",
     "text": [
      "10689\n",
      "9495\n"
     ]
    }
   ],
   "source": [
    "print(len(df_num))\n",
    "print(len(df_num_clean))"
   ]
  },
  {
   "cell_type": "markdown",
   "id": "85492bb3",
   "metadata": {},
   "source": [
    "### A) DIRTY DATASET"
   ]
  },
  {
   "cell_type": "code",
   "execution_count": 27,
   "id": "3dd9bde7",
   "metadata": {},
   "outputs": [
    {
     "name": "stdout",
     "output_type": "stream",
     "text": [
      "10689\n"
     ]
    },
    {
     "ename": "NameError",
     "evalue": "name 'y_ts' is not defined",
     "output_type": "error",
     "traceback": [
      "\u001b[1;31m---------------------------------------------------------------------------\u001b[0m",
      "\u001b[1;31mNameError\u001b[0m                                 Traceback (most recent call last)",
      "Input \u001b[1;32mIn [27]\u001b[0m, in \u001b[0;36m<cell line: 13>\u001b[1;34m()\u001b[0m\n\u001b[0;32m     10\u001b[0m coeff1\u001b[38;5;241m.\u001b[39msort_values(by\u001b[38;5;241m=\u001b[39m[\u001b[38;5;124m'\u001b[39m\u001b[38;5;124mcoef\u001b[39m\u001b[38;5;124m'\u001b[39m],ascending\u001b[38;5;241m=\u001b[39m\u001b[38;5;28;01mFalse\u001b[39;00m, inplace\u001b[38;5;241m=\u001b[39m\u001b[38;5;28;01mTrue\u001b[39;00m)\n\u001b[0;32m     12\u001b[0m r2_1 \u001b[38;5;241m=\u001b[39m GetR2(res1)\n\u001b[1;32m---> 13\u001b[0m mse1 \u001b[38;5;241m=\u001b[39m ((\u001b[43my_ts\u001b[49m \u001b[38;5;241m-\u001b[39m y_pred)\u001b[38;5;241m*\u001b[39m(y_ts \u001b[38;5;241m-\u001b[39m y_pred)\u001b[38;5;241m/\u001b[39m\u001b[38;5;28mlen\u001b[39m(y_ts))\n\u001b[0;32m     14\u001b[0m mse1 \u001b[38;5;241m=\u001b[39m ((((y_ts \u001b[38;5;241m-\u001b[39m y_pred)\u001b[38;5;241m*\u001b[39m(y_ts \u001b[38;5;241m-\u001b[39m y_pred))\u001b[38;5;241m.\u001b[39msum())\u001b[38;5;241m/\u001b[39m\u001b[38;5;28mlen\u001b[39m(y_ts))\n\u001b[0;32m     15\u001b[0m rmse1 \u001b[38;5;241m=\u001b[39m math\u001b[38;5;241m.\u001b[39msqrt(mse1)\n",
      "\u001b[1;31mNameError\u001b[0m: name 'y_ts' is not defined"
     ]
    }
   ],
   "source": [
    "x = df_num.drop('total_claim_amount', axis=1)\n",
    "y = df_num.total_claim_amount\n",
    "\n",
    "print(len(x))\n",
    "res1 = LinearRegression(x,y)\n",
    "coeff1 = GetCoeff(res1)\n",
    "coeff1.index = x.columns\n",
    "coeff1 = pd.DataFrame(coeff1).applymap(str).applymap(float)\n",
    "coeff1['coef'] = abs(coeff1['coef'])\n",
    "coeff1.sort_values(by=['coef'],ascending=False, inplace=True)\n",
    "\n",
    "r2_1 = GetR2(res1)\n",
    "mse1 = ((y_ts - y_pred)*(y_ts - y_pred)/len(y_ts))\n",
    "mse1 = ((((y_ts - y_pred)*(y_ts - y_pred)).sum())/len(y_ts))\n",
    "rmse1 = math.sqrt(mse1)\n",
    "\n",
    "y_pred, y_ts = GetY(x,y)\n",
    "PlotModels(y_pred, y_ts)"
   ]
  },
  {
   "cell_type": "markdown",
   "id": "e782453d",
   "metadata": {},
   "source": [
    "### B) CLEANED DATASET"
   ]
  },
  {
   "cell_type": "code",
   "execution_count": 28,
   "id": "d61b98ba",
   "metadata": {},
   "outputs": [
    {
     "name": "stdout",
     "output_type": "stream",
     "text": [
      "9495\n"
     ]
    },
    {
     "ename": "NameError",
     "evalue": "name 'y_ts' is not defined",
     "output_type": "error",
     "traceback": [
      "\u001b[1;31m---------------------------------------------------------------------------\u001b[0m",
      "\u001b[1;31mNameError\u001b[0m                                 Traceback (most recent call last)",
      "Input \u001b[1;32mIn [28]\u001b[0m, in \u001b[0;36m<cell line: 13>\u001b[1;34m()\u001b[0m\n\u001b[0;32m     10\u001b[0m coeff2\u001b[38;5;241m.\u001b[39msort_values(by\u001b[38;5;241m=\u001b[39m[\u001b[38;5;124m'\u001b[39m\u001b[38;5;124mcoef\u001b[39m\u001b[38;5;124m'\u001b[39m],ascending\u001b[38;5;241m=\u001b[39m\u001b[38;5;28;01mFalse\u001b[39;00m, inplace\u001b[38;5;241m=\u001b[39m\u001b[38;5;28;01mTrue\u001b[39;00m)\n\u001b[0;32m     12\u001b[0m r2_2 \u001b[38;5;241m=\u001b[39m GetR2(res2)\n\u001b[1;32m---> 13\u001b[0m mse2 \u001b[38;5;241m=\u001b[39m ((\u001b[43my_ts\u001b[49m \u001b[38;5;241m-\u001b[39m y_pred)\u001b[38;5;241m*\u001b[39m(y_ts \u001b[38;5;241m-\u001b[39m y_pred)\u001b[38;5;241m/\u001b[39m\u001b[38;5;28mlen\u001b[39m(y_ts))\n\u001b[0;32m     14\u001b[0m mse2 \u001b[38;5;241m=\u001b[39m ((((y_ts \u001b[38;5;241m-\u001b[39m y_pred)\u001b[38;5;241m*\u001b[39m(y_ts \u001b[38;5;241m-\u001b[39m y_pred))\u001b[38;5;241m.\u001b[39msum())\u001b[38;5;241m/\u001b[39m\u001b[38;5;28mlen\u001b[39m(y_ts))\n\u001b[0;32m     15\u001b[0m rmse2 \u001b[38;5;241m=\u001b[39m math\u001b[38;5;241m.\u001b[39msqrt(mse2)\n",
      "\u001b[1;31mNameError\u001b[0m: name 'y_ts' is not defined"
     ]
    }
   ],
   "source": [
    "x = df_num_clean.drop('total_claim_amount', axis=1)\n",
    "y = df_num_clean.total_claim_amount\n",
    "print(len(x))\n",
    "\n",
    "res2 = LinearRegression(x,y)\n",
    "coeff2 = GetCoeff(res2)\n",
    "coeff2.index = x.columns\n",
    "coeff2 = pd.DataFrame(coeff2).applymap(str).applymap(float)\n",
    "coeff2['coef'] = abs(coeff2['coef'])\n",
    "coeff2.sort_values(by=['coef'],ascending=False, inplace=True)\n",
    "\n",
    "r2_2 = GetR2(res2)\n",
    "mse2 = ((y_ts - y_pred)*(y_ts - y_pred)/len(y_ts))\n",
    "mse2 = ((((y_ts - y_pred)*(y_ts - y_pred)).sum())/len(y_ts))\n",
    "rmse2 = math.sqrt(mse2)\n",
    "\n",
    "print(r2_2, mse2)\n",
    "\n",
    "y_pred, y_ts = GetY(x,y)\n",
    "PlotModels(y_pred, y_ts)"
   ]
  },
  {
   "cell_type": "code",
   "execution_count": null,
   "id": "c5269a2d",
   "metadata": {},
   "outputs": [],
   "source": [
    "print(mse1, mse2)"
   ]
  },
  {
   "cell_type": "markdown",
   "id": "f913c88c",
   "metadata": {},
   "source": [
    "### C) ADD CAT. VARS"
   ]
  },
  {
   "cell_type": "code",
   "execution_count": null,
   "id": "e91f4791",
   "metadata": {},
   "outputs": [],
   "source": [
    "from sklearn import preprocessing\n",
    "lab_encoder = preprocessing.LabelEncoder()\n",
    "df_cat.columns\n",
    "encode = lambda x: lab_encoder.fit_transform(x)\n",
    "df_cat = df_cat.apply(encode)\n",
    "df_cat.head(3)\n",
    "\n",
    "df_all = df_num_clean.merge(df_cat, left_index=True, right_index=True)"
   ]
  },
  {
   "cell_type": "code",
   "execution_count": null,
   "id": "1468180c",
   "metadata": {},
   "outputs": [],
   "source": [
    "x = df_all.drop('total_claim_amount', axis=1)\n",
    "y = df_all.total_claim_amount\n",
    "\n",
    "res3 = LinearRegression(x,y)\n",
    "coeff3 = GetCoeff(res3)\n",
    "coeff3.index = x.columns\n",
    "coeff3 = pd.DataFrame(coeff3).applymap(str).applymap(float)\n",
    "coeff3['coef'] = abs(coeff3['coef'])\n",
    "coeff3.sort_values(by=['coef'],ascending=False, inplace=True)\n",
    "\n",
    "r2_3 = GetR2(res3)\n",
    "mse3 = ((((y_ts - y_pred)*(y_ts - y_pred)).sum())/len(y_ts))\n",
    "rmse3 = math.sqrt(mse3)\n",
    "\n",
    "y_pred, y_ts = GetY(x,y)\n",
    "PlotModels(y_pred, y_ts)"
   ]
  },
  {
   "cell_type": "code",
   "execution_count": null,
   "id": "5de50401",
   "metadata": {},
   "outputs": [],
   "source": [
    "fig, ax2 = plt.subplots(3, figsize = (4,12))\n",
    "fig.suptitle(\"COEFFICIENTS\", fontsize=16)\n",
    "ax2[0].set_title('With outliers', fontsize=15)\n",
    "ax2[0].barh(coeff1.index, coeff1['coef'], align='center')\n",
    "ax2[1].set_title('Without outliers', fontsize=15)\n",
    "ax2[1].barh(coeff2.index, coeff2['coef'], align='center')\n",
    "ax2[2].set_title('Cat. vars', fontsize=15)\n",
    "ax2[2].barh(coeff3.index, coeff3['coef'], align='center')"
   ]
  },
  {
   "cell_type": "code",
   "execution_count": null,
   "id": "68222ae8",
   "metadata": {},
   "outputs": [],
   "source": [
    "from pandas import DataFrame\n",
    "r_list = [r2_1, r2_2, r2_3]\n",
    "r_df = DataFrame(r_list)\n",
    "#r_df = r_df.T\n",
    "r_df.reset_index(inplace=True, drop=True)\n",
    "r_df.index = ['Model 1', 'Model 2', 'Model 3']\n",
    "r_df.columns = ['r2']\n",
    "r_df.iloc[:,0] = r_df.iloc[:,0].astype(float)\n",
    "\n",
    "mse_list = [mse1, mse2, mse3]\n",
    "mse_df = DataFrame(mse_list)\n",
    "mse_df.reset_index(inplace=True, drop=True)\n",
    "mse_df.index = ['Model 1', 'Model 2', 'Model 3']\n",
    "mse_df.columns = ['mse']\n",
    "mse_df.iloc[:,0] = mse_df.iloc[:,0].astype(float)\n",
    "mse_df"
   ]
  },
  {
   "cell_type": "code",
   "execution_count": null,
   "id": "16066e0b",
   "metadata": {},
   "outputs": [],
   "source": [
    "## PLOT R2\n",
    "fig, ax2 = plt.subplots(1,2, figsize = (12,4))\n",
    "fig.suptitle(\"COEFFICIENTS\", fontsize=16)\n",
    "ax2[0].set_title('R 2', fontsize=15)\n",
    "ax2[0].bar(r_df.index, r_df['r2'])\n",
    "ax2[1].set_title('MSE', fontsize=15)\n",
    "ax2[1].bar(mse_df.index, mse_df['mse'])\n",
    "#ax2[2].set_title('Cat. vars', fontsize=15)\n",
    "#ax2[2].barh(coeff3.index, coeff3['coef'], align='center')\n",
    "\n"
   ]
  },
  {
   "cell_type": "code",
   "execution_count": null,
   "id": "90bdeaef",
   "metadata": {},
   "outputs": [],
   "source": []
  },
  {
   "cell_type": "code",
   "execution_count": null,
   "id": "631ee4f9",
   "metadata": {},
   "outputs": [],
   "source": []
  },
  {
   "cell_type": "code",
   "execution_count": null,
   "id": "99840a13",
   "metadata": {},
   "outputs": [],
   "source": []
  },
  {
   "cell_type": "code",
   "execution_count": null,
   "id": "ae30bba6",
   "metadata": {},
   "outputs": [],
   "source": []
  },
  {
   "cell_type": "code",
   "execution_count": null,
   "id": "05e94486",
   "metadata": {},
   "outputs": [],
   "source": []
  },
  {
   "cell_type": "code",
   "execution_count": null,
   "id": "58560f4a",
   "metadata": {},
   "outputs": [],
   "source": []
  },
  {
   "cell_type": "code",
   "execution_count": null,
   "id": "180df186",
   "metadata": {},
   "outputs": [],
   "source": []
  },
  {
   "cell_type": "code",
   "execution_count": null,
   "id": "9270ffc2",
   "metadata": {},
   "outputs": [],
   "source": []
  },
  {
   "cell_type": "code",
   "execution_count": null,
   "id": "35e6b8a1",
   "metadata": {},
   "outputs": [],
   "source": []
  },
  {
   "cell_type": "code",
   "execution_count": null,
   "id": "faca7765",
   "metadata": {},
   "outputs": [],
   "source": []
  },
  {
   "cell_type": "code",
   "execution_count": null,
   "id": "7b9d7c62",
   "metadata": {},
   "outputs": [],
   "source": []
  },
  {
   "cell_type": "code",
   "execution_count": null,
   "id": "1c41962a",
   "metadata": {},
   "outputs": [],
   "source": []
  },
  {
   "cell_type": "code",
   "execution_count": null,
   "id": "011db84f",
   "metadata": {},
   "outputs": [],
   "source": []
  },
  {
   "cell_type": "code",
   "execution_count": null,
   "id": "082ad2f3",
   "metadata": {},
   "outputs": [],
   "source": []
  },
  {
   "cell_type": "markdown",
   "id": "d3fe5c39",
   "metadata": {},
   "source": [
    "### 2) Standardize the data (after the data split)."
   ]
  },
  {
   "cell_type": "code",
   "execution_count": null,
   "id": "84fefc73",
   "metadata": {
    "pycharm": {
     "name": "#%%\n"
    }
   },
   "outputs": [],
   "source": [
    "std_scaler = StandardScaler().fit(x_tr)"
   ]
  },
  {
   "cell_type": "code",
   "execution_count": null,
   "id": "5dfac453",
   "metadata": {
    "pycharm": {
     "name": "#%%\n"
    }
   },
   "outputs": [],
   "source": [
    "##. finding the parameters ( mean, variance from the training set )\n",
    "x_tr_z = std_scaler.transform(x_tr)\n",
    "x_ts_z = std_scaler.transform(x_ts)\n",
    "#print(x_train_scaled, x_test_scaled)"
   ]
  },
  {
   "cell_type": "code",
   "execution_count": null,
   "id": "e8d7c8a1",
   "metadata": {
    "pycharm": {
     "name": "#%%\n"
    }
   },
   "outputs": [],
   "source": [
    "## plot x train and x train scaled \n",
    "fig, ax = plt.subplots(1,2, figsize = (8,4))\n",
    "plt.subplot(1,2,1)\n",
    "plt.hist(x_tr.iloc[:,0], bins = 100)\n",
    "plt.title('x_train')\n",
    "plt.subplot(1,2,2)\n",
    "plt.hist(x_tr_z[:,0], bins = 100)\n",
    "plt.title('x_train scaled')"
   ]
  },
  {
   "cell_type": "code",
   "execution_count": null,
   "id": "df378d16",
   "metadata": {},
   "outputs": [],
   "source": [
    "## plot test and training\n",
    "print(type(x_ts))\n",
    "print(type(y_ts))\n"
   ]
  },
  {
   "cell_type": "code",
   "execution_count": null,
   "id": "518a76d9",
   "metadata": {},
   "outputs": [],
   "source": [
    "## fit the model -- TRAINING SET\n",
    "x_tr_z = sm.add_constant(x_tr_z)\n",
    "ols = sm.OLS(y_tr, x_tr_z).fit()\n",
    "\n",
    "## print the results\n",
    "results = ols.summary()\n",
    "print(results)"
   ]
  },
  {
   "cell_type": "code",
   "execution_count": null,
   "id": "bcfff577",
   "metadata": {},
   "outputs": [],
   "source": [
    "## predicted values of the test set using the model made on the training set \n",
    "x_ts_z = sm.add_constant(x_ts_z)\n",
    "y_pred = ols.predict(x_ts_z)\n",
    "y_pred"
   ]
  },
  {
   "cell_type": "code",
   "execution_count": null,
   "id": "7d72ccae",
   "metadata": {
    "pycharm": {
     "name": "#%%\n"
    }
   },
   "outputs": [],
   "source": [
    "## fit the model -- TEST SET\n",
    "diff = y_pred - y_ts\n",
    "\n",
    "## plot x train and x train scaled \n",
    "fig, ax = plt.subplots(1,4, figsize = (8,4))\n",
    "plt.subplot(1,2,1)\n",
    "plt.hist(diff, bins = 100)\n",
    "plt.title('HISTOGRAM: y pred - y test')\n",
    "plt.subplot(1,2,2)\n",
    "plt.scatter(y_pred, y_ts)"
   ]
  },
  {
   "cell_type": "code",
   "execution_count": null,
   "id": "0ff2ec46",
   "metadata": {
    "pycharm": {
     "name": "#%%\n"
    }
   },
   "outputs": [],
   "source": [
    "fig, ax = plt.subplots(1, figsize = (8,4))\n",
    "plt.plot(y_pred,y_ts - y_pred, \"o\")\n",
    "plt.plot(y_pred,np.zeros(len(y_pred)),linestyle='dashed')\n",
    "ax.axhline(y=y_pred.mean(), xmin=0.0, xmax=1.0, color='r')\n"
   ]
  },
  {
   "cell_type": "code",
   "execution_count": null,
   "id": "834a76f0",
   "metadata": {},
   "outputs": [],
   "source": [
    "## fit the model -- TEST SET\n",
    "diff = y_pred - y_ts\n",
    "\n",
    "fig, ax2 = plt.subplots(1,3, figsize = (12,4))\n",
    "fig.suptitle(\"COEFFICIENTS\", fontsize=16)\n",
    "ax2[0].set_title('With outliers', fontsize=15)\n",
    "ax2[0].hist(diff, bins = 100)\n",
    "ax2[1].set_title('Without outliers', fontsize=15)\n",
    "ax2[1].scatter(y_pred, y_ts)\n",
    "ax2[2].set_title('Cat. vars', fontsize=15)\n",
    "ax2[2].plot(y_pred,y_ts - y_pred, \"o\")\n",
    "plt.plot(y_pred,np.zeros(len(y_pred)),linestyle='dashed')\n",
    "'''\n",
    "## plot x train and x train scaled \n",
    "fig, ax = plt.subplots(1,3, figsize = (8,4))\n",
    "plt.subplot(1,2,1)\n",
    "plt.hist(diff, bins = 100)\n",
    "plt.title('HISTOGRAM: y pred - y test')\n",
    "plt.subplot(1,2,2)\n",
    "plt.scatter(y_pred, y_ts)\n",
    "plt.subplot(1,2,3)\n",
    "plt.plot(y_pred,y_ts - y_pred, \"o\")\n",
    "'''"
   ]
  },
  {
   "cell_type": "code",
   "execution_count": null,
   "id": "3e62266e",
   "metadata": {},
   "outputs": [],
   "source": [
    "def tableResults(ols_summary):\n",
    "    table_results = pd.DataFrame(ols.summary().tables[1].data)\n",
    "    table_results.columns = table_results.iloc[0]\n",
    "    table_results = table_results.iloc[1:,]\n",
    "    table_results.iloc[0,0]\n",
    "    table_results['obs'] = ols.nobs\n",
    "    table_results.rename(columns={\"P>|t|\" : \"p_val\", \"[0.025\": \"low_ci\", \"0.975]\": \"high_ci\"}, inplace=True)\n",
    "    table_results = table_results.set_index(table_results.columns[0])\n",
    "    table_results = table_results.astype(float)\n",
    "    table_results['errors'] = table_results['coef'] - table_results['low_ci']\n",
    "    table_results = round(table_results, 3)\n",
    "    return table_results"
   ]
  },
  {
   "cell_type": "code",
   "execution_count": null,
   "id": "43253ae9",
   "metadata": {},
   "outputs": [],
   "source": [
    "table = tableResults(ols.summary())\n",
    "table"
   ]
  },
  {
   "cell_type": "code",
   "execution_count": null,
   "id": "e8efceec",
   "metadata": {},
   "outputs": [],
   "source": [
    "def tableResults2(ols_summary):\n",
    "    table_results = pd.DataFrame(ols.summary().tables[0].data)\n",
    "    table_results = table_results.iloc[:,2:4].T\n",
    "    table_results.columns = table_results.iloc[0]\n",
    "    table_results = table_results.iloc[1:,]\n",
    "    return table_results  "
   ]
  },
  {
   "cell_type": "code",
   "execution_count": null,
   "id": "b413cf85",
   "metadata": {},
   "outputs": [],
   "source": [
    "table2 = tableResults2(ols.summary())\n",
    "table2.reset_index(inplace=True, drop=True)\n",
    "table2"
   ]
  },
  {
   "cell_type": "markdown",
   "id": "83175352",
   "metadata": {},
   "source": []
  },
  {
   "cell_type": "code",
   "execution_count": null,
   "id": "23c44355",
   "metadata": {},
   "outputs": [],
   "source": []
  }
 ],
 "metadata": {
  "kernelspec": {
   "display_name": "Python 3 (ipykernel)",
   "language": "python",
   "name": "python3"
  },
  "language_info": {
   "codemirror_mode": {
    "name": "ipython",
    "version": 3
   },
   "file_extension": ".py",
   "mimetype": "text/x-python",
   "name": "python",
   "nbconvert_exporter": "python",
   "pygments_lexer": "ipython3",
   "version": "3.9.12"
  }
 },
 "nbformat": 4,
 "nbformat_minor": 5
}
