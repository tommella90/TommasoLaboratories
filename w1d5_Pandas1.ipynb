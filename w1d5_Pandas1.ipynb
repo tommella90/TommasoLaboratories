{
 "cells": [
  {
   "cell_type": "markdown",
   "metadata": {
    "id": "N1YkD9XI6Fg3"
   },
   "source": [
    "# Using Pandas"
   ]
  },
  {
   "cell_type": "code",
   "execution_count": 1,
   "metadata": {
    "executionInfo": {
     "elapsed": 4,
     "status": "ok",
     "timestamp": 1623140082185,
     "user": {
      "displayName": "Ignacio Soteras",
      "photoUrl": "",
      "userId": "02050793736257155229"
     },
     "user_tz": -120
    },
    "id": "jL4kjGt66Fg5"
   },
   "outputs": [],
   "source": [
    "import pandas as pd\n",
    "import numpy as np \n",
    "pd.set_option('display.max_rows', 200)\n",
    "## to make it possible to display multiple output inside one cell \n",
    "from IPython.core.interactiveshell import InteractiveShell\n",
    "InteractiveShell.ast_node_interactivity = \"all\""
   ]
  },
  {
   "cell_type": "markdown",
   "metadata": {},
   "source": [
    "<b>load the data from the vehicles.csv file into pandas data frame"
   ]
  },
  {
   "cell_type": "code",
   "execution_count": 2,
   "metadata": {
    "executionInfo": {
     "elapsed": 1346,
     "status": "ok",
     "timestamp": 1623140174431,
     "user": {
      "displayName": "Ignacio Soteras",
      "photoUrl": "",
      "userId": "02050793736257155229"
     },
     "user_tz": -120
    },
    "id": "GVHPs2Qa6Fg5"
   },
   "outputs": [
    {
     "data": {
      "text/html": [
       "<div>\n",
       "<style scoped>\n",
       "    .dataframe tbody tr th:only-of-type {\n",
       "        vertical-align: middle;\n",
       "    }\n",
       "\n",
       "    .dataframe tbody tr th {\n",
       "        vertical-align: top;\n",
       "    }\n",
       "\n",
       "    .dataframe thead th {\n",
       "        text-align: right;\n",
       "    }\n",
       "</style>\n",
       "<table border=\"1\" class=\"dataframe\">\n",
       "  <thead>\n",
       "    <tr style=\"text-align: right;\">\n",
       "      <th></th>\n",
       "      <th>Make</th>\n",
       "      <th>Model</th>\n",
       "      <th>Year</th>\n",
       "      <th>Engine Displacement</th>\n",
       "      <th>Cylinders</th>\n",
       "      <th>Transmission</th>\n",
       "      <th>Drivetrain</th>\n",
       "      <th>Vehicle Class</th>\n",
       "      <th>Fuel Type</th>\n",
       "      <th>Fuel Barrels/Year</th>\n",
       "      <th>City MPG</th>\n",
       "      <th>Highway MPG</th>\n",
       "      <th>Combined MPG</th>\n",
       "      <th>CO2 Emission Grams/Mile</th>\n",
       "      <th>Fuel Cost/Year</th>\n",
       "    </tr>\n",
       "  </thead>\n",
       "  <tbody>\n",
       "    <tr>\n",
       "      <th>0</th>\n",
       "      <td>AM General</td>\n",
       "      <td>DJ Po Vehicle 2WD</td>\n",
       "      <td>1984</td>\n",
       "      <td>2.5</td>\n",
       "      <td>4.0</td>\n",
       "      <td>Automatic 3-spd</td>\n",
       "      <td>2-Wheel Drive</td>\n",
       "      <td>Special Purpose Vehicle 2WD</td>\n",
       "      <td>Regular</td>\n",
       "      <td>19.388824</td>\n",
       "      <td>18</td>\n",
       "      <td>17</td>\n",
       "      <td>17</td>\n",
       "      <td>522.764706</td>\n",
       "      <td>1950</td>\n",
       "    </tr>\n",
       "    <tr>\n",
       "      <th>1</th>\n",
       "      <td>AM General</td>\n",
       "      <td>FJ8c Post Office</td>\n",
       "      <td>1984</td>\n",
       "      <td>4.2</td>\n",
       "      <td>6.0</td>\n",
       "      <td>Automatic 3-spd</td>\n",
       "      <td>2-Wheel Drive</td>\n",
       "      <td>Special Purpose Vehicle 2WD</td>\n",
       "      <td>Regular</td>\n",
       "      <td>25.354615</td>\n",
       "      <td>13</td>\n",
       "      <td>13</td>\n",
       "      <td>13</td>\n",
       "      <td>683.615385</td>\n",
       "      <td>2550</td>\n",
       "    </tr>\n",
       "    <tr>\n",
       "      <th>2</th>\n",
       "      <td>AM General</td>\n",
       "      <td>Post Office DJ5 2WD</td>\n",
       "      <td>1985</td>\n",
       "      <td>2.5</td>\n",
       "      <td>4.0</td>\n",
       "      <td>Automatic 3-spd</td>\n",
       "      <td>Rear-Wheel Drive</td>\n",
       "      <td>Special Purpose Vehicle 2WD</td>\n",
       "      <td>Regular</td>\n",
       "      <td>20.600625</td>\n",
       "      <td>16</td>\n",
       "      <td>17</td>\n",
       "      <td>16</td>\n",
       "      <td>555.437500</td>\n",
       "      <td>2100</td>\n",
       "    </tr>\n",
       "    <tr>\n",
       "      <th>3</th>\n",
       "      <td>AM General</td>\n",
       "      <td>Post Office DJ8 2WD</td>\n",
       "      <td>1985</td>\n",
       "      <td>4.2</td>\n",
       "      <td>6.0</td>\n",
       "      <td>Automatic 3-spd</td>\n",
       "      <td>Rear-Wheel Drive</td>\n",
       "      <td>Special Purpose Vehicle 2WD</td>\n",
       "      <td>Regular</td>\n",
       "      <td>25.354615</td>\n",
       "      <td>13</td>\n",
       "      <td>13</td>\n",
       "      <td>13</td>\n",
       "      <td>683.615385</td>\n",
       "      <td>2550</td>\n",
       "    </tr>\n",
       "    <tr>\n",
       "      <th>4</th>\n",
       "      <td>ASC Incorporated</td>\n",
       "      <td>GNX</td>\n",
       "      <td>1987</td>\n",
       "      <td>3.8</td>\n",
       "      <td>6.0</td>\n",
       "      <td>Automatic 4-spd</td>\n",
       "      <td>Rear-Wheel Drive</td>\n",
       "      <td>Midsize Cars</td>\n",
       "      <td>Premium</td>\n",
       "      <td>20.600625</td>\n",
       "      <td>14</td>\n",
       "      <td>21</td>\n",
       "      <td>16</td>\n",
       "      <td>555.437500</td>\n",
       "      <td>2550</td>\n",
       "    </tr>\n",
       "  </tbody>\n",
       "</table>\n",
       "</div>"
      ],
      "text/plain": [
       "               Make                Model  Year  Engine Displacement  \\\n",
       "0        AM General    DJ Po Vehicle 2WD  1984                  2.5   \n",
       "1        AM General     FJ8c Post Office  1984                  4.2   \n",
       "2        AM General  Post Office DJ5 2WD  1985                  2.5   \n",
       "3        AM General  Post Office DJ8 2WD  1985                  4.2   \n",
       "4  ASC Incorporated                  GNX  1987                  3.8   \n",
       "\n",
       "   Cylinders     Transmission        Drivetrain                Vehicle Class  \\\n",
       "0        4.0  Automatic 3-spd     2-Wheel Drive  Special Purpose Vehicle 2WD   \n",
       "1        6.0  Automatic 3-spd     2-Wheel Drive  Special Purpose Vehicle 2WD   \n",
       "2        4.0  Automatic 3-spd  Rear-Wheel Drive  Special Purpose Vehicle 2WD   \n",
       "3        6.0  Automatic 3-spd  Rear-Wheel Drive  Special Purpose Vehicle 2WD   \n",
       "4        6.0  Automatic 4-spd  Rear-Wheel Drive                 Midsize Cars   \n",
       "\n",
       "  Fuel Type  Fuel Barrels/Year  City MPG  Highway MPG  Combined MPG  \\\n",
       "0   Regular          19.388824        18           17            17   \n",
       "1   Regular          25.354615        13           13            13   \n",
       "2   Regular          20.600625        16           17            16   \n",
       "3   Regular          25.354615        13           13            13   \n",
       "4   Premium          20.600625        14           21            16   \n",
       "\n",
       "   CO2 Emission Grams/Mile  Fuel Cost/Year  \n",
       "0               522.764706            1950  \n",
       "1               683.615385            2550  \n",
       "2               555.437500            2100  \n",
       "3               683.615385            2550  \n",
       "4               555.437500            2550  "
      ]
     },
     "execution_count": 2,
     "metadata": {},
     "output_type": "execute_result"
    }
   ],
   "source": [
    "\n",
    "\n",
    "df.head(5)"
   ]
  },
  {
   "cell_type": "markdown",
   "metadata": {
    "id": "Yk72_YtZ6Fg5"
   },
   "source": [
    "First exploration of the dataset:\n",
    "\n",
    "- How many observations does it have?\n",
    "- Look at all the columns: do you understand what they mean?\n",
    "- Look at the raw data: do you see anything weird?\n",
    "- Look at the data types: are they the expected ones for the information the column contains?"
   ]
  },
  {
   "cell_type": "code",
   "execution_count": 3,
   "metadata": {
    "colab": {
     "base_uri": "https://localhost:8080/"
    },
    "executionInfo": {
     "elapsed": 226,
     "status": "ok",
     "timestamp": 1623140221705,
     "user": {
      "displayName": "Ignacio Soteras",
      "photoUrl": "",
      "userId": "02050793736257155229"
     },
     "user_tz": -120
    },
    "id": "-FT85oMVPxlW",
    "outputId": "c9f5d2c8-d3c2-4acc-edec-914a92c7f60b"
   },
   "outputs": [
    {
     "data": {
      "text/html": [
       "<div>\n",
       "<style scoped>\n",
       "    .dataframe tbody tr th:only-of-type {\n",
       "        vertical-align: middle;\n",
       "    }\n",
       "\n",
       "    .dataframe tbody tr th {\n",
       "        vertical-align: top;\n",
       "    }\n",
       "\n",
       "    .dataframe thead th {\n",
       "        text-align: right;\n",
       "    }\n",
       "</style>\n",
       "<table border=\"1\" class=\"dataframe\">\n",
       "  <thead>\n",
       "    <tr style=\"text-align: right;\">\n",
       "      <th></th>\n",
       "      <th>Year</th>\n",
       "      <th>Engine Displacement</th>\n",
       "      <th>Cylinders</th>\n",
       "      <th>Fuel Barrels/Year</th>\n",
       "      <th>City MPG</th>\n",
       "      <th>Highway MPG</th>\n",
       "      <th>Combined MPG</th>\n",
       "      <th>CO2 Emission Grams/Mile</th>\n",
       "      <th>Fuel Cost/Year</th>\n",
       "    </tr>\n",
       "  </thead>\n",
       "  <tbody>\n",
       "    <tr>\n",
       "      <th>count</th>\n",
       "      <td>35952.00000</td>\n",
       "      <td>35952.000000</td>\n",
       "      <td>35952.000000</td>\n",
       "      <td>35952.000000</td>\n",
       "      <td>35952.000000</td>\n",
       "      <td>35952.000000</td>\n",
       "      <td>35952.000000</td>\n",
       "      <td>35952.000000</td>\n",
       "      <td>35952.000000</td>\n",
       "    </tr>\n",
       "    <tr>\n",
       "      <th>mean</th>\n",
       "      <td>2000.71640</td>\n",
       "      <td>3.338493</td>\n",
       "      <td>5.765076</td>\n",
       "      <td>17.609056</td>\n",
       "      <td>17.646139</td>\n",
       "      <td>23.880646</td>\n",
       "      <td>19.929322</td>\n",
       "      <td>475.316339</td>\n",
       "      <td>1892.598465</td>\n",
       "    </tr>\n",
       "    <tr>\n",
       "      <th>std</th>\n",
       "      <td>10.08529</td>\n",
       "      <td>1.359395</td>\n",
       "      <td>1.755268</td>\n",
       "      <td>4.467283</td>\n",
       "      <td>4.769349</td>\n",
       "      <td>5.890876</td>\n",
       "      <td>5.112409</td>\n",
       "      <td>119.060773</td>\n",
       "      <td>506.958627</td>\n",
       "    </tr>\n",
       "    <tr>\n",
       "      <th>min</th>\n",
       "      <td>1984.00000</td>\n",
       "      <td>0.600000</td>\n",
       "      <td>2.000000</td>\n",
       "      <td>0.060000</td>\n",
       "      <td>6.000000</td>\n",
       "      <td>9.000000</td>\n",
       "      <td>7.000000</td>\n",
       "      <td>37.000000</td>\n",
       "      <td>600.000000</td>\n",
       "    </tr>\n",
       "    <tr>\n",
       "      <th>25%</th>\n",
       "      <td>1991.00000</td>\n",
       "      <td>2.200000</td>\n",
       "      <td>4.000000</td>\n",
       "      <td>14.699423</td>\n",
       "      <td>15.000000</td>\n",
       "      <td>20.000000</td>\n",
       "      <td>16.000000</td>\n",
       "      <td>395.000000</td>\n",
       "      <td>1500.000000</td>\n",
       "    </tr>\n",
       "    <tr>\n",
       "      <th>50%</th>\n",
       "      <td>2001.00000</td>\n",
       "      <td>3.000000</td>\n",
       "      <td>6.000000</td>\n",
       "      <td>17.347895</td>\n",
       "      <td>17.000000</td>\n",
       "      <td>24.000000</td>\n",
       "      <td>19.000000</td>\n",
       "      <td>467.736842</td>\n",
       "      <td>1850.000000</td>\n",
       "    </tr>\n",
       "    <tr>\n",
       "      <th>75%</th>\n",
       "      <td>2010.00000</td>\n",
       "      <td>4.300000</td>\n",
       "      <td>6.000000</td>\n",
       "      <td>20.600625</td>\n",
       "      <td>20.000000</td>\n",
       "      <td>27.000000</td>\n",
       "      <td>23.000000</td>\n",
       "      <td>555.437500</td>\n",
       "      <td>2200.000000</td>\n",
       "    </tr>\n",
       "    <tr>\n",
       "      <th>max</th>\n",
       "      <td>2017.00000</td>\n",
       "      <td>8.400000</td>\n",
       "      <td>16.000000</td>\n",
       "      <td>47.087143</td>\n",
       "      <td>58.000000</td>\n",
       "      <td>61.000000</td>\n",
       "      <td>56.000000</td>\n",
       "      <td>1269.571429</td>\n",
       "      <td>5800.000000</td>\n",
       "    </tr>\n",
       "  </tbody>\n",
       "</table>\n",
       "</div>"
      ],
      "text/plain": [
       "              Year  Engine Displacement     Cylinders  Fuel Barrels/Year  \\\n",
       "count  35952.00000         35952.000000  35952.000000       35952.000000   \n",
       "mean    2000.71640             3.338493      5.765076          17.609056   \n",
       "std       10.08529             1.359395      1.755268           4.467283   \n",
       "min     1984.00000             0.600000      2.000000           0.060000   \n",
       "25%     1991.00000             2.200000      4.000000          14.699423   \n",
       "50%     2001.00000             3.000000      6.000000          17.347895   \n",
       "75%     2010.00000             4.300000      6.000000          20.600625   \n",
       "max     2017.00000             8.400000     16.000000          47.087143   \n",
       "\n",
       "           City MPG   Highway MPG  Combined MPG  CO2 Emission Grams/Mile  \\\n",
       "count  35952.000000  35952.000000  35952.000000             35952.000000   \n",
       "mean      17.646139     23.880646     19.929322               475.316339   \n",
       "std        4.769349      5.890876      5.112409               119.060773   \n",
       "min        6.000000      9.000000      7.000000                37.000000   \n",
       "25%       15.000000     20.000000     16.000000               395.000000   \n",
       "50%       17.000000     24.000000     19.000000               467.736842   \n",
       "75%       20.000000     27.000000     23.000000               555.437500   \n",
       "max       58.000000     61.000000     56.000000              1269.571429   \n",
       "\n",
       "       Fuel Cost/Year  \n",
       "count    35952.000000  \n",
       "mean      1892.598465  \n",
       "std        506.958627  \n",
       "min        600.000000  \n",
       "25%       1500.000000  \n",
       "50%       1850.000000  \n",
       "75%       2200.000000  \n",
       "max       5800.000000  "
      ]
     },
     "execution_count": 3,
     "metadata": {},
     "output_type": "execute_result"
    }
   ],
   "source": [
    "table = df.describe()\n",
    "table"
   ]
  },
  {
   "cell_type": "code",
   "execution_count": 4,
   "metadata": {
    "colab": {
     "base_uri": "https://localhost:8080/"
    },
    "executionInfo": {
     "elapsed": 226,
     "status": "ok",
     "timestamp": 1623140221705,
     "user": {
      "displayName": "Ignacio Soteras",
      "photoUrl": "",
      "userId": "02050793736257155229"
     },
     "user_tz": -120
    },
    "id": "-FT85oMVPxlW",
    "outputId": "c9f5d2c8-d3c2-4acc-edec-914a92c7f60b"
   },
   "outputs": [
    {
     "data": {
      "text/plain": [
       "35952.0"
      ]
     },
     "execution_count": 4,
     "metadata": {},
     "output_type": "execute_result"
    }
   ],
   "source": [
    "table.iloc[0,0]"
   ]
  },
  {
   "cell_type": "code",
   "execution_count": 5,
   "metadata": {
    "colab": {
     "base_uri": "https://localhost:8080/"
    },
    "executionInfo": {
     "elapsed": 226,
     "status": "ok",
     "timestamp": 1623140221705,
     "user": {
      "displayName": "Ignacio Soteras",
      "photoUrl": "",
      "userId": "02050793736257155229"
     },
     "user_tz": -120
    },
    "id": "-FT85oMVPxlW",
    "outputId": "c9f5d2c8-d3c2-4acc-edec-914a92c7f60b"
   },
   "outputs": [],
   "source": [
    "#df.value_counts(subset=None,dropna=True)\n",
    "#df.value_counts(subset=None,dropna=False)"
   ]
  },
  {
   "cell_type": "code",
   "execution_count": 6,
   "metadata": {
    "colab": {
     "base_uri": "https://localhost:8080/"
    },
    "executionInfo": {
     "elapsed": 226,
     "status": "ok",
     "timestamp": 1623140221705,
     "user": {
      "displayName": "Ignacio Soteras",
      "photoUrl": "",
      "userId": "02050793736257155229"
     },
     "user_tz": -120
    },
    "id": "-FT85oMVPxlW",
    "outputId": "c9f5d2c8-d3c2-4acc-edec-914a92c7f60b"
   },
   "outputs": [
    {
     "data": {
      "text/plain": [
       "35952"
      ]
     },
     "execution_count": 6,
     "metadata": {},
     "output_type": "execute_result"
    }
   ],
   "source": [
    "n_obs = len(list(df.value_counts(subset=None,dropna=False)))\n",
    "n_obs"
   ]
  },
  {
   "cell_type": "code",
   "execution_count": 7,
   "metadata": {},
   "outputs": [
    {
     "data": {
      "text/html": [
       "<div>\n",
       "<style scoped>\n",
       "    .dataframe tbody tr th:only-of-type {\n",
       "        vertical-align: middle;\n",
       "    }\n",
       "\n",
       "    .dataframe tbody tr th {\n",
       "        vertical-align: top;\n",
       "    }\n",
       "\n",
       "    .dataframe thead th {\n",
       "        text-align: right;\n",
       "    }\n",
       "</style>\n",
       "<table border=\"1\" class=\"dataframe\">\n",
       "  <thead>\n",
       "    <tr style=\"text-align: right;\">\n",
       "      <th></th>\n",
       "      <th>Make</th>\n",
       "      <th>Model</th>\n",
       "      <th>Year</th>\n",
       "      <th>Engine Displacement</th>\n",
       "      <th>Cylinders</th>\n",
       "      <th>Transmission</th>\n",
       "      <th>Drivetrain</th>\n",
       "      <th>Vehicle Class</th>\n",
       "      <th>Fuel Type</th>\n",
       "      <th>Fuel Barrels/Year</th>\n",
       "      <th>City MPG</th>\n",
       "      <th>Highway MPG</th>\n",
       "      <th>Combined MPG</th>\n",
       "      <th>CO2 Emission Grams/Mile</th>\n",
       "      <th>Fuel Cost/Year</th>\n",
       "    </tr>\n",
       "  </thead>\n",
       "  <tbody>\n",
       "    <tr>\n",
       "      <th>0</th>\n",
       "      <td>AM General</td>\n",
       "      <td>DJ Po Vehicle 2WD</td>\n",
       "      <td>1984</td>\n",
       "      <td>2.5</td>\n",
       "      <td>4.0</td>\n",
       "      <td>Automatic 3-spd</td>\n",
       "      <td>2-Wheel Drive</td>\n",
       "      <td>Special Purpose Vehicle 2WD</td>\n",
       "      <td>Regular</td>\n",
       "      <td>19.388824</td>\n",
       "      <td>18</td>\n",
       "      <td>17</td>\n",
       "      <td>17</td>\n",
       "      <td>522.764706</td>\n",
       "      <td>1950</td>\n",
       "    </tr>\n",
       "    <tr>\n",
       "      <th>1</th>\n",
       "      <td>AM General</td>\n",
       "      <td>FJ8c Post Office</td>\n",
       "      <td>1984</td>\n",
       "      <td>4.2</td>\n",
       "      <td>6.0</td>\n",
       "      <td>Automatic 3-spd</td>\n",
       "      <td>2-Wheel Drive</td>\n",
       "      <td>Special Purpose Vehicle 2WD</td>\n",
       "      <td>Regular</td>\n",
       "      <td>25.354615</td>\n",
       "      <td>13</td>\n",
       "      <td>13</td>\n",
       "      <td>13</td>\n",
       "      <td>683.615385</td>\n",
       "      <td>2550</td>\n",
       "    </tr>\n",
       "    <tr>\n",
       "      <th>2</th>\n",
       "      <td>AM General</td>\n",
       "      <td>Post Office DJ5 2WD</td>\n",
       "      <td>1985</td>\n",
       "      <td>2.5</td>\n",
       "      <td>4.0</td>\n",
       "      <td>Automatic 3-spd</td>\n",
       "      <td>Rear-Wheel Drive</td>\n",
       "      <td>Special Purpose Vehicle 2WD</td>\n",
       "      <td>Regular</td>\n",
       "      <td>20.600625</td>\n",
       "      <td>16</td>\n",
       "      <td>17</td>\n",
       "      <td>16</td>\n",
       "      <td>555.437500</td>\n",
       "      <td>2100</td>\n",
       "    </tr>\n",
       "    <tr>\n",
       "      <th>3</th>\n",
       "      <td>AM General</td>\n",
       "      <td>Post Office DJ8 2WD</td>\n",
       "      <td>1985</td>\n",
       "      <td>4.2</td>\n",
       "      <td>6.0</td>\n",
       "      <td>Automatic 3-spd</td>\n",
       "      <td>Rear-Wheel Drive</td>\n",
       "      <td>Special Purpose Vehicle 2WD</td>\n",
       "      <td>Regular</td>\n",
       "      <td>25.354615</td>\n",
       "      <td>13</td>\n",
       "      <td>13</td>\n",
       "      <td>13</td>\n",
       "      <td>683.615385</td>\n",
       "      <td>2550</td>\n",
       "    </tr>\n",
       "    <tr>\n",
       "      <th>4</th>\n",
       "      <td>ASC Incorporated</td>\n",
       "      <td>GNX</td>\n",
       "      <td>1987</td>\n",
       "      <td>3.8</td>\n",
       "      <td>6.0</td>\n",
       "      <td>Automatic 4-spd</td>\n",
       "      <td>Rear-Wheel Drive</td>\n",
       "      <td>Midsize Cars</td>\n",
       "      <td>Premium</td>\n",
       "      <td>20.600625</td>\n",
       "      <td>14</td>\n",
       "      <td>21</td>\n",
       "      <td>16</td>\n",
       "      <td>555.437500</td>\n",
       "      <td>2550</td>\n",
       "    </tr>\n",
       "  </tbody>\n",
       "</table>\n",
       "</div>"
      ],
      "text/plain": [
       "               Make                Model  Year  Engine Displacement  \\\n",
       "0        AM General    DJ Po Vehicle 2WD  1984                  2.5   \n",
       "1        AM General     FJ8c Post Office  1984                  4.2   \n",
       "2        AM General  Post Office DJ5 2WD  1985                  2.5   \n",
       "3        AM General  Post Office DJ8 2WD  1985                  4.2   \n",
       "4  ASC Incorporated                  GNX  1987                  3.8   \n",
       "\n",
       "   Cylinders     Transmission        Drivetrain                Vehicle Class  \\\n",
       "0        4.0  Automatic 3-spd     2-Wheel Drive  Special Purpose Vehicle 2WD   \n",
       "1        6.0  Automatic 3-spd     2-Wheel Drive  Special Purpose Vehicle 2WD   \n",
       "2        4.0  Automatic 3-spd  Rear-Wheel Drive  Special Purpose Vehicle 2WD   \n",
       "3        6.0  Automatic 3-spd  Rear-Wheel Drive  Special Purpose Vehicle 2WD   \n",
       "4        6.0  Automatic 4-spd  Rear-Wheel Drive                 Midsize Cars   \n",
       "\n",
       "  Fuel Type  Fuel Barrels/Year  City MPG  Highway MPG  Combined MPG  \\\n",
       "0   Regular          19.388824        18           17            17   \n",
       "1   Regular          25.354615        13           13            13   \n",
       "2   Regular          20.600625        16           17            16   \n",
       "3   Regular          25.354615        13           13            13   \n",
       "4   Premium          20.600625        14           21            16   \n",
       "\n",
       "   CO2 Emission Grams/Mile  Fuel Cost/Year  \n",
       "0               522.764706            1950  \n",
       "1               683.615385            2550  \n",
       "2               555.437500            2100  \n",
       "3               683.615385            2550  \n",
       "4               555.437500            2550  "
      ]
     },
     "execution_count": 7,
     "metadata": {},
     "output_type": "execute_result"
    }
   ],
   "source": [
    "df.head(5)"
   ]
  },
  {
   "cell_type": "markdown",
   "metadata": {
    "id": "tqcFYXUk6Fg6"
   },
   "source": [
    "### Cleaning and wrangling data\n",
    "\n",
    "- Some car brand names refer to the same brand. Replace all brand names that contain the word \"Dutton\" for simply \"Dutton\". If you find similar examples, clean their names too. Use `loc` with boolean indexing.\n",
    "\n",
    "- Convert CO2 Emissions from Grams/Mile to Grams/Km\n",
    "\n",
    "- Create a binary column that solely indicates if the transmission of a car is automatic or manual. Use `pandas.Series.str.startswith` and .\n",
    "\n",
    "- convert MPG columns to km_per_liter"
   ]
  },
  {
   "cell_type": "code",
   "execution_count": 23,
   "metadata": {},
   "outputs": [
    {
     "data": {
      "text/plain": [
       "array(['AM General', 'ASC Incorporated', 'Acura', 'Alfa Romeo',\n",
       "       'American Motors Corporation', 'Aston Martin', 'Audi',\n",
       "       'Aurora Cars Ltd', 'Autokraft Limited', 'BMW', 'BMW Alpina',\n",
       "       'Bentley', 'Bertone', 'Bill Dovell Motor Car Company',\n",
       "       'Bitter Gmbh and Co. Kg', 'Bugatti', 'Buick', 'CCC Engineering',\n",
       "       'CX Automotive', 'Cadillac', 'Chevrolet', 'Chrysler',\n",
       "       'Consulier Industries Inc', 'Dabryan Coach Builders Inc', 'Dacia',\n",
       "       'Daewoo', 'Daihatsu', 'Dodge', 'E. P. Dutton, Inc.', 'Eagle',\n",
       "       'Environmental Rsch and Devp Corp', 'Evans Automobiles',\n",
       "       'Excalibur Autos', 'Federal Coach', 'Ferrari', 'Fiat', 'Fisker',\n",
       "       'Ford', 'GMC', 'General Motors', 'Genesis', 'Geo', 'Goldacre',\n",
       "       'Grumman Allied Industries', 'Grumman Olson', 'Honda', 'Hummer',\n",
       "       'Hyundai', 'Import Foreign Auto Sales Inc',\n",
       "       'Import Trade Services', 'Infiniti', 'Isis Imports Ltd', 'Isuzu',\n",
       "       'J.K. Motors', 'JBA Motorcars, Inc.', 'Jaguar', 'Jeep', 'Kia',\n",
       "       'Laforza Automobile Inc', 'Lambda Control Systems', 'Lamborghini',\n",
       "       'Land Rover', 'Lexus', 'Lincoln', 'London Coach Co Inc',\n",
       "       'London Taxi', 'Lotus', 'MINI', 'Mahindra', 'Maserati', 'Maybach',\n",
       "       'Mazda', 'McLaren Automotive', 'Mcevoy Motors', 'Mercedes-Benz',\n",
       "       'Mercury', 'Merkur', 'Mitsubishi', 'Mobility Ventures LLC',\n",
       "       'Morgan', 'Nissan', 'Oldsmobile', 'PAS Inc - GMC', 'PAS, Inc',\n",
       "       'Pagani', 'Panos', 'Panoz Auto-Development',\n",
       "       'Panther Car Company Limited', 'Peugeot', 'Pininfarina',\n",
       "       'Plymouth', 'Pontiac', 'Porsche', 'Quantum Technologies', 'Qvale',\n",
       "       'Ram', 'Red Shift Ltd.', 'Renault', 'Rolls-Royce',\n",
       "       'Roush Performance', 'Ruf Automobile Gmbh',\n",
       "       'S and S Coach Company  E.p. Dutton', 'SRT', 'Saab', 'Saleen',\n",
       "       'Saleen Performance', 'Saturn', 'Scion', 'Shelby', 'Spyker',\n",
       "       'Sterling', 'Subaru', 'Superior Coaches Div E.p. Dutton', 'Suzuki',\n",
       "       'TVR Engineering Ltd', 'Tecstar, LP', 'Texas Coach Company',\n",
       "       'Toyota', 'VPG', 'Vector', 'Vixen Motor Company',\n",
       "       'Volga Associated Automobile', 'Volkswagen', 'Volvo',\n",
       "       'Wallace Environmental', 'Yugo', 'smart'], dtype=object)"
      ]
     },
     "execution_count": 23,
     "metadata": {},
     "output_type": "execute_result"
    }
   ],
   "source": [
    "#for i in range(0,10):\n",
    " #   df.loc[:,\"Make\"]\n",
    " #\n",
    "makeBool = df['Make'].str.contains(\"Dutton\", case=False) \n",
    "df.loc[makeBool, \"Make\"] = \"Dutton\"\n",
    "df.Make.unique()\n"
   ]
  },
  {
   "cell_type": "code",
   "execution_count": null,
   "metadata": {},
   "outputs": [],
   "source": [
    "df[\"CO2 Emission Grams/Km\"] = df[\"CO2 Emission Grams/Mile\"] / 1.609\n",
    "df.head(2)"
   ]
  },
  {
   "cell_type": "code",
   "execution_count": 9,
   "metadata": {},
   "outputs": [
    {
     "data": {
      "text/plain": [
       "array(['Automatic', 'Manual'], dtype=object)"
      ]
     },
     "execution_count": 9,
     "metadata": {},
     "output_type": "execute_result"
    }
   ],
   "source": [
    "# Create a binary column that solely indicates if the transmission of a car is automatic or manual\n",
    "#df['Transmission'].unique()\n",
    "transmBool = df['Transmission'].str.contains(\"manual\", case=False) \n",
    "df.loc[transmBool, \"TransBinary\"] = \"Manual\"\n",
    "transmBool = df['Transmission'].str.contains(\"auto\", case=False) \n",
    "df.loc[transmBool, \"TransBinary\"] = \"Automatic\"\n",
    "\n",
    "df.TransBinary.unique()"
   ]
  },
  {
   "cell_type": "code",
   "execution_count": 10,
   "metadata": {},
   "outputs": [
    {
     "data": {
      "text/html": [
       "<div>\n",
       "<style scoped>\n",
       "    .dataframe tbody tr th:only-of-type {\n",
       "        vertical-align: middle;\n",
       "    }\n",
       "\n",
       "    .dataframe tbody tr th {\n",
       "        vertical-align: top;\n",
       "    }\n",
       "\n",
       "    .dataframe thead th {\n",
       "        text-align: right;\n",
       "    }\n",
       "</style>\n",
       "<table border=\"1\" class=\"dataframe\">\n",
       "  <thead>\n",
       "    <tr style=\"text-align: right;\">\n",
       "      <th></th>\n",
       "      <th>City MPG</th>\n",
       "      <th>Highway MPG</th>\n",
       "      <th>Combined MPG</th>\n",
       "      <th>CO2 Emission Grams/Mile</th>\n",
       "      <th>Fuel Cost/Year</th>\n",
       "      <th>TransBinary</th>\n",
       "      <th>City KmPL</th>\n",
       "      <th>Highway KmPL</th>\n",
       "      <th>Combined MPG KmPL</th>\n",
       "    </tr>\n",
       "  </thead>\n",
       "  <tbody>\n",
       "    <tr>\n",
       "      <th>0</th>\n",
       "      <td>18</td>\n",
       "      <td>17</td>\n",
       "      <td>17</td>\n",
       "      <td>522.764706</td>\n",
       "      <td>1950</td>\n",
       "      <td>Automatic</td>\n",
       "      <td>7.652571</td>\n",
       "      <td>7.227428</td>\n",
       "      <td>7.227428</td>\n",
       "    </tr>\n",
       "    <tr>\n",
       "      <th>1</th>\n",
       "      <td>13</td>\n",
       "      <td>13</td>\n",
       "      <td>13</td>\n",
       "      <td>683.615385</td>\n",
       "      <td>2550</td>\n",
       "      <td>Automatic</td>\n",
       "      <td>5.526857</td>\n",
       "      <td>5.526857</td>\n",
       "      <td>5.526857</td>\n",
       "    </tr>\n",
       "    <tr>\n",
       "      <th>2</th>\n",
       "      <td>16</td>\n",
       "      <td>17</td>\n",
       "      <td>16</td>\n",
       "      <td>555.437500</td>\n",
       "      <td>2100</td>\n",
       "      <td>Automatic</td>\n",
       "      <td>6.802286</td>\n",
       "      <td>7.227428</td>\n",
       "      <td>6.802286</td>\n",
       "    </tr>\n",
       "    <tr>\n",
       "      <th>3</th>\n",
       "      <td>13</td>\n",
       "      <td>13</td>\n",
       "      <td>13</td>\n",
       "      <td>683.615385</td>\n",
       "      <td>2550</td>\n",
       "      <td>Automatic</td>\n",
       "      <td>5.526857</td>\n",
       "      <td>5.526857</td>\n",
       "      <td>5.526857</td>\n",
       "    </tr>\n",
       "    <tr>\n",
       "      <th>4</th>\n",
       "      <td>14</td>\n",
       "      <td>21</td>\n",
       "      <td>16</td>\n",
       "      <td>555.437500</td>\n",
       "      <td>2550</td>\n",
       "      <td>Automatic</td>\n",
       "      <td>5.952000</td>\n",
       "      <td>8.928000</td>\n",
       "      <td>6.802286</td>\n",
       "    </tr>\n",
       "    <tr>\n",
       "      <th>5</th>\n",
       "      <td>20</td>\n",
       "      <td>26</td>\n",
       "      <td>22</td>\n",
       "      <td>403.954545</td>\n",
       "      <td>1500</td>\n",
       "      <td>Automatic</td>\n",
       "      <td>8.502857</td>\n",
       "      <td>11.053714</td>\n",
       "      <td>9.353143</td>\n",
       "    </tr>\n",
       "    <tr>\n",
       "      <th>6</th>\n",
       "      <td>22</td>\n",
       "      <td>28</td>\n",
       "      <td>24</td>\n",
       "      <td>370.291667</td>\n",
       "      <td>1400</td>\n",
       "      <td>Manual</td>\n",
       "      <td>9.353143</td>\n",
       "      <td>11.904000</td>\n",
       "      <td>10.203428</td>\n",
       "    </tr>\n",
       "    <tr>\n",
       "      <th>7</th>\n",
       "      <td>18</td>\n",
       "      <td>26</td>\n",
       "      <td>20</td>\n",
       "      <td>444.350000</td>\n",
       "      <td>1650</td>\n",
       "      <td>Automatic</td>\n",
       "      <td>7.652571</td>\n",
       "      <td>11.053714</td>\n",
       "      <td>8.502857</td>\n",
       "    </tr>\n",
       "    <tr>\n",
       "      <th>8</th>\n",
       "      <td>19</td>\n",
       "      <td>27</td>\n",
       "      <td>22</td>\n",
       "      <td>403.954545</td>\n",
       "      <td>1500</td>\n",
       "      <td>Automatic</td>\n",
       "      <td>8.077714</td>\n",
       "      <td>11.478857</td>\n",
       "      <td>9.353143</td>\n",
       "    </tr>\n",
       "    <tr>\n",
       "      <th>9</th>\n",
       "      <td>21</td>\n",
       "      <td>29</td>\n",
       "      <td>24</td>\n",
       "      <td>370.291667</td>\n",
       "      <td>1400</td>\n",
       "      <td>Manual</td>\n",
       "      <td>8.928000</td>\n",
       "      <td>12.329143</td>\n",
       "      <td>10.203428</td>\n",
       "    </tr>\n",
       "  </tbody>\n",
       "</table>\n",
       "</div>"
      ],
      "text/plain": [
       "   City MPG  Highway MPG  Combined MPG  CO2 Emission Grams/Mile  \\\n",
       "0        18           17            17               522.764706   \n",
       "1        13           13            13               683.615385   \n",
       "2        16           17            16               555.437500   \n",
       "3        13           13            13               683.615385   \n",
       "4        14           21            16               555.437500   \n",
       "5        20           26            22               403.954545   \n",
       "6        22           28            24               370.291667   \n",
       "7        18           26            20               444.350000   \n",
       "8        19           27            22               403.954545   \n",
       "9        21           29            24               370.291667   \n",
       "\n",
       "   Fuel Cost/Year TransBinary  City KmPL  Highway KmPL  Combined MPG KmPL  \n",
       "0            1950   Automatic   7.652571      7.227428           7.227428  \n",
       "1            2550   Automatic   5.526857      5.526857           5.526857  \n",
       "2            2100   Automatic   6.802286      7.227428           6.802286  \n",
       "3            2550   Automatic   5.526857      5.526857           5.526857  \n",
       "4            2550   Automatic   5.952000      8.928000           6.802286  \n",
       "5            1500   Automatic   8.502857     11.053714           9.353143  \n",
       "6            1400      Manual   9.353143     11.904000          10.203428  \n",
       "7            1650   Automatic   7.652571     11.053714           8.502857  \n",
       "8            1500   Automatic   8.077714     11.478857           9.353143  \n",
       "9            1400      Manual   8.928000     12.329143          10.203428  "
      ]
     },
     "execution_count": 10,
     "metadata": {},
     "output_type": "execute_result"
    }
   ],
   "source": [
    "#convert MPG columns to km_per_liter\n",
    "#City MPG\tHighway MPG\tCombined MPG\n",
    "df[\"City KmPL\"] = df[\"City MPG\"] * 1.60934 / 3.78541\n",
    "df[\"Highway KmPL\"] = df[\"Highway MPG\"] * 1.60934 / 3.78541\n",
    "df[\"Combined MPG KmPL\"] = df[\"Combined MPG\"] * 1.60934 / 3.78541\n",
    "df.iloc[:,10:].head(10)"
   ]
  },
  {
   "cell_type": "markdown",
   "metadata": {
    "id": "e_r1ZfaxWfaq"
   },
   "source": [
    "Converting Grams/Mile to Grams/Km\n",
    "\n",
    "1 Mile = 1.60934 Km\n",
    "\n",
    "Grams/Mile * Mile/Km -> Grams/Mile * 1 Mile/1.60934Km\n",
    "\n",
    "$$ \\frac{Grams}{Mile} * \\frac{Mile}{Km} $$\n",
    "\n",
    "$$ \\frac{Grams}{Mile} * \\frac{1 Mile}{1.60934Km}  $$"
   ]
  },
  {
   "cell_type": "markdown",
   "metadata": {
    "id": "R-jWHEisa3nF"
   },
   "source": [
    "convert MPG columns to km_per_liter\n",
    "\n",
    "MPG = Miles/Gallon -> Km/Liter\n",
    "\n",
    "1 Mile = 1.60934 Km\n",
    "\n",
    "1 Gallon = 3.78541 Liters\n",
    "\n",
    "$$ \\frac{Miles}{Gallon} -> \\frac{Miles}{Gallon} * \\frac{Km}{Miles} * \\frac{Gallon}{Liters}$$\n",
    "\n",
    "$$ \\frac{Miles}{Gallon} -> \\frac{Miles}{Gallon} * \\frac{1.60934Km}{ 1Miles} * \\frac{1 Gallon}{3.78541 Liters}$$\n",
    "\n",
    "* ( 1.60934 / 3.78541 )\n"
   ]
  },
  {
   "cell_type": "markdown",
   "metadata": {
    "id": "SRZZJAPQ6Fg6"
   },
   "source": [
    "### Gathering insights:\n",
    "\n",
    "- How many car makers are there? How many models? Which car maker has the most cars in the dataset?\n",
    "\n",
    "- When were these cars made? How big is the engine of these cars?\n",
    "\n",
    "- What's the frequency of different transmissions, drivetrains and fuel types?\n",
    "\n",
    "- What's the car that consumes the least/most fuel?"
   ]
  },
  {
   "cell_type": "code",
   "execution_count": 11,
   "metadata": {
    "colab": {
     "base_uri": "https://localhost:8080/"
    },
    "executionInfo": {
     "elapsed": 346,
     "status": "ok",
     "timestamp": 1623143226628,
     "user": {
      "displayName": "Ignacio Soteras",
      "photoUrl": "",
      "userId": "02050793736257155229"
     },
     "user_tz": -120
    },
    "id": "LS-EOV3f6Fg7",
    "outputId": "7244f51d-279e-4a71-ba35-63d2969f5a74"
   },
   "outputs": [
    {
     "data": {
      "text/plain": [
       "array(['AM General', 'ASC Incorporated', 'Acura', 'Alfa Romeo',\n",
       "       'American Motors Corporation', 'Aston Martin', 'Audi',\n",
       "       'Aurora Cars Ltd', 'Autokraft Limited', 'BMW', 'BMW Alpina',\n",
       "       'Bentley', 'Bertone', 'Bill Dovell Motor Car Company',\n",
       "       'Bitter Gmbh and Co. Kg', 'Bugatti', 'Buick', 'CCC Engineering',\n",
       "       'CX Automotive', 'Cadillac', 'Chevrolet', 'Chrysler',\n",
       "       'Consulier Industries Inc', 'Dabryan Coach Builders Inc', 'Dacia',\n",
       "       'Daewoo', 'Daihatsu', 'Dodge', 'E. P. Dutton, Inc.', 'Eagle',\n",
       "       'Environmental Rsch and Devp Corp', 'Evans Automobiles',\n",
       "       'Excalibur Autos', 'Federal Coach', 'Ferrari', 'Fiat', 'Fisker',\n",
       "       'Ford', 'GMC', 'General Motors', 'Genesis', 'Geo', 'Goldacre',\n",
       "       'Grumman Allied Industries', 'Grumman Olson', 'Honda', 'Hummer',\n",
       "       'Hyundai', 'Import Foreign Auto Sales Inc',\n",
       "       'Import Trade Services', 'Infiniti', 'Isis Imports Ltd', 'Isuzu',\n",
       "       'J.K. Motors', 'JBA Motorcars, Inc.', 'Jaguar', 'Jeep', 'Kia',\n",
       "       'Laforza Automobile Inc', 'Lambda Control Systems', 'Lamborghini',\n",
       "       'Land Rover', 'Lexus', 'Lincoln', 'London Coach Co Inc',\n",
       "       'London Taxi', 'Lotus', 'MINI', 'Mahindra', 'Maserati', 'Maybach',\n",
       "       'Mazda', 'McLaren Automotive', 'Mcevoy Motors', 'Mercedes-Benz',\n",
       "       'Mercury', 'Merkur', 'Mitsubishi', 'Mobility Ventures LLC',\n",
       "       'Morgan', 'Nissan', 'Oldsmobile', 'PAS Inc - GMC', 'PAS, Inc',\n",
       "       'Pagani', 'Panos', 'Panoz Auto-Development',\n",
       "       'Panther Car Company Limited', 'Peugeot', 'Pininfarina',\n",
       "       'Plymouth', 'Pontiac', 'Porsche', 'Quantum Technologies', 'Qvale',\n",
       "       'Ram', 'Red Shift Ltd.', 'Renault', 'Rolls-Royce',\n",
       "       'Roush Performance', 'Ruf Automobile Gmbh',\n",
       "       'S and S Coach Company  E.p. Dutton', 'SRT', 'Saab', 'Saleen',\n",
       "       'Saleen Performance', 'Saturn', 'Scion', 'Shelby', 'Spyker',\n",
       "       'Sterling', 'Subaru', 'Superior Coaches Div E.p. Dutton', 'Suzuki',\n",
       "       'TVR Engineering Ltd', 'Tecstar, LP', 'Texas Coach Company',\n",
       "       'Toyota', 'VPG', 'Vector', 'Vixen Motor Company',\n",
       "       'Volga Associated Automobile', 'Volkswagen', 'Volvo',\n",
       "       'Wallace Environmental', 'Yugo', 'smart'], dtype=object)"
      ]
     },
     "execution_count": 11,
     "metadata": {},
     "output_type": "execute_result"
    }
   ],
   "source": [
    "# How many car makers are there? How many models? Which car maker has the most cars in the dataset?\n",
    "df[\"Make\"].unique()"
   ]
  },
  {
   "cell_type": "code",
   "execution_count": 12,
   "metadata": {},
   "outputs": [
    {
     "data": {
      "text/plain": [
       "127"
      ]
     },
     "execution_count": 12,
     "metadata": {},
     "output_type": "execute_result"
    }
   ],
   "source": [
    "np.size(df[\"Make\"].unique())"
   ]
  },
  {
   "cell_type": "code",
   "execution_count": 13,
   "metadata": {},
   "outputs": [
    {
     "data": {
      "text/plain": [
       "3608"
      ]
     },
     "execution_count": 13,
     "metadata": {},
     "output_type": "execute_result"
    }
   ],
   "source": [
    "np.size(df[\"Model\"].unique())"
   ]
  },
  {
   "cell_type": "code",
   "execution_count": 14,
   "metadata": {},
   "outputs": [
    {
     "data": {
      "text/plain": [
       "Chevrolet    3643\n",
       "Chevrolet    3643\n",
       "Name: Make, dtype: int64"
      ]
     },
     "execution_count": 14,
     "metadata": {},
     "output_type": "execute_result"
    }
   ],
   "source": [
    "x = df[\"Make\"].value_counts()\n",
    "x[[0,0]]\n"
   ]
  },
  {
   "cell_type": "code",
   "execution_count": 15,
   "metadata": {},
   "outputs": [
    {
     "data": {
      "text/html": [
       "<div>\n",
       "<style scoped>\n",
       "    .dataframe tbody tr th:only-of-type {\n",
       "        vertical-align: middle;\n",
       "    }\n",
       "\n",
       "    .dataframe tbody tr th {\n",
       "        vertical-align: top;\n",
       "    }\n",
       "\n",
       "    .dataframe thead th {\n",
       "        text-align: right;\n",
       "    }\n",
       "</style>\n",
       "<table border=\"1\" class=\"dataframe\">\n",
       "  <thead>\n",
       "    <tr style=\"text-align: right;\">\n",
       "      <th></th>\n",
       "      <th>Make</th>\n",
       "      <th>Model</th>\n",
       "      <th>Year</th>\n",
       "      <th>Engine Displacement</th>\n",
       "      <th>Cylinders</th>\n",
       "      <th>Transmission</th>\n",
       "      <th>Drivetrain</th>\n",
       "      <th>Vehicle Class</th>\n",
       "      <th>Fuel Type</th>\n",
       "      <th>Fuel Barrels/Year</th>\n",
       "      <th>City MPG</th>\n",
       "      <th>Highway MPG</th>\n",
       "      <th>Combined MPG</th>\n",
       "      <th>CO2 Emission Grams/Mile</th>\n",
       "      <th>Fuel Cost/Year</th>\n",
       "      <th>TransBinary</th>\n",
       "      <th>City KmPL</th>\n",
       "      <th>Highway KmPL</th>\n",
       "      <th>Combined MPG KmPL</th>\n",
       "    </tr>\n",
       "  </thead>\n",
       "  <tbody>\n",
       "    <tr>\n",
       "      <th>0</th>\n",
       "      <td>AM General</td>\n",
       "      <td>DJ Po Vehicle 2WD</td>\n",
       "      <td>1984</td>\n",
       "      <td>2.5</td>\n",
       "      <td>4.0</td>\n",
       "      <td>Automatic 3-spd</td>\n",
       "      <td>2-Wheel Drive</td>\n",
       "      <td>Special Purpose Vehicle 2WD</td>\n",
       "      <td>Regular</td>\n",
       "      <td>19.388824</td>\n",
       "      <td>18</td>\n",
       "      <td>17</td>\n",
       "      <td>17</td>\n",
       "      <td>522.764706</td>\n",
       "      <td>1950</td>\n",
       "      <td>Automatic</td>\n",
       "      <td>7.652571</td>\n",
       "      <td>7.227428</td>\n",
       "      <td>7.227428</td>\n",
       "    </tr>\n",
       "    <tr>\n",
       "      <th>1</th>\n",
       "      <td>AM General</td>\n",
       "      <td>FJ8c Post Office</td>\n",
       "      <td>1984</td>\n",
       "      <td>4.2</td>\n",
       "      <td>6.0</td>\n",
       "      <td>Automatic 3-spd</td>\n",
       "      <td>2-Wheel Drive</td>\n",
       "      <td>Special Purpose Vehicle 2WD</td>\n",
       "      <td>Regular</td>\n",
       "      <td>25.354615</td>\n",
       "      <td>13</td>\n",
       "      <td>13</td>\n",
       "      <td>13</td>\n",
       "      <td>683.615385</td>\n",
       "      <td>2550</td>\n",
       "      <td>Automatic</td>\n",
       "      <td>5.526857</td>\n",
       "      <td>5.526857</td>\n",
       "      <td>5.526857</td>\n",
       "    </tr>\n",
       "  </tbody>\n",
       "</table>\n",
       "</div>"
      ],
      "text/plain": [
       "         Make              Model  Year  Engine Displacement  Cylinders  \\\n",
       "0  AM General  DJ Po Vehicle 2WD  1984                  2.5        4.0   \n",
       "1  AM General   FJ8c Post Office  1984                  4.2        6.0   \n",
       "\n",
       "      Transmission     Drivetrain                Vehicle Class Fuel Type  \\\n",
       "0  Automatic 3-spd  2-Wheel Drive  Special Purpose Vehicle 2WD   Regular   \n",
       "1  Automatic 3-spd  2-Wheel Drive  Special Purpose Vehicle 2WD   Regular   \n",
       "\n",
       "   Fuel Barrels/Year  City MPG  Highway MPG  Combined MPG  \\\n",
       "0          19.388824        18           17            17   \n",
       "1          25.354615        13           13            13   \n",
       "\n",
       "   CO2 Emission Grams/Mile  Fuel Cost/Year TransBinary  City KmPL  \\\n",
       "0               522.764706            1950   Automatic   7.652571   \n",
       "1               683.615385            2550   Automatic   5.526857   \n",
       "\n",
       "   Highway KmPL  Combined MPG KmPL  \n",
       "0      7.227428           7.227428  \n",
       "1      5.526857           5.526857  "
      ]
     },
     "execution_count": 15,
     "metadata": {},
     "output_type": "execute_result"
    }
   ],
   "source": [
    "#When were these cars made? How big is the engine of these cars?\n",
    "#df.loc[\"F150 Pickup 2WD\",\"Make\"]\n",
    "df.head(2)"
   ]
  },
  {
   "cell_type": "markdown",
   "metadata": {
    "id": "rcSnpI3I6Fg8"
   },
   "source": [
    "What brand has the worse CO2 Emissions on average?\n",
    "\n",
    "Hint: use the function `sort_values()`"
   ]
  },
  {
   "cell_type": "code",
   "execution_count": 16,
   "metadata": {},
   "outputs": [
    {
     "data": {
      "text/html": [
       "<div>\n",
       "<style scoped>\n",
       "    .dataframe tbody tr th:only-of-type {\n",
       "        vertical-align: middle;\n",
       "    }\n",
       "\n",
       "    .dataframe tbody tr th {\n",
       "        vertical-align: top;\n",
       "    }\n",
       "\n",
       "    .dataframe thead th {\n",
       "        text-align: right;\n",
       "    }\n",
       "</style>\n",
       "<table border=\"1\" class=\"dataframe\">\n",
       "  <thead>\n",
       "    <tr style=\"text-align: right;\">\n",
       "      <th></th>\n",
       "      <th>Year</th>\n",
       "    </tr>\n",
       "    <tr>\n",
       "      <th>Make</th>\n",
       "      <th></th>\n",
       "    </tr>\n",
       "  </thead>\n",
       "  <tbody>\n",
       "    <tr>\n",
       "      <th>AM General</th>\n",
       "      <td>1984</td>\n",
       "    </tr>\n",
       "    <tr>\n",
       "      <th>AM General</th>\n",
       "      <td>1985</td>\n",
       "    </tr>\n",
       "    <tr>\n",
       "      <th>Acura</th>\n",
       "      <td>1997</td>\n",
       "    </tr>\n",
       "    <tr>\n",
       "      <th>Acura</th>\n",
       "      <td>1997</td>\n",
       "    </tr>\n",
       "    <tr>\n",
       "      <th>Acura</th>\n",
       "      <td>1998</td>\n",
       "    </tr>\n",
       "    <tr>\n",
       "      <th>...</th>\n",
       "      <td>...</td>\n",
       "    </tr>\n",
       "    <tr>\n",
       "      <th>smart</th>\n",
       "      <td>2013</td>\n",
       "    </tr>\n",
       "    <tr>\n",
       "      <th>smart</th>\n",
       "      <td>2014</td>\n",
       "    </tr>\n",
       "    <tr>\n",
       "      <th>smart</th>\n",
       "      <td>2015</td>\n",
       "    </tr>\n",
       "    <tr>\n",
       "      <th>smart</th>\n",
       "      <td>2016</td>\n",
       "    </tr>\n",
       "    <tr>\n",
       "      <th>smart</th>\n",
       "      <td>2016</td>\n",
       "    </tr>\n",
       "  </tbody>\n",
       "</table>\n",
       "<p>35918 rows × 1 columns</p>\n",
       "</div>"
      ],
      "text/plain": [
       "            Year\n",
       "Make            \n",
       "AM General  1984\n",
       "AM General  1985\n",
       "Acura       1997\n",
       "Acura       1997\n",
       "Acura       1998\n",
       "...          ...\n",
       "smart       2013\n",
       "smart       2014\n",
       "smart       2015\n",
       "smart       2016\n",
       "smart       2016\n",
       "\n",
       "[35918 rows x 1 columns]"
      ]
     },
     "execution_count": 16,
     "metadata": {},
     "output_type": "execute_result"
    }
   ],
   "source": [
    "# When were these cars made?\n",
    "df2 = df.loc[:,[\"Make\", \"Year\"]]\n",
    "df2 = df2.set_index('Make')\n",
    "dfYear = df2.loc[df2.duplicated()]\n",
    "dfYear"
   ]
  },
  {
   "cell_type": "code",
   "execution_count": 17,
   "metadata": {},
   "outputs": [
    {
     "data": {
      "text/plain": [
       "Make\n",
       "AM General          3.350000\n",
       "ASC Incorporated    3.800000\n",
       "Acura               2.834768\n",
       "Name: Engine Displacement, dtype: float64"
      ]
     },
     "execution_count": 17,
     "metadata": {},
     "output_type": "execute_result"
    }
   ],
   "source": [
    "# How big is the engine of these cars?\n",
    "df.groupby('Make')['Engine Displacement'].mean().head(3)\n"
   ]
  },
  {
   "cell_type": "code",
   "execution_count": 18,
   "metadata": {},
   "outputs": [
    {
     "data": {
      "text/plain": [
       "Automatic 4-spd    10585\n",
       "Manual 5-spd        7787\n",
       "Automatic (S6)      2631\n",
       "Name: Transmission, dtype: int64"
      ]
     },
     "execution_count": 18,
     "metadata": {},
     "output_type": "execute_result"
    }
   ],
   "source": [
    "# What's the frequency of different transmissions, drivetrains and fuel types?\n",
    "df[\"Transmission\"].value_counts().head(3)"
   ]
  },
  {
   "cell_type": "code",
   "execution_count": 19,
   "metadata": {},
   "outputs": [
    {
     "data": {
      "text/plain": [
       "Front-Wheel Drive             13044\n",
       "Rear-Wheel Drive              12726\n",
       "4-Wheel or All-Wheel Drive     6503\n",
       "Name: Drivetrain, dtype: int64"
      ]
     },
     "execution_count": 19,
     "metadata": {},
     "output_type": "execute_result"
    }
   ],
   "source": [
    "df[\"Drivetrain\"].value_counts().head(3)"
   ]
  },
  {
   "cell_type": "code",
   "execution_count": 20,
   "metadata": {},
   "outputs": [
    {
     "data": {
      "text/plain": [
       "Compact Cars       5185\n",
       "Subcompact Cars    4374\n",
       "Midsize Cars       4063\n",
       "Name: Vehicle Class, dtype: int64"
      ]
     },
     "execution_count": 20,
     "metadata": {},
     "output_type": "execute_result"
    }
   ],
   "source": [
    "df[\"Vehicle Class\"].value_counts().head(3)"
   ]
  },
  {
   "cell_type": "code",
   "execution_count": 21,
   "metadata": {},
   "outputs": [
    {
     "data": {
      "text/plain": [
       "6.359254842857142"
      ]
     },
     "execution_count": 21,
     "metadata": {},
     "output_type": "execute_result"
    }
   ],
   "source": [
    "# What's the car that consumes the least/most fuel?\n",
    "fuel = list(df.groupby('Make')['Fuel Barrels/Year'].mean())\n",
    "min(fuel)"
   ]
  },
  {
   "cell_type": "markdown",
   "metadata": {
    "colab": {
     "base_uri": "https://localhost:8080/",
     "height": 686
    },
    "executionInfo": {
     "elapsed": 270,
     "status": "ok",
     "timestamp": 1623145362738,
     "user": {
      "displayName": "Ignacio Soteras",
      "photoUrl": "",
      "userId": "02050793736257155229"
     },
     "user_tz": -120
    },
    "id": "SV2s8Lm66Fg8",
    "outputId": "ca1f005a-f090-4cec-952f-8e20d3193b46"
   },
   "source": [
    "What brand has the worse CO2 Emissions on average?\n",
    "\n",
    "Hint: use the function `sort_values()`"
   ]
  },
  {
   "cell_type": "code",
   "execution_count": 22,
   "metadata": {},
   "outputs": [
    {
     "data": {
      "text/html": [
       "<div>\n",
       "<style scoped>\n",
       "    .dataframe tbody tr th:only-of-type {\n",
       "        vertical-align: middle;\n",
       "    }\n",
       "\n",
       "    .dataframe tbody tr th {\n",
       "        vertical-align: top;\n",
       "    }\n",
       "\n",
       "    .dataframe thead th {\n",
       "        text-align: right;\n",
       "    }\n",
       "</style>\n",
       "<table border=\"1\" class=\"dataframe\">\n",
       "  <thead>\n",
       "    <tr style=\"text-align: right;\">\n",
       "      <th></th>\n",
       "      <th>Make</th>\n",
       "      <th>Model</th>\n",
       "      <th>Year</th>\n",
       "      <th>Engine Displacement</th>\n",
       "      <th>Cylinders</th>\n",
       "      <th>Transmission</th>\n",
       "      <th>Drivetrain</th>\n",
       "      <th>Vehicle Class</th>\n",
       "      <th>Fuel Type</th>\n",
       "      <th>Fuel Barrels/Year</th>\n",
       "      <th>City MPG</th>\n",
       "      <th>Highway MPG</th>\n",
       "      <th>Combined MPG</th>\n",
       "      <th>CO2 Emission Grams/Mile</th>\n",
       "      <th>Fuel Cost/Year</th>\n",
       "      <th>TransBinary</th>\n",
       "      <th>City KmPL</th>\n",
       "      <th>Highway KmPL</th>\n",
       "      <th>Combined MPG KmPL</th>\n",
       "    </tr>\n",
       "  </thead>\n",
       "  <tbody>\n",
       "    <tr>\n",
       "      <th>0</th>\n",
       "      <td>AM General</td>\n",
       "      <td>DJ Po Vehicle 2WD</td>\n",
       "      <td>1984</td>\n",
       "      <td>2.5</td>\n",
       "      <td>4.0</td>\n",
       "      <td>Automatic 3-spd</td>\n",
       "      <td>2-Wheel Drive</td>\n",
       "      <td>Special Purpose Vehicle 2WD</td>\n",
       "      <td>Regular</td>\n",
       "      <td>19.388824</td>\n",
       "      <td>18</td>\n",
       "      <td>17</td>\n",
       "      <td>17</td>\n",
       "      <td>522.764706</td>\n",
       "      <td>1950</td>\n",
       "      <td>Automatic</td>\n",
       "      <td>7.652571</td>\n",
       "      <td>7.227428</td>\n",
       "      <td>7.227428</td>\n",
       "    </tr>\n",
       "  </tbody>\n",
       "</table>\n",
       "</div>"
      ],
      "text/plain": [
       "         Make              Model  Year  Engine Displacement  Cylinders  \\\n",
       "0  AM General  DJ Po Vehicle 2WD  1984                  2.5        4.0   \n",
       "\n",
       "      Transmission     Drivetrain                Vehicle Class Fuel Type  \\\n",
       "0  Automatic 3-spd  2-Wheel Drive  Special Purpose Vehicle 2WD   Regular   \n",
       "\n",
       "   Fuel Barrels/Year  City MPG  Highway MPG  Combined MPG  \\\n",
       "0          19.388824        18           17            17   \n",
       "\n",
       "   CO2 Emission Grams/Mile  Fuel Cost/Year TransBinary  City KmPL  \\\n",
       "0               522.764706            1950   Automatic   7.652571   \n",
       "\n",
       "   Highway KmPL  Combined MPG KmPL  \n",
       "0      7.227428           7.227428  "
      ]
     },
     "execution_count": 22,
     "metadata": {},
     "output_type": "execute_result"
    },
    {
     "data": {
      "text/html": [
       "<div>\n",
       "<style scoped>\n",
       "    .dataframe tbody tr th:only-of-type {\n",
       "        vertical-align: middle;\n",
       "    }\n",
       "\n",
       "    .dataframe tbody tr th {\n",
       "        vertical-align: top;\n",
       "    }\n",
       "\n",
       "    .dataframe thead th {\n",
       "        text-align: right;\n",
       "    }\n",
       "</style>\n",
       "<table border=\"1\" class=\"dataframe\">\n",
       "  <thead>\n",
       "    <tr style=\"text-align: right;\">\n",
       "      <th></th>\n",
       "      <th>Model</th>\n",
       "      <th>CO2 Emission Grams/Mile</th>\n",
       "    </tr>\n",
       "  </thead>\n",
       "  <tbody>\n",
       "    <tr>\n",
       "      <th>20897</th>\n",
       "      <td>Countach</td>\n",
       "      <td>1269.571429</td>\n",
       "    </tr>\n",
       "    <tr>\n",
       "      <th>20898</th>\n",
       "      <td>Countach</td>\n",
       "      <td>1269.571429</td>\n",
       "    </tr>\n",
       "    <tr>\n",
       "      <th>20896</th>\n",
       "      <td>Countach</td>\n",
       "      <td>1269.571429</td>\n",
       "    </tr>\n",
       "    <tr>\n",
       "      <th>20895</th>\n",
       "      <td>Countach</td>\n",
       "      <td>1269.571429</td>\n",
       "    </tr>\n",
       "    <tr>\n",
       "      <th>20894</th>\n",
       "      <td>Countach</td>\n",
       "      <td>1269.571429</td>\n",
       "    </tr>\n",
       "    <tr>\n",
       "      <th>...</th>\n",
       "      <td>...</td>\n",
       "      <td>...</td>\n",
       "    </tr>\n",
       "    <tr>\n",
       "      <th>7917</th>\n",
       "      <td>Volt</td>\n",
       "      <td>51.000000</td>\n",
       "    </tr>\n",
       "    <tr>\n",
       "      <th>7916</th>\n",
       "      <td>Volt</td>\n",
       "      <td>51.000000</td>\n",
       "    </tr>\n",
       "    <tr>\n",
       "      <th>3070</th>\n",
       "      <td>i3 REX</td>\n",
       "      <td>40.000000</td>\n",
       "    </tr>\n",
       "    <tr>\n",
       "      <th>3069</th>\n",
       "      <td>i3 REX</td>\n",
       "      <td>40.000000</td>\n",
       "    </tr>\n",
       "    <tr>\n",
       "      <th>3071</th>\n",
       "      <td>i3 REX</td>\n",
       "      <td>37.000000</td>\n",
       "    </tr>\n",
       "  </tbody>\n",
       "</table>\n",
       "<p>35952 rows × 2 columns</p>\n",
       "</div>"
      ],
      "text/plain": [
       "          Model  CO2 Emission Grams/Mile\n",
       "20897  Countach              1269.571429\n",
       "20898  Countach              1269.571429\n",
       "20896  Countach              1269.571429\n",
       "20895  Countach              1269.571429\n",
       "20894  Countach              1269.571429\n",
       "...         ...                      ...\n",
       "7917       Volt                51.000000\n",
       "7916       Volt                51.000000\n",
       "3070     i3 REX                40.000000\n",
       "3069     i3 REX                40.000000\n",
       "3071     i3 REX                37.000000\n",
       "\n",
       "[35952 rows x 2 columns]"
      ]
     },
     "execution_count": 22,
     "metadata": {},
     "output_type": "execute_result"
    }
   ],
   "source": [
    "df.head(1)\n",
    "df4 = df[[\"Model\", \"CO2 Emission Grams/Mile\"]]\n",
    "df4.sort_values(by=\"CO2 Emission Grams/Mile\", ascending=False)"
   ]
  },
  {
   "cell_type": "markdown",
   "metadata": {
    "id": "2avLmljX6Fg9"
   },
   "source": [
    "Do cars with automatic transmission consume more fuel than cars with manual transmission on average?"
   ]
  },
  {
   "cell_type": "code",
   "execution_count": 166,
   "metadata": {},
   "outputs": [
    {
     "data": {
      "text/plain": [
       "0        Automatic\n",
       "1        Automatic\n",
       "2        Automatic\n",
       "3        Automatic\n",
       "4        Automatic\n",
       "           ...    \n",
       "35947    Automatic\n",
       "35948    Automatic\n",
       "35949    Automatic\n",
       "35950    Automatic\n",
       "35951       Manual\n",
       "Name: TransBinary, Length: 35952, dtype: object"
      ]
     },
     "execution_count": 166,
     "metadata": {},
     "output_type": "execute_result"
    }
   ],
   "source": [
    "#df.TransBinary\n",
    "fuel = list(df.groupby('Make')['CO2 Emission Grams/Mile'].mean())\n"
   ]
  },
  {
   "cell_type": "code",
   "execution_count": 182,
   "metadata": {},
   "outputs": [
    {
     "data": {
      "text/plain": [
       "TransBinary\n",
       "Automatic    487.393450\n",
       "Manual       450.161732\n",
       "Name: CO2 Emission Grams/Mile, dtype: float64"
      ]
     },
     "execution_count": 182,
     "metadata": {},
     "output_type": "execute_result"
    }
   ],
   "source": [
    "df.groupby('TransBinary')['CO2 Emission Grams/Mile'].mean()"
   ]
  },
  {
   "cell_type": "code",
   "execution_count": null,
   "metadata": {},
   "outputs": [],
   "source": []
  }
 ],
 "metadata": {
  "colab": {
   "name": "Pandas_Grouping_Joining_Cars_Structure.ipynb",
   "provenance": []
  },
  "kernelspec": {
   "display_name": "Python 3 (ipykernel)",
   "language": "python",
   "name": "python3"
  },
  "language_info": {
   "codemirror_mode": {
    "name": "ipython",
    "version": 3
   },
   "file_extension": ".py",
   "mimetype": "text/x-python",
   "name": "python",
   "nbconvert_exporter": "python",
   "pygments_lexer": "ipython3",
   "version": "3.9.12"
  },
  "toc": {
   "base_numbering": 1,
   "nav_menu": {},
   "number_sections": true,
   "sideBar": true,
   "skip_h1_title": false,
   "title_cell": "Table of Contents",
   "title_sidebar": "Contents",
   "toc_cell": false,
   "toc_position": {},
   "toc_section_display": true,
   "toc_window_display": false
  },
  "varInspector": {
   "cols": {
    "lenName": 16,
    "lenType": 16,
    "lenVar": 40
   },
   "kernels_config": {
    "python": {
     "delete_cmd_postfix": "",
     "delete_cmd_prefix": "del ",
     "library": "var_list.py",
     "varRefreshCmd": "print(var_dic_list())"
    },
    "r": {
     "delete_cmd_postfix": ") ",
     "delete_cmd_prefix": "rm(",
     "library": "var_list.r",
     "varRefreshCmd": "cat(var_dic_list()) "
    }
   },
   "types_to_exclude": [
    "module",
    "function",
    "builtin_function_or_method",
    "instance",
    "_Feature"
   ],
   "window_display": false
  }
 },
 "nbformat": 4,
 "nbformat_minor": 1
}
