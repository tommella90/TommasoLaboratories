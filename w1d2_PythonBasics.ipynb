{
 "cells": [
  {
   "cell_type": "markdown",
   "id": "a1352d2e",
   "metadata": {
    "pycharm": {
     "name": "#%% md\n"
    }
   },
   "source": [
    "## STRING FUNCTIONS"
   ]
  },
  {
   "cell_type": "code",
   "execution_count": 1,
   "id": "5c8c6063",
   "metadata": {
    "pycharm": {
     "name": "#%%\n"
    }
   },
   "outputs": [
    {
     "name": "stdout",
     "output_type": "stream",
     "text": [
      "I am strengthening my programming skills in order to become a great Data Analyst Something\n"
     ]
    }
   ],
   "source": [
    "str_list = ['I', 'am', 'strengthening', 'my', 'programming', 'skills', 'in', 'order', 'to', 'become', 'a', 'great', 'Data','Analyst']\n",
    "\n",
    "sentence = \" \".join(str_list) + \" Something\"\n",
    "print(sentence) \n"
   ]
  },
  {
   "cell_type": "code",
   "execution_count": 2,
   "id": "a41e9b01",
   "metadata": {
    "pycharm": {
     "name": "#%%\n"
    }
   },
   "outputs": [
    {
     "data": {
      "text/plain": [
       "'Bananas, Chocolate, bread, diapers, Ice Cream, Brownie Mix, broccoli.'"
      ]
     },
     "execution_count": 2,
     "metadata": {},
     "output_type": "execute_result"
    }
   ],
   "source": [
    "food_list = ['Bananas', 'Chocolate', 'bread', 'diapers', 'Ice Cream', 'Brownie Mix', 'broccoli']\n",
    "\n",
    "\", \".join(food_list) + '.'"
   ]
  },
  {
   "cell_type": "code",
   "execution_count": 3,
   "id": "5a79be50",
   "metadata": {
    "pycharm": {
     "name": "#%%\n"
    }
   },
   "outputs": [
    {
     "data": {
      "text/plain": [
       "'Grocery list: bananas, bread, brownie mix, broccoli.'"
      ]
     },
     "execution_count": 3,
     "metadata": {},
     "output_type": "execute_result"
    }
   ],
   "source": [
    "b_list = []\n",
    "for i in food_list: \n",
    "    if i[0].lower() == 'b': \n",
    "        b_list.append(i)\n",
    "\n",
    "\"Grocery list: \" + \", \".join(b_list).lower() + \".\""
   ]
  },
  {
   "cell_type": "code",
   "execution_count": 4,
   "id": "2f51e595",
   "metadata": {
    "pycharm": {
     "name": "#%%\n"
    }
   },
   "outputs": [
    {
     "data": {
      "text/plain": [
       "'The area of the circle with radius: 4.5 is: 63.61725123519331'"
      ]
     },
     "execution_count": 4,
     "metadata": {},
     "output_type": "execute_result"
    }
   ],
   "source": [
    "import math\n",
    "\n",
    "string1 = \"The area of the circle with radius:\"\n",
    "string2  = \"is:\"\n",
    "radius = 4.5\n",
    "pi = math.pi\n",
    "area= pi*radius**2\n",
    "# Your code here:\n",
    "\n",
    "\n",
    "(f\"{string1} {radius} {string2} {area}\")\n"
   ]
  },
  {
   "cell_type": "markdown",
   "id": "05ae5ade",
   "metadata": {
    "pycharm": {
     "name": "#%% md\n"
    }
   },
   "source": [
    "# OPTIONALS "
   ]
  },
  {
   "cell_type": "markdown",
   "id": "784457ce",
   "metadata": {
    "pycharm": {
     "name": "#%% md\n"
    }
   },
   "source": [
    "## SETS"
   ]
  },
  {
   "cell_type": "code",
   "execution_count": 5,
   "id": "541ea9b7",
   "metadata": {
    "pycharm": {
     "name": "#%%\n"
    }
   },
   "outputs": [
    {
     "data": {
      "text/plain": [
       "80"
      ]
     },
     "execution_count": 5,
     "metadata": {},
     "output_type": "execute_result"
    }
   ],
   "source": [
    "import random \n",
    "sample_list = []\n",
    "\n",
    "for i in range(0,81):\n",
    "    sample_list.append(random.randint(1, 100))\n",
    "\n",
    "myList = random.sample(sample_list, 80, counts=None)\n",
    "len(myList)"
   ]
  },
  {
   "cell_type": "code",
   "execution_count": 6,
   "id": "0e77fafd",
   "metadata": {
    "pycharm": {
     "name": "#%%\n"
    }
   },
   "outputs": [
    {
     "data": {
      "text/plain": [
       "80"
      ]
     },
     "execution_count": 6,
     "metadata": {},
     "output_type": "execute_result"
    }
   ],
   "source": [
    "set1 = set(myList)\n",
    "len(myList)"
   ]
  },
  {
   "cell_type": "code",
   "execution_count": 7,
   "id": "e3762bc1",
   "metadata": {
    "pycharm": {
     "name": "#%%\n"
    }
   },
   "outputs": [
    {
     "name": "stdout",
     "output_type": "stream",
     "text": [
      "60\n"
     ]
    }
   ],
   "source": [
    "sample_list = []\n",
    "\n",
    "for i in range(0,81):\n",
    "    sample_list.append(random.randint(1, 100))\n",
    "\n",
    "myList2 = list(set(random.sample(sample_list, 80, counts=None)))\n",
    "print(len(myList2))\n",
    "set2 = set(random.sample(sample_list, 80, counts=None))"
   ]
  },
  {
   "cell_type": "code",
   "execution_count": 8,
   "id": "d77fedac",
   "metadata": {
    "pycharm": {
     "name": "#%%\n"
    }
   },
   "outputs": [
    {
     "name": "stdout",
     "output_type": "stream",
     "text": [
      "{1, 2, 3, 4, 5, 6, 7, 8, 9, 10, 11, 12, 13, 14, 16, 17, 19, 20, 21, 23, 24, 25, 27, 28, 30, 31, 32, 35, 36, 39, 40, 41, 42, 43, 44, 46, 47, 49, 50, 51, 52, 53, 54, 55, 56, 58, 59, 60, 61, 62, 63, 64, 65, 66, 67, 71, 72, 73, 74, 75, 76, 77, 78, 79, 80, 81, 83, 84, 86, 88, 89, 91, 92, 93, 94, 95, 96, 97, 98, 99, 100}\n"
     ]
    }
   ],
   "source": [
    "set3 = set1.union(set2)\n",
    "print(set3)"
   ]
  },
  {
   "cell_type": "code",
   "execution_count": 9,
   "id": "c833d818",
   "metadata": {
    "pycharm": {
     "name": "#%%\n"
    }
   },
   "outputs": [
    {
     "name": "stdout",
     "output_type": "stream",
     "text": [
      "{2, 3, 6, 8, 9, 12, 25, 31, 36, 46, 47, 50, 51, 52, 53, 54, 55, 59, 61, 62, 63, 66, 72, 75, 83, 91, 94, 97}\n"
     ]
    }
   ],
   "source": [
    "set4 = set2-set1\n",
    "print(set4)"
   ]
  },
  {
   "cell_type": "code",
   "execution_count": 10,
   "id": "a4957fb6",
   "metadata": {
    "pycharm": {
     "name": "#%%\n"
    }
   },
   "outputs": [
    {
     "name": "stdout",
     "output_type": "stream",
     "text": [
      "{1, 4, 7, 10, 11, 14, 20, 21, 24, 27, 28, 30, 32, 35, 39, 40, 44, 58, 60, 64, 67, 71, 73, 74, 79, 86, 89, 92, 93, 96, 98, 100}\n"
     ]
    }
   ],
   "source": [
    "set5 = set1.intersection(set2)\n",
    "print(set5)\n"
   ]
  },
  {
   "cell_type": "markdown",
   "id": "ba676bd5",
   "metadata": {
    "pycharm": {
     "name": "#%% md\n"
    }
   },
   "source": [
    "## Optional"
   ]
  },
  {
   "cell_type": "markdown",
   "id": "c399c033",
   "metadata": {
    "pycharm": {
     "name": "#%% md\n"
    }
   },
   "source": [
    "# DICTIONARIES"
   ]
  },
  {
   "cell_type": "markdown",
   "id": "68287a99",
   "metadata": {
    "pycharm": {
     "name": "#%% md\n"
    }
   },
   "source": [
    "#### Sort the keys of `word_freq` ascendingly.\n",
    "\n",
    "Please create a new dictionary called `word_freq2` based on `word_freq` with the keys sorted ascedingly.\n",
    "\n",
    "There are several ways to achieve that goal but many of the ways are beyond what we have covered so far in the course. There is one way that we'll describe employing what you have learned. Please feel free to use this way or any other way you want.\n",
    "\n",
    "1. First extract the keys of `word_freq` and convert it to a list called `keys`.\n",
    "\n",
    "1. Sort the `keys` list.\n",
    "\n",
    "1. Create an empty dictionary `word_freq2`.\n",
    "\n",
    "1. Use a FOR loop to iterate each value in `keys`. For each key iterated, find the corresponding value in `word_freq` and insert the key-value pair to `word_freq2`.\n",
    "\n",
    "Print out `word_freq2` to examine its keys and values. Your output should be:\n",
    "\n",
    "```python\n",
    "{'a': 8, 'about': 1, 'all': 1, 'although': 3, 'and': 23, 'are': 1, 'at': 1, 'baby': 14, 'backseat': 1, 'bag': 1, 'bar': 1, 'be': 16, 'bedsheets': 3, 'begin': 1, 'best': 1, 'body': 17, 'boy': 2, 'brand': 6, 'can': 1, 'chance': 1, 'club': 1, 'come': 37, 'conversation': 1, 'crazy': 2, 'dance': 1, 'date': 1, 'day': 6, 'discovering': 6, 'do': 3, 'doing': 2, \"don't\": 2, 'drinking': 1, 'driver': 1, 'eat': 1, 'every': 6, 'falling': 3, 'family': 1, 'fast': 1, 'fill': 2, 'find': 1, 'first': 1, 'follow': 6, 'for': 3, 'friends': 1, 'get': 1, 'girl': 2, 'give': 1, 'go': 2, 'going': 1, 'grab': 2, 'hand': 1, 'handmade': 2, 'heart': 3, 'hours': 2, 'how': 1, 'i': 6, \"i'll\": 1, \"i'm\": 23, 'in': 27, 'is': 5, \"isn't\": 1, 'it': 1, 'jukebox': 1, 'just': 1, 'kiss': 1, 'know': 2, 'last': 3, 'lead': 6, 'leave': 1, 'let': 1, \"let's\": 2, 'like': 10, 'love': 25, 'lover': 1, 'magnet': 3, 'make': 1, 'man': 1, 'may': 2, 'me': 10, 'mind': 2, 'much': 2, 'my': 33, 'new': 6, 'night': 3, 'not': 2, 'now': 11, 'of': 6, 'okay': 1, 'on': 40, 'one': 1, 'our': 1, 'out': 1, 'over': 1, 'place': 1, 'plate': 1, 'play': 1, 'pull': 3, 'push': 3, 'put': 3, 'radio': 1, 'room': 3, 'say': 2, 'shape': 6, 'shots': 1, 'singing': 2, 'slow': 1, 'smell': 3, 'so': 2, 'somebody': 2, 'something': 6, 'sour': 1, 'start': 2, 'stop': 1, 'story': 1, 'sweet': 1, 'table': 1, 'take': 1, 'talk': 4, 'taxi': 1, 'tell': 1, 'that': 2, 'the': 18, 'then': 3, 'thrifty': 1, 'to': 2, 'too': 5, 'trust': 1, 'up': 3, 'van': 1, 'waist': 2, 'want': 2, 'was': 2, 'we': 7, \"we're\": 1, 'week': 1, 'were': 3, 'where': 1, 'with': 22, 'you': 16, 'your': 21}\n",
    "```"
   ]
  },
  {
   "cell_type": "code",
   "execution_count": 11,
   "id": "cac49221",
   "metadata": {
    "pycharm": {
     "name": "#%%\n"
    }
   },
   "outputs": [],
   "source": [
    "word_freq = {'love': 25, 'conversation': 1, 'every': 6, \"we're\": 1, 'plate': 1, 'sour': 1, 'jukebox': 1, 'now': 11, 'taxi': 1, 'fast': 1, 'bag': 1, 'man': 1, 'push': 3, 'baby': 14, 'going': 1, 'you': 16, \"don't\": 2, 'one': 1, 'mind': 2, 'backseat': 1, 'friends': 1, 'then': 3, 'know': 2, 'take': 1, 'play': 1, 'okay': 1, 'so': 2, 'begin': 1, 'start': 2, 'over': 1, 'body': 17, 'boy': 2, 'just': 1, 'we': 7, 'are': 1, 'girl': 2, 'tell': 1, 'singing': 2, 'drinking': 1, 'put': 3, 'our': 1, 'where': 1, \"i'll\": 1, 'all': 1, \"isn't\": 1, 'make': 1, 'lover': 1, 'get': 1, 'radio': 1, 'give': 1, \"i'm\": 23, 'like': 10, 'can': 1, 'doing': 2, 'with': 22, 'club': 1, 'come': 37, 'it': 1, 'somebody': 2, 'handmade': 2, 'out': 1, 'new': 6, 'room': 3, 'chance': 1, 'follow': 6, 'in': 27, 'may': 2, 'brand': 6, 'that': 2, 'magnet': 3, 'up': 3, 'first': 1, 'and': 23, 'pull': 3, 'of': 6, 'table': 1, 'much': 2, 'last': 3, 'i': 6, 'thrifty': 1, 'grab': 2, 'was': 2, 'driver': 1, 'slow': 1, 'dance': 1, 'the': 18, 'say': 2, 'trust': 1, 'family': 1, 'week': 1, 'date': 1, 'me': 10, 'do': 3, 'waist': 2, 'smell': 3, 'day': 6, 'although': 3, 'your': 21, 'leave': 1, 'want': 2, \"let's\": 2, 'lead': 6, 'at': 1, 'hand': 1, 'how': 1, 'talk': 4, 'not': 2, 'eat': 1, 'falling': 3, 'about': 1, 'story': 1, 'sweet': 1, 'best': 1, 'crazy': 2, 'let': 1, 'too': 5, 'van': 1, 'shots': 1, 'go': 2, 'to': 2, 'a': 8, 'my': 33, 'is': 5, 'place': 1, 'find': 1, 'shape': 6, 'on': 40, 'kiss': 1, 'were': 3, 'night': 3, 'heart': 3, 'for': 3, 'discovering': 6, 'something': 6, 'be': 16, 'bedsheets': 3, 'fill': 2, 'hours': 2, 'stop': 1, 'bar': 1}"
   ]
  },
  {
   "cell_type": "markdown",
   "id": "f1ca098e",
   "metadata": {
    "pycharm": {
     "name": "#%% md\n"
    }
   },
   "source": [
    "### 3rd try"
   ]
  },
  {
   "cell_type": "code",
   "execution_count": 12,
   "id": "9dd671c6",
   "metadata": {
    "pycharm": {
     "name": "#%%\n"
    }
   },
   "outputs": [
    {
     "name": "stdout",
     "output_type": "stream",
     "text": [
      "{'a': 8, 'about': 1, 'all': 1, 'although': 3, 'and': 23, 'are': 1, 'at': 1, 'baby': 14, 'backseat': 1, 'bag': 1, 'bar': 1, 'be': 16, 'bedsheets': 3, 'begin': 1, 'best': 1, 'body': 17, 'boy': 2, 'brand': 6, 'can': 1, 'chance': 1, 'club': 1, 'come': 37, 'conversation': 1, 'crazy': 2, 'dance': 1, 'date': 1, 'day': 6, 'discovering': 6, 'do': 3, 'doing': 2, \"don't\": 2, 'drinking': 1, 'driver': 1, 'eat': 1, 'every': 6, 'falling': 3, 'family': 1, 'fast': 1, 'fill': 2, 'find': 1, 'first': 1, 'follow': 6, 'for': 3, 'friends': 1, 'get': 1, 'girl': 2, 'give': 1, 'go': 2, 'going': 1, 'grab': 2, 'hand': 1, 'handmade': 2, 'heart': 3, 'hours': 2, 'how': 1, 'i': 6, \"i'll\": 1, \"i'm\": 23, 'in': 27, 'is': 5, \"isn't\": 1, 'it': 1, 'jukebox': 1, 'just': 1, 'kiss': 1, 'know': 2, 'last': 3, 'lead': 6, 'leave': 1, 'let': 1, \"let's\": 2, 'like': 10, 'love': 25, 'lover': 1, 'magnet': 3, 'make': 1, 'man': 1, 'may': 2, 'me': 10, 'mind': 2, 'much': 2, 'my': 33, 'new': 6, 'night': 3, 'not': 2, 'now': 11, 'of': 6, 'okay': 1, 'on': 40, 'one': 1, 'our': 1, 'out': 1, 'over': 1, 'place': 1, 'plate': 1, 'play': 1, 'pull': 3, 'push': 3, 'put': 3, 'radio': 1, 'room': 3, 'say': 2, 'shape': 6, 'shots': 1, 'singing': 2, 'slow': 1, 'smell': 3, 'so': 2, 'somebody': 2, 'something': 6, 'sour': 1, 'start': 2, 'stop': 1, 'story': 1, 'sweet': 1, 'table': 1, 'take': 1, 'talk': 4, 'taxi': 1, 'tell': 1, 'that': 2, 'the': 18, 'then': 3, 'thrifty': 1, 'to': 2, 'too': 5, 'trust': 1, 'up': 3, 'van': 1, 'waist': 2, 'want': 2, 'was': 2, 'we': 7, \"we're\": 1, 'week': 1, 'were': 3, 'where': 1, 'with': 22, 'you': 16, 'your': 21}\n"
     ]
    }
   ],
   "source": [
    "listKeys = list(word_freq.keys())\n",
    "listKeys.sort()\n",
    "\n",
    "word_freq2 = {}\n",
    "\n",
    "for keys in listKeys:\n",
    "    val = word_freq[keys]\n",
    "    word_freq2[keys] = val\n",
    "\n",
    "print(word_freq2)\n"
   ]
  },
  {
   "cell_type": "markdown",
   "id": "4d79bdca",
   "metadata": {
    "pycharm": {
     "name": "#%% md\n"
    }
   },
   "source": [
    "### 2rd try"
   ]
  },
  {
   "cell_type": "code",
   "execution_count": 13,
   "id": "cf4ffc6c",
   "metadata": {
    "pycharm": {
     "name": "#%%\n"
    }
   },
   "outputs": [
    {
     "name": "stdout",
     "output_type": "stream",
     "text": [
      "['a', 'b', 'c']\n",
      "38\n",
      "12\n",
      "59\n",
      "{'a': 38, 'b': 12, 'c': 59}\n"
     ]
    }
   ],
   "source": [
    "dict1 = {'b': 12, 'a':38, 'c':59}\n",
    "dict2 = {}\n",
    "\n",
    "listKeys2 = list(dict1.keys())\n",
    "listKeys2.sort()\n",
    "\n",
    "print(listKeys2)\n",
    "\n",
    "for i in listKeys2:\n",
    "    x = dict1[i]\n",
    "    print(x)\n",
    "    dict2[i] = x\n",
    "\n",
    "print(dict2)"
   ]
  },
  {
   "cell_type": "markdown",
   "id": "a7c94ab7",
   "metadata": {
    "pycharm": {
     "name": "#%% md\n"
    }
   },
   "source": [
    "### 1rd try"
   ]
  },
  {
   "cell_type": "code",
   "execution_count": 14,
   "id": "80268b13",
   "metadata": {
    "pycharm": {
     "name": "#%%\n"
    }
   },
   "outputs": [
    {
     "name": "stdout",
     "output_type": "stream",
     "text": [
      "{'a': 8, 'about': 1, 'all': 1, 'although': 3, 'and': 23, 'are': 1, 'at': 1, 'baby': 14, 'backseat': 1, 'bag': 1, 'bar': 1, 'be': 16, 'bedsheets': 3, 'begin': 1, 'best': 1, 'body': 17, 'boy': 2, 'brand': 6, 'can': 1, 'chance': 1, 'club': 1, 'come': 37, 'conversation': 1, 'crazy': 2, 'dance': 1, 'date': 1, 'day': 6, 'discovering': 6, 'do': 3, 'doing': 2, \"don't\": 2, 'drinking': 1, 'driver': 1, 'eat': 1, 'every': 6, 'falling': 3, 'family': 1, 'fast': 1, 'fill': 2, 'find': 1, 'first': 1, 'follow': 6, 'for': 3, 'friends': 1, 'get': 1, 'girl': 2, 'give': 1, 'go': 2, 'going': 1, 'grab': 2, 'hand': 1, 'handmade': 2, 'heart': 3, 'hours': 2, 'how': 1, 'i': 6, \"i'll\": 1, \"i'm\": 23, 'in': 27, 'is': 5, \"isn't\": 1, 'it': 1, 'jukebox': 1, 'just': 1, 'kiss': 1, 'know': 2, 'last': 3, 'lead': 6, 'leave': 1, 'let': 1, \"let's\": 2, 'like': 10, 'love': 25, 'lover': 1, 'magnet': 3, 'make': 1, 'man': 1, 'may': 2, 'me': 10, 'mind': 2, 'much': 2, 'my': 33, 'new': 6, 'night': 3, 'not': 2, 'now': 11, 'of': 6, 'okay': 1, 'on': 40, 'one': 1, 'our': 1, 'out': 1, 'over': 1, 'place': 1, 'plate': 1, 'play': 1, 'pull': 3, 'push': 3, 'put': 3, 'radio': 1, 'room': 3, 'say': 2, 'shape': 6, 'shots': 1, 'singing': 2, 'slow': 1, 'smell': 3, 'so': 2, 'somebody': 2, 'something': 6, 'sour': 1, 'start': 2, 'stop': 1, 'story': 1, 'sweet': 1, 'table': 1, 'take': 1, 'talk': 4, 'taxi': 1, 'tell': 1, 'that': 2, 'the': 18, 'then': 3, 'thrifty': 1, 'to': 2, 'too': 5, 'trust': 1, 'up': 3, 'van': 1, 'waist': 2, 'want': 2, 'was': 2, 'we': 7, \"we're\": 1, 'week': 1, 'were': 3, 'where': 1, 'with': 22, 'you': 16, 'your': 21}\n"
     ]
    }
   ],
   "source": [
    "listPairs = []\n",
    "\n",
    "for a, b in word_freq.items():\n",
    "    pair = (a, b)\n",
    "    listPairs.append(pair)\n",
    "listPairs.sort()\n",
    "#print(listPairs)\n",
    "\n",
    "num = len(listPairs)\n",
    "listKeys = []\n",
    "listVals = []\n",
    "\n",
    "for i in range(0, num):\n",
    "    key = listPairs[i][0]\n",
    "    listKeys.append(key)\n",
    "    value = listPairs[i][1]\n",
    "    listVals.append(value)\n",
    "\n",
    "dictionary = dict(zip(listKeys, listVals))\n",
    "print(dictionary)"
   ]
  },
  {
   "cell_type": "markdown",
   "id": "8fc907db",
   "metadata": {
    "pycharm": {
     "name": "#%% md\n"
    }
   },
   "source": [
    "## optional "
   ]
  },
  {
   "cell_type": "code",
   "execution_count": 15,
   "id": "9c723186",
   "metadata": {
    "pycharm": {
     "name": "#%%\n"
    }
   },
   "outputs": [
    {
     "name": "stdout",
     "output_type": "stream",
     "text": [
      "{'about': 1, 'all': 1, 'are': 1, 'at': 1, 'backseat': 1, 'bag': 1, 'bar': 1, 'begin': 1, 'best': 1, 'can': 1, 'chance': 1, 'club': 1, 'conversation': 1, 'dance': 1, 'date': 1, 'drinking': 1, 'driver': 1, 'eat': 1, 'family': 1, 'fast': 1, 'find': 1, 'first': 1, 'friends': 1, 'get': 1, 'give': 1, 'going': 1, 'hand': 1, 'how': 1, \"i'll\": 1, \"isn't\": 1, 'it': 1, 'jukebox': 1, 'just': 1, 'kiss': 1, 'leave': 1, 'let': 1, 'lover': 1, 'make': 1, 'man': 1, 'okay': 1, 'one': 1, 'our': 1, 'out': 1, 'over': 1, 'place': 1, 'plate': 1, 'play': 1, 'radio': 1, 'shots': 1, 'slow': 1, 'sour': 1, 'stop': 1, 'story': 1, 'sweet': 1, 'table': 1, 'take': 1, 'taxi': 1, 'tell': 1, 'thrifty': 1, 'trust': 1, 'van': 1, \"we're\": 1, 'week': 1, 'where': 1, 'boy': 2, 'crazy': 2, 'doing': 2, \"don't\": 2, 'fill': 2, 'girl': 2, 'go': 2, 'grab': 2, 'handmade': 2, 'hours': 2, 'know': 2, \"let's\": 2, 'may': 2, 'mind': 2, 'much': 2, 'not': 2, 'say': 2, 'singing': 2, 'so': 2, 'somebody': 2, 'start': 2, 'that': 2, 'to': 2, 'waist': 2, 'want': 2, 'was': 2, 'although': 3, 'bedsheets': 3, 'do': 3, 'falling': 3, 'for': 3, 'heart': 3, 'last': 3, 'magnet': 3, 'night': 3, 'pull': 3, 'push': 3, 'put': 3, 'room': 3, 'smell': 3, 'then': 3, 'up': 3, 'were': 3, 'talk': 4, 'is': 5, 'too': 5, 'brand': 6, 'day': 6, 'discovering': 6, 'every': 6, 'follow': 6, 'i': 6, 'lead': 6, 'new': 6, 'of': 6, 'shape': 6, 'something': 6, 'we': 7, 'a': 8, 'like': 10, 'me': 10, 'now': 11, 'baby': 14, 'be': 16, 'you': 16, 'body': 17, 'the': 18, 'your': 21, 'with': 22, 'and': 23, \"i'm\": 23, 'love': 25, 'in': 27, 'my': 33, 'come': 37, 'on': 40}\n"
     ]
    }
   ],
   "source": [
    "listPairs = []\n",
    "\n",
    "for a, b in word_freq.items():\n",
    "    pair = (b, a)\n",
    "    listPairs.append(pair)\n",
    "listPairs.sort()\n",
    "#print(listPairs)\n",
    "\n",
    "\n",
    "num = len(listPairs)\n",
    "listKeys = []\n",
    "listVals = []\n",
    "\n",
    "for i in range(0, num):\n",
    "    key = listPairs[i][0]\n",
    "    listVals.append(key)\n",
    "    value = listPairs[i][1]\n",
    "    listKeys.append(value)\n",
    "\n",
    "dictionary = dict(zip(listKeys, listVals))\n",
    "print(dictionary)\n"
   ]
  },
  {
   "cell_type": "code",
   "execution_count": 16,
   "id": "d3a57237",
   "metadata": {
    "pycharm": {
     "name": "#%%\n"
    }
   },
   "outputs": [
    {
     "name": "stdout",
     "output_type": "stream",
     "text": [
      "[('conversation', 1), (\"we're\", 1), ('plate', 1), ('sour', 1), ('jukebox', 1), ('taxi', 1), ('fast', 1), ('bag', 1), ('man', 1), ('going', 1), ('one', 1), ('backseat', 1), ('friends', 1), ('take', 1), ('play', 1), ('okay', 1), ('begin', 1), ('over', 1), ('just', 1), ('are', 1), ('tell', 1), ('drinking', 1), ('our', 1), ('where', 1), (\"i'll\", 1), ('all', 1), (\"isn't\", 1), ('make', 1), ('lover', 1), ('get', 1), ('radio', 1), ('give', 1), ('can', 1), ('club', 1), ('it', 1), ('out', 1), ('chance', 1), ('first', 1), ('table', 1), ('thrifty', 1), ('driver', 1), ('slow', 1), ('dance', 1), ('trust', 1), ('family', 1), ('week', 1), ('date', 1), ('leave', 1), ('at', 1), ('hand', 1), ('how', 1), ('eat', 1), ('about', 1), ('story', 1), ('sweet', 1), ('best', 1), ('let', 1), ('van', 1), ('shots', 1), ('place', 1), ('find', 1), ('kiss', 1), ('stop', 1), ('bar', 1), (\"don't\", 2), ('mind', 2), ('know', 2), ('so', 2), ('start', 2), ('boy', 2), ('girl', 2), ('singing', 2), ('doing', 2), ('somebody', 2), ('handmade', 2), ('may', 2), ('that', 2), ('much', 2), ('grab', 2), ('was', 2), ('say', 2), ('waist', 2), ('want', 2), (\"let's\", 2), ('not', 2), ('crazy', 2), ('go', 2), ('to', 2), ('fill', 2), ('hours', 2), ('push', 3), ('then', 3), ('put', 3), ('room', 3), ('magnet', 3), ('up', 3), ('pull', 3), ('last', 3), ('do', 3), ('smell', 3), ('although', 3), ('falling', 3), ('were', 3), ('night', 3), ('heart', 3), ('for', 3), ('bedsheets', 3), ('talk', 4), ('too', 5), ('is', 5), ('every', 6), ('new', 6), ('follow', 6), ('brand', 6), ('of', 6), ('i', 6), ('day', 6), ('lead', 6), ('shape', 6), ('discovering', 6), ('something', 6), ('we', 7), ('a', 8), ('like', 10), ('me', 10), ('now', 11), ('baby', 14), ('you', 16), ('be', 16), ('body', 17), ('the', 18), ('your', 21), ('with', 22), (\"i'm\", 23), ('and', 23), ('love', 25), ('in', 27), ('my', 33), ('come', 37), ('on', 40)]\n"
     ]
    }
   ],
   "source": [
    "import operator\n",
    "sorted_tups = sorted(word_freq.items(), key=operator.itemgetter(1))\n",
    "print(sorted_tups)"
   ]
  },
  {
   "cell_type": "code",
   "execution_count": 17,
   "id": "285db1c9",
   "metadata": {
    "pycharm": {
     "name": "#%%\n"
    }
   },
   "outputs": [
    {
     "name": "stdout",
     "output_type": "stream",
     "text": [
      "{'conversation': 1, \"we're\": 1, 'plate': 1, 'sour': 1, 'jukebox': 1, 'taxi': 1, 'fast': 1, 'bag': 1, 'man': 1, 'going': 1, 'one': 1, 'backseat': 1, 'friends': 1, 'take': 1, 'play': 1, 'okay': 1, 'begin': 1, 'over': 1, 'just': 1, 'are': 1, 'tell': 1, 'drinking': 1, 'our': 1, 'where': 1, \"i'll\": 1, 'all': 1, \"isn't\": 1, 'make': 1, 'lover': 1, 'get': 1, 'radio': 1, 'give': 1, 'can': 1, 'club': 1, 'it': 1, 'out': 1, 'chance': 1, 'first': 1, 'table': 1, 'thrifty': 1, 'driver': 1, 'slow': 1, 'dance': 1, 'trust': 1, 'family': 1, 'week': 1, 'date': 1, 'leave': 1, 'at': 1, 'hand': 1, 'how': 1, 'eat': 1, 'about': 1, 'story': 1, 'sweet': 1, 'best': 1, 'let': 1, 'van': 1, 'shots': 1, 'place': 1, 'find': 1, 'kiss': 1, 'stop': 1, 'bar': 1, \"don't\": 2, 'mind': 2, 'know': 2, 'so': 2, 'start': 2, 'boy': 2, 'girl': 2, 'singing': 2, 'doing': 2, 'somebody': 2, 'handmade': 2, 'may': 2, 'that': 2, 'much': 2, 'grab': 2, 'was': 2, 'say': 2, 'waist': 2, 'want': 2, \"let's\": 2, 'not': 2, 'crazy': 2, 'go': 2, 'to': 2, 'fill': 2, 'hours': 2, 'push': 3, 'then': 3, 'put': 3, 'room': 3, 'magnet': 3, 'up': 3, 'pull': 3, 'last': 3, 'do': 3, 'smell': 3, 'although': 3, 'falling': 3, 'were': 3, 'night': 3, 'heart': 3, 'for': 3, 'bedsheets': 3, 'talk': 4, 'too': 5, 'is': 5, 'every': 6, 'new': 6, 'follow': 6, 'brand': 6, 'of': 6, 'i': 6, 'day': 6, 'lead': 6, 'shape': 6, 'discovering': 6, 'something': 6, 'we': 7, 'a': 8, 'like': 10, 'me': 10, 'now': 11, 'baby': 14, 'you': 16, 'be': 16, 'body': 17, 'the': 18, 'your': 21, 'with': 22, \"i'm\": 23, 'and': 23, 'love': 25, 'in': 27, 'my': 33, 'come': 37, 'on': 40}\n"
     ]
    }
   ],
   "source": [
    "dictionary2 = {}\n",
    "\n",
    "for i in sorted_tups: \n",
    "    dictionary2[i[0]] = i[1]\n",
    "    \n",
    "print(dictionary2)"
   ]
  },
  {
   "cell_type": "code",
   "execution_count": 18,
   "id": "85ca6e0d",
   "metadata": {
    "pycharm": {
     "name": "#%%\n"
    }
   },
   "outputs": [
    {
     "name": "stdout",
     "output_type": "stream",
     "text": [
      "                0   1\n",
      "0    conversation   1\n",
      "1           we're   1\n",
      "2           plate   1\n",
      "3            sour   1\n",
      "4         jukebox   1\n",
      "..            ...  ..\n",
      "135          love  25\n",
      "136            in  27\n",
      "137            my  33\n",
      "138          come  37\n",
      "139            on  40\n",
      "\n",
      "[140 rows x 2 columns]\n"
     ]
    }
   ],
   "source": [
    "import pandas as pd\n",
    "df = pd.DataFrame(sorted_tups)\n",
    "print(df)"
   ]
  },
  {
   "cell_type": "markdown",
   "id": "4f63cf5e",
   "metadata": {
    "pycharm": {
     "name": "#%% md\n"
    }
   },
   "source": [
    "# OPTIONAL: DICTIONARIES **2"
   ]
  },
  {
   "cell_type": "code",
   "execution_count": 19,
   "id": "f297bad8",
   "metadata": {
    "pycharm": {
     "name": "#%%\n"
    }
   },
   "outputs": [
    {
     "name": "stdout",
     "output_type": "stream",
     "text": [
      "{'hundred': 10, 'twohundred': 20, 'threehundred': 30}\n",
      "{'hundred': 10, 'twohundred': 20, 'threehundred': 30}\n"
     ]
    }
   ],
   "source": [
    "keys = ['hundred', 'twohundred', 'threehundred']\n",
    "values = [10, 20, 30]\n",
    "\n",
    "myDict = {}\n",
    "\n",
    "for i in range(0, len(keys)):\n",
    "    myDict[keys[i]] = values[i]\n",
    "\n",
    "print(myDict)\n",
    "\n",
    "myDict2 = dict(zip(keys, values))\n",
    "print(myDict2)\n"
   ]
  },
  {
   "cell_type": "code",
   "execution_count": 20,
   "id": "4bec6e20",
   "metadata": {
    "pycharm": {
     "name": "#%%\n"
    }
   },
   "outputs": [
    {
     "name": "stdout",
     "output_type": "stream",
     "text": [
      "{'One': 1, 'Two': 2, 'Six': 6, 'Thirty': 30, 'Fourty': 40, 'Fifty': 50}\n"
     ]
    }
   ],
   "source": [
    "dict1 = {'One': 1, 'Two': 2, 'Six': 6}\n",
    "dict2 = {'Thirty': 30, 'Fourty': 40, 'Fifty': 50}\n",
    "\n",
    "dict1.update(dict2)\n",
    "print(dict1)\n"
   ]
  },
  {
   "cell_type": "markdown",
   "id": "25e52f29",
   "metadata": {
    "pycharm": {
     "name": "#%% md\n"
    }
   },
   "source": [
    "#### nested dict"
   ]
  },
  {
   "cell_type": "code",
   "execution_count": 21,
   "id": "27bb5afb",
   "metadata": {
    "pycharm": {
     "name": "#%%\n"
    }
   },
   "outputs": [],
   "source": [
    "sampleDict = {\n",
    "    \"class\":{\n",
    "        \"student_list\":{\n",
    "            \"Anna\":{\n",
    "                \"marks\":{\n",
    "                    \"physics\":[70, 20, 100, 20],\n",
    "                    \"history\":[80,10,55,35],\n",
    "                    \"math\":[100, 90, 70, 35],\n",
    "                }\n",
    "            },\n",
    "            \"Martin\":{\n",
    "                \"marks\":{\n",
    "                    \"french\":[20, 10, 35, 45],\n",
    "                    \"spanish\":[40, 75, 50, 90],\n",
    "                    \"math\": [90,85, 90, 95],\n",
    "                }\n",
    "            },\n",
    "            \"Richard\":{\n",
    "                \"marks\":{\n",
    "                    \"physics\":[10, 10, 0, 90],\n",
    "                    \"biology\":[50, 50, 70, 75],\n",
    "                    \"math\":[90, 70, 50, 40],\n",
    "                }\n",
    "            }\n",
    "        }\n",
    "    }\n",
    "}"
   ]
  },
  {
   "cell_type": "markdown",
   "id": "52d5f8e3",
   "metadata": {
    "pycharm": {
     "name": "#%% md\n"
    }
   },
   "source": [
    "- Store Martin’s French grades in a variable called martins_french by navigating to the value using keys and values. \n",
    "- Calculate the mean of Richard's biology's grades**\n"
   ]
  },
  {
   "cell_type": "code",
   "execution_count": 22,
   "id": "87874eb8",
   "metadata": {
    "pycharm": {
     "name": "#%%\n"
    }
   },
   "outputs": [
    {
     "data": {
      "text/plain": [
       "27.5"
      ]
     },
     "execution_count": 22,
     "metadata": {},
     "output_type": "execute_result"
    }
   ],
   "source": [
    "import statistics\n",
    "MartinFrenc = sampleDict[\"class\"][\"student_list\"][\"Martin\"][\"marks\"][\"french\"]\n",
    "statistics.mean(MartinFrenc)"
   ]
  },
  {
   "cell_type": "code",
   "execution_count": 23,
   "id": "b141b2de",
   "metadata": {
    "pycharm": {
     "name": "#%%\n"
    }
   },
   "outputs": [
    {
     "data": {
      "text/plain": [
       "61.25"
      ]
     },
     "execution_count": 23,
     "metadata": {},
     "output_type": "execute_result"
    }
   ],
   "source": [
    "RichardBio = sampleDict[\"class\"][\"student_list\"][\"Richard\"][\"marks\"][\"biology\"]\n",
    "statistics.mean(RichardBio)"
   ]
  },
  {
   "cell_type": "code",
   "execution_count": 24,
   "id": "9585f2c4",
   "metadata": {
    "pycharm": {
     "name": "#%%\n"
    }
   },
   "outputs": [
    {
     "name": "stdout",
     "output_type": "stream",
     "text": [
      "dict_keys(['Anna', 'Martin', 'Richard'])\n"
     ]
    }
   ],
   "source": [
    "# **Return a list of all the students**\n",
    "studentsList = sampleDict[\"class\"][\"student_list\"].keys()\n",
    "print(studentsList)"
   ]
  },
  {
   "cell_type": "code",
   "execution_count": 25,
   "id": "f40f2e43",
   "metadata": {
    "pycharm": {
     "name": "#%%\n"
    }
   },
   "outputs": [
    {
     "name": "stdout",
     "output_type": "stream",
     "text": [
      "10\n"
     ]
    }
   ],
   "source": [
    "# **Return Anna's 2nd grade in history**\n",
    "AnnaHistory2 = sampleDict[\"class\"][\"student_list\"][\"Anna\"][\"marks\"][\"history\"]\n",
    "print(AnnaHistory2[1])"
   ]
  },
  {
   "cell_type": "code",
   "execution_count": 26,
   "id": "0690b074",
   "metadata": {
    "pycharm": {
     "name": "#%%\n"
    }
   },
   "outputs": [
    {
     "name": "stdout",
     "output_type": "stream",
     "text": [
      "100\n",
      "35\n",
      "0\n",
      "55\n",
      "50\n",
      "70\n",
      "70\n",
      "90\n",
      "50\n"
     ]
    }
   ],
   "source": [
    "#**Return all the grades that are 3rd in the list for every subject for all the students**\n",
    "\n",
    "listGrades = []\n",
    "\n",
    "for num in range(0, len(studentsList)):\n",
    "    for students in studentsList:\n",
    "        x = list(sampleDict[\"class\"][\"student_list\"][students][\"marks\"].values())[num][2]\n",
    "        print(x)\n",
    "        listGrades.append(x)\n"
   ]
  },
  {
   "cell_type": "code",
   "execution_count": 27,
   "id": "f2c5935d",
   "metadata": {
    "pycharm": {
     "name": "#%%\n"
    }
   },
   "outputs": [],
   "source": [
    "# **Get all the grades and store them in a list `all_grades` Calculate the mean (solution: 55.97)**\n"
   ]
  },
  {
   "cell_type": "code",
   "execution_count": 28,
   "id": "5e4c05ef",
   "metadata": {
    "pycharm": {
     "name": "#%%\n"
    }
   },
   "outputs": [
    {
     "name": "stdout",
     "output_type": "stream",
     "text": [
      "55.97222222222222\n"
     ]
    }
   ],
   "source": [
    "listGrades2 = []\n",
    "for students in studentsList:\n",
    "    x = list(sampleDict[\"class\"][\"student_list\"][students][\"marks\"].values())\n",
    "    #print(x)\n",
    "    listGrades2.append(x)\n",
    "\n",
    "mean1 = []\n",
    "for i in listGrades2:\n",
    "    for x in i:\n",
    "        mean1.append(statistics.mean(x)) \n",
    "    \n",
    "mean2 = statistics.mean(mean1)\n",
    "print(mean2)\n",
    "    \n",
    "#statistics.mean(listGrades2)"
   ]
  },
  {
   "cell_type": "markdown",
   "id": "60d46e4e",
   "metadata": {
    "pycharm": {
     "name": "#%% md\n"
    }
   },
   "source": [
    "#### nested dict"
   ]
  },
  {
   "cell_type": "code",
   "execution_count": 29,
   "id": "dfd26c2c",
   "metadata": {
    "pycharm": {
     "name": "#%%\n"
    }
   },
   "outputs": [],
   "source": [
    "sampleDict = {\n",
    "    \"class\":{\n",
    "        \"student_list\":{\n",
    "            \"Anna\":{\n",
    "                \"marks\":{\n",
    "                    \"physics\":[70, 20, 100, 20],\n",
    "                    \"history\":[80,10,55,35],\n",
    "                    \"math\":[100, 90, 70, 35],\n",
    "                }\n",
    "            },\n",
    "            \"Martin\":{\n",
    "                \"marks\":{\n",
    "                    \"french\":[20, 10, 35, 45],\n",
    "                    \"spanish\":[40, 75, 50, 90],\n",
    "                    \"math\": [90,85, 90, 95],\n",
    "                }\n",
    "            },\n",
    "            \"Richard\":{\n",
    "                \"marks\":{\n",
    "                    \"physics\":[10, 10, 0, 90],\n",
    "                    \"biology\":[50, 50, 70, 75],\n",
    "                    \"math\":[90, 70, 50, 40],\n",
    "                }\n",
    "            }\n",
    "        }\n",
    "    }\n",
    "}"
   ]
  },
  {
   "cell_type": "markdown",
   "id": "d22bd1c5",
   "metadata": {
    "pycharm": {
     "name": "#%% md\n"
    }
   },
   "source": [
    "- Store Martin’s French grades in a variable called martins_french by navigating to the value using keys and values. \n",
    "- Calculate the mean of Richard's biology's grades**\n"
   ]
  },
  {
   "cell_type": "code",
   "execution_count": 30,
   "id": "471c074e",
   "metadata": {
    "pycharm": {
     "name": "#%%\n"
    }
   },
   "outputs": [
    {
     "data": {
      "text/plain": [
       "27.5"
      ]
     },
     "execution_count": 30,
     "metadata": {},
     "output_type": "execute_result"
    }
   ],
   "source": [
    "import statistics\n",
    "MartinFrenc = sampleDict[\"class\"][\"student_list\"][\"Martin\"][\"marks\"][\"french\"]\n",
    "statistics.mean(MartinFrenc)"
   ]
  },
  {
   "cell_type": "code",
   "execution_count": 31,
   "id": "c9d8283c",
   "metadata": {
    "pycharm": {
     "name": "#%%\n"
    }
   },
   "outputs": [
    {
     "data": {
      "text/plain": [
       "61.25"
      ]
     },
     "execution_count": 31,
     "metadata": {},
     "output_type": "execute_result"
    }
   ],
   "source": [
    "RichardBio = sampleDict[\"class\"][\"student_list\"][\"Richard\"][\"marks\"][\"biology\"]\n",
    "statistics.mean(RichardBio)"
   ]
  },
  {
   "cell_type": "code",
   "execution_count": 32,
   "id": "564285bf",
   "metadata": {
    "pycharm": {
     "name": "#%%\n"
    }
   },
   "outputs": [
    {
     "name": "stdout",
     "output_type": "stream",
     "text": [
      "dict_keys(['Anna', 'Martin', 'Richard'])\n"
     ]
    }
   ],
   "source": [
    "# **Return a list of all the students**\n",
    "studentsList = sampleDict[\"class\"][\"student_list\"].keys()\n",
    "print(studentsList)"
   ]
  },
  {
   "cell_type": "code",
   "execution_count": 33,
   "id": "d6419868",
   "metadata": {
    "pycharm": {
     "name": "#%%\n"
    }
   },
   "outputs": [
    {
     "name": "stdout",
     "output_type": "stream",
     "text": [
      "10\n"
     ]
    }
   ],
   "source": [
    "# **Return Anna's 2nd grade in history**\n",
    "AnnaHistory2 = sampleDict[\"class\"][\"student_list\"][\"Anna\"][\"marks\"][\"history\"]\n",
    "print(AnnaHistory2[1])"
   ]
  },
  {
   "cell_type": "code",
   "execution_count": 34,
   "id": "9b109ea4",
   "metadata": {
    "pycharm": {
     "name": "#%%\n"
    }
   },
   "outputs": [
    {
     "name": "stdout",
     "output_type": "stream",
     "text": [
      "100\n",
      "35\n",
      "0\n",
      "55\n",
      "50\n",
      "70\n",
      "70\n",
      "90\n",
      "50\n"
     ]
    }
   ],
   "source": [
    "#**Return all the grades that are 3rd in the list for every subject for all the students**\n",
    "\n",
    "listGrades = []\n",
    "\n",
    "for num in range(0, len(studentsList)):\n",
    "    for students in studentsList:\n",
    "        x = list(sampleDict[\"class\"][\"student_list\"][students][\"marks\"].values())[num][2]\n",
    "        print(x)\n",
    "        listGrades.append(x)\n"
   ]
  },
  {
   "cell_type": "code",
   "execution_count": 35,
   "id": "b624d435",
   "metadata": {
    "pycharm": {
     "name": "#%%\n"
    }
   },
   "outputs": [],
   "source": [
    "# **Get all the grades and store them in a list `all_grades` Calculate the mean (solution: 55.97)**\n"
   ]
  },
  {
   "cell_type": "code",
   "execution_count": 36,
   "id": "f3289131",
   "metadata": {
    "pycharm": {
     "name": "#%%\n"
    }
   },
   "outputs": [
    {
     "name": "stdout",
     "output_type": "stream",
     "text": [
      "[70, 20, 100, 20, 80, 10, 55, 35, 100, 90, 70, 35, 20, 10, 35, 45, 40, 75, 50, 90, 90, 85, 90, 95, 10, 10, 0, 90, 50, 50, 70, 75, 90, 70, 50, 40]\n",
      "55.97222222222222\n"
     ]
    }
   ],
   "source": [
    "listGrades2 = []\n",
    "for students in studentsList:\n",
    "    x = list(sampleDict[\"class\"][\"student_list\"][students][\"marks\"].values())\n",
    "    #print(x)\n",
    "    listGrades2.append(x)\n",
    "\n",
    "flat_list = []\n",
    "for i in listGrades2: \n",
    "    for z in i:\n",
    "        for t in z: \n",
    "            flat_list.append(t)\n",
    "mean_grades = statistics.mean(flat_list)\n",
    "\n",
    "print(flat_list)\n",
    "print(mean_grades)"
   ]
  },
  {
   "cell_type": "code",
   "execution_count": null,
   "outputs": [],
   "source": [
    "#### **Save that list as a column in a pandas dataframe and plot a histogram with it**\n",
    "\n"
   ],
   "metadata": {
    "collapsed": false,
    "pycharm": {
     "name": "#%%\n"
    }
   }
  },
  {
   "cell_type": "code",
   "execution_count": 37,
   "id": "e7b9b9e7",
   "metadata": {
    "pycharm": {
     "name": "#%%\n"
    }
   },
   "outputs": [
    {
     "data": {
      "text/plain": [
       "<AxesSubplot:xlabel='mean', ylabel='Count'>"
      ]
     },
     "execution_count": 37,
     "metadata": {},
     "output_type": "execute_result"
    },
    {
     "data": {
      "image/png": "[encoded data removed]",
      "text/plain": [
       "<Figure size 432x288 with 1 Axes>"
      ]
     },
     "metadata": {
      "needs_background": "light"
     },
     "output_type": "display_data"
    }
   ],
   "source": [
    "import seaborn as sns\n",
    "df_mean = pd.DataFrame(flat_list, columns = ['mean'])\n",
    "sns.histplot(data = df_mean, x=\"mean\")"
   ]
  },
  {
   "cell_type": "markdown",
   "id": "aeec1b96",
   "metadata": {
    "pycharm": {
     "name": "#%% md\n"
    }
   },
   "source": [
    "#### **Return all the students subjects. Watch out: We don't want repetitions!**\n"
   ]
  },
  {
   "cell_type": "code",
   "execution_count": 38,
   "id": "b44b2a15",
   "metadata": {
    "pycharm": {
     "name": "#%%\n"
    }
   },
   "outputs": [
    {
     "name": "stdout",
     "output_type": "stream",
     "text": [
      "['physics', 'history', 'math']\n",
      "['french', 'spanish', 'math']\n",
      "['physics', 'biology', 'math']\n",
      "['spanish', 'history', 'math', 'french', 'biology', 'physics']\n"
     ]
    }
   ],
   "source": [
    "listSubjects = []\n",
    "for subj in studentsList:\n",
    "    x = list(sampleDict[\"class\"][\"student_list\"][subj][\"marks\"])\n",
    "    print(x)\n",
    "    listSubjects.append(x)\n",
    "\n",
    "subjFlat = []\n",
    "for i in listSubjects: \n",
    "    for z in i:\n",
    "        subjFlat.append(z)\n",
    "\n",
    "allSubjects = list(set(subjFlat))\n",
    "print(allSubjects)"
   ]
  },
  {
   "cell_type": "markdown",
   "id": "61cddf41",
   "metadata": {
    "pycharm": {
     "name": "#%% md\n"
    }
   },
   "source": [
    "#### Richard heard you’re a data enthusiast and asks you to hack the school server and and replace his worst physics grade rounded to full integers (0) with the mean of his physics grades (he doesn’t want to raise suspicion). Help him do that. Check wether your hack was successful by printing his physics grade"
   ]
  },
  {
   "cell_type": "code",
   "execution_count": null,
   "outputs": [],
   "source": [
    "physRich = list(sampleDict[\"class\"][\"student_list\"][\"Richard\"][\"marks\"][\"physics\"])\n",
    "print(physRich)\n",
    "meanRich = statistics.mean(sampleDict[\"class\"][\"student_list\"][\"Richard\"][\"marks\"][\"physics\"])\n",
    "meanRich\n",
    "\n",
    "x = physRich.index(0)\n",
    "#print(index.min(physRich))\n",
    "\n",
    "physRich[x] = round(meanRich)\n",
    "physRich\n",
    "\n",
    "sampleDict[\"class\"][\"student_list\"][\"Richard\"][\"marks\"][\"physics\"] = physRich"
   ],
   "metadata": {
    "collapsed": false,
    "pycharm": {
     "name": "#%%\n"
    }
   }
  },
  {
   "cell_type": "code",
   "execution_count": null,
   "outputs": [],
   "source": [
    "sampleDict"
   ],
   "metadata": {
    "collapsed": false,
    "pycharm": {
     "name": "#%%\n"
    }
   }
  },
  {
   "cell_type": "code",
   "execution_count": null,
   "outputs": [],
   "source": [
    "del sampleDict[\"class\"][\"student_list\"][\"Richard\"]"
   ],
   "metadata": {
    "collapsed": false,
    "pycharm": {
     "name": "#%%\n"
    }
   }
  },
  {
   "cell_type": "code",
   "execution_count": null,
   "outputs": [],
   "source": [
    "sampleDict"
   ],
   "metadata": {
    "collapsed": false,
    "pycharm": {
     "name": "#%%\n"
    }
   }
  },
  {
   "cell_type": "code",
   "execution_count": null,
   "id": "bfc12d51",
   "metadata": {
    "pycharm": {
     "name": "#%%\n"
    }
   },
   "outputs": [],
   "source": []
  }
 ],
 "metadata": {
  "kernelspec": {
   "display_name": "Python 3 (ipykernel)",
   "language": "python",
   "name": "python3"
  },
  "language_info": {
   "codemirror_mode": {
    "name": "ipython",
    "version": 3
   },
   "file_extension": ".py",
   "mimetype": "text/x-python",
   "name": "python",
   "nbconvert_exporter": "python",
   "pygments_lexer": "ipython3",
   "version": "3.9.12"
  }
 },
 "nbformat": 4,
 "nbformat_minor": 5
}