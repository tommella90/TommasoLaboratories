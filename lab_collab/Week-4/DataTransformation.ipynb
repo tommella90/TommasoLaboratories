{
 "cells": [
  {
   "cell_type": "markdown",
   "id": "bac3f378",
   "metadata": {},
   "source": [
    "# LAB - WEEK 3, DAY2 "
   ]
  },
  {
   "cell_type": "markdown",
   "id": "25160fc9",
   "metadata": {},
   "source": [
    "### 1) check if there are highly correlated features and drop them if there are any.\n"
   ]
  },
  {
   "cell_type": "code",
   "execution_count": 1,
   "id": "df4a851f",
   "metadata": {},
   "outputs": [],
   "source": [
    "import pandas as pd \n",
    "import numpy as np \n",
    "import os\n",
    "import seaborn as sns\n",
    "import matplotlib.pyplot as plt"
   ]
  },
  {
   "cell_type": "code",
   "execution_count": 2,
   "id": "486caf09",
   "metadata": {},
   "outputs": [],
   "source": [
    "df = pd.read_csv(\"Data_Marketing_Customer_Analysis_Round3.csv\")"
   ]
  },
  {
   "cell_type": "code",
   "execution_count": 3,
   "id": "db8601c2",
   "metadata": {},
   "outputs": [
    {
     "data": {
      "text/html": [
       "<div>\n",
       "<style scoped>\n",
       "    .dataframe tbody tr th:only-of-type {\n",
       "        vertical-align: middle;\n",
       "    }\n",
       "\n",
       "    .dataframe tbody tr th {\n",
       "        vertical-align: top;\n",
       "    }\n",
       "\n",
       "    .dataframe thead th {\n",
       "        text-align: right;\n",
       "    }\n",
       "</style>\n",
       "<table border=\"1\" class=\"dataframe\">\n",
       "  <thead>\n",
       "    <tr style=\"text-align: right;\">\n",
       "      <th></th>\n",
       "      <th>Unnamed: 0</th>\n",
       "      <th>region</th>\n",
       "      <th>customer_lifetime_value</th>\n",
       "      <th>response</th>\n",
       "      <th>coverage</th>\n",
       "      <th>education</th>\n",
       "      <th>effective_to_date</th>\n",
       "      <th>month</th>\n",
       "      <th>employment_status</th>\n",
       "      <th>gender</th>\n",
       "      <th>...</th>\n",
       "      <th>months_since_policy_inception</th>\n",
       "      <th>number_of_open_complaints</th>\n",
       "      <th>number_of_policies</th>\n",
       "      <th>policy_type</th>\n",
       "      <th>policy</th>\n",
       "      <th>renew_offer_type</th>\n",
       "      <th>sales_channel</th>\n",
       "      <th>total_claim_amount</th>\n",
       "      <th>vehicle_class</th>\n",
       "      <th>vehicle_size</th>\n",
       "    </tr>\n",
       "  </thead>\n",
       "  <tbody>\n",
       "    <tr>\n",
       "      <th>0</th>\n",
       "      <td>0</td>\n",
       "      <td>central</td>\n",
       "      <td>4809</td>\n",
       "      <td>no</td>\n",
       "      <td>basic</td>\n",
       "      <td>college</td>\n",
       "      <td>2/18/11</td>\n",
       "      <td>feb</td>\n",
       "      <td>employed</td>\n",
       "      <td>m</td>\n",
       "      <td>...</td>\n",
       "      <td>52</td>\n",
       "      <td>0</td>\n",
       "      <td>9</td>\n",
       "      <td>corporate auto</td>\n",
       "      <td>corporate l3</td>\n",
       "      <td>offer3</td>\n",
       "      <td>agent</td>\n",
       "      <td>292</td>\n",
       "      <td>four-door car</td>\n",
       "      <td>medsize</td>\n",
       "    </tr>\n",
       "    <tr>\n",
       "      <th>1</th>\n",
       "      <td>1</td>\n",
       "      <td>west region</td>\n",
       "      <td>2228</td>\n",
       "      <td>no</td>\n",
       "      <td>basic</td>\n",
       "      <td>college</td>\n",
       "      <td>1/18/11</td>\n",
       "      <td>jan</td>\n",
       "      <td>unemployed</td>\n",
       "      <td>f</td>\n",
       "      <td>...</td>\n",
       "      <td>26</td>\n",
       "      <td>0</td>\n",
       "      <td>1</td>\n",
       "      <td>personal auto</td>\n",
       "      <td>personal l3</td>\n",
       "      <td>offer4</td>\n",
       "      <td>call center</td>\n",
       "      <td>744</td>\n",
       "      <td>four-door car</td>\n",
       "      <td>medsize</td>\n",
       "    </tr>\n",
       "    <tr>\n",
       "      <th>2</th>\n",
       "      <td>2</td>\n",
       "      <td>east</td>\n",
       "      <td>14947</td>\n",
       "      <td>no</td>\n",
       "      <td>basic</td>\n",
       "      <td>bachelor</td>\n",
       "      <td>2/10/11</td>\n",
       "      <td>feb</td>\n",
       "      <td>employed</td>\n",
       "      <td>m</td>\n",
       "      <td>...</td>\n",
       "      <td>31</td>\n",
       "      <td>0</td>\n",
       "      <td>2</td>\n",
       "      <td>personal auto</td>\n",
       "      <td>personal l3</td>\n",
       "      <td>offer3</td>\n",
       "      <td>call center</td>\n",
       "      <td>480</td>\n",
       "      <td>suv</td>\n",
       "      <td>medsize</td>\n",
       "    </tr>\n",
       "    <tr>\n",
       "      <th>3</th>\n",
       "      <td>3</td>\n",
       "      <td>north west</td>\n",
       "      <td>22332</td>\n",
       "      <td>yes</td>\n",
       "      <td>extended</td>\n",
       "      <td>college</td>\n",
       "      <td>1/11/11</td>\n",
       "      <td>jan</td>\n",
       "      <td>employed</td>\n",
       "      <td>m</td>\n",
       "      <td>...</td>\n",
       "      <td>3</td>\n",
       "      <td>0</td>\n",
       "      <td>2</td>\n",
       "      <td>corporate auto</td>\n",
       "      <td>corporate l3</td>\n",
       "      <td>offer2</td>\n",
       "      <td>branch</td>\n",
       "      <td>484</td>\n",
       "      <td>four-door car</td>\n",
       "      <td>medsize</td>\n",
       "    </tr>\n",
       "    <tr>\n",
       "      <th>4</th>\n",
       "      <td>4</td>\n",
       "      <td>north west</td>\n",
       "      <td>9025</td>\n",
       "      <td>no</td>\n",
       "      <td>premium</td>\n",
       "      <td>bachelor</td>\n",
       "      <td>1/17/11</td>\n",
       "      <td>jan</td>\n",
       "      <td>medical leave</td>\n",
       "      <td>f</td>\n",
       "      <td>...</td>\n",
       "      <td>31</td>\n",
       "      <td>1</td>\n",
       "      <td>7</td>\n",
       "      <td>personal auto</td>\n",
       "      <td>personal l2</td>\n",
       "      <td>offer1</td>\n",
       "      <td>branch</td>\n",
       "      <td>707</td>\n",
       "      <td>four-door car</td>\n",
       "      <td>medsize</td>\n",
       "    </tr>\n",
       "  </tbody>\n",
       "</table>\n",
       "<p>5 rows × 25 columns</p>\n",
       "</div>"
      ],
      "text/plain": [
       "   Unnamed: 0       region  customer_lifetime_value response  coverage  \\\n",
       "0           0      central                     4809       no     basic   \n",
       "1           1  west region                     2228       no     basic   \n",
       "2           2         east                    14947       no     basic   \n",
       "3           3   north west                    22332      yes  extended   \n",
       "4           4   north west                     9025       no   premium   \n",
       "\n",
       "  education effective_to_date month employment_status gender  ...  \\\n",
       "0   college           2/18/11   feb          employed      m  ...   \n",
       "1   college           1/18/11   jan        unemployed      f  ...   \n",
       "2  bachelor           2/10/11   feb          employed      m  ...   \n",
       "3   college           1/11/11   jan          employed      m  ...   \n",
       "4  bachelor           1/17/11   jan     medical leave      f  ...   \n",
       "\n",
       "   months_since_policy_inception number_of_open_complaints number_of_policies  \\\n",
       "0                             52                         0                  9   \n",
       "1                             26                         0                  1   \n",
       "2                             31                         0                  2   \n",
       "3                              3                         0                  2   \n",
       "4                             31                         1                  7   \n",
       "\n",
       "      policy_type        policy  renew_offer_type  sales_channel  \\\n",
       "0  corporate auto  corporate l3            offer3          agent   \n",
       "1   personal auto   personal l3            offer4    call center   \n",
       "2   personal auto   personal l3            offer3    call center   \n",
       "3  corporate auto  corporate l3            offer2         branch   \n",
       "4   personal auto   personal l2            offer1         branch   \n",
       "\n",
       "   total_claim_amount  vehicle_class vehicle_size  \n",
       "0                 292  four-door car      medsize  \n",
       "1                 744  four-door car      medsize  \n",
       "2                 480            suv      medsize  \n",
       "3                 484  four-door car      medsize  \n",
       "4                 707  four-door car      medsize  \n",
       "\n",
       "[5 rows x 25 columns]"
      ]
     },
     "execution_count": 3,
     "metadata": {},
     "output_type": "execute_result"
    }
   ],
   "source": [
    "df.head(5)"
   ]
  },
  {
   "cell_type": "code",
   "execution_count": 4,
   "id": "561346c4",
   "metadata": {},
   "outputs": [
    {
     "data": {
      "text/plain": [
       "<AxesSubplot:>"
      ]
     },
     "execution_count": 4,
     "metadata": {},
     "output_type": "execute_result"
    },
    {
     "data": {
      "image/png": "[encoded data removed]",
      "text/plain": [
       "<Figure size 432x288 with 2 Axes>"
      ]
     },
     "metadata": {
      "needs_background": "light"
     },
     "output_type": "display_data"
    }
   ],
   "source": [
    "#fig = plt.figure(figsize=(8,6))\n",
    "sns.heatmap(df.corr(), cmap='vlag', square=True, annot=True)"
   ]
  },
  {
   "cell_type": "markdown",
   "id": "d059e8a5",
   "metadata": {},
   "source": [
    "## 2) One Hot/Label Encoding of the categorical variables in the categoricals data frame that you created in Activity 4. ( Hint: check Dropfirst option).\n"
   ]
  },
  {
   "cell_type": "code",
   "execution_count": 5,
   "id": "6ef0ba2d",
   "metadata": {},
   "outputs": [
    {
     "data": {
      "text/html": [
       "<div>\n",
       "<style scoped>\n",
       "    .dataframe tbody tr th:only-of-type {\n",
       "        vertical-align: middle;\n",
       "    }\n",
       "\n",
       "    .dataframe tbody tr th {\n",
       "        vertical-align: top;\n",
       "    }\n",
       "\n",
       "    .dataframe thead th {\n",
       "        text-align: right;\n",
       "    }\n",
       "</style>\n",
       "<table border=\"1\" class=\"dataframe\">\n",
       "  <thead>\n",
       "    <tr style=\"text-align: right;\">\n",
       "      <th></th>\n",
       "      <th>Unnamed: 0</th>\n",
       "      <th>region</th>\n",
       "      <th>customer_lifetime_value</th>\n",
       "      <th>response</th>\n",
       "      <th>coverage</th>\n",
       "      <th>education</th>\n",
       "      <th>month</th>\n",
       "      <th>employment_status</th>\n",
       "      <th>gender</th>\n",
       "      <th>income</th>\n",
       "      <th>...</th>\n",
       "      <th>months_since_policy_inception</th>\n",
       "      <th>number_of_open_complaints</th>\n",
       "      <th>number_of_policies</th>\n",
       "      <th>policy_type</th>\n",
       "      <th>policy</th>\n",
       "      <th>renew_offer_type</th>\n",
       "      <th>sales_channel</th>\n",
       "      <th>total_claim_amount</th>\n",
       "      <th>vehicle_class</th>\n",
       "      <th>vehicle_size</th>\n",
       "    </tr>\n",
       "  </thead>\n",
       "  <tbody>\n",
       "    <tr>\n",
       "      <th>0</th>\n",
       "      <td>0</td>\n",
       "      <td>central</td>\n",
       "      <td>4809</td>\n",
       "      <td>no</td>\n",
       "      <td>basic</td>\n",
       "      <td>college</td>\n",
       "      <td>feb</td>\n",
       "      <td>employed</td>\n",
       "      <td>m</td>\n",
       "      <td>48029</td>\n",
       "      <td>...</td>\n",
       "      <td>52</td>\n",
       "      <td>0</td>\n",
       "      <td>9</td>\n",
       "      <td>corporate auto</td>\n",
       "      <td>corporate l3</td>\n",
       "      <td>offer3</td>\n",
       "      <td>agent</td>\n",
       "      <td>292</td>\n",
       "      <td>four-door car</td>\n",
       "      <td>medsize</td>\n",
       "    </tr>\n",
       "    <tr>\n",
       "      <th>1</th>\n",
       "      <td>1</td>\n",
       "      <td>west region</td>\n",
       "      <td>2228</td>\n",
       "      <td>no</td>\n",
       "      <td>basic</td>\n",
       "      <td>college</td>\n",
       "      <td>jan</td>\n",
       "      <td>unemployed</td>\n",
       "      <td>f</td>\n",
       "      <td>26794</td>\n",
       "      <td>...</td>\n",
       "      <td>26</td>\n",
       "      <td>0</td>\n",
       "      <td>1</td>\n",
       "      <td>personal auto</td>\n",
       "      <td>personal l3</td>\n",
       "      <td>offer4</td>\n",
       "      <td>call center</td>\n",
       "      <td>744</td>\n",
       "      <td>four-door car</td>\n",
       "      <td>medsize</td>\n",
       "    </tr>\n",
       "  </tbody>\n",
       "</table>\n",
       "<p>2 rows × 24 columns</p>\n",
       "</div>"
      ],
      "text/plain": [
       "   Unnamed: 0       region  customer_lifetime_value response coverage  \\\n",
       "0           0      central                     4809       no    basic   \n",
       "1           1  west region                     2228       no    basic   \n",
       "\n",
       "  education month employment_status gender  income  ...  \\\n",
       "0   college   feb          employed      m   48029  ...   \n",
       "1   college   jan        unemployed      f   26794  ...   \n",
       "\n",
       "  months_since_policy_inception number_of_open_complaints  number_of_policies  \\\n",
       "0                            52                         0                   9   \n",
       "1                            26                         0                   1   \n",
       "\n",
       "      policy_type        policy  renew_offer_type  sales_channel  \\\n",
       "0  corporate auto  corporate l3            offer3          agent   \n",
       "1   personal auto   personal l3            offer4    call center   \n",
       "\n",
       "  total_claim_amount  vehicle_class vehicle_size  \n",
       "0                292  four-door car      medsize  \n",
       "1                744  four-door car      medsize  \n",
       "\n",
       "[2 rows x 24 columns]"
      ]
     },
     "execution_count": 5,
     "metadata": {},
     "output_type": "execute_result"
    }
   ],
   "source": [
    "df = df.drop(['effective_to_date'],axis=1)\n",
    "df.head(2)"
   ]
  },
  {
   "cell_type": "code",
   "execution_count": 6,
   "id": "b2ae1da2",
   "metadata": {},
   "outputs": [
    {
     "data": {
      "text/html": [
       "<div>\n",
       "<style scoped>\n",
       "    .dataframe tbody tr th:only-of-type {\n",
       "        vertical-align: middle;\n",
       "    }\n",
       "\n",
       "    .dataframe tbody tr th {\n",
       "        vertical-align: top;\n",
       "    }\n",
       "\n",
       "    .dataframe thead th {\n",
       "        text-align: right;\n",
       "    }\n",
       "</style>\n",
       "<table border=\"1\" class=\"dataframe\">\n",
       "  <thead>\n",
       "    <tr style=\"text-align: right;\">\n",
       "      <th></th>\n",
       "      <th>Unnamed: 0</th>\n",
       "      <th>customer_lifetime_value</th>\n",
       "      <th>income</th>\n",
       "      <th>monthly_premium_auto</th>\n",
       "      <th>months_since_last_claim</th>\n",
       "      <th>months_since_policy_inception</th>\n",
       "      <th>number_of_open_complaints</th>\n",
       "      <th>number_of_policies</th>\n",
       "      <th>total_claim_amount</th>\n",
       "      <th>region_east</th>\n",
       "      <th>...</th>\n",
       "      <th>sales_channel_branch</th>\n",
       "      <th>sales_channel_call center</th>\n",
       "      <th>sales_channel_web</th>\n",
       "      <th>vehicle_class_luxury car</th>\n",
       "      <th>vehicle_class_luxury suv</th>\n",
       "      <th>vehicle_class_sports car</th>\n",
       "      <th>vehicle_class_suv</th>\n",
       "      <th>vehicle_class_two-door car</th>\n",
       "      <th>vehicle_size_medsize</th>\n",
       "      <th>vehicle_size_small</th>\n",
       "    </tr>\n",
       "  </thead>\n",
       "  <tbody>\n",
       "    <tr>\n",
       "      <th>0</th>\n",
       "      <td>0</td>\n",
       "      <td>4809</td>\n",
       "      <td>48029</td>\n",
       "      <td>61</td>\n",
       "      <td>7</td>\n",
       "      <td>52</td>\n",
       "      <td>0</td>\n",
       "      <td>9</td>\n",
       "      <td>292</td>\n",
       "      <td>0</td>\n",
       "      <td>...</td>\n",
       "      <td>0</td>\n",
       "      <td>0</td>\n",
       "      <td>0</td>\n",
       "      <td>0</td>\n",
       "      <td>0</td>\n",
       "      <td>0</td>\n",
       "      <td>0</td>\n",
       "      <td>0</td>\n",
       "      <td>1</td>\n",
       "      <td>0</td>\n",
       "    </tr>\n",
       "    <tr>\n",
       "      <th>1</th>\n",
       "      <td>1</td>\n",
       "      <td>2228</td>\n",
       "      <td>26794</td>\n",
       "      <td>64</td>\n",
       "      <td>3</td>\n",
       "      <td>26</td>\n",
       "      <td>0</td>\n",
       "      <td>1</td>\n",
       "      <td>744</td>\n",
       "      <td>0</td>\n",
       "      <td>...</td>\n",
       "      <td>0</td>\n",
       "      <td>1</td>\n",
       "      <td>0</td>\n",
       "      <td>0</td>\n",
       "      <td>0</td>\n",
       "      <td>0</td>\n",
       "      <td>0</td>\n",
       "      <td>0</td>\n",
       "      <td>1</td>\n",
       "      <td>0</td>\n",
       "    </tr>\n",
       "    <tr>\n",
       "      <th>2</th>\n",
       "      <td>2</td>\n",
       "      <td>14947</td>\n",
       "      <td>22139</td>\n",
       "      <td>100</td>\n",
       "      <td>34</td>\n",
       "      <td>31</td>\n",
       "      <td>0</td>\n",
       "      <td>2</td>\n",
       "      <td>480</td>\n",
       "      <td>1</td>\n",
       "      <td>...</td>\n",
       "      <td>0</td>\n",
       "      <td>1</td>\n",
       "      <td>0</td>\n",
       "      <td>0</td>\n",
       "      <td>0</td>\n",
       "      <td>0</td>\n",
       "      <td>1</td>\n",
       "      <td>0</td>\n",
       "      <td>1</td>\n",
       "      <td>0</td>\n",
       "    </tr>\n",
       "  </tbody>\n",
       "</table>\n",
       "<p>3 rows × 52 columns</p>\n",
       "</div>"
      ],
      "text/plain": [
       "   Unnamed: 0  customer_lifetime_value  income  monthly_premium_auto  \\\n",
       "0           0                     4809   48029                    61   \n",
       "1           1                     2228   26794                    64   \n",
       "2           2                    14947   22139                   100   \n",
       "\n",
       "   months_since_last_claim  months_since_policy_inception  \\\n",
       "0                        7                             52   \n",
       "1                        3                             26   \n",
       "2                       34                             31   \n",
       "\n",
       "   number_of_open_complaints  number_of_policies  total_claim_amount  \\\n",
       "0                          0                   9                 292   \n",
       "1                          0                   1                 744   \n",
       "2                          0                   2                 480   \n",
       "\n",
       "   region_east  ...  sales_channel_branch  sales_channel_call center  \\\n",
       "0            0  ...                     0                          0   \n",
       "1            0  ...                     0                          1   \n",
       "2            1  ...                     0                          1   \n",
       "\n",
       "   sales_channel_web  vehicle_class_luxury car  vehicle_class_luxury suv  \\\n",
       "0                  0                         0                         0   \n",
       "1                  0                         0                         0   \n",
       "2                  0                         0                         0   \n",
       "\n",
       "   vehicle_class_sports car  vehicle_class_suv  vehicle_class_two-door car  \\\n",
       "0                         0                  0                           0   \n",
       "1                         0                  0                           0   \n",
       "2                         0                  1                           0   \n",
       "\n",
       "   vehicle_size_medsize  vehicle_size_small  \n",
       "0                     1                   0  \n",
       "1                     1                   0  \n",
       "2                     1                   0  \n",
       "\n",
       "[3 rows x 52 columns]"
      ]
     },
     "execution_count": 6,
     "metadata": {},
     "output_type": "execute_result"
    }
   ],
   "source": [
    "df = pd.get_dummies(df, prefix_sep='_', drop_first=True)\n",
    "df.head(3)"
   ]
  },
  {
   "cell_type": "markdown",
   "id": "9100e860",
   "metadata": {},
   "source": [
    "## 3) for the first iteration, we will focus on the numericals data (numericals data frame) as our data source. "
   ]
  },
  {
   "cell_type": "code",
   "execution_count": 7,
   "id": "a542481b",
   "metadata": {},
   "outputs": [],
   "source": [
    "## only numerical \n",
    "df_num = df.iloc[:,1:].select_dtypes(np.number)"
   ]
  },
  {
   "cell_type": "code",
   "execution_count": 8,
   "id": "81bd80dc",
   "metadata": {},
   "outputs": [
    {
     "data": {
      "text/plain": [
       "10689"
      ]
     },
     "execution_count": 8,
     "metadata": {},
     "output_type": "execute_result"
    }
   ],
   "source": [
    "len(df_num.index)"
   ]
  },
  {
   "cell_type": "code",
   "execution_count": 9,
   "id": "9a72f4d1",
   "metadata": {},
   "outputs": [
    {
     "data": {
      "text/plain": [
       "{'whiskers': [<matplotlib.lines.Line2D at 0x7fa04c0b5610>,\n",
       "  <matplotlib.lines.Line2D at 0x7fa04c0b58e0>],\n",
       " 'caps': [<matplotlib.lines.Line2D at 0x7fa04c0b5c70>,\n",
       "  <matplotlib.lines.Line2D at 0x7fa04c0b5e80>],\n",
       " 'boxes': [<matplotlib.lines.Line2D at 0x7fa04c0b5340>],\n",
       " 'medians': [<matplotlib.lines.Line2D at 0x7fa04c0c7190>],\n",
       " 'fliers': [<matplotlib.lines.Line2D at 0x7fa04c0c7460>],\n",
       " 'means': []}"
      ]
     },
     "execution_count": 9,
     "metadata": {},
     "output_type": "execute_result"
    },
    {
     "data": {
      "image/png": "[encoded data removed]",
      "text/plain": [
       "<Figure size 432x288 with 1 Axes>"
      ]
     },
     "metadata": {
      "needs_background": "light"
     },
     "output_type": "display_data"
    }
   ],
   "source": [
    "## check if there are outliers \n",
    "plt.boxplot(df_num['total_claim_amount'], widths=.5)"
   ]
  },
  {
   "cell_type": "code",
   "execution_count": 10,
   "id": "5e37fccb",
   "metadata": {},
   "outputs": [
    {
     "data": {
      "text/plain": [
       "Text(0.5, 1.0, 'hist')"
      ]
     },
     "execution_count": 10,
     "metadata": {},
     "output_type": "execute_result"
    },
    {
     "data": {
      "image/png": "[encoded data removed]",
      "text/plain": [
       "<Figure size 576x288 with 2 Axes>"
      ]
     },
     "metadata": {
      "needs_background": "light"
     },
     "output_type": "display_data"
    }
   ],
   "source": [
    "fig, ax = plt.subplots(4,2, figsize = (8,4))\n",
    "plt.subplot(1,2,1)\n",
    "plt.boxplot(df_num['total_claim_amount'], widths=.5)\n",
    "plt.title('boxplot')\n",
    "plt.subplot(1,2,2)\n",
    "plt.hist(df_num['total_claim_amount'], color = '#398f29', edgecolor = 'white', bins = 100)\n",
    "plt.title('hist')"
   ]
  },
  {
   "cell_type": "code",
   "execution_count": 11,
   "id": "d39fc195",
   "metadata": {},
   "outputs": [
    {
     "data": {
      "text/plain": [
       "10689"
      ]
     },
     "execution_count": 11,
     "metadata": {},
     "output_type": "execute_result"
    }
   ],
   "source": [
    "## define a function to find outliers\n",
    "def removeOutliers(df, col, limit):\n",
    "    p1 = limit\n",
    "    p2 = 1-limit\n",
    "    outliers = col.between(col.quantile(p1), col.quantile(p2))\n",
    "    df = df.loc[outliers]\n",
    "    return df\n",
    "len(df_num.index)"
   ]
  },
  {
   "cell_type": "code",
   "execution_count": 12,
   "id": "d5f67d74",
   "metadata": {},
   "outputs": [
    {
     "data": {
      "text/plain": [
       "10689"
      ]
     },
     "execution_count": 12,
     "metadata": {},
     "output_type": "execute_result"
    }
   ],
   "source": [
    "try1 = removeOutliers(df_num, df_num['total_claim_amount'], 0.05)\n",
    "len(df_num.index)"
   ]
  },
  {
   "cell_type": "code",
   "execution_count": 13,
   "id": "d94cc35f",
   "metadata": {},
   "outputs": [
    {
     "data": {
      "text/plain": [
       "10689"
      ]
     },
     "execution_count": 13,
     "metadata": {},
     "output_type": "execute_result"
    }
   ],
   "source": [
    "## define a function to find outliers\n",
    "def removeHighOutliers(df, col, limit):\n",
    "    p1 = 1-limit\n",
    "    outliers = col.between(0, col.quantile(p1))\n",
    "    df = df.loc[outliers]\n",
    "    return df\n",
    "len(df_num.index)"
   ]
  },
  {
   "cell_type": "code",
   "execution_count": 14,
   "id": "9f397e90",
   "metadata": {},
   "outputs": [
    {
     "data": {
      "text/plain": [
       "10154"
      ]
     },
     "execution_count": 14,
     "metadata": {},
     "output_type": "execute_result"
    }
   ],
   "source": [
    "try2 = removeHighOutliers(df_num, df_num['total_claim_amount'], 0.05)\n",
    "len(try2.index)"
   ]
  },
  {
   "cell_type": "code",
   "execution_count": 15,
   "id": "fcfec63d",
   "metadata": {},
   "outputs": [
    {
     "data": {
      "text/plain": [
       "{'whiskers': [<matplotlib.lines.Line2D at 0x7fa0184f7ca0>,\n",
       "  <matplotlib.lines.Line2D at 0x7fa0184f7f70>],\n",
       " 'caps': [<matplotlib.lines.Line2D at 0x7fa039058280>,\n",
       "  <matplotlib.lines.Line2D at 0x7fa039058550>],\n",
       " 'boxes': [<matplotlib.lines.Line2D at 0x7fa0184f79d0>],\n",
       " 'medians': [<matplotlib.lines.Line2D at 0x7fa039058820>],\n",
       " 'fliers': [<matplotlib.lines.Line2D at 0x7fa039058af0>],\n",
       " 'means': []}"
      ]
     },
     "execution_count": 15,
     "metadata": {},
     "output_type": "execute_result"
    },
    {
     "data": {
      "image/png": "[encoded data removed]",
      "text/plain": [
       "<Figure size 432x288 with 1 Axes>"
      ]
     },
     "metadata": {
      "needs_background": "light"
     },
     "output_type": "display_data"
    }
   ],
   "source": [
    "plt.boxplot(df_num['total_claim_amount'], widths=.5)"
   ]
  },
  {
   "cell_type": "markdown",
   "id": "0a80d4da",
   "metadata": {},
   "source": [
    "### 3b) (optional) remove the outliers from the numerical columns."
   ]
  },
  {
   "cell_type": "code",
   "execution_count": 16,
   "id": "90239465",
   "metadata": {},
   "outputs": [],
   "source": [
    "lenght_pre = len(df_num.index)"
   ]
  },
  {
   "cell_type": "code",
   "execution_count": 17,
   "id": "6e4f7be7",
   "metadata": {},
   "outputs": [],
   "source": [
    "## define a function to find outliers \n",
    "def findOutiliers(col):\n",
    "    ''' Split the column in 3 categories: within 45% around the mean, 5% extremes \n",
    "    above and below''' \n",
    "    percentiles = col.describe([.05,.95])\n",
    "    col = ['low_outliers' if x<percentiles['5%'] \n",
    "           else 'normal' if (x>=percentiles['5%'] and x<percentiles['95%'])\n",
    "           else 'high_outliers' for x in col]\n",
    "    return col"
   ]
  },
  {
   "cell_type": "code",
   "execution_count": 18,
   "id": "f55e7385",
   "metadata": {},
   "outputs": [
    {
     "data": {
      "text/plain": [
       "array(['normal', 'low_outliers', 'high_outliers'], dtype=object)"
      ]
     },
     "execution_count": 18,
     "metadata": {},
     "output_type": "execute_result"
    }
   ],
   "source": [
    "df_num['outliers'] = findOutiliers(df_num['total_claim_amount'])\n",
    "df_num['outliers'].unique()"
   ]
  },
  {
   "cell_type": "code",
   "execution_count": 19,
   "id": "d6a37c71",
   "metadata": {},
   "outputs": [],
   "source": [
    "## subset the df to drop outliers \n",
    "df_num = df_num.where((df_num['outliers']!=\"high_outliers\") & (df_num['outliers']!=\"low_outliers\"))\n",
    "df_num = df_num.dropna(subset=['outliers'])"
   ]
  },
  {
   "cell_type": "code",
   "execution_count": 20,
   "id": "a62dec86",
   "metadata": {},
   "outputs": [
    {
     "data": {
      "text/plain": [
       "(array([ 92., 100.,  98.,  91.,  87.,  89., 111.,  86., 100.,  97.,  84.,\n",
       "         95.,  93.,  84.,  74.,  58., 111.,  75.,  91.,  88.,  93.,  96.,\n",
       "         82.,  78.,  89.,  98., 312., 275., 345., 173., 311., 259., 334.,\n",
       "        171., 139., 145., 114., 152.,  93., 131., 164., 117., 152., 166.,\n",
       "        155., 149., 141., 198., 179., 156., 126., 169., 139., 141., 125.,\n",
       "        126., 159.,  52.,  70.,  53.,  96.,  75.,  75.,  79.,  72.,  56.,\n",
       "         80.,  64.,  47.,  45.,  40.,  37.,  36.,  42.,  36.,  42.,  37.,\n",
       "         50.,  42.,  29.,  49.,  26.,  37.,  15.,  42.,  26.,  30.,  32.,\n",
       "         19.,  23.,  21.,  17.,  23.,  23.,  16.,  27.,  21.,  20.,  25.,\n",
       "         21.]),\n",
       " array([ 51.  ,  60.15,  69.3 ,  78.45,  87.6 ,  96.75, 105.9 , 115.05,\n",
       "        124.2 , 133.35, 142.5 , 151.65, 160.8 , 169.95, 179.1 , 188.25,\n",
       "        197.4 , 206.55, 215.7 , 224.85, 234.  , 243.15, 252.3 , 261.45,\n",
       "        270.6 , 279.75, 288.9 , 298.05, 307.2 , 316.35, 325.5 , 334.65,\n",
       "        343.8 , 352.95, 362.1 , 371.25, 380.4 , 389.55, 398.7 , 407.85,\n",
       "        417.  , 426.15, 435.3 , 444.45, 453.6 , 462.75, 471.9 , 481.05,\n",
       "        490.2 , 499.35, 508.5 , 517.65, 526.8 , 535.95, 545.1 , 554.25,\n",
       "        563.4 , 572.55, 581.7 , 590.85, 600.  , 609.15, 618.3 , 627.45,\n",
       "        636.6 , 645.75, 654.9 , 664.05, 673.2 , 682.35, 691.5 , 700.65,\n",
       "        709.8 , 718.95, 728.1 , 737.25, 746.4 , 755.55, 764.7 , 773.85,\n",
       "        783.  , 792.15, 801.3 , 810.45, 819.6 , 828.75, 837.9 , 847.05,\n",
       "        856.2 , 865.35, 874.5 , 883.65, 892.8 , 901.95, 911.1 , 920.25,\n",
       "        929.4 , 938.55, 947.7 , 956.85, 966.  ]),\n",
       " <BarContainer object of 100 artists>)"
      ]
     },
     "execution_count": 20,
     "metadata": {},
     "output_type": "execute_result"
    },
    {
     "data": {
      "image/png": "[encoded data removed]",
      "text/plain": [
       "<Figure size 432x288 with 1 Axes>"
      ]
     },
     "metadata": {
      "needs_background": "light"
     },
     "output_type": "display_data"
    }
   ],
   "source": [
    "plt.hist(df_num['total_claim_amount'], color = '#398f29', edgecolor = 'white', bins = 100)"
   ]
  },
  {
   "cell_type": "code",
   "execution_count": 21,
   "id": "bd105457",
   "metadata": {},
   "outputs": [
    {
     "data": {
      "text/plain": [
       "4434    2893\n",
       "7734    2759\n",
       "9614    2552\n",
       "8007    2552\n",
       "1316    2452\n",
       "        ... \n",
       "6865       0\n",
       "3628       0\n",
       "2759       0\n",
       "5853       0\n",
       "6113       0\n",
       "Name: total_claim_amount, Length: 10689, dtype: int64"
      ]
     },
     "execution_count": 21,
     "metadata": {},
     "output_type": "execute_result"
    }
   ],
   "source": [
    "df['total_claim_amount'].sort_values(ascending=False)"
   ]
  },
  {
   "cell_type": "markdown",
   "id": "f01af42f",
   "metadata": {},
   "source": [
    "### CHECK OUTLIERS"
   ]
  },
  {
   "cell_type": "code",
   "execution_count": 22,
   "id": "34de8484",
   "metadata": {},
   "outputs": [],
   "source": [
    "## reload the df\n",
    "df = pd.read_csv(\"Data_Marketing_Customer_Analysis_Round3.csv\")\n",
    "df_num = df.iloc[:,1:].select_dtypes(np.number)"
   ]
  },
  {
   "cell_type": "code",
   "execution_count": 23,
   "id": "f832e175",
   "metadata": {},
   "outputs": [
    {
     "data": {
      "image/png": "[encoded data removed]",
      "text/plain": [
       "<Figure size 576x864 with 9 Axes>"
      ]
     },
     "metadata": {
      "needs_background": "light"
     },
     "output_type": "display_data"
    }
   ],
   "source": [
    "fig, ax = plt.subplots(3,3, figsize = (8,12))\n",
    "\n",
    "for i in range(1,9):\n",
    "    plt.subplot(3,3,i)\n",
    "    plt.boxplot(df_num.iloc[:,i-1])\n",
    "    plt.title(f'{df_num.columns[i-1].upper()}')\n",
    "fig.subplots_adjust(hspace=1)"
   ]
  },
  {
   "cell_type": "markdown",
   "id": "e70c999c",
   "metadata": {},
   "source": [
    "### 3b) X-y split (y is the target variable which is the total claim amount)\n"
   ]
  },
  {
   "cell_type": "code",
   "execution_count": 24,
   "id": "93fa93da",
   "metadata": {},
   "outputs": [],
   "source": [
    "x = df_num.drop('total_claim_amount', axis=1)\n",
    "y = df_num.total_claim_amount"
   ]
  },
  {
   "cell_type": "code",
   "execution_count": 25,
   "id": "23772096",
   "metadata": {},
   "outputs": [],
   "source": [
    "to_clean = df_num[[\"total_claim_amount\", \"customer_lifetime_value\", \"monthly_premium_auto\"]]"
   ]
  },
  {
   "cell_type": "code",
   "execution_count": 26,
   "id": "7c2cc3be",
   "metadata": {},
   "outputs": [
    {
     "data": {
      "text/html": [
       "<div>\n",
       "<style scoped>\n",
       "    .dataframe tbody tr th:only-of-type {\n",
       "        vertical-align: middle;\n",
       "    }\n",
       "\n",
       "    .dataframe tbody tr th {\n",
       "        vertical-align: top;\n",
       "    }\n",
       "\n",
       "    .dataframe thead th {\n",
       "        text-align: right;\n",
       "    }\n",
       "</style>\n",
       "<table border=\"1\" class=\"dataframe\">\n",
       "  <thead>\n",
       "    <tr style=\"text-align: right;\">\n",
       "      <th></th>\n",
       "      <th>total_claim_amount</th>\n",
       "      <th>customer_lifetime_value</th>\n",
       "      <th>monthly_premium_auto</th>\n",
       "    </tr>\n",
       "  </thead>\n",
       "  <tbody>\n",
       "    <tr>\n",
       "      <th>0</th>\n",
       "      <td>292</td>\n",
       "      <td>4809</td>\n",
       "      <td>61</td>\n",
       "    </tr>\n",
       "    <tr>\n",
       "      <th>1</th>\n",
       "      <td>744</td>\n",
       "      <td>2228</td>\n",
       "      <td>64</td>\n",
       "    </tr>\n",
       "    <tr>\n",
       "      <th>2</th>\n",
       "      <td>480</td>\n",
       "      <td>14947</td>\n",
       "      <td>100</td>\n",
       "    </tr>\n",
       "    <tr>\n",
       "      <th>3</th>\n",
       "      <td>484</td>\n",
       "      <td>22332</td>\n",
       "      <td>97</td>\n",
       "    </tr>\n",
       "    <tr>\n",
       "      <th>4</th>\n",
       "      <td>707</td>\n",
       "      <td>9025</td>\n",
       "      <td>117</td>\n",
       "    </tr>\n",
       "    <tr>\n",
       "      <th>...</th>\n",
       "      <td>...</td>\n",
       "      <td>...</td>\n",
       "      <td>...</td>\n",
       "    </tr>\n",
       "    <tr>\n",
       "      <th>10684</th>\n",
       "      <td>1214</td>\n",
       "      <td>15563</td>\n",
       "      <td>253</td>\n",
       "    </tr>\n",
       "    <tr>\n",
       "      <th>10685</th>\n",
       "      <td>273</td>\n",
       "      <td>5259</td>\n",
       "      <td>65</td>\n",
       "    </tr>\n",
       "    <tr>\n",
       "      <th>10686</th>\n",
       "      <td>381</td>\n",
       "      <td>23893</td>\n",
       "      <td>201</td>\n",
       "    </tr>\n",
       "    <tr>\n",
       "      <th>10687</th>\n",
       "      <td>618</td>\n",
       "      <td>11971</td>\n",
       "      <td>158</td>\n",
       "    </tr>\n",
       "    <tr>\n",
       "      <th>10688</th>\n",
       "      <td>1021</td>\n",
       "      <td>6857</td>\n",
       "      <td>101</td>\n",
       "    </tr>\n",
       "  </tbody>\n",
       "</table>\n",
       "<p>10689 rows × 3 columns</p>\n",
       "</div>"
      ],
      "text/plain": [
       "       total_claim_amount  customer_lifetime_value  monthly_premium_auto\n",
       "0                     292                     4809                    61\n",
       "1                     744                     2228                    64\n",
       "2                     480                    14947                   100\n",
       "3                     484                    22332                    97\n",
       "4                     707                     9025                   117\n",
       "...                   ...                      ...                   ...\n",
       "10684                1214                    15563                   253\n",
       "10685                 273                     5259                    65\n",
       "10686                 381                    23893                   201\n",
       "10687                 618                    11971                   158\n",
       "10688                1021                     6857                   101\n",
       "\n",
       "[10689 rows x 3 columns]"
      ]
     },
     "execution_count": 26,
     "metadata": {},
     "output_type": "execute_result"
    }
   ],
   "source": [
    "to_clean"
   ]
  },
  {
   "cell_type": "code",
   "execution_count": 27,
   "id": "fff942e3",
   "metadata": {},
   "outputs": [
    {
     "data": {
      "text/html": [
       "<div>\n",
       "<style scoped>\n",
       "    .dataframe tbody tr th:only-of-type {\n",
       "        vertical-align: middle;\n",
       "    }\n",
       "\n",
       "    .dataframe tbody tr th {\n",
       "        vertical-align: top;\n",
       "    }\n",
       "\n",
       "    .dataframe thead th {\n",
       "        text-align: right;\n",
       "    }\n",
       "</style>\n",
       "<table border=\"1\" class=\"dataframe\">\n",
       "  <thead>\n",
       "    <tr style=\"text-align: right;\">\n",
       "      <th></th>\n",
       "      <th>customer_lifetime_value</th>\n",
       "      <th>income</th>\n",
       "      <th>monthly_premium_auto</th>\n",
       "      <th>months_since_last_claim</th>\n",
       "      <th>months_since_policy_inception</th>\n",
       "      <th>number_of_open_complaints</th>\n",
       "      <th>number_of_policies</th>\n",
       "      <th>total_claim_amount</th>\n",
       "    </tr>\n",
       "  </thead>\n",
       "  <tbody>\n",
       "    <tr>\n",
       "      <th>0</th>\n",
       "      <td>4809</td>\n",
       "      <td>48029</td>\n",
       "      <td>61</td>\n",
       "      <td>7</td>\n",
       "      <td>52</td>\n",
       "      <td>0</td>\n",
       "      <td>9</td>\n",
       "      <td>292</td>\n",
       "    </tr>\n",
       "    <tr>\n",
       "      <th>1</th>\n",
       "      <td>2228</td>\n",
       "      <td>26794</td>\n",
       "      <td>64</td>\n",
       "      <td>3</td>\n",
       "      <td>26</td>\n",
       "      <td>0</td>\n",
       "      <td>1</td>\n",
       "      <td>744</td>\n",
       "    </tr>\n",
       "    <tr>\n",
       "      <th>2</th>\n",
       "      <td>14947</td>\n",
       "      <td>22139</td>\n",
       "      <td>100</td>\n",
       "      <td>34</td>\n",
       "      <td>31</td>\n",
       "      <td>0</td>\n",
       "      <td>2</td>\n",
       "      <td>480</td>\n",
       "    </tr>\n",
       "    <tr>\n",
       "      <th>4</th>\n",
       "      <td>9025</td>\n",
       "      <td>23675</td>\n",
       "      <td>117</td>\n",
       "      <td>15</td>\n",
       "      <td>31</td>\n",
       "      <td>1</td>\n",
       "      <td>7</td>\n",
       "      <td>707</td>\n",
       "    </tr>\n",
       "    <tr>\n",
       "      <th>5</th>\n",
       "      <td>4745</td>\n",
       "      <td>50549</td>\n",
       "      <td>61</td>\n",
       "      <td>2</td>\n",
       "      <td>73</td>\n",
       "      <td>0</td>\n",
       "      <td>7</td>\n",
       "      <td>292</td>\n",
       "    </tr>\n",
       "    <tr>\n",
       "      <th>...</th>\n",
       "      <td>...</td>\n",
       "      <td>...</td>\n",
       "      <td>...</td>\n",
       "      <td>...</td>\n",
       "      <td>...</td>\n",
       "      <td>...</td>\n",
       "      <td>...</td>\n",
       "      <td>...</td>\n",
       "    </tr>\n",
       "    <tr>\n",
       "      <th>10678</th>\n",
       "      <td>8610</td>\n",
       "      <td>12791</td>\n",
       "      <td>111</td>\n",
       "      <td>27</td>\n",
       "      <td>36</td>\n",
       "      <td>0</td>\n",
       "      <td>9</td>\n",
       "      <td>532</td>\n",
       "    </tr>\n",
       "    <tr>\n",
       "      <th>10680</th>\n",
       "      <td>4547</td>\n",
       "      <td>33531</td>\n",
       "      <td>116</td>\n",
       "      <td>11</td>\n",
       "      <td>15</td>\n",
       "      <td>0</td>\n",
       "      <td>1</td>\n",
       "      <td>801</td>\n",
       "    </tr>\n",
       "    <tr>\n",
       "      <th>10681</th>\n",
       "      <td>3579</td>\n",
       "      <td>28304</td>\n",
       "      <td>91</td>\n",
       "      <td>10</td>\n",
       "      <td>30</td>\n",
       "      <td>2</td>\n",
       "      <td>1</td>\n",
       "      <td>655</td>\n",
       "    </tr>\n",
       "    <tr>\n",
       "      <th>10682</th>\n",
       "      <td>2771</td>\n",
       "      <td>59855</td>\n",
       "      <td>74</td>\n",
       "      <td>30</td>\n",
       "      <td>82</td>\n",
       "      <td>4</td>\n",
       "      <td>1</td>\n",
       "      <td>355</td>\n",
       "    </tr>\n",
       "    <tr>\n",
       "      <th>10685</th>\n",
       "      <td>5259</td>\n",
       "      <td>61146</td>\n",
       "      <td>65</td>\n",
       "      <td>7</td>\n",
       "      <td>68</td>\n",
       "      <td>0</td>\n",
       "      <td>6</td>\n",
       "      <td>273</td>\n",
       "    </tr>\n",
       "  </tbody>\n",
       "</table>\n",
       "<p>9164 rows × 8 columns</p>\n",
       "</div>"
      ],
      "text/plain": [
       "       customer_lifetime_value  income  monthly_premium_auto  \\\n",
       "0                         4809   48029                    61   \n",
       "1                         2228   26794                    64   \n",
       "2                        14947   22139                   100   \n",
       "4                         9025   23675                   117   \n",
       "5                         4745   50549                    61   \n",
       "...                        ...     ...                   ...   \n",
       "10678                     8610   12791                   111   \n",
       "10680                     4547   33531                   116   \n",
       "10681                     3579   28304                    91   \n",
       "10682                     2771   59855                    74   \n",
       "10685                     5259   61146                    65   \n",
       "\n",
       "       months_since_last_claim  months_since_policy_inception  \\\n",
       "0                            7                             52   \n",
       "1                            3                             26   \n",
       "2                           34                             31   \n",
       "4                           15                             31   \n",
       "5                            2                             73   \n",
       "...                        ...                            ...   \n",
       "10678                       27                             36   \n",
       "10680                       11                             15   \n",
       "10681                       10                             30   \n",
       "10682                       30                             82   \n",
       "10685                        7                             68   \n",
       "\n",
       "       number_of_open_complaints  number_of_policies  total_claim_amount  \n",
       "0                              0                   9                 292  \n",
       "1                              0                   1                 744  \n",
       "2                              0                   2                 480  \n",
       "4                              1                   7                 707  \n",
       "5                              0                   7                 292  \n",
       "...                          ...                 ...                 ...  \n",
       "10678                          0                   9                 532  \n",
       "10680                          0                   1                 801  \n",
       "10681                          2                   1                 655  \n",
       "10682                          4                   1                 355  \n",
       "10685                          0                   6                 273  \n",
       "\n",
       "[9164 rows x 8 columns]"
      ]
     },
     "execution_count": 27,
     "metadata": {},
     "output_type": "execute_result"
    }
   ],
   "source": [
    "df_num = removeHighOutliers(df_num, df_num[\"total_claim_amount\"], 0.05)\n",
    "df_num = removeHighOutliers(df_num, df_num[\"customer_lifetime_value\"], 0.05)\n",
    "df_num = removeHighOutliers(df_num, df_num[\"monthly_premium_auto\"], 0.05)\n",
    "df_num"
   ]
  },
  {
   "cell_type": "code",
   "execution_count": null,
   "id": "4910eecb",
   "metadata": {},
   "outputs": [],
   "source": []
  }
 ],
 "metadata": {
  "kernelspec": {
   "display_name": "Python 3 (ipykernel)",
   "language": "python",
   "name": "python3"
  },
  "language_info": {
   "codemirror_mode": {
    "name": "ipython",
    "version": 3
   },
   "file_extension": ".py",
   "mimetype": "text/x-python",
   "name": "python",
   "nbconvert_exporter": "python",
   "pygments_lexer": "ipython3",
   "version": "3.9.12"
  }
 },
 "nbformat": 4,
 "nbformat_minor": 5
}
