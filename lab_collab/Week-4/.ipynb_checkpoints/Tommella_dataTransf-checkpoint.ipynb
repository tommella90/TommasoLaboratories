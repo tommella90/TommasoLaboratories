{
 "cells": [
  {
   "cell_type": "markdown",
   "id": "bac3f378",
   "metadata": {
    "pycharm": {
     "name": "#%% md\n"
    }
   },
   "source": [
    "# LAB - WEEK 4, DAY2 "
   ]
  },
  {
   "cell_type": "markdown",
   "id": "25160fc9",
   "metadata": {
    "pycharm": {
     "name": "#%% md\n"
    }
   },
   "source": [
    "### 1) check if there are highly correlated features and drop them if there are any.\n"
   ]
  },
  {
   "cell_type": "code",
   "execution_count": 48,
   "id": "df4a851f",
   "metadata": {
    "pycharm": {
     "name": "#%%\n"
    }
   },
   "outputs": [],
   "source": [
    "import pandas as pd \n",
    "import numpy as np \n",
    "import os\n",
    "import seaborn as sns\n",
    "import matplotlib.pyplot as plt"
   ]
  },
  {
   "cell_type": "code",
   "execution_count": 49,
   "id": "486caf09",
   "metadata": {
    "pycharm": {
     "name": "#%%\n"
    }
   },
   "outputs": [
    {
     "data": {
      "text/html": [
       "<div>\n",
       "<style scoped>\n",
       "    .dataframe tbody tr th:only-of-type {\n",
       "        vertical-align: middle;\n",
       "    }\n",
       "\n",
       "    .dataframe tbody tr th {\n",
       "        vertical-align: top;\n",
       "    }\n",
       "\n",
       "    .dataframe thead th {\n",
       "        text-align: right;\n",
       "    }\n",
       "</style>\n",
       "<table border=\"1\" class=\"dataframe\">\n",
       "  <thead>\n",
       "    <tr style=\"text-align: right;\">\n",
       "      <th></th>\n",
       "      <th>Unnamed: 0</th>\n",
       "      <th>region</th>\n",
       "      <th>customer_lifetime_value</th>\n",
       "      <th>response</th>\n",
       "      <th>coverage</th>\n",
       "      <th>education</th>\n",
       "      <th>effective_to_date</th>\n",
       "      <th>month</th>\n",
       "      <th>employment_status</th>\n",
       "      <th>gender</th>\n",
       "      <th>...</th>\n",
       "      <th>months_since_policy_inception</th>\n",
       "      <th>number_of_open_complaints</th>\n",
       "      <th>number_of_policies</th>\n",
       "      <th>policy_type</th>\n",
       "      <th>policy</th>\n",
       "      <th>renew_offer_type</th>\n",
       "      <th>sales_channel</th>\n",
       "      <th>total_claim_amount</th>\n",
       "      <th>vehicle_class</th>\n",
       "      <th>vehicle_size</th>\n",
       "    </tr>\n",
       "  </thead>\n",
       "  <tbody>\n",
       "    <tr>\n",
       "      <th>0</th>\n",
       "      <td>0</td>\n",
       "      <td>central</td>\n",
       "      <td>4809</td>\n",
       "      <td>no</td>\n",
       "      <td>basic</td>\n",
       "      <td>college</td>\n",
       "      <td>2/18/11</td>\n",
       "      <td>feb</td>\n",
       "      <td>employed</td>\n",
       "      <td>m</td>\n",
       "      <td>...</td>\n",
       "      <td>52</td>\n",
       "      <td>0</td>\n",
       "      <td>9</td>\n",
       "      <td>corporate auto</td>\n",
       "      <td>corporate l3</td>\n",
       "      <td>offer3</td>\n",
       "      <td>agent</td>\n",
       "      <td>292</td>\n",
       "      <td>four-door car</td>\n",
       "      <td>medsize</td>\n",
       "    </tr>\n",
       "    <tr>\n",
       "      <th>1</th>\n",
       "      <td>1</td>\n",
       "      <td>west region</td>\n",
       "      <td>2228</td>\n",
       "      <td>no</td>\n",
       "      <td>basic</td>\n",
       "      <td>college</td>\n",
       "      <td>1/18/11</td>\n",
       "      <td>jan</td>\n",
       "      <td>unemployed</td>\n",
       "      <td>f</td>\n",
       "      <td>...</td>\n",
       "      <td>26</td>\n",
       "      <td>0</td>\n",
       "      <td>1</td>\n",
       "      <td>personal auto</td>\n",
       "      <td>personal l3</td>\n",
       "      <td>offer4</td>\n",
       "      <td>call center</td>\n",
       "      <td>744</td>\n",
       "      <td>four-door car</td>\n",
       "      <td>medsize</td>\n",
       "    </tr>\n",
       "    <tr>\n",
       "      <th>2</th>\n",
       "      <td>2</td>\n",
       "      <td>east</td>\n",
       "      <td>14947</td>\n",
       "      <td>no</td>\n",
       "      <td>basic</td>\n",
       "      <td>bachelor</td>\n",
       "      <td>2/10/11</td>\n",
       "      <td>feb</td>\n",
       "      <td>employed</td>\n",
       "      <td>m</td>\n",
       "      <td>...</td>\n",
       "      <td>31</td>\n",
       "      <td>0</td>\n",
       "      <td>2</td>\n",
       "      <td>personal auto</td>\n",
       "      <td>personal l3</td>\n",
       "      <td>offer3</td>\n",
       "      <td>call center</td>\n",
       "      <td>480</td>\n",
       "      <td>suv</td>\n",
       "      <td>medsize</td>\n",
       "    </tr>\n",
       "    <tr>\n",
       "      <th>3</th>\n",
       "      <td>3</td>\n",
       "      <td>north west</td>\n",
       "      <td>22332</td>\n",
       "      <td>yes</td>\n",
       "      <td>extended</td>\n",
       "      <td>college</td>\n",
       "      <td>1/11/11</td>\n",
       "      <td>jan</td>\n",
       "      <td>employed</td>\n",
       "      <td>m</td>\n",
       "      <td>...</td>\n",
       "      <td>3</td>\n",
       "      <td>0</td>\n",
       "      <td>2</td>\n",
       "      <td>corporate auto</td>\n",
       "      <td>corporate l3</td>\n",
       "      <td>offer2</td>\n",
       "      <td>branch</td>\n",
       "      <td>484</td>\n",
       "      <td>four-door car</td>\n",
       "      <td>medsize</td>\n",
       "    </tr>\n",
       "    <tr>\n",
       "      <th>4</th>\n",
       "      <td>4</td>\n",
       "      <td>north west</td>\n",
       "      <td>9025</td>\n",
       "      <td>no</td>\n",
       "      <td>premium</td>\n",
       "      <td>bachelor</td>\n",
       "      <td>1/17/11</td>\n",
       "      <td>jan</td>\n",
       "      <td>medical leave</td>\n",
       "      <td>f</td>\n",
       "      <td>...</td>\n",
       "      <td>31</td>\n",
       "      <td>1</td>\n",
       "      <td>7</td>\n",
       "      <td>personal auto</td>\n",
       "      <td>personal l2</td>\n",
       "      <td>offer1</td>\n",
       "      <td>branch</td>\n",
       "      <td>707</td>\n",
       "      <td>four-door car</td>\n",
       "      <td>medsize</td>\n",
       "    </tr>\n",
       "    <tr>\n",
       "      <th>...</th>\n",
       "      <td>...</td>\n",
       "      <td>...</td>\n",
       "      <td>...</td>\n",
       "      <td>...</td>\n",
       "      <td>...</td>\n",
       "      <td>...</td>\n",
       "      <td>...</td>\n",
       "      <td>...</td>\n",
       "      <td>...</td>\n",
       "      <td>...</td>\n",
       "      <td>...</td>\n",
       "      <td>...</td>\n",
       "      <td>...</td>\n",
       "      <td>...</td>\n",
       "      <td>...</td>\n",
       "      <td>...</td>\n",
       "      <td>...</td>\n",
       "      <td>...</td>\n",
       "      <td>...</td>\n",
       "      <td>...</td>\n",
       "      <td>...</td>\n",
       "    </tr>\n",
       "    <tr>\n",
       "      <th>10684</th>\n",
       "      <td>10684</td>\n",
       "      <td>central</td>\n",
       "      <td>15563</td>\n",
       "      <td>no</td>\n",
       "      <td>premium</td>\n",
       "      <td>bachelor</td>\n",
       "      <td>1/19/11</td>\n",
       "      <td>jan</td>\n",
       "      <td>unemployed</td>\n",
       "      <td>f</td>\n",
       "      <td>...</td>\n",
       "      <td>40</td>\n",
       "      <td>2</td>\n",
       "      <td>7</td>\n",
       "      <td>personal auto</td>\n",
       "      <td>personal l1</td>\n",
       "      <td>offer3</td>\n",
       "      <td>web</td>\n",
       "      <td>1214</td>\n",
       "      <td>luxury car</td>\n",
       "      <td>medsize</td>\n",
       "    </tr>\n",
       "    <tr>\n",
       "      <th>10685</th>\n",
       "      <td>10685</td>\n",
       "      <td>north west</td>\n",
       "      <td>5259</td>\n",
       "      <td>no</td>\n",
       "      <td>basic</td>\n",
       "      <td>college</td>\n",
       "      <td>1/6/11</td>\n",
       "      <td>jan</td>\n",
       "      <td>employed</td>\n",
       "      <td>f</td>\n",
       "      <td>...</td>\n",
       "      <td>68</td>\n",
       "      <td>0</td>\n",
       "      <td>6</td>\n",
       "      <td>personal auto</td>\n",
       "      <td>personal l3</td>\n",
       "      <td>offer2</td>\n",
       "      <td>branch</td>\n",
       "      <td>273</td>\n",
       "      <td>four-door car</td>\n",
       "      <td>medsize</td>\n",
       "    </tr>\n",
       "    <tr>\n",
       "      <th>10686</th>\n",
       "      <td>10686</td>\n",
       "      <td>central</td>\n",
       "      <td>23893</td>\n",
       "      <td>no</td>\n",
       "      <td>extended</td>\n",
       "      <td>bachelor</td>\n",
       "      <td>2/6/11</td>\n",
       "      <td>feb</td>\n",
       "      <td>employed</td>\n",
       "      <td>f</td>\n",
       "      <td>...</td>\n",
       "      <td>63</td>\n",
       "      <td>0</td>\n",
       "      <td>2</td>\n",
       "      <td>corporate auto</td>\n",
       "      <td>corporate l3</td>\n",
       "      <td>offer1</td>\n",
       "      <td>web</td>\n",
       "      <td>381</td>\n",
       "      <td>luxury suv</td>\n",
       "      <td>medsize</td>\n",
       "    </tr>\n",
       "    <tr>\n",
       "      <th>10687</th>\n",
       "      <td>10687</td>\n",
       "      <td>west region</td>\n",
       "      <td>11971</td>\n",
       "      <td>no</td>\n",
       "      <td>premium</td>\n",
       "      <td>college</td>\n",
       "      <td>2/13/11</td>\n",
       "      <td>feb</td>\n",
       "      <td>employed</td>\n",
       "      <td>f</td>\n",
       "      <td>...</td>\n",
       "      <td>27</td>\n",
       "      <td>4</td>\n",
       "      <td>6</td>\n",
       "      <td>personal auto</td>\n",
       "      <td>personal l1</td>\n",
       "      <td>offer1</td>\n",
       "      <td>branch</td>\n",
       "      <td>618</td>\n",
       "      <td>suv</td>\n",
       "      <td>medsize</td>\n",
       "    </tr>\n",
       "    <tr>\n",
       "      <th>10688</th>\n",
       "      <td>10688</td>\n",
       "      <td>west region</td>\n",
       "      <td>6857</td>\n",
       "      <td>no</td>\n",
       "      <td>basic</td>\n",
       "      <td>bachelor</td>\n",
       "      <td>1/8/11</td>\n",
       "      <td>jan</td>\n",
       "      <td>unemployed</td>\n",
       "      <td>m</td>\n",
       "      <td>...</td>\n",
       "      <td>1</td>\n",
       "      <td>0</td>\n",
       "      <td>3</td>\n",
       "      <td>personal auto</td>\n",
       "      <td>personal l1</td>\n",
       "      <td>offer4</td>\n",
       "      <td>web</td>\n",
       "      <td>1021</td>\n",
       "      <td>suv</td>\n",
       "      <td>medsize</td>\n",
       "    </tr>\n",
       "  </tbody>\n",
       "</table>\n",
       "<p>10689 rows × 25 columns</p>\n",
       "</div>"
      ],
      "text/plain": [
       "       Unnamed: 0       region  customer_lifetime_value response  coverage  \\\n",
       "0               0      central                     4809       no     basic   \n",
       "1               1  west region                     2228       no     basic   \n",
       "2               2         east                    14947       no     basic   \n",
       "3               3   north west                    22332      yes  extended   \n",
       "4               4   north west                     9025       no   premium   \n",
       "...           ...          ...                      ...      ...       ...   \n",
       "10684       10684      central                    15563       no   premium   \n",
       "10685       10685   north west                     5259       no     basic   \n",
       "10686       10686      central                    23893       no  extended   \n",
       "10687       10687  west region                    11971       no   premium   \n",
       "10688       10688  west region                     6857       no     basic   \n",
       "\n",
       "      education effective_to_date month employment_status gender  ...  \\\n",
       "0       college           2/18/11   feb          employed      m  ...   \n",
       "1       college           1/18/11   jan        unemployed      f  ...   \n",
       "2      bachelor           2/10/11   feb          employed      m  ...   \n",
       "3       college           1/11/11   jan          employed      m  ...   \n",
       "4      bachelor           1/17/11   jan     medical leave      f  ...   \n",
       "...         ...               ...   ...               ...    ...  ...   \n",
       "10684  bachelor           1/19/11   jan        unemployed      f  ...   \n",
       "10685   college            1/6/11   jan          employed      f  ...   \n",
       "10686  bachelor            2/6/11   feb          employed      f  ...   \n",
       "10687   college           2/13/11   feb          employed      f  ...   \n",
       "10688  bachelor            1/8/11   jan        unemployed      m  ...   \n",
       "\n",
       "       months_since_policy_inception number_of_open_complaints  \\\n",
       "0                                 52                         0   \n",
       "1                                 26                         0   \n",
       "2                                 31                         0   \n",
       "3                                  3                         0   \n",
       "4                                 31                         1   \n",
       "...                              ...                       ...   \n",
       "10684                             40                         2   \n",
       "10685                             68                         0   \n",
       "10686                             63                         0   \n",
       "10687                             27                         4   \n",
       "10688                              1                         0   \n",
       "\n",
       "      number_of_policies     policy_type        policy  renew_offer_type  \\\n",
       "0                      9  corporate auto  corporate l3            offer3   \n",
       "1                      1   personal auto   personal l3            offer4   \n",
       "2                      2   personal auto   personal l3            offer3   \n",
       "3                      2  corporate auto  corporate l3            offer2   \n",
       "4                      7   personal auto   personal l2            offer1   \n",
       "...                  ...             ...           ...               ...   \n",
       "10684                  7   personal auto   personal l1            offer3   \n",
       "10685                  6   personal auto   personal l3            offer2   \n",
       "10686                  2  corporate auto  corporate l3            offer1   \n",
       "10687                  6   personal auto   personal l1            offer1   \n",
       "10688                  3   personal auto   personal l1            offer4   \n",
       "\n",
       "       sales_channel  total_claim_amount  vehicle_class vehicle_size  \n",
       "0              agent                 292  four-door car      medsize  \n",
       "1        call center                 744  four-door car      medsize  \n",
       "2        call center                 480            suv      medsize  \n",
       "3             branch                 484  four-door car      medsize  \n",
       "4             branch                 707  four-door car      medsize  \n",
       "...              ...                 ...            ...          ...  \n",
       "10684            web                1214     luxury car      medsize  \n",
       "10685         branch                 273  four-door car      medsize  \n",
       "10686            web                 381     luxury suv      medsize  \n",
       "10687         branch                 618            suv      medsize  \n",
       "10688            web                1021            suv      medsize  \n",
       "\n",
       "[10689 rows x 25 columns]"
      ]
     },
     "execution_count": 49,
     "metadata": {},
     "output_type": "execute_result"
    }
   ],
   "source": [
    "#df = pd.read_csv(\"C:/Users/tomma/Documents/data_science/berlin/TommasoLaboratories/data/labs/Data_Marketing_Customer_Analysis_Round3.csv\")\n",
    "df = pd.read_csv(\"Data_Marketing_Customer_Analysis_Round3.csv\")\n",
    "df"
   ]
  },
  {
   "cell_type": "code",
   "execution_count": 50,
   "id": "db8601c2",
   "metadata": {
    "pycharm": {
     "name": "#%%\n"
    }
   },
   "outputs": [
    {
     "data": {
      "text/html": [
       "<div>\n",
       "<style scoped>\n",
       "    .dataframe tbody tr th:only-of-type {\n",
       "        vertical-align: middle;\n",
       "    }\n",
       "\n",
       "    .dataframe tbody tr th {\n",
       "        vertical-align: top;\n",
       "    }\n",
       "\n",
       "    .dataframe thead th {\n",
       "        text-align: right;\n",
       "    }\n",
       "</style>\n",
       "<table border=\"1\" class=\"dataframe\">\n",
       "  <thead>\n",
       "    <tr style=\"text-align: right;\">\n",
       "      <th></th>\n",
       "      <th>Unnamed: 0</th>\n",
       "      <th>region</th>\n",
       "      <th>customer_lifetime_value</th>\n",
       "      <th>response</th>\n",
       "      <th>coverage</th>\n",
       "      <th>education</th>\n",
       "      <th>effective_to_date</th>\n",
       "      <th>month</th>\n",
       "      <th>employment_status</th>\n",
       "      <th>gender</th>\n",
       "      <th>...</th>\n",
       "      <th>months_since_policy_inception</th>\n",
       "      <th>number_of_open_complaints</th>\n",
       "      <th>number_of_policies</th>\n",
       "      <th>policy_type</th>\n",
       "      <th>policy</th>\n",
       "      <th>renew_offer_type</th>\n",
       "      <th>sales_channel</th>\n",
       "      <th>total_claim_amount</th>\n",
       "      <th>vehicle_class</th>\n",
       "      <th>vehicle_size</th>\n",
       "    </tr>\n",
       "  </thead>\n",
       "  <tbody>\n",
       "    <tr>\n",
       "      <th>0</th>\n",
       "      <td>0</td>\n",
       "      <td>central</td>\n",
       "      <td>4809</td>\n",
       "      <td>no</td>\n",
       "      <td>basic</td>\n",
       "      <td>college</td>\n",
       "      <td>2/18/11</td>\n",
       "      <td>feb</td>\n",
       "      <td>employed</td>\n",
       "      <td>m</td>\n",
       "      <td>...</td>\n",
       "      <td>52</td>\n",
       "      <td>0</td>\n",
       "      <td>9</td>\n",
       "      <td>corporate auto</td>\n",
       "      <td>corporate l3</td>\n",
       "      <td>offer3</td>\n",
       "      <td>agent</td>\n",
       "      <td>292</td>\n",
       "      <td>four-door car</td>\n",
       "      <td>medsize</td>\n",
       "    </tr>\n",
       "    <tr>\n",
       "      <th>1</th>\n",
       "      <td>1</td>\n",
       "      <td>west region</td>\n",
       "      <td>2228</td>\n",
       "      <td>no</td>\n",
       "      <td>basic</td>\n",
       "      <td>college</td>\n",
       "      <td>1/18/11</td>\n",
       "      <td>jan</td>\n",
       "      <td>unemployed</td>\n",
       "      <td>f</td>\n",
       "      <td>...</td>\n",
       "      <td>26</td>\n",
       "      <td>0</td>\n",
       "      <td>1</td>\n",
       "      <td>personal auto</td>\n",
       "      <td>personal l3</td>\n",
       "      <td>offer4</td>\n",
       "      <td>call center</td>\n",
       "      <td>744</td>\n",
       "      <td>four-door car</td>\n",
       "      <td>medsize</td>\n",
       "    </tr>\n",
       "    <tr>\n",
       "      <th>2</th>\n",
       "      <td>2</td>\n",
       "      <td>east</td>\n",
       "      <td>14947</td>\n",
       "      <td>no</td>\n",
       "      <td>basic</td>\n",
       "      <td>bachelor</td>\n",
       "      <td>2/10/11</td>\n",
       "      <td>feb</td>\n",
       "      <td>employed</td>\n",
       "      <td>m</td>\n",
       "      <td>...</td>\n",
       "      <td>31</td>\n",
       "      <td>0</td>\n",
       "      <td>2</td>\n",
       "      <td>personal auto</td>\n",
       "      <td>personal l3</td>\n",
       "      <td>offer3</td>\n",
       "      <td>call center</td>\n",
       "      <td>480</td>\n",
       "      <td>suv</td>\n",
       "      <td>medsize</td>\n",
       "    </tr>\n",
       "    <tr>\n",
       "      <th>3</th>\n",
       "      <td>3</td>\n",
       "      <td>north west</td>\n",
       "      <td>22332</td>\n",
       "      <td>yes</td>\n",
       "      <td>extended</td>\n",
       "      <td>college</td>\n",
       "      <td>1/11/11</td>\n",
       "      <td>jan</td>\n",
       "      <td>employed</td>\n",
       "      <td>m</td>\n",
       "      <td>...</td>\n",
       "      <td>3</td>\n",
       "      <td>0</td>\n",
       "      <td>2</td>\n",
       "      <td>corporate auto</td>\n",
       "      <td>corporate l3</td>\n",
       "      <td>offer2</td>\n",
       "      <td>branch</td>\n",
       "      <td>484</td>\n",
       "      <td>four-door car</td>\n",
       "      <td>medsize</td>\n",
       "    </tr>\n",
       "    <tr>\n",
       "      <th>4</th>\n",
       "      <td>4</td>\n",
       "      <td>north west</td>\n",
       "      <td>9025</td>\n",
       "      <td>no</td>\n",
       "      <td>premium</td>\n",
       "      <td>bachelor</td>\n",
       "      <td>1/17/11</td>\n",
       "      <td>jan</td>\n",
       "      <td>medical leave</td>\n",
       "      <td>f</td>\n",
       "      <td>...</td>\n",
       "      <td>31</td>\n",
       "      <td>1</td>\n",
       "      <td>7</td>\n",
       "      <td>personal auto</td>\n",
       "      <td>personal l2</td>\n",
       "      <td>offer1</td>\n",
       "      <td>branch</td>\n",
       "      <td>707</td>\n",
       "      <td>four-door car</td>\n",
       "      <td>medsize</td>\n",
       "    </tr>\n",
       "  </tbody>\n",
       "</table>\n",
       "<p>5 rows × 25 columns</p>\n",
       "</div>"
      ],
      "text/plain": [
       "   Unnamed: 0       region  customer_lifetime_value response  coverage  \\\n",
       "0           0      central                     4809       no     basic   \n",
       "1           1  west region                     2228       no     basic   \n",
       "2           2         east                    14947       no     basic   \n",
       "3           3   north west                    22332      yes  extended   \n",
       "4           4   north west                     9025       no   premium   \n",
       "\n",
       "  education effective_to_date month employment_status gender  ...  \\\n",
       "0   college           2/18/11   feb          employed      m  ...   \n",
       "1   college           1/18/11   jan        unemployed      f  ...   \n",
       "2  bachelor           2/10/11   feb          employed      m  ...   \n",
       "3   college           1/11/11   jan          employed      m  ...   \n",
       "4  bachelor           1/17/11   jan     medical leave      f  ...   \n",
       "\n",
       "   months_since_policy_inception number_of_open_complaints number_of_policies  \\\n",
       "0                             52                         0                  9   \n",
       "1                             26                         0                  1   \n",
       "2                             31                         0                  2   \n",
       "3                              3                         0                  2   \n",
       "4                             31                         1                  7   \n",
       "\n",
       "      policy_type        policy  renew_offer_type  sales_channel  \\\n",
       "0  corporate auto  corporate l3            offer3          agent   \n",
       "1   personal auto   personal l3            offer4    call center   \n",
       "2   personal auto   personal l3            offer3    call center   \n",
       "3  corporate auto  corporate l3            offer2         branch   \n",
       "4   personal auto   personal l2            offer1         branch   \n",
       "\n",
       "   total_claim_amount  vehicle_class vehicle_size  \n",
       "0                 292  four-door car      medsize  \n",
       "1                 744  four-door car      medsize  \n",
       "2                 480            suv      medsize  \n",
       "3                 484  four-door car      medsize  \n",
       "4                 707  four-door car      medsize  \n",
       "\n",
       "[5 rows x 25 columns]"
      ]
     },
     "execution_count": 50,
     "metadata": {},
     "output_type": "execute_result"
    }
   ],
   "source": [
    "df.head(5)"
   ]
  },
  {
   "cell_type": "code",
   "execution_count": 51,
   "id": "561346c4",
   "metadata": {
    "pycharm": {
     "name": "#%%\n"
    }
   },
   "outputs": [
    {
     "data": {
      "text/plain": [
       "<AxesSubplot:>"
      ]
     },
     "execution_count": 51,
     "metadata": {},
     "output_type": "execute_result"
    },
    {
     "data": {
      "image/png": "[encoded data removed]",
      "text/plain": [
       "<Figure size 432x288 with 2 Axes>"
      ]
     },
     "metadata": {
      "needs_background": "light"
     },
     "output_type": "display_data"
    }
   ],
   "source": [
    "#fig = plt.figure(figsize=(8,6))\n",
    "sns.heatmap(df.corr(), cmap='vlag', square=True, annot=True)"
   ]
  },
  {
   "cell_type": "markdown",
   "id": "d059e8a5",
   "metadata": {
    "pycharm": {
     "name": "#%% md\n"
    }
   },
   "source": [
    "## 2) One Hot/Label Encoding of the categorical variables in the categoricals data frame that you created in Activity 4. ( Hint: check Dropfirst option).\n"
   ]
  },
  {
   "cell_type": "code",
   "execution_count": 52,
   "id": "6ef0ba2d",
   "metadata": {
    "pycharm": {
     "name": "#%%\n"
    }
   },
   "outputs": [
    {
     "data": {
      "text/html": [
       "<div>\n",
       "<style scoped>\n",
       "    .dataframe tbody tr th:only-of-type {\n",
       "        vertical-align: middle;\n",
       "    }\n",
       "\n",
       "    .dataframe tbody tr th {\n",
       "        vertical-align: top;\n",
       "    }\n",
       "\n",
       "    .dataframe thead th {\n",
       "        text-align: right;\n",
       "    }\n",
       "</style>\n",
       "<table border=\"1\" class=\"dataframe\">\n",
       "  <thead>\n",
       "    <tr style=\"text-align: right;\">\n",
       "      <th></th>\n",
       "      <th>Unnamed: 0</th>\n",
       "      <th>region</th>\n",
       "      <th>customer_lifetime_value</th>\n",
       "      <th>response</th>\n",
       "      <th>coverage</th>\n",
       "      <th>education</th>\n",
       "      <th>month</th>\n",
       "      <th>employment_status</th>\n",
       "      <th>gender</th>\n",
       "      <th>income</th>\n",
       "      <th>...</th>\n",
       "      <th>months_since_policy_inception</th>\n",
       "      <th>number_of_open_complaints</th>\n",
       "      <th>number_of_policies</th>\n",
       "      <th>policy_type</th>\n",
       "      <th>policy</th>\n",
       "      <th>renew_offer_type</th>\n",
       "      <th>sales_channel</th>\n",
       "      <th>total_claim_amount</th>\n",
       "      <th>vehicle_class</th>\n",
       "      <th>vehicle_size</th>\n",
       "    </tr>\n",
       "  </thead>\n",
       "  <tbody>\n",
       "    <tr>\n",
       "      <th>0</th>\n",
       "      <td>0</td>\n",
       "      <td>central</td>\n",
       "      <td>4809</td>\n",
       "      <td>no</td>\n",
       "      <td>basic</td>\n",
       "      <td>college</td>\n",
       "      <td>feb</td>\n",
       "      <td>employed</td>\n",
       "      <td>m</td>\n",
       "      <td>48029</td>\n",
       "      <td>...</td>\n",
       "      <td>52</td>\n",
       "      <td>0</td>\n",
       "      <td>9</td>\n",
       "      <td>corporate auto</td>\n",
       "      <td>corporate l3</td>\n",
       "      <td>offer3</td>\n",
       "      <td>agent</td>\n",
       "      <td>292</td>\n",
       "      <td>four-door car</td>\n",
       "      <td>medsize</td>\n",
       "    </tr>\n",
       "    <tr>\n",
       "      <th>1</th>\n",
       "      <td>1</td>\n",
       "      <td>west region</td>\n",
       "      <td>2228</td>\n",
       "      <td>no</td>\n",
       "      <td>basic</td>\n",
       "      <td>college</td>\n",
       "      <td>jan</td>\n",
       "      <td>unemployed</td>\n",
       "      <td>f</td>\n",
       "      <td>26794</td>\n",
       "      <td>...</td>\n",
       "      <td>26</td>\n",
       "      <td>0</td>\n",
       "      <td>1</td>\n",
       "      <td>personal auto</td>\n",
       "      <td>personal l3</td>\n",
       "      <td>offer4</td>\n",
       "      <td>call center</td>\n",
       "      <td>744</td>\n",
       "      <td>four-door car</td>\n",
       "      <td>medsize</td>\n",
       "    </tr>\n",
       "  </tbody>\n",
       "</table>\n",
       "<p>2 rows × 24 columns</p>\n",
       "</div>"
      ],
      "text/plain": [
       "   Unnamed: 0       region  customer_lifetime_value response coverage  \\\n",
       "0           0      central                     4809       no    basic   \n",
       "1           1  west region                     2228       no    basic   \n",
       "\n",
       "  education month employment_status gender  income  ...  \\\n",
       "0   college   feb          employed      m   48029  ...   \n",
       "1   college   jan        unemployed      f   26794  ...   \n",
       "\n",
       "  months_since_policy_inception number_of_open_complaints  number_of_policies  \\\n",
       "0                            52                         0                   9   \n",
       "1                            26                         0                   1   \n",
       "\n",
       "      policy_type        policy  renew_offer_type  sales_channel  \\\n",
       "0  corporate auto  corporate l3            offer3          agent   \n",
       "1   personal auto   personal l3            offer4    call center   \n",
       "\n",
       "  total_claim_amount  vehicle_class vehicle_size  \n",
       "0                292  four-door car      medsize  \n",
       "1                744  four-door car      medsize  \n",
       "\n",
       "[2 rows x 24 columns]"
      ]
     },
     "execution_count": 52,
     "metadata": {},
     "output_type": "execute_result"
    }
   ],
   "source": [
    "df = df.drop(['effective_to_date'],axis=1)\n",
    "df.head(2)"
   ]
  },
  {
   "cell_type": "code",
   "execution_count": 53,
   "id": "b2ae1da2",
   "metadata": {
    "pycharm": {
     "name": "#%%\n"
    }
   },
   "outputs": [
    {
     "data": {
      "text/html": [
       "<div>\n",
       "<style scoped>\n",
       "    .dataframe tbody tr th:only-of-type {\n",
       "        vertical-align: middle;\n",
       "    }\n",
       "\n",
       "    .dataframe tbody tr th {\n",
       "        vertical-align: top;\n",
       "    }\n",
       "\n",
       "    .dataframe thead th {\n",
       "        text-align: right;\n",
       "    }\n",
       "</style>\n",
       "<table border=\"1\" class=\"dataframe\">\n",
       "  <thead>\n",
       "    <tr style=\"text-align: right;\">\n",
       "      <th></th>\n",
       "      <th>Unnamed: 0</th>\n",
       "      <th>customer_lifetime_value</th>\n",
       "      <th>income</th>\n",
       "      <th>monthly_premium_auto</th>\n",
       "      <th>months_since_last_claim</th>\n",
       "      <th>months_since_policy_inception</th>\n",
       "      <th>number_of_open_complaints</th>\n",
       "      <th>number_of_policies</th>\n",
       "      <th>total_claim_amount</th>\n",
       "      <th>region_east</th>\n",
       "      <th>...</th>\n",
       "      <th>sales_channel_branch</th>\n",
       "      <th>sales_channel_call center</th>\n",
       "      <th>sales_channel_web</th>\n",
       "      <th>vehicle_class_luxury car</th>\n",
       "      <th>vehicle_class_luxury suv</th>\n",
       "      <th>vehicle_class_sports car</th>\n",
       "      <th>vehicle_class_suv</th>\n",
       "      <th>vehicle_class_two-door car</th>\n",
       "      <th>vehicle_size_medsize</th>\n",
       "      <th>vehicle_size_small</th>\n",
       "    </tr>\n",
       "  </thead>\n",
       "  <tbody>\n",
       "    <tr>\n",
       "      <th>0</th>\n",
       "      <td>0</td>\n",
       "      <td>4809</td>\n",
       "      <td>48029</td>\n",
       "      <td>61</td>\n",
       "      <td>7</td>\n",
       "      <td>52</td>\n",
       "      <td>0</td>\n",
       "      <td>9</td>\n",
       "      <td>292</td>\n",
       "      <td>0</td>\n",
       "      <td>...</td>\n",
       "      <td>0</td>\n",
       "      <td>0</td>\n",
       "      <td>0</td>\n",
       "      <td>0</td>\n",
       "      <td>0</td>\n",
       "      <td>0</td>\n",
       "      <td>0</td>\n",
       "      <td>0</td>\n",
       "      <td>1</td>\n",
       "      <td>0</td>\n",
       "    </tr>\n",
       "    <tr>\n",
       "      <th>1</th>\n",
       "      <td>1</td>\n",
       "      <td>2228</td>\n",
       "      <td>26794</td>\n",
       "      <td>64</td>\n",
       "      <td>3</td>\n",
       "      <td>26</td>\n",
       "      <td>0</td>\n",
       "      <td>1</td>\n",
       "      <td>744</td>\n",
       "      <td>0</td>\n",
       "      <td>...</td>\n",
       "      <td>0</td>\n",
       "      <td>1</td>\n",
       "      <td>0</td>\n",
       "      <td>0</td>\n",
       "      <td>0</td>\n",
       "      <td>0</td>\n",
       "      <td>0</td>\n",
       "      <td>0</td>\n",
       "      <td>1</td>\n",
       "      <td>0</td>\n",
       "    </tr>\n",
       "    <tr>\n",
       "      <th>2</th>\n",
       "      <td>2</td>\n",
       "      <td>14947</td>\n",
       "      <td>22139</td>\n",
       "      <td>100</td>\n",
       "      <td>34</td>\n",
       "      <td>31</td>\n",
       "      <td>0</td>\n",
       "      <td>2</td>\n",
       "      <td>480</td>\n",
       "      <td>1</td>\n",
       "      <td>...</td>\n",
       "      <td>0</td>\n",
       "      <td>1</td>\n",
       "      <td>0</td>\n",
       "      <td>0</td>\n",
       "      <td>0</td>\n",
       "      <td>0</td>\n",
       "      <td>1</td>\n",
       "      <td>0</td>\n",
       "      <td>1</td>\n",
       "      <td>0</td>\n",
       "    </tr>\n",
       "  </tbody>\n",
       "</table>\n",
       "<p>3 rows × 52 columns</p>\n",
       "</div>"
      ],
      "text/plain": [
       "   Unnamed: 0  customer_lifetime_value  income  monthly_premium_auto  \\\n",
       "0           0                     4809   48029                    61   \n",
       "1           1                     2228   26794                    64   \n",
       "2           2                    14947   22139                   100   \n",
       "\n",
       "   months_since_last_claim  months_since_policy_inception  \\\n",
       "0                        7                             52   \n",
       "1                        3                             26   \n",
       "2                       34                             31   \n",
       "\n",
       "   number_of_open_complaints  number_of_policies  total_claim_amount  \\\n",
       "0                          0                   9                 292   \n",
       "1                          0                   1                 744   \n",
       "2                          0                   2                 480   \n",
       "\n",
       "   region_east  ...  sales_channel_branch  sales_channel_call center  \\\n",
       "0            0  ...                     0                          0   \n",
       "1            0  ...                     0                          1   \n",
       "2            1  ...                     0                          1   \n",
       "\n",
       "   sales_channel_web  vehicle_class_luxury car  vehicle_class_luxury suv  \\\n",
       "0                  0                         0                         0   \n",
       "1                  0                         0                         0   \n",
       "2                  0                         0                         0   \n",
       "\n",
       "   vehicle_class_sports car  vehicle_class_suv  vehicle_class_two-door car  \\\n",
       "0                         0                  0                           0   \n",
       "1                         0                  0                           0   \n",
       "2                         0                  1                           0   \n",
       "\n",
       "   vehicle_size_medsize  vehicle_size_small  \n",
       "0                     1                   0  \n",
       "1                     1                   0  \n",
       "2                     1                   0  \n",
       "\n",
       "[3 rows x 52 columns]"
      ]
     },
     "execution_count": 53,
     "metadata": {},
     "output_type": "execute_result"
    }
   ],
   "source": [
    "df = pd.get_dummies(df, prefix_sep='_', drop_first=True)\n",
    "df.head(3)"
   ]
  },
  {
   "cell_type": "markdown",
   "id": "9100e860",
   "metadata": {
    "pycharm": {
     "name": "#%% md\n"
    }
   },
   "source": [
    "## 3) for the first iteration, we will focus on the numericals data (numericals data frame) as our data source. "
   ]
  },
  {
   "cell_type": "code",
   "execution_count": 54,
   "id": "a542481b",
   "metadata": {
    "pycharm": {
     "name": "#%%\n"
    }
   },
   "outputs": [],
   "source": [
    "## only numerical \n",
    "df_num = df.iloc[:,1:].select_dtypes(np.number)"
   ]
  },
  {
   "cell_type": "code",
   "execution_count": 55,
   "id": "81bd80dc",
   "metadata": {
    "pycharm": {
     "name": "#%%\n"
    }
   },
   "outputs": [
    {
     "data": {
      "text/plain": [
       "10689"
      ]
     },
     "execution_count": 55,
     "metadata": {},
     "output_type": "execute_result"
    }
   ],
   "source": [
    "len(df_num.index)"
   ]
  },
  {
   "cell_type": "code",
   "execution_count": 56,
   "id": "9a72f4d1",
   "metadata": {
    "pycharm": {
     "name": "#%%\n"
    }
   },
   "outputs": [
    {
     "data": {
      "text/plain": [
       "{'whiskers': [<matplotlib.lines.Line2D at 0x213f7d17f40>,\n",
       "  <matplotlib.lines.Line2D at 0x213fb5a7250>],\n",
       " 'caps': [<matplotlib.lines.Line2D at 0x213fb5a7520>,\n",
       "  <matplotlib.lines.Line2D at 0x213fb5a77f0>],\n",
       " 'boxes': [<matplotlib.lines.Line2D at 0x213f7d17c40>],\n",
       " 'medians': [<matplotlib.lines.Line2D at 0x213fb5a7ac0>],\n",
       " 'fliers': [<matplotlib.lines.Line2D at 0x213fb5a7d90>],\n",
       " 'means': []}"
      ]
     },
     "execution_count": 56,
     "metadata": {},
     "output_type": "execute_result"
    },
    {
     "data": {
      "image/png": "[encoded data removed]",
      "text/plain": [
       "<Figure size 432x288 with 1 Axes>"
      ]
     },
     "metadata": {
      "needs_background": "light"
     },
     "output_type": "display_data"
    }
   ],
   "source": [
    "## check if there are outliers \n",
    "plt.boxplot(df_num['total_claim_amount'], widths=.5)"
   ]
  },
  {
   "cell_type": "code",
   "execution_count": 57,
   "id": "5e37fccb",
   "metadata": {
    "pycharm": {
     "name": "#%%\n"
    }
   },
   "outputs": [
    {
     "data": {
      "text/plain": [
       "Text(0.5, 1.0, 'hist')"
      ]
     },
     "execution_count": 57,
     "metadata": {},
     "output_type": "execute_result"
    },
    {
     "data": {
      "image/png": "[encoded data removed]",
      "text/plain": [
       "<Figure size 576x288 with 2 Axes>"
      ]
     },
     "metadata": {
      "needs_background": "light"
     },
     "output_type": "display_data"
    }
   ],
   "source": [
    "fig, ax = plt.subplots(4,2, figsize = (8,4))\n",
    "plt.subplot(1,2,1)\n",
    "plt.boxplot(df_num['total_claim_amount'], widths=.5)\n",
    "plt.title('boxplot')\n",
    "plt.subplot(1,2,2)\n",
    "plt.hist(df_num['total_claim_amount'], color = '#398f29', edgecolor = 'white', bins = 100)\n",
    "plt.title('hist')"
   ]
  },
  {
   "cell_type": "code",
   "execution_count": 58,
   "id": "d39fc195",
   "metadata": {
    "pycharm": {
     "name": "#%%\n"
    }
   },
   "outputs": [
    {
     "data": {
      "text/plain": [
       "10689"
      ]
     },
     "execution_count": 58,
     "metadata": {},
     "output_type": "execute_result"
    }
   ],
   "source": [
    "## define a function to find outliers\n",
    "def removeOutliers(df, col, limit):\n",
    "    p1 = limit\n",
    "    p2 = 1-limit\n",
    "    outliers = col.between(col.quantile(p1), col.quantile(p2))\n",
    "    df = df.loc[outliers]\n",
    "    return df\n",
    "len(df_num.index)"
   ]
  },
  {
   "cell_type": "code",
   "execution_count": 59,
   "id": "d5f67d74",
   "metadata": {
    "pycharm": {
     "name": "#%%\n"
    }
   },
   "outputs": [
    {
     "data": {
      "text/plain": [
       "10689"
      ]
     },
     "execution_count": 59,
     "metadata": {},
     "output_type": "execute_result"
    }
   ],
   "source": [
    "try1 = removeOutliers(df_num, df_num['total_claim_amount'], 0.05)\n",
    "len(df_num.index)"
   ]
  },
  {
   "cell_type": "code",
   "execution_count": 60,
   "id": "d94cc35f",
   "metadata": {
    "pycharm": {
     "name": "#%%\n"
    }
   },
   "outputs": [
    {
     "data": {
      "text/plain": [
       "10689"
      ]
     },
     "execution_count": 60,
     "metadata": {},
     "output_type": "execute_result"
    }
   ],
   "source": [
    "## define a function to find outliers\n",
    "def removeHighOutliers(df, col, limit):\n",
    "    p1 = 1-limit\n",
    "    outliers = col.between(0, col.quantile(p1))\n",
    "    df = df.loc[outliers]\n",
    "    return df\n",
    "len(df_num.index)"
   ]
  },
  {
   "cell_type": "code",
   "execution_count": 61,
   "id": "9f397e90",
   "metadata": {
    "pycharm": {
     "name": "#%%\n"
    }
   },
   "outputs": [
    {
     "data": {
      "text/plain": [
       "10154"
      ]
     },
     "execution_count": 61,
     "metadata": {},
     "output_type": "execute_result"
    }
   ],
   "source": [
    "try2 = removeHighOutliers(df_num, df_num['total_claim_amount'], 0.05)\n",
    "len(try2.index)"
   ]
  },
  {
   "cell_type": "code",
   "execution_count": 62,
   "id": "fcfec63d",
   "metadata": {
    "pycharm": {
     "name": "#%%\n"
    }
   },
   "outputs": [
    {
     "data": {
      "text/plain": [
       "{'whiskers': [<matplotlib.lines.Line2D at 0x213fc939160>,\n",
       "  <matplotlib.lines.Line2D at 0x213fc939460>],\n",
       " 'caps': [<matplotlib.lines.Line2D at 0x213fc939730>,\n",
       "  <matplotlib.lines.Line2D at 0x213fc939a00>],\n",
       " 'boxes': [<matplotlib.lines.Line2D at 0x213fb95ae50>],\n",
       " 'medians': [<matplotlib.lines.Line2D at 0x213fc939cd0>],\n",
       " 'fliers': [<matplotlib.lines.Line2D at 0x213fc939fa0>],\n",
       " 'means': []}"
      ]
     },
     "execution_count": 62,
     "metadata": {},
     "output_type": "execute_result"
    },
    {
     "data": {
      "image/png": "[encoded data removed]",
      "text/plain": [
       "<Figure size 432x288 with 1 Axes>"
      ]
     },
     "metadata": {
      "needs_background": "light"
     },
     "output_type": "display_data"
    }
   ],
   "source": [
    "plt.boxplot(df_num['total_claim_amount'], widths=.5)"
   ]
  },
  {
   "cell_type": "markdown",
   "id": "0a80d4da",
   "metadata": {
    "pycharm": {
     "name": "#%% md\n"
    }
   },
   "source": [
    "### 3b) (optional) remove the outliers from the numerical columns."
   ]
  },
  {
   "cell_type": "code",
   "execution_count": 63,
   "id": "90239465",
   "metadata": {
    "pycharm": {
     "name": "#%%\n"
    }
   },
   "outputs": [],
   "source": [
    "lenght_pre = len(df_num.index)"
   ]
  },
  {
   "cell_type": "code",
   "execution_count": 64,
   "id": "6e4f7be7",
   "metadata": {
    "pycharm": {
     "name": "#%%\n"
    }
   },
   "outputs": [],
   "source": [
    "## define a function to find outliers \n",
    "def findOutiliers(col):\n",
    "    ''' Split the column in 3 categories: within 45% around the mean, 5% extremes \n",
    "    above and below''' \n",
    "    percentiles = col.describe([.05,.95])\n",
    "    col = ['low_outliers' if x<percentiles['5%'] \n",
    "           else 'normal' if (x>=percentiles['5%'] and x<percentiles['95%'])\n",
    "           else 'high_outliers' for x in col]\n",
    "    return col"
   ]
  },
  {
   "cell_type": "code",
   "execution_count": 65,
   "id": "f55e7385",
   "metadata": {
    "pycharm": {
     "name": "#%%\n"
    }
   },
   "outputs": [
    {
     "data": {
      "text/plain": [
       "array(['normal', 'low_outliers', 'high_outliers'], dtype=object)"
      ]
     },
     "execution_count": 65,
     "metadata": {},
     "output_type": "execute_result"
    }
   ],
   "source": [
    "df_num['outliers'] = findOutiliers(df_num['total_claim_amount'])\n",
    "df_num['outliers'].unique()"
   ]
  },
  {
   "cell_type": "code",
   "execution_count": 66,
   "id": "d6a37c71",
   "metadata": {
    "pycharm": {
     "name": "#%%\n"
    }
   },
   "outputs": [],
   "source": [
    "## subset the df to drop outliers \n",
    "df_num = df_num.where((df_num['outliers']!=\"high_outliers\") & (df_num['outliers']!=\"low_outliers\"))\n",
    "df_num = df_num.dropna(subset=['outliers'])"
   ]
  },
  {
   "cell_type": "code",
   "execution_count": 67,
   "id": "a62dec86",
   "metadata": {
    "pycharm": {
     "name": "#%%\n"
    }
   },
   "outputs": [
    {
     "data": {
      "text/plain": [
       "(array([ 92., 100.,  98.,  91.,  87.,  89., 111.,  86., 100.,  97.,  84.,\n",
       "         95.,  93.,  84.,  74.,  58., 111.,  75.,  91.,  88.,  93.,  96.,\n",
       "         82.,  78.,  89.,  98., 312., 275., 345., 173., 311., 259., 334.,\n",
       "        171., 139., 145., 114., 152.,  93., 131., 164., 117., 152., 166.,\n",
       "        155., 149., 141., 198., 179., 156., 126., 169., 139., 141., 125.,\n",
       "        126., 159.,  52.,  70.,  53.,  96.,  75.,  75.,  79.,  72.,  56.,\n",
       "         80.,  64.,  47.,  45.,  40.,  37.,  36.,  42.,  36.,  42.,  37.,\n",
       "         50.,  42.,  29.,  49.,  26.,  37.,  15.,  42.,  26.,  30.,  32.,\n",
       "         19.,  23.,  21.,  17.,  23.,  23.,  16.,  27.,  21.,  20.,  25.,\n",
       "         21.]),\n",
       " array([ 51.  ,  60.15,  69.3 ,  78.45,  87.6 ,  96.75, 105.9 , 115.05,\n",
       "        124.2 , 133.35, 142.5 , 151.65, 160.8 , 169.95, 179.1 , 188.25,\n",
       "        197.4 , 206.55, 215.7 , 224.85, 234.  , 243.15, 252.3 , 261.45,\n",
       "        270.6 , 279.75, 288.9 , 298.05, 307.2 , 316.35, 325.5 , 334.65,\n",
       "        343.8 , 352.95, 362.1 , 371.25, 380.4 , 389.55, 398.7 , 407.85,\n",
       "        417.  , 426.15, 435.3 , 444.45, 453.6 , 462.75, 471.9 , 481.05,\n",
       "        490.2 , 499.35, 508.5 , 517.65, 526.8 , 535.95, 545.1 , 554.25,\n",
       "        563.4 , 572.55, 581.7 , 590.85, 600.  , 609.15, 618.3 , 627.45,\n",
       "        636.6 , 645.75, 654.9 , 664.05, 673.2 , 682.35, 691.5 , 700.65,\n",
       "        709.8 , 718.95, 728.1 , 737.25, 746.4 , 755.55, 764.7 , 773.85,\n",
       "        783.  , 792.15, 801.3 , 810.45, 819.6 , 828.75, 837.9 , 847.05,\n",
       "        856.2 , 865.35, 874.5 , 883.65, 892.8 , 901.95, 911.1 , 920.25,\n",
       "        929.4 , 938.55, 947.7 , 956.85, 966.  ]),\n",
       " <BarContainer object of 100 artists>)"
      ]
     },
     "execution_count": 67,
     "metadata": {},
     "output_type": "execute_result"
    },
    {
     "data": {
      "image/png": "[encoded data removed]",
      "text/plain": [
       "<Figure size 432x288 with 1 Axes>"
      ]
     },
     "metadata": {
      "needs_background": "light"
     },
     "output_type": "display_data"
    }
   ],
   "source": [
    "plt.hist(df_num['total_claim_amount'], color = '#398f29', edgecolor = 'white', bins = 100)"
   ]
  },
  {
   "cell_type": "code",
   "execution_count": 68,
   "id": "bd105457",
   "metadata": {
    "pycharm": {
     "name": "#%%\n"
    }
   },
   "outputs": [
    {
     "data": {
      "text/plain": [
       "4434    2893\n",
       "7734    2759\n",
       "9614    2552\n",
       "8007    2552\n",
       "1316    2452\n",
       "        ... \n",
       "6865       0\n",
       "3628       0\n",
       "2759       0\n",
       "5853       0\n",
       "6113       0\n",
       "Name: total_claim_amount, Length: 10689, dtype: int64"
      ]
     },
     "execution_count": 68,
     "metadata": {},
     "output_type": "execute_result"
    }
   ],
   "source": [
    "df['total_claim_amount'].sort_values(ascending=False)"
   ]
  },
  {
   "cell_type": "markdown",
   "id": "f01af42f",
   "metadata": {
    "pycharm": {
     "name": "#%% md\n"
    }
   },
   "source": [
    "### CHECK OUTLIERS"
   ]
  },
  {
   "cell_type": "code",
   "execution_count": 69,
   "id": "34de8484",
   "metadata": {
    "pycharm": {
     "name": "#%%\n"
    }
   },
   "outputs": [],
   "source": [
    "## reload the df\n",
    "df = pd.read_csv(\"C:/Users/tomma/Documents/data_science/berlin/TommasoLaboratories/data/labs/Data_Marketing_Customer_Analysis_Round3.csv\")\n",
    "df_num = df.iloc[:,1:].select_dtypes(np.number)"
   ]
  },
  {
   "cell_type": "code",
   "execution_count": 70,
   "id": "f832e175",
   "metadata": {
    "pycharm": {
     "name": "#%%\n"
    },
    "scrolled": true
   },
   "outputs": [
    {
     "data": {
      "image/png": "[encoded data removed]",
      "text/plain": [
       "<Figure size 576x864 with 9 Axes>"
      ]
     },
     "metadata": {
      "needs_background": "light"
     },
     "output_type": "display_data"
    }
   ],
   "source": [
    "fig, ax = plt.subplots(3,3, figsize = (8,12))\n",
    "\n",
    "for i in range(1,9):\n",
    "    plt.subplot(3,3,i)\n",
    "    plt.boxplot(df_num.iloc[:,i-1])\n",
    "    plt.title(f'{df_num.columns[i-1].upper()}')\n",
    "fig.subplots_adjust(hspace=1)"
   ]
  },
  {
   "cell_type": "markdown",
   "id": "e70c999c",
   "metadata": {
    "pycharm": {
     "name": "#%% md\n"
    }
   },
   "source": [
    "### 3b) X-y split (y is the target variable which is the total claim amount)\n"
   ]
  },
  {
   "cell_type": "code",
   "execution_count": 71,
   "id": "23772096",
   "metadata": {
    "pycharm": {
     "name": "#%%\n"
    }
   },
   "outputs": [],
   "source": [
    "to_clean = df_num[[\"total_claim_amount\", \"customer_lifetime_value\", \"monthly_premium_auto\"]]"
   ]
  },
  {
   "cell_type": "code",
   "execution_count": 72,
   "id": "c69cf33d",
   "metadata": {
    "pycharm": {
     "name": "#%%\n"
    }
   },
   "outputs": [],
   "source": [
    "df_num_clean = removeHighOutliers(df_num, df_num[\"total_claim_amount\"], 0.05)\n",
    "df_num_clean = removeHighOutliers(df_num, df_num[\"customer_lifetime_value\"], 0.05)\n",
    "df_num_clean = removeHighOutliers(df_num, df_num[\"monthly_premium_auto\"], 0.05)"
   ]
  },
  {
   "cell_type": "code",
   "execution_count": 73,
   "id": "cf1008c2",
   "metadata": {
    "pycharm": {
     "name": "#%%\n"
    }
   },
   "outputs": [
    {
     "data": {
      "text/plain": [
       "10689"
      ]
     },
     "execution_count": 73,
     "metadata": {},
     "output_type": "execute_result"
    }
   ],
   "source": [
    "len(df_num.index)"
   ]
  },
  {
   "cell_type": "markdown",
   "id": "a1bbfd98",
   "metadata": {
    "pycharm": {
     "name": "#%% md\n"
    }
   },
   "source": [
    "## MODELING "
   ]
  },
  {
   "cell_type": "code",
   "execution_count": 74,
   "id": "5068b272",
   "metadata": {
    "pycharm": {
     "name": "#%%\n"
    }
   },
   "outputs": [],
   "source": [
    "import sklearn.preprocessing\n",
    "import sklearn.model_selection\n",
    "import sklearn.model_selection \n",
    "from sklearn.model_selection import train_test_split\n",
    "from sklearn.preprocessing import StandardScaler\n",
    "from sklearn.linear_model import LinearRegression\n",
    "import statsmodels.api as sm\n",
    "from scipy.stats import boxcox"
   ]
  },
  {
   "cell_type": "markdown",
   "id": "c7506e0f",
   "metadata": {
    "pycharm": {
     "name": "#%% md\n"
    }
   },
   "source": [
    "### 1) Train-test split."
   ]
  },
  {
   "cell_type": "code",
   "execution_count": 75,
   "id": "530770e5",
   "metadata": {},
   "outputs": [],
   "source": [
    "def LinearRegression(x,y):\n",
    "    ## split data in test and trian\n",
    "    x_tr, x_ts, y_tr, y_ts= train_test_split(x, y, test_size=.30,random_state=123)\n",
    "    std_scaler = StandardScaler().fit(x_tr)\n",
    "    \n",
    "    ## scale the data\n",
    "    x_tr_z = std_scaler.transform(x_tr)\n",
    "    x_ts_z = std_scaler.transform(x_ts)\n",
    "    x_tr_z = sm.add_constant(x_tr_z)\n",
    "    \n",
    "    ## apply the model and get results\n",
    "    ols = sm.OLS(y_tr, x_tr_z).fit()\n",
    "    results = ols.summary()\n",
    "    return results \n",
    "\n",
    "def tableResults(ols_summary):\n",
    "    table_results = pd.DataFrame(ols.summary().tables[1].data)\n",
    "    table_results.columns = table_results.iloc[0]\n",
    "    table_results = table_results.iloc[1:,]\n",
    "    table_results.iloc[0,0]\n",
    "    table_results['obs'] = ols.nobs\n",
    "    table_results.rename(columns={\"P>|t|\" : \"p_val\", \"[0.025\": \"low_ci\", \"0.975]\": \"high_ci\"}, inplace=True)\n",
    "    table_results = table_results.set_index(table_results.columns[0])\n",
    "    table_results = table_results.astype(float)\n",
    "    table_results['errors'] = table_results['coef'] - table_results['low_ci']\n",
    "    table_results = round(table_results, 3)\n",
    "    return table_results"
   ]
  },
  {
   "cell_type": "code",
   "execution_count": 77,
   "id": "a1b66bc2",
   "metadata": {},
   "outputs": [
    {
     "data": {
      "text/html": [
       "<table class=\"simpletable\">\n",
       "<caption>OLS Regression Results</caption>\n",
       "<tr>\n",
       "  <th>Dep. Variable:</th>    <td>total_claim_amount</td> <th>  R-squared:         </th> <td>   0.193</td> \n",
       "</tr>\n",
       "<tr>\n",
       "  <th>Model:</th>                    <td>OLS</td>        <th>  Adj. R-squared:    </th> <td>   0.192</td> \n",
       "</tr>\n",
       "<tr>\n",
       "  <th>Method:</th>              <td>Least Squares</td>   <th>  F-statistic:       </th> <td>   218.9</td> \n",
       "</tr>\n",
       "<tr>\n",
       "  <th>Date:</th>              <td>Thu, 23 Jun 2022</td>  <th>  Prob (F-statistic):</th> <td>1.21e-292</td>\n",
       "</tr>\n",
       "<tr>\n",
       "  <th>Time:</th>                  <td>14:03:10</td>      <th>  Log-Likelihood:    </th> <td> -42451.</td> \n",
       "</tr>\n",
       "<tr>\n",
       "  <th>No. Observations:</th>       <td>  6414</td>       <th>  AIC:               </th> <td>8.492e+04</td>\n",
       "</tr>\n",
       "<tr>\n",
       "  <th>Df Residuals:</th>           <td>  6406</td>       <th>  BIC:               </th> <td>8.497e+04</td>\n",
       "</tr>\n",
       "<tr>\n",
       "  <th>Df Model:</th>               <td>     7</td>       <th>                     </th>     <td> </td>    \n",
       "</tr>\n",
       "<tr>\n",
       "  <th>Covariance Type:</th>       <td>nonrobust</td>     <th>                     </th>     <td> </td>    \n",
       "</tr>\n",
       "</table>\n",
       "<table class=\"simpletable\">\n",
       "<tr>\n",
       "    <td></td>       <th>coef</th>     <th>std err</th>      <th>t</th>      <th>P>|t|</th>  <th>[0.025</th>    <th>0.975]</th>  \n",
       "</tr>\n",
       "<tr>\n",
       "  <th>const</th> <td>  377.4373</td> <td>    2.264</td> <td>  166.731</td> <td> 0.000</td> <td>  373.000</td> <td>  381.875</td>\n",
       "</tr>\n",
       "<tr>\n",
       "  <th>x1</th>    <td>   -4.2636</td> <td>    2.409</td> <td>   -1.770</td> <td> 0.077</td> <td>   -8.986</td> <td>    0.458</td>\n",
       "</tr>\n",
       "<tr>\n",
       "  <th>x2</th>    <td>  -28.1407</td> <td>    2.265</td> <td>  -12.426</td> <td> 0.000</td> <td>  -32.580</td> <td>  -23.701</td>\n",
       "</tr>\n",
       "<tr>\n",
       "  <th>x3</th>    <td>   85.5468</td> <td>    2.385</td> <td>   35.875</td> <td> 0.000</td> <td>   80.872</td> <td>   90.221</td>\n",
       "</tr>\n",
       "<tr>\n",
       "  <th>x4</th>    <td>   -3.8530</td> <td>    2.266</td> <td>   -1.700</td> <td> 0.089</td> <td>   -8.296</td> <td>    0.590</td>\n",
       "</tr>\n",
       "<tr>\n",
       "  <th>x5</th>    <td>   -3.5619</td> <td>    2.266</td> <td>   -1.572</td> <td> 0.116</td> <td>   -8.005</td> <td>    0.881</td>\n",
       "</tr>\n",
       "<tr>\n",
       "  <th>x6</th>    <td>   -1.0589</td> <td>    2.265</td> <td>   -0.468</td> <td> 0.640</td> <td>   -5.498</td> <td>    3.381</td>\n",
       "</tr>\n",
       "<tr>\n",
       "  <th>x7</th>    <td>   -1.0045</td> <td>    2.289</td> <td>   -0.439</td> <td> 0.661</td> <td>   -5.491</td> <td>    3.482</td>\n",
       "</tr>\n",
       "</table>\n",
       "<table class=\"simpletable\">\n",
       "<tr>\n",
       "  <th>Omnibus:</th>       <td>26.563</td> <th>  Durbin-Watson:     </th> <td>   2.042</td>\n",
       "</tr>\n",
       "<tr>\n",
       "  <th>Prob(Omnibus):</th> <td> 0.000</td> <th>  Jarque-Bera (JB):  </th> <td>  35.544</td>\n",
       "</tr>\n",
       "<tr>\n",
       "  <th>Skew:</th>          <td>-0.029</td> <th>  Prob(JB):          </th> <td>1.91e-08</td>\n",
       "</tr>\n",
       "<tr>\n",
       "  <th>Kurtosis:</th>      <td> 3.360</td> <th>  Cond. No.          </th> <td>    1.43</td>\n",
       "</tr>\n",
       "</table><br/><br/>Notes:<br/>[1] Standard Errors assume that the covariance matrix of the errors is correctly specified."
      ],
      "text/plain": [
       "<class 'statsmodels.iolib.summary.Summary'>\n",
       "\"\"\"\n",
       "                            OLS Regression Results                            \n",
       "==============================================================================\n",
       "Dep. Variable:     total_claim_amount   R-squared:                       0.193\n",
       "Model:                            OLS   Adj. R-squared:                  0.192\n",
       "Method:                 Least Squares   F-statistic:                     218.9\n",
       "Date:                Thu, 23 Jun 2022   Prob (F-statistic):          1.21e-292\n",
       "Time:                        14:03:10   Log-Likelihood:                -42451.\n",
       "No. Observations:                6414   AIC:                         8.492e+04\n",
       "Df Residuals:                    6406   BIC:                         8.497e+04\n",
       "Df Model:                           7                                         \n",
       "Covariance Type:            nonrobust                                         \n",
       "==============================================================================\n",
       "                 coef    std err          t      P>|t|      [0.025      0.975]\n",
       "------------------------------------------------------------------------------\n",
       "const        377.4373      2.264    166.731      0.000     373.000     381.875\n",
       "x1            -4.2636      2.409     -1.770      0.077      -8.986       0.458\n",
       "x2           -28.1407      2.265    -12.426      0.000     -32.580     -23.701\n",
       "x3            85.5468      2.385     35.875      0.000      80.872      90.221\n",
       "x4            -3.8530      2.266     -1.700      0.089      -8.296       0.590\n",
       "x5            -3.5619      2.266     -1.572      0.116      -8.005       0.881\n",
       "x6            -1.0589      2.265     -0.468      0.640      -5.498       3.381\n",
       "x7            -1.0045      2.289     -0.439      0.661      -5.491       3.482\n",
       "==============================================================================\n",
       "Omnibus:                       26.563   Durbin-Watson:                   2.042\n",
       "Prob(Omnibus):                  0.000   Jarque-Bera (JB):               35.544\n",
       "Skew:                          -0.029   Prob(JB):                     1.91e-08\n",
       "Kurtosis:                       3.360   Cond. No.                         1.43\n",
       "==============================================================================\n",
       "\n",
       "Notes:\n",
       "[1] Standard Errors assume that the covariance matrix of the errors is correctly specified.\n",
       "\"\"\""
      ]
     },
     "execution_count": 77,
     "metadata": {},
     "output_type": "execute_result"
    }
   ],
   "source": [
    "results = LinearRegression(x,y)\n",
    "results"
   ]
  },
  {
   "cell_type": "code",
   "execution_count": 29,
   "id": "cc136331",
   "metadata": {
    "pycharm": {
     "name": "#%%\n"
    }
   },
   "outputs": [],
   "source": [
    "###split \n",
    "x = df_num.drop('total_claim_amount', axis=1)\n",
    "y = df_num.total_claim_amount"
   ]
  },
  {
   "cell_type": "code",
   "execution_count": 30,
   "id": "f1fd4dd2",
   "metadata": {
    "pycharm": {
     "name": "#%%\n"
    }
   },
   "outputs": [
    {
     "name": "stdout",
     "output_type": "stream",
     "text": [
      "2.3323636363636364\n"
     ]
    }
   ],
   "source": [
    "x_tr, x_ts, y_tr, y_ts= train_test_split(x, y, test_size=.30,random_state=123)\n",
    "print(len(x_tr.index)/len(x_ts.index))"
   ]
  },
  {
   "cell_type": "markdown",
   "id": "f367a29d",
   "metadata": {
    "pycharm": {
     "name": "#%% md\n"
    }
   },
   "source": [
    "### 2) Standardize the data (after the data split)."
   ]
  },
  {
   "cell_type": "code",
   "execution_count": 45,
   "id": "84fefc73",
   "metadata": {
    "pycharm": {
     "name": "#%%\n"
    }
   },
   "outputs": [
    {
     "data": {
      "text/plain": [
       "StandardScaler()"
      ]
     },
     "execution_count": 45,
     "metadata": {},
     "output_type": "execute_result"
    }
   ],
   "source": [
    "std_scaler = StandardScaler().fit(x_tr)"
   ]
  },
  {
   "cell_type": "code",
   "execution_count": 32,
   "id": "5dfac453",
   "metadata": {
    "pycharm": {
     "name": "#%%\n"
    }
   },
   "outputs": [],
   "source": [
    "##. finding the parameters ( mean, variance from the training set )\n",
    "x_tr_z = std_scaler.transform(x_tr)\n",
    "x_ts_z = std_scaler.transform(x_ts)\n",
    "#print(x_train_scaled, x_test_scaled)"
   ]
  },
  {
   "cell_type": "code",
   "execution_count": 33,
   "id": "e8d7c8a1",
   "metadata": {
    "pycharm": {
     "name": "#%%\n"
    }
   },
   "outputs": [
    {
     "data": {
      "text/plain": [
       "Text(0.5, 1.0, 'x_train scaled')"
      ]
     },
     "execution_count": 33,
     "metadata": {},
     "output_type": "execute_result"
    },
    {
     "data": {
      "image/png": "[encoded data removed]",
      "text/plain": [
       "<Figure size 576x288 with 2 Axes>"
      ]
     },
     "metadata": {
      "needs_background": "light"
     },
     "output_type": "display_data"
    }
   ],
   "source": [
    "## plot x train and x train scaled \n",
    "fig, ax = plt.subplots(1,2, figsize = (8,4))\n",
    "plt.subplot(1,2,1)\n",
    "plt.hist(x_tr.iloc[:,0], bins = 100)\n",
    "plt.title('x_train')\n",
    "plt.subplot(1,2,2)\n",
    "plt.hist(x_tr_z[:,0], bins = 100)\n",
    "plt.title('x_train scaled')"
   ]
  },
  {
   "cell_type": "code",
   "execution_count": 34,
   "id": "df378d16",
   "metadata": {},
   "outputs": [
    {
     "name": "stdout",
     "output_type": "stream",
     "text": [
      "<class 'pandas.core.frame.DataFrame'>\n",
      "<class 'pandas.core.series.Series'>\n"
     ]
    }
   ],
   "source": [
    "## plot test and training\n",
    "print(type(x_ts))\n",
    "print(type(y_ts))\n"
   ]
  },
  {
   "cell_type": "code",
   "execution_count": 35,
   "id": "cdbe4546",
   "metadata": {},
   "outputs": [
    {
     "data": {
      "text/plain": [
       "Text(0.5, 1.0, 'Test')"
      ]
     },
     "execution_count": 35,
     "metadata": {},
     "output_type": "execute_result"
    },
    {
     "data": {
      "image/png": "[encoded data removed]",
      "text/plain": [
       "<Figure size 576x288 with 2 Axes>"
      ]
     },
     "metadata": {
      "needs_background": "light"
     },
     "output_type": "display_data"
    }
   ],
   "source": [
    "## plot x train and x train scaled \n",
    "fig, ax = plt.subplots(1,2, figsize = (8,4))\n",
    "plt.subplot(1,2,1)\n",
    "plt.scatter(x_tr.iloc[:,2], pd.DataFrame(y_tr))\n",
    "plt.title('Training')\n",
    "plt.subplot(1,2,2)\n",
    "plt.scatter(x_ts.iloc[:,2], pd.DataFrame(y_ts))\n",
    "plt.title('Test')\n"
   ]
  },
  {
   "cell_type": "markdown",
   "id": "d47a4bd3",
   "metadata": {
    "pycharm": {
     "name": "#%% md\n"
    }
   },
   "source": [
    "### 3) Apply linear regression.\n",
    "### statsmodels"
   ]
  },
  {
   "cell_type": "code",
   "execution_count": 36,
   "id": "518a76d9",
   "metadata": {},
   "outputs": [
    {
     "name": "stdout",
     "output_type": "stream",
     "text": [
      "                            OLS Regression Results                            \n",
      "==============================================================================\n",
      "Dep. Variable:     total_claim_amount   R-squared:                       0.193\n",
      "Model:                            OLS   Adj. R-squared:                  0.192\n",
      "Method:                 Least Squares   F-statistic:                     218.9\n",
      "Date:                Thu, 23 Jun 2022   Prob (F-statistic):          1.21e-292\n",
      "Time:                        09:29:14   Log-Likelihood:                -42451.\n",
      "No. Observations:                6414   AIC:                         8.492e+04\n",
      "Df Residuals:                    6406   BIC:                         8.497e+04\n",
      "Df Model:                           7                                         \n",
      "Covariance Type:            nonrobust                                         \n",
      "==============================================================================\n",
      "                 coef    std err          t      P>|t|      [0.025      0.975]\n",
      "------------------------------------------------------------------------------\n",
      "const        377.4373      2.264    166.731      0.000     373.000     381.875\n",
      "x1            -4.2636      2.409     -1.770      0.077      -8.986       0.458\n",
      "x2           -28.1407      2.265    -12.426      0.000     -32.580     -23.701\n",
      "x3            85.5468      2.385     35.875      0.000      80.872      90.221\n",
      "x4            -3.8530      2.266     -1.700      0.089      -8.296       0.590\n",
      "x5            -3.5619      2.266     -1.572      0.116      -8.005       0.881\n",
      "x6            -1.0589      2.265     -0.468      0.640      -5.498       3.381\n",
      "x7            -1.0045      2.289     -0.439      0.661      -5.491       3.482\n",
      "==============================================================================\n",
      "Omnibus:                       26.563   Durbin-Watson:                   2.042\n",
      "Prob(Omnibus):                  0.000   Jarque-Bera (JB):               35.544\n",
      "Skew:                          -0.029   Prob(JB):                     1.91e-08\n",
      "Kurtosis:                       3.360   Cond. No.                         1.43\n",
      "==============================================================================\n",
      "\n",
      "Notes:\n",
      "[1] Standard Errors assume that the covariance matrix of the errors is correctly specified.\n"
     ]
    }
   ],
   "source": [
    "## fit the model -- TRAINING SET\n",
    "x_tr_z = sm.add_constant(x_tr_z)\n",
    "ols = sm.OLS(y_tr, x_tr_z).fit()\n",
    "\n",
    "## print the results\n",
    "results = ols.summary()\n",
    "print(results)"
   ]
  },
  {
   "cell_type": "code",
   "execution_count": 37,
   "id": "bcfff577",
   "metadata": {},
   "outputs": [
    {
     "data": {
      "text/plain": [
       "array([553.54587512, 335.18503859, 374.4996277 , ..., 433.70685495,\n",
       "       408.18459381, 452.74980992])"
      ]
     },
     "execution_count": 37,
     "metadata": {},
     "output_type": "execute_result"
    }
   ],
   "source": [
    "## predicted values of the test set using the model made on the training set \n",
    "x_ts_z = sm.add_constant(x_ts_z)\n",
    "y_pred = ols.predict(x_ts_z)\n",
    "y_pred"
   ]
  },
  {
   "cell_type": "code",
   "execution_count": 38,
   "id": "7d72ccae",
   "metadata": {
    "pycharm": {
     "name": "#%%\n"
    }
   },
   "outputs": [
    {
     "data": {
      "text/plain": [
       "<matplotlib.collections.PathCollection at 0x213f7668c10>"
      ]
     },
     "execution_count": 38,
     "metadata": {},
     "output_type": "execute_result"
    },
    {
     "data": {
      "image/png": "[encoded data removed]",
      "text/plain": [
       "<Figure size 576x288 with 2 Axes>"
      ]
     },
     "metadata": {
      "needs_background": "light"
     },
     "output_type": "display_data"
    }
   ],
   "source": [
    "## fit the model -- TEST SET\n",
    "diff = y_pred - y_ts\n",
    "\n",
    "## plot x train and x train scaled \n",
    "fig, ax = plt.subplots(1,4, figsize = (8,4))\n",
    "plt.subplot(1,2,1)\n",
    "plt.hist(diff, bins = 100)\n",
    "plt.title('HISTOGRAM: y pred - y test')\n",
    "plt.subplot(1,2,2)\n",
    "plt.scatter(y_pred, y_ts)"
   ]
  },
  {
   "cell_type": "code",
   "execution_count": 39,
   "id": "0ff2ec46",
   "metadata": {
    "pycharm": {
     "name": "#%%\n"
    }
   },
   "outputs": [
    {
     "data": {
      "text/plain": [
       "[<matplotlib.lines.Line2D at 0x213f6329640>]"
      ]
     },
     "execution_count": 39,
     "metadata": {},
     "output_type": "execute_result"
    },
    {
     "data": {
      "image/png": "[encoded data removed]",
      "text/plain": [
       "<Figure size 576x288 with 1 Axes>"
      ]
     },
     "metadata": {
      "needs_background": "light"
     },
     "output_type": "display_data"
    }
   ],
   "source": [
    "fig, ax = plt.subplots(1, figsize = (8,4))\n",
    "plt.plot(y_pred,y_ts - y_pred, \"o\")\n",
    "plt.plot(y_pred,np.zeros(len(y_pred)),linestyle='dashed')"
   ]
  },
  {
   "cell_type": "code",
   "execution_count": 40,
   "id": "3e62266e",
   "metadata": {},
   "outputs": [],
   "source": [
    "def tableResults(ols_summary):\n",
    "    table_results = pd.DataFrame(ols.summary().tables[1].data)\n",
    "    table_results.columns = table_results.iloc[0]\n",
    "    table_results = table_results.iloc[1:,]\n",
    "    table_results.iloc[0,0]\n",
    "    table_results['obs'] = ols.nobs\n",
    "    table_results.rename(columns={\"P>|t|\" : \"p_val\", \"[0.025\": \"low_ci\", \"0.975]\": \"high_ci\"}, inplace=True)\n",
    "    table_results = table_results.set_index(table_results.columns[0])\n",
    "    table_results = table_results.astype(float)\n",
    "    table_results['errors'] = table_results['coef'] - table_results['low_ci']\n",
    "    table_results = round(table_results, 3)\n",
    "    return table_results"
   ]
  },
  {
   "cell_type": "code",
   "execution_count": 41,
   "id": "43253ae9",
   "metadata": {},
   "outputs": [
    {
     "data": {
      "text/html": [
       "<div>\n",
       "<style scoped>\n",
       "    .dataframe tbody tr th:only-of-type {\n",
       "        vertical-align: middle;\n",
       "    }\n",
       "\n",
       "    .dataframe tbody tr th {\n",
       "        vertical-align: top;\n",
       "    }\n",
       "\n",
       "    .dataframe thead th {\n",
       "        text-align: right;\n",
       "    }\n",
       "</style>\n",
       "<table border=\"1\" class=\"dataframe\">\n",
       "  <thead>\n",
       "    <tr style=\"text-align: right;\">\n",
       "      <th></th>\n",
       "      <th>coef</th>\n",
       "      <th>std err</th>\n",
       "      <th>t</th>\n",
       "      <th>p_val</th>\n",
       "      <th>low_ci</th>\n",
       "      <th>high_ci</th>\n",
       "      <th>obs</th>\n",
       "      <th>errors</th>\n",
       "    </tr>\n",
       "    <tr>\n",
       "      <th></th>\n",
       "      <th></th>\n",
       "      <th></th>\n",
       "      <th></th>\n",
       "      <th></th>\n",
       "      <th></th>\n",
       "      <th></th>\n",
       "      <th></th>\n",
       "      <th></th>\n",
       "    </tr>\n",
       "  </thead>\n",
       "  <tbody>\n",
       "    <tr>\n",
       "      <th>const</th>\n",
       "      <td>377.437</td>\n",
       "      <td>2.264</td>\n",
       "      <td>166.731</td>\n",
       "      <td>0.000</td>\n",
       "      <td>373.000</td>\n",
       "      <td>381.875</td>\n",
       "      <td>6414.0</td>\n",
       "      <td>4.437</td>\n",
       "    </tr>\n",
       "    <tr>\n",
       "      <th>x1</th>\n",
       "      <td>-4.264</td>\n",
       "      <td>2.409</td>\n",
       "      <td>-1.770</td>\n",
       "      <td>0.077</td>\n",
       "      <td>-8.986</td>\n",
       "      <td>0.458</td>\n",
       "      <td>6414.0</td>\n",
       "      <td>4.722</td>\n",
       "    </tr>\n",
       "    <tr>\n",
       "      <th>x2</th>\n",
       "      <td>-28.141</td>\n",
       "      <td>2.265</td>\n",
       "      <td>-12.426</td>\n",
       "      <td>0.000</td>\n",
       "      <td>-32.580</td>\n",
       "      <td>-23.701</td>\n",
       "      <td>6414.0</td>\n",
       "      <td>4.439</td>\n",
       "    </tr>\n",
       "    <tr>\n",
       "      <th>x3</th>\n",
       "      <td>85.547</td>\n",
       "      <td>2.385</td>\n",
       "      <td>35.875</td>\n",
       "      <td>0.000</td>\n",
       "      <td>80.872</td>\n",
       "      <td>90.221</td>\n",
       "      <td>6414.0</td>\n",
       "      <td>4.675</td>\n",
       "    </tr>\n",
       "    <tr>\n",
       "      <th>x4</th>\n",
       "      <td>-3.853</td>\n",
       "      <td>2.266</td>\n",
       "      <td>-1.700</td>\n",
       "      <td>0.089</td>\n",
       "      <td>-8.296</td>\n",
       "      <td>0.590</td>\n",
       "      <td>6414.0</td>\n",
       "      <td>4.443</td>\n",
       "    </tr>\n",
       "    <tr>\n",
       "      <th>x5</th>\n",
       "      <td>-3.562</td>\n",
       "      <td>2.266</td>\n",
       "      <td>-1.572</td>\n",
       "      <td>0.116</td>\n",
       "      <td>-8.005</td>\n",
       "      <td>0.881</td>\n",
       "      <td>6414.0</td>\n",
       "      <td>4.443</td>\n",
       "    </tr>\n",
       "    <tr>\n",
       "      <th>x6</th>\n",
       "      <td>-1.059</td>\n",
       "      <td>2.265</td>\n",
       "      <td>-0.468</td>\n",
       "      <td>0.640</td>\n",
       "      <td>-5.498</td>\n",
       "      <td>3.381</td>\n",
       "      <td>6414.0</td>\n",
       "      <td>4.439</td>\n",
       "    </tr>\n",
       "    <tr>\n",
       "      <th>x7</th>\n",
       "      <td>-1.004</td>\n",
       "      <td>2.289</td>\n",
       "      <td>-0.439</td>\n",
       "      <td>0.661</td>\n",
       "      <td>-5.491</td>\n",
       "      <td>3.482</td>\n",
       "      <td>6414.0</td>\n",
       "      <td>4.486</td>\n",
       "    </tr>\n",
       "  </tbody>\n",
       "</table>\n",
       "</div>"
      ],
      "text/plain": [
       "0         coef  std err        t  p_val   low_ci  high_ci     obs  errors\n",
       "                                                                         \n",
       "const  377.437    2.264  166.731  0.000  373.000  381.875  6414.0   4.437\n",
       "x1      -4.264    2.409   -1.770  0.077   -8.986    0.458  6414.0   4.722\n",
       "x2     -28.141    2.265  -12.426  0.000  -32.580  -23.701  6414.0   4.439\n",
       "x3      85.547    2.385   35.875  0.000   80.872   90.221  6414.0   4.675\n",
       "x4      -3.853    2.266   -1.700  0.089   -8.296    0.590  6414.0   4.443\n",
       "x5      -3.562    2.266   -1.572  0.116   -8.005    0.881  6414.0   4.443\n",
       "x6      -1.059    2.265   -0.468  0.640   -5.498    3.381  6414.0   4.439\n",
       "x7      -1.004    2.289   -0.439  0.661   -5.491    3.482  6414.0   4.486"
      ]
     },
     "execution_count": 41,
     "metadata": {},
     "output_type": "execute_result"
    }
   ],
   "source": [
    "table = tableResults(ols.summary())\n",
    "table"
   ]
  },
  {
   "cell_type": "code",
   "execution_count": 42,
   "id": "e8efceec",
   "metadata": {},
   "outputs": [],
   "source": [
    "def tableResults2(ols_summary):\n",
    "    table_results = pd.DataFrame(ols.summary().tables[0].data)\n",
    "    table_results = table_results.iloc[:,2:4].T\n",
    "    table_results.columns = table_results.iloc[0]\n",
    "    table_results = table_results.iloc[1:,]\n",
    "    return table_results  "
   ]
  },
  {
   "cell_type": "code",
   "execution_count": 44,
   "id": "b413cf85",
   "metadata": {},
   "outputs": [
    {
     "data": {
      "text/html": [
       "<div>\n",
       "<style scoped>\n",
       "    .dataframe tbody tr th:only-of-type {\n",
       "        vertical-align: middle;\n",
       "    }\n",
       "\n",
       "    .dataframe tbody tr th {\n",
       "        vertical-align: top;\n",
       "    }\n",
       "\n",
       "    .dataframe thead th {\n",
       "        text-align: right;\n",
       "    }\n",
       "</style>\n",
       "<table border=\"1\" class=\"dataframe\">\n",
       "  <thead>\n",
       "    <tr style=\"text-align: right;\">\n",
       "      <th>2</th>\n",
       "      <th>R-squared:</th>\n",
       "      <th>Adj. R-squared:</th>\n",
       "      <th>F-statistic:</th>\n",
       "      <th>Prob (F-statistic):</th>\n",
       "      <th>Log-Likelihood:</th>\n",
       "      <th>AIC:</th>\n",
       "      <th>BIC:</th>\n",
       "      <th></th>\n",
       "      <th></th>\n",
       "    </tr>\n",
       "  </thead>\n",
       "  <tbody>\n",
       "    <tr>\n",
       "      <th>0</th>\n",
       "      <td>0.193</td>\n",
       "      <td>0.192</td>\n",
       "      <td>218.9</td>\n",
       "      <td>1.21e-292</td>\n",
       "      <td>-42451.</td>\n",
       "      <td>8.492e+04</td>\n",
       "      <td>8.497e+04</td>\n",
       "      <td></td>\n",
       "      <td></td>\n",
       "    </tr>\n",
       "  </tbody>\n",
       "</table>\n",
       "</div>"
      ],
      "text/plain": [
       "2   R-squared:            Adj. R-squared:       F-statistic:         \\\n",
       "0                 0.193                 0.192                 218.9   \n",
       "\n",
       "2   Prob (F-statistic):   Log-Likelihood:       AIC:                 \\\n",
       "0             1.21e-292               -42451.             8.492e+04   \n",
       "\n",
       "2   BIC:                                                             \n",
       "0             8.497e+04                                              "
      ]
     },
     "execution_count": 44,
     "metadata": {},
     "output_type": "execute_result"
    }
   ],
   "source": [
    "table2 = tableResults2(ols.summary())\n",
    "table2.reset_index(inplace=True, drop=True)\n",
    "table2"
   ]
  },
  {
   "cell_type": "markdown",
   "id": "8ac47947",
   "metadata": {},
   "source": []
  },
  {
   "cell_type": "code",
   "execution_count": null,
   "id": "6870b37a",
   "metadata": {},
   "outputs": [],
   "source": []
  }
 ],
 "metadata": {
  "kernelspec": {
   "display_name": "Python 3 (ipykernel)",
   "language": "python",
   "name": "python3"
  },
  "language_info": {
   "codemirror_mode": {
    "name": "ipython",
    "version": 3
   },
   "file_extension": ".py",
   "mimetype": "text/x-python",
   "name": "python",
   "nbconvert_exporter": "python",
   "pygments_lexer": "ipython3",
   "version": "3.9.12"
  }
 },
 "nbformat": 4,
 "nbformat_minor": 5
}
